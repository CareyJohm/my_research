{
 "cells": [
  {
   "cell_type": "code",
   "execution_count": 1,
   "metadata": {
    "collapsed": true
   },
   "outputs": [],
   "source": [
    "from scipy.spatial import cKDTree\n",
    "import pyfits, mechanize, bz2, os\n",
    "from matplotlib import pyplot as pl\n",
    "from numpy import *\n",
    "from scipy.optimize import leastsq\n",
    "import astropy.stats as sta\n",
    "from scipy import ndimage\n",
    "from glob import glob\n",
    "import pandas as pd  #為了讀csv檔。csv檔是以逗點分割的檔案。\n",
    "import requests\n",
    "from bs4 import BeautifulSoup\n",
    "from astropy.io import ascii\n",
    "import concurrent.futures\n",
    "from time import sleep\n",
    "from astropy.table import Table\n",
    "import math as m\n",
    "import gzip\n",
    "import patoolib\n",
    "import glob"
   ]
  },
  {
   "cell_type": "code",
   "execution_count": 2,
   "metadata": {
    "collapsed": true
   },
   "outputs": [],
   "source": [
    "f = open('url.txt', 'r')\n",
    "x = f.readlines()"
   ]
  },
  {
   "cell_type": "code",
   "execution_count": 3,
   "metadata": {
    "collapsed": false
   },
   "outputs": [
    {
     "data": {
      "text/plain": [
       "'http://dr2.lamost.org/sas/fits/HD110609N070823M01/spec-56270-HD110609N070823M01_sp07-075.fits.gz'"
      ]
     },
     "execution_count": 3,
     "metadata": {},
     "output_type": "execute_result"
    }
   ],
   "source": [
    "x[0][0:-1]"
   ]
  },
  {
   "cell_type": "code",
   "execution_count": 4,
   "metadata": {
    "collapsed": false
   },
   "outputs": [
    {
     "data": {
      "text/plain": [
       "91"
      ]
     },
     "execution_count": 4,
     "metadata": {},
     "output_type": "execute_result"
    }
   ],
   "source": [
    "len(x[5][0:-1])"
   ]
  },
  {
   "cell_type": "code",
   "execution_count": 5,
   "metadata": {
    "collapsed": false
   },
   "outputs": [
    {
     "data": {
      "text/plain": [
       "'lamo'"
      ]
     },
     "execution_count": 5,
     "metadata": {},
     "output_type": "execute_result"
    }
   ],
   "source": [
    "x[5][0:-1][11:15]"
   ]
  },
  {
   "cell_type": "code",
   "execution_count": 6,
   "metadata": {
    "collapsed": false,
    "scrolled": true
   },
   "outputs": [],
   "source": [
    "for a in range(len(x[0][0:-1])):\n",
    "    if x[0][0:-1][a:a+4] == 'spec':\n",
    "        filename = x[0][0:-1][a:]"
   ]
  },
  {
   "cell_type": "code",
   "execution_count": 7,
   "metadata": {
    "collapsed": false
   },
   "outputs": [
    {
     "data": {
      "text/plain": [
       "'spec-56270-HD110609N070823M01_sp07-075.fits.gz'"
      ]
     },
     "execution_count": 7,
     "metadata": {},
     "output_type": "execute_result"
    }
   ],
   "source": [
    "filename"
   ]
  },
  {
   "cell_type": "code",
   "execution_count": 8,
   "metadata": {
    "collapsed": false
   },
   "outputs": [
    {
     "data": {
      "text/plain": [
       "'spec-56270-HD110609N070823M01_sp07-075.fits'"
      ]
     },
     "execution_count": 8,
     "metadata": {},
     "output_type": "execute_result"
    }
   ],
   "source": [
    "filename[:-3]"
   ]
  },
  {
   "cell_type": "code",
   "execution_count": 9,
   "metadata": {
    "collapsed": false
   },
   "outputs": [
    {
     "data": {
      "text/plain": [
       "52"
      ]
     },
     "execution_count": 9,
     "metadata": {},
     "output_type": "execute_result"
    }
   ],
   "source": [
    "len(x)"
   ]
  },
  {
   "cell_type": "code",
   "execution_count": 90,
   "metadata": {
    "collapsed": true
   },
   "outputs": [],
   "source": [
    "for i in range(len(x)):\n",
    "    \n",
    "    url_lamost = x[i][0:-1]\n",
    "\n",
    "    data_filename = url_lamost.split('/')[-1]\n",
    "    \n",
    "    \n",
    "    for a in range(len(x[i][0:-1])):\n",
    "        if x[i][0:-1][a:a+4] == 'spec':\n",
    "            filename = x[i][0:-1][a:]\n",
    "            if not os.path.exists(filename) :\n",
    "\n",
    "                data = requests.get( url_lamost, stream=True)\n",
    "                with open(data_filename, 'wb') as fdd:\n",
    "                    for chunk in data.iter_content(chunk_size=1024): \n",
    "                        if chunk: # filter out keep-alive new chunks\n",
    "                            fdd.write(chunk)"
   ]
  },
  {
   "cell_type": "code",
   "execution_count": 11,
   "metadata": {
    "collapsed": true
   },
   "outputs": [],
   "source": [
    "ptf1 = pyfits.open('spec-56270-HD110609N070823M01_sp07-075.fits')"
   ]
  },
  {
   "cell_type": "code",
   "execution_count": 12,
   "metadata": {
    "collapsed": false
   },
   "outputs": [],
   "source": [
    "ra = ptf1[0].header['RA']\n",
    "dec = ptf1[0].header['Dec']"
   ]
  },
  {
   "cell_type": "code",
   "execution_count": 31,
   "metadata": {
    "collapsed": false
   },
   "outputs": [
    {
     "ename": "NameError",
     "evalue": "name 'ra' is not defined",
     "output_type": "error",
     "traceback": [
      "\u001b[1;31m---------------------------------------------------------------------------\u001b[0m",
      "\u001b[1;31mNameError\u001b[0m                                 Traceback (most recent call last)",
      "\u001b[1;32m<ipython-input-31-2f02dc7f1f48>\u001b[0m in \u001b[0;36m<module>\u001b[1;34m()\u001b[0m\n\u001b[1;32m----> 1\u001b[1;33m \u001b[0mra\u001b[0m\u001b[1;33m,\u001b[0m \u001b[0mdec\u001b[0m\u001b[1;33m\u001b[0m\u001b[0m\n\u001b[0m",
      "\u001b[1;31mNameError\u001b[0m: name 'ra' is not defined"
     ]
    }
   ],
   "source": [
    "ra, dec"
   ]
  },
  {
   "cell_type": "code",
   "execution_count": 30,
   "metadata": {
    "collapsed": true
   },
   "outputs": [],
   "source": [
    "all_target = pd.read_csv('epic_ha663_normal-hasub_new.csv')"
   ]
  },
  {
   "cell_type": "code",
   "execution_count": 14,
   "metadata": {
    "collapsed": false
   },
   "outputs": [
    {
     "name": "stdout",
     "output_type": "stream",
     "text": [
      "201802777\n"
     ]
    }
   ],
   "source": [
    "for i in range(len(all_target['RA'])):\n",
    "    if ra == all_target['RA'][i] and dec == all_target['Dec'][i]:\n",
    "        print all_target['EPIC'][i]"
   ]
  },
  {
   "cell_type": "code",
   "execution_count": 23,
   "metadata": {
    "collapsed": false
   },
   "outputs": [
    {
     "ename": "NameError",
     "evalue": "name 'all_target' is not defined",
     "output_type": "error",
     "traceback": [
      "\u001b[1;31m---------------------------------------------------------------------------\u001b[0m",
      "\u001b[1;31mNameError\u001b[0m                                 Traceback (most recent call last)",
      "\u001b[1;32m<ipython-input-23-84a7b12c1439>\u001b[0m in \u001b[0;36m<module>\u001b[1;34m()\u001b[0m\n\u001b[1;32m----> 1\u001b[1;33m \u001b[1;32mfor\u001b[0m \u001b[0mi\u001b[0m \u001b[1;32min\u001b[0m \u001b[0mrange\u001b[0m\u001b[1;33m(\u001b[0m\u001b[0mlen\u001b[0m\u001b[1;33m(\u001b[0m\u001b[0mall_target\u001b[0m\u001b[1;33m[\u001b[0m\u001b[1;34m'RA'\u001b[0m\u001b[1;33m]\u001b[0m\u001b[1;33m)\u001b[0m\u001b[1;33m)\u001b[0m\u001b[1;33m:\u001b[0m\u001b[1;33m\u001b[0m\u001b[0m\n\u001b[0m\u001b[0;32m      2\u001b[0m     \u001b[1;32mif\u001b[0m \u001b[0mm\u001b[0m\u001b[1;33m.\u001b[0m\u001b[0msqrt\u001b[0m\u001b[1;33m(\u001b[0m\u001b[1;33m(\u001b[0m\u001b[1;33m(\u001b[0m\u001b[0mra\u001b[0m\u001b[1;33m-\u001b[0m\u001b[0mall_target\u001b[0m\u001b[1;33m[\u001b[0m\u001b[1;34m'RA'\u001b[0m\u001b[1;33m]\u001b[0m\u001b[1;33m[\u001b[0m\u001b[0mi\u001b[0m\u001b[1;33m]\u001b[0m\u001b[1;33m)\u001b[0m\u001b[1;33m)\u001b[0m\u001b[1;33m**\u001b[0m\u001b[1;36m2\u001b[0m\u001b[1;33m+\u001b[0m\u001b[1;33m(\u001b[0m\u001b[1;33m(\u001b[0m\u001b[0mdec\u001b[0m\u001b[1;33m-\u001b[0m\u001b[0mall_target\u001b[0m\u001b[1;33m[\u001b[0m\u001b[1;34m'Dec'\u001b[0m\u001b[1;33m]\u001b[0m\u001b[1;33m[\u001b[0m\u001b[0mi\u001b[0m\u001b[1;33m]\u001b[0m\u001b[1;33m)\u001b[0m\u001b[1;33m)\u001b[0m\u001b[1;33m**\u001b[0m\u001b[1;36m2\u001b[0m\u001b[1;33m)\u001b[0m \u001b[1;33m<\u001b[0m \u001b[1;36m2.\u001b[0m\u001b[1;33m/\u001b[0m\u001b[1;36m3600\u001b[0m\u001b[1;33m:\u001b[0m\u001b[1;33m\u001b[0m\u001b[0m\n\u001b[0;32m      3\u001b[0m         \u001b[1;32mprint\u001b[0m \u001b[0mall_target\u001b[0m\u001b[1;33m[\u001b[0m\u001b[1;34m'EPIC'\u001b[0m\u001b[1;33m]\u001b[0m\u001b[1;33m[\u001b[0m\u001b[0mi\u001b[0m\u001b[1;33m]\u001b[0m\u001b[1;33m\u001b[0m\u001b[0m\n",
      "\u001b[1;31mNameError\u001b[0m: name 'all_target' is not defined"
     ]
    }
   ],
   "source": [
    "for i in range(len(all_target['RA'])):\n",
    "    if m.sqrt(((ra-all_target['RA'][i]))**2+((dec-all_target['Dec'][i]))**2) < 2./3600:\n",
    "        print all_target['EPIC'][i]"
   ]
  },
  {
   "cell_type": "code",
   "execution_count": 28,
   "metadata": {
    "collapsed": false
   },
   "outputs": [],
   "source": [
    "os.chdir(\"D:\\kepler_ptf_research\\k2_c1\")"
   ]
  },
  {
   "cell_type": "code",
   "execution_count": 29,
   "metadata": {
    "collapsed": false
   },
   "outputs": [
    {
     "data": {
      "text/plain": [
       "'D:\\\\kepler_ptf_research\\\\k2_c1'"
      ]
     },
     "execution_count": 29,
     "metadata": {},
     "output_type": "execute_result"
    }
   ],
   "source": [
    "os.getcwd()"
   ]
  },
  {
   "cell_type": "code",
   "execution_count": 26,
   "metadata": {
    "collapsed": true
   },
   "outputs": [],
   "source": [
    "#column_names = ['EPIC','RA','Dec','GZ','FITS']  \n",
    "\n",
    "#df = pd.DataFrame([ ], columns = column_names)\n",
    "#df.to_csv('lamost_dr4.csv', index=False)"
   ]
  },
  {
   "cell_type": "code",
   "execution_count": 44,
   "metadata": {
    "collapsed": false
   },
   "outputs": [],
   "source": [
    "def append_csv(x1, x2, x3, x4, x5):\n",
    "\n",
    "    df = pd.read_csv('lamost_dr4.csv')\n",
    "    column_names =  ['EPIC','RA','Dec','GZ','FITS']\n",
    "    \n",
    "    if x4 not in list(df['GZ'])  :\n",
    "    \n",
    "    \n",
    "        df2 = pd.DataFrame([[x1, x2, x3, x4, x5]], columns = column_names)\n",
    "\n",
    "        df_add = df.append(df2)\n",
    "\n",
    "        df_add.to_csv('lamost_dr4.csv', index = False)\n",
    "    #else:\n",
    "        #print x3,'already exists'"
   ]
  },
  {
   "cell_type": "code",
   "execution_count": 136,
   "metadata": {
    "collapsed": false
   },
   "outputs": [
    {
     "name": "stdout",
     "output_type": "stream",
     "text": [
      "yes\n"
     ]
    }
   ],
   "source": [
    "if '.gz' in 'spec-56270-HD110609N070823M01_sp07-075.fits.gz':\n",
    "    print 'yes'\n",
    "else:\n",
    "    print 'no'"
   ]
  },
  {
   "cell_type": "code",
   "execution_count": 167,
   "metadata": {
    "collapsed": false
   },
   "outputs": [
    {
     "data": {
      "text/plain": [
       "'spec-56270-HD110609N070823M01_sp07-075.fits.gz'"
      ]
     },
     "execution_count": 167,
     "metadata": {},
     "output_type": "execute_result"
    }
   ],
   "source": [
    "x[0][0:-1].split('/')[-1]"
   ]
  },
  {
   "cell_type": "code",
   "execution_count": 174,
   "metadata": {
    "collapsed": false
   },
   "outputs": [],
   "source": [
    "x_gz_list = []\n",
    "\n",
    "for i in range(len(x)):\n",
    "    if '.gz' in x[i]:\n",
    "        x_gz_list.append(i)"
   ]
  },
  {
   "cell_type": "code",
   "execution_count": 175,
   "metadata": {
    "collapsed": false
   },
   "outputs": [
    {
     "data": {
      "text/plain": [
       "26"
      ]
     },
     "execution_count": 175,
     "metadata": {},
     "output_type": "execute_result"
    }
   ],
   "source": [
    "len(x_gz_list)"
   ]
  },
  {
   "cell_type": "code",
   "execution_count": 20,
   "metadata": {
    "collapsed": false
   },
   "outputs": [],
   "source": [
    "#最新版本\n",
    "\n",
    "df = pd.read_csv('lamost_data1.csv')\n",
    "\n",
    "def lamost_data_crawler(url):\n",
    "    \n",
    "\n",
    "    url_lamost = url[0:-1]\n",
    "    #url_lamost = url\n",
    "    data_filename = url_lamost.split('/')[-1]\n",
    "    #data_filename = url.split('/')[-1]\n",
    "    \n",
    "    if data_filename not in list(df['GZ']) and '.gz' in data_filename:\n",
    "\n",
    "        if not os.path.exists(data_filename):\n",
    "\n",
    "            data = requests.get( url_lamost, stream=True)\n",
    "            with open(data_filename, 'wb') as fdd:\n",
    "                for chunk in data.iter_content(chunk_size=1024): \n",
    "                    if chunk: # filter out keep-alive new chunks\n",
    "                        fdd.write(chunk)\n",
    "\n",
    "        if '.gz' in data_filename and not os.path.exists(data_filename[:-3]):\n",
    "            patoolib.extract_archive(data_filename)\n",
    "\n",
    "            ptf1 = pyfits.open(data_filename[:-3])\n",
    "            ra = ptf1[0].header['RA']\n",
    "            dec = ptf1[0].header['Dec']\n",
    "\n",
    "            for i in range(len(all_target['RA'])):\n",
    "                if m.sqrt(((ra-all_target['RA'][i]))**2+((dec-all_target['Dec'][i]))**2) < 2./3600:\n",
    "\n",
    "                    append_csv( all_target['EPIC'][i], all_target['RA'][i], all_target['Dec'][i], data_filename, data_filename[:-3])\n",
    "\n",
    "                    if not os.path.exists('ktwo'+str(all_target['EPIC'][i])+'_C1'):\n",
    "                        os.mkdir('ktwo'+str( all_target['EPIC'][i])+'_C1')\n",
    "\n",
    "                    ptf1.close()\n",
    "\n",
    "                    if not os.path.exists('D:/kepler_ptf_research/k2_c1/python_LAMOST_data_k2c1/ktwo'+str(all_target['EPIC'][i])+'_C1/'+data_filename[:-3]):\n",
    "                        os.rename(data_filename[:-3], 'D:/kepler_ptf_research/k2_c1/python_LAMOST_data_k2c1/ktwo'+str(all_target['EPIC'][i])+'_C1/'+data_filename[:-3])\n",
    "                    if not os.path.exists('D:/kepler_ptf_research/k2_c1/python_LAMOST_data_k2c1/ktwo'+str(all_target['EPIC'][i])+'_C1/'+filename):\n",
    "                        os.rename(data_filename, 'D:/kepler_ptf_research/k2_c1/python_LAMOST_data_k2c1/ktwo'+str(all_target['EPIC'][i])+'_C1/'+data_filename)\n",
    "    \n",
    "    elif '.png' in data_filename:\n",
    "        if not os.path.exists(data_filename):\n",
    "\n",
    "            data = requests.get( url_lamost, stream=True)\n",
    "            with open(data_filename, 'wb') as fdd:\n",
    "                for chunk in data.iter_content(chunk_size=1024): \n",
    "                    if chunk: # filter out keep-alive new chunks\n",
    "                        fdd.write(chunk)\n",
    "        \n",
    "    \n",
    "        "
   ]
  },
  {
   "cell_type": "code",
   "execution_count": 21,
   "metadata": {
    "collapsed": false,
    "scrolled": true
   },
   "outputs": [],
   "source": [
    "for i in range(len(x)):\n",
    "    lamost_data_crawler(x[i])"
   ]
  },
  {
   "cell_type": "code",
   "execution_count": 22,
   "metadata": {
    "collapsed": true
   },
   "outputs": [],
   "source": [
    "for i in range(len(x)):\n",
    "    lamost_data_crawler(x[i])"
   ]
  },
  {
   "cell_type": "code",
   "execution_count": 7,
   "metadata": {
    "collapsed": false
   },
   "outputs": [],
   "source": [
    "df = pd.read_csv('lamost_data1.csv')"
   ]
  },
  {
   "cell_type": "code",
   "execution_count": 24,
   "metadata": {
    "collapsed": false
   },
   "outputs": [
    {
     "name": "stdout",
     "output_type": "stream",
     "text": [
      "It is in list\n"
     ]
    }
   ],
   "source": [
    "if 'spec-56283-HD111915N004324B01_sp04-083.fits.gz' not in list(df['GZ']):\n",
    "    print 'no'\n",
    "else:\n",
    "    print 'It is in list'\n"
   ]
  },
  {
   "cell_type": "code",
   "execution_count": 92,
   "metadata": {
    "collapsed": false,
    "scrolled": true
   },
   "outputs": [
    {
     "data": {
      "text/plain": [
       "0     spec-56270-HD110609N070823M01_sp07-075.fits\n",
       "1     spec-56283-HD111915N004324B01_sp04-083.fits\n",
       "2     spec-56283-HD111915N004324B01_sp15-144.fits\n",
       "3     spec-56283-HD111915N004324M01_sp09-084.fits\n",
       "4     spec-56283-HD111915N004324M01_sp11-049.fits\n",
       "5     spec-56283-HD111915N004324M01_sp11-052.fits\n",
       "6     spec-56283-HD111915N004324M01_sp12-097.fits\n",
       "7     spec-56284-HD114225N022143B01_sp06-094.fits\n",
       "8     spec-56284-HD114225N022143B01_sp09-064.fits\n",
       "9     spec-56284-HD114225N022143B01_sp12-067.fits\n",
       "10      spec-56286-HD114225N022143B_sp02-001.fits\n",
       "11      spec-56286-HD114225N022143B_sp02-019.fits\n",
       "12      spec-56286-HD114225N022143B_sp05-187.fits\n",
       "13      spec-56286-HD114225N022143B_sp06-094.fits\n",
       "14      spec-56286-HD114225N022143B_sp12-046.fits\n",
       "15      spec-56286-HD114225N022143M_sp03-131.fits\n",
       "16      spec-56286-HD114225N022143M_sp05-176.fits\n",
       "17      spec-56286-HD114225N022143M_sp06-094.fits\n",
       "18      spec-56286-HD114225N022143M_sp12-046.fits\n",
       "19    spec-56287-HD112126N063805B01_sp02-092.fits\n",
       "20    spec-56287-HD112126N063805B01_sp07-198.fits\n",
       "21    spec-56287-HD112126N063805B01_sp08-162.fits\n",
       "22    spec-56287-HD112126N063805M01_sp02-092.fits\n",
       "23    spec-56287-HD112126N063805M01_sp07-041.fits\n",
       "24    spec-56287-HD112126N063805M01_sp07-198.fits\n",
       "25    spec-56287-HD112126N063805M01_sp08-162.fits\n",
       "Name: FITS, dtype: object"
      ]
     },
     "execution_count": 92,
     "metadata": {},
     "output_type": "execute_result"
    }
   ],
   "source": [
    "df['FITS']"
   ]
  },
  {
   "cell_type": "code",
   "execution_count": 8,
   "metadata": {
    "collapsed": false
   },
   "outputs": [
    {
     "data": {
      "text/plain": [
       "'spec-56270-HD110609N070823M01_sp07-075.fits'"
      ]
     },
     "execution_count": 8,
     "metadata": {},
     "output_type": "execute_result"
    }
   ],
   "source": [
    "df['FITS'][0]"
   ]
  },
  {
   "cell_type": "code",
   "execution_count": 107,
   "metadata": {
    "collapsed": false
   },
   "outputs": [
    {
     "data": {
      "text/plain": [
       "'sp15-144'"
      ]
     },
     "execution_count": 107,
     "metadata": {},
     "output_type": "execute_result"
    }
   ],
   "source": [
    "df['FITS'][2][-13:-5]"
   ]
  },
  {
   "cell_type": "code",
   "execution_count": 43,
   "metadata": {
    "collapsed": false
   },
   "outputs": [
    {
     "data": {
      "text/plain": [
       "'sp11-052'"
      ]
     },
     "execution_count": 43,
     "metadata": {},
     "output_type": "execute_result"
    }
   ],
   "source": [
    "df['FITS'][5][-13:-5]"
   ]
  },
  {
   "cell_type": "code",
   "execution_count": 125,
   "metadata": {
    "collapsed": false,
    "scrolled": true
   },
   "outputs": [
    {
     "name": "stdout",
     "output_type": "stream",
     "text": [
      "spec-56270-HD110609N070823M01_sp07-075.fits\n",
      "spec-56283-HD111915N004324B01_sp04-083.fits\n",
      "spec-56283-HD111915N004324B01_sp15-144.fits\n",
      "spec-56283-HD111915N004324M01_sp09-084.fits\n",
      "spec-56283-HD111915N004324M01_sp11-049.fits\n",
      "spec-56283-HD111915N004324M01_sp11-052.fits\n",
      "spec-56283-HD111915N004324M01_sp12-097.fits\n",
      "spec-56284-HD114225N022143B01_sp06-094.fits\n",
      "spec-56284-HD114225N022143B01_sp09-064.fits\n",
      "spec-56284-HD114225N022143B01_sp12-067.fits\n",
      "spec-56286-HD114225N022143B_sp02-001.fits\n",
      "spec-56286-HD114225N022143B_sp02-019.fits\n",
      "spec-56286-HD114225N022143B_sp05-187.fits\n",
      "spec-56286-HD114225N022143B_sp06-094.fits\n",
      "spec-56286-HD114225N022143B_sp12-046.fits\n",
      "spec-56286-HD114225N022143M_sp03-131.fits\n",
      "spec-56286-HD114225N022143M_sp05-176.fits\n",
      "spec-56286-HD114225N022143M_sp06-094.fits\n",
      "spec-56286-HD114225N022143M_sp12-046.fits\n",
      "spec-56287-HD112126N063805B01_sp02-092.fits\n",
      "spec-56287-HD112126N063805B01_sp07-198.fits\n",
      "spec-56287-HD112126N063805B01_sp08-162.fits\n",
      "spec-56287-HD112126N063805M01_sp02-092.fits\n",
      "spec-56287-HD112126N063805M01_sp07-041.fits\n",
      "spec-56287-HD112126N063805M01_sp07-198.fits\n",
      "spec-56287-HD112126N063805M01_sp08-162.fits\n"
     ]
    }
   ],
   "source": [
    "for i in range(len(df['FITS'])):\n",
    "    print df['FITS'][i]"
   ]
  },
  {
   "cell_type": "code",
   "execution_count": 9,
   "metadata": {
    "collapsed": false
   },
   "outputs": [],
   "source": [
    "png_list = glob.glob('*png')"
   ]
  },
  {
   "cell_type": "code",
   "execution_count": 10,
   "metadata": {
    "collapsed": false
   },
   "outputs": [],
   "source": [
    "png_r_list = []\n",
    "epic_r_list = []\n",
    "\n",
    "for i in range(len(png_list)):\n",
    "    if 'sp02-019' in png_list[i]:\n",
    "        png_r_list.append(png_list[i])\n",
    "        epic_r_list.append(df['EPIC'][i])"
   ]
  },
  {
   "cell_type": "code",
   "execution_count": 11,
   "metadata": {
    "collapsed": false
   },
   "outputs": [
    {
     "data": {
      "text/plain": [
       "[]"
      ]
     },
     "execution_count": 11,
     "metadata": {},
     "output_type": "execute_result"
    }
   ],
   "source": [
    "png_r_list"
   ]
  },
  {
   "cell_type": "code",
   "execution_count": 110,
   "metadata": {
    "collapsed": false
   },
   "outputs": [
    {
     "data": {
      "text/plain": [
       "'201493524'"
      ]
     },
     "execution_count": 110,
     "metadata": {},
     "output_type": "execute_result"
    }
   ],
   "source": [
    "str(int(epic_r_list[0]))"
   ]
  },
  {
   "cell_type": "code",
   "execution_count": 12,
   "metadata": {
    "collapsed": false
   },
   "outputs": [],
   "source": [
    "def mv_png(fits):\n",
    "    png_r_list = []\n",
    "    epic_r_list = []\n",
    "    for i in range(len(png_list)):\n",
    "        if fits[-13:-5] in png_list[i]:\n",
    "            png_r_list.append(png_list[i])\n",
    "            epic_r_list.append(df['EPIC'][i])\n",
    "            \n",
    "    os.chdir('ktwo'+str(int(epic_r_list[0]))+'_C1/')\n",
    "    for a in range(len(png_r_list)):\n",
    "        if not os.path.exists(png_r_list[a]): \n",
    "            os.chdir('D:\\kepler_ptf_research\\k2_c1\\python_LAMOST_data_k2c1')\n",
    "            \n",
    "        else:\n",
    "            os.chdir('D:\\kepler_ptf_research\\k2_c1\\python_LAMOST_data_k2c1')\n",
    "            \n",
    "        if os.path.exists(png_r_list[a]):\n",
    "            os.rename(png_r_list[a], 'ktwo'+str(int(epic_r_list[0]))+'_C1/'+png_r_list[a])\n",
    "        #else:\n",
    "            #os.chdir('..')\n",
    "        \n",
    "            "
   ]
  },
  {
   "cell_type": "code",
   "execution_count": 13,
   "metadata": {
    "collapsed": false
   },
   "outputs": [
    {
     "ename": "IndexError",
     "evalue": "list index out of range",
     "output_type": "error",
     "traceback": [
      "\u001b[1;31m---------------------------------------------------------------------------\u001b[0m",
      "\u001b[1;31mIndexError\u001b[0m                                Traceback (most recent call last)",
      "\u001b[1;32m<ipython-input-13-c6f3b83c3f77>\u001b[0m in \u001b[0;36m<module>\u001b[1;34m()\u001b[0m\n\u001b[0;32m      1\u001b[0m \u001b[1;32mfor\u001b[0m \u001b[0ms\u001b[0m \u001b[1;32min\u001b[0m \u001b[0mrange\u001b[0m\u001b[1;33m(\u001b[0m\u001b[0mlen\u001b[0m\u001b[1;33m(\u001b[0m\u001b[0mdf\u001b[0m\u001b[1;33m[\u001b[0m\u001b[1;34m'FITS'\u001b[0m\u001b[1;33m]\u001b[0m\u001b[1;33m)\u001b[0m\u001b[1;33m)\u001b[0m\u001b[1;33m:\u001b[0m\u001b[1;33m\u001b[0m\u001b[0m\n\u001b[1;32m----> 2\u001b[1;33m     \u001b[0mmv_png\u001b[0m\u001b[1;33m(\u001b[0m\u001b[0mdf\u001b[0m\u001b[1;33m[\u001b[0m\u001b[1;34m'FITS'\u001b[0m\u001b[1;33m]\u001b[0m\u001b[1;33m[\u001b[0m\u001b[0ms\u001b[0m\u001b[1;33m]\u001b[0m\u001b[1;33m)\u001b[0m\u001b[1;33m\u001b[0m\u001b[0m\n\u001b[0m",
      "\u001b[1;32m<ipython-input-12-aaff34daf2dd>\u001b[0m in \u001b[0;36mmv_png\u001b[1;34m(fits)\u001b[0m\n\u001b[0;32m      7\u001b[0m             \u001b[0mepic_r_list\u001b[0m\u001b[1;33m.\u001b[0m\u001b[0mappend\u001b[0m\u001b[1;33m(\u001b[0m\u001b[0mdf\u001b[0m\u001b[1;33m[\u001b[0m\u001b[1;34m'EPIC'\u001b[0m\u001b[1;33m]\u001b[0m\u001b[1;33m[\u001b[0m\u001b[0mi\u001b[0m\u001b[1;33m]\u001b[0m\u001b[1;33m)\u001b[0m\u001b[1;33m\u001b[0m\u001b[0m\n\u001b[0;32m      8\u001b[0m \u001b[1;33m\u001b[0m\u001b[0m\n\u001b[1;32m----> 9\u001b[1;33m     \u001b[0mos\u001b[0m\u001b[1;33m.\u001b[0m\u001b[0mchdir\u001b[0m\u001b[1;33m(\u001b[0m\u001b[1;34m'ktwo'\u001b[0m\u001b[1;33m+\u001b[0m\u001b[0mstr\u001b[0m\u001b[1;33m(\u001b[0m\u001b[0mint\u001b[0m\u001b[1;33m(\u001b[0m\u001b[0mepic_r_list\u001b[0m\u001b[1;33m[\u001b[0m\u001b[1;36m0\u001b[0m\u001b[1;33m]\u001b[0m\u001b[1;33m)\u001b[0m\u001b[1;33m)\u001b[0m\u001b[1;33m+\u001b[0m\u001b[1;34m'_C1/'\u001b[0m\u001b[1;33m)\u001b[0m\u001b[1;33m\u001b[0m\u001b[0m\n\u001b[0m\u001b[0;32m     10\u001b[0m     \u001b[1;32mfor\u001b[0m \u001b[0ma\u001b[0m \u001b[1;32min\u001b[0m \u001b[0mrange\u001b[0m\u001b[1;33m(\u001b[0m\u001b[0mlen\u001b[0m\u001b[1;33m(\u001b[0m\u001b[0mpng_r_list\u001b[0m\u001b[1;33m)\u001b[0m\u001b[1;33m)\u001b[0m\u001b[1;33m:\u001b[0m\u001b[1;33m\u001b[0m\u001b[0m\n\u001b[0;32m     11\u001b[0m         \u001b[1;32mif\u001b[0m \u001b[1;32mnot\u001b[0m \u001b[0mos\u001b[0m\u001b[1;33m.\u001b[0m\u001b[0mpath\u001b[0m\u001b[1;33m.\u001b[0m\u001b[0mexists\u001b[0m\u001b[1;33m(\u001b[0m\u001b[0mpng_r_list\u001b[0m\u001b[1;33m[\u001b[0m\u001b[0ma\u001b[0m\u001b[1;33m]\u001b[0m\u001b[1;33m)\u001b[0m\u001b[1;33m:\u001b[0m\u001b[1;33m\u001b[0m\u001b[0m\n",
      "\u001b[1;31mIndexError\u001b[0m: list index out of range"
     ]
    }
   ],
   "source": [
    "for s in range(len(df['FITS'])):\n",
    "    mv_png(df['FITS'][s])"
   ]
  },
  {
   "cell_type": "code",
   "execution_count": 14,
   "metadata": {
    "collapsed": false
   },
   "outputs": [
    {
     "data": {
      "text/plain": [
       "'D:\\\\kepler_ptf_research\\\\k2_c1\\\\python_LAMOST_data_k2c1'"
      ]
     },
     "execution_count": 14,
     "metadata": {},
     "output_type": "execute_result"
    }
   ],
   "source": [
    "os.getcwd()"
   ]
  },
  {
   "cell_type": "code",
   "execution_count": 195,
   "metadata": {
    "collapsed": true
   },
   "outputs": [],
   "source": [
    "os.chdir('D:\\kepler_ptf_research\\k2_c1\\python_LAMOST_data_k2c1')"
   ]
  },
  {
   "cell_type": "code",
   "execution_count": 18,
   "metadata": {
    "collapsed": false
   },
   "outputs": [],
   "source": [
    "list_epic = df['EPIC']"
   ]
  },
  {
   "cell_type": "code",
   "execution_count": 32,
   "metadata": {
    "collapsed": true
   },
   "outputs": [],
   "source": [
    "os.chdir('D:\\kepler_ptf_research\\k2_c1\\python_LAMOST_data_k2c1\\DR4/')"
   ]
  },
  {
   "cell_type": "code",
   "execution_count": 47,
   "metadata": {
    "collapsed": false
   },
   "outputs": [],
   "source": [
    "gz_list = glob.glob('*gz')"
   ]
  },
  {
   "cell_type": "code",
   "execution_count": 48,
   "metadata": {
    "collapsed": false
   },
   "outputs": [
    {
     "data": {
      "text/plain": [
       "533"
      ]
     },
     "execution_count": 48,
     "metadata": {},
     "output_type": "execute_result"
    }
   ],
   "source": [
    "len(gz_list)"
   ]
  },
  {
   "cell_type": "code",
   "execution_count": 37,
   "metadata": {
    "collapsed": false
   },
   "outputs": [
    {
     "data": {
      "text/plain": [
       "'spec-55918-F5591807_sp01-012.fits'"
      ]
     },
     "execution_count": 37,
     "metadata": {},
     "output_type": "execute_result"
    }
   ],
   "source": [
    "gz_list[0][0:-3]"
   ]
  },
  {
   "cell_type": "code",
   "execution_count": 45,
   "metadata": {
    "collapsed": true
   },
   "outputs": [],
   "source": [
    "df = pd.read_csv('lamost_dr4.csv')\n",
    "\n",
    "def lamost_data_crawler(gzname):\n",
    "    \n",
    "\n",
    "\n",
    "    if '.gz' in gzname:\n",
    "        patoolib.extract_archive(gzname)\n",
    "\n",
    "        ptf1 = pyfits.open(gzname[:-3])\n",
    "        ra = ptf1[0].header['RA']\n",
    "        dec = ptf1[0].header['Dec']\n",
    "        \n",
    "        ptf1.close()\n",
    "        \n",
    "        for i in range(len(all_target['RA'])):\n",
    "            if m.sqrt(((ra-all_target['RA'][i]))**2+((dec-all_target['Dec'][i]))**2) < 2./3600:\n",
    "\n",
    "                append_csv( all_target['EPIC'][i], all_target['RA'][i], all_target['Dec'][i], gzname, gzname[:-3])\n",
    "\n",
    "                if not os.path.exists('ktwo'+str(all_target['EPIC'][i])+'_C1'):\n",
    "                    os.mkdir('ktwo'+str( all_target['EPIC'][i])+'_C1')\n",
    "\n",
    "                \n",
    "\n",
    "                if not os.path.exists('D:/kepler_ptf_research/k2_c1/python_LAMOST_data_k2c1/DR4/ktwo'+str(all_target['EPIC'][i])+'_C1/'+gzname[:-3]):\n",
    "                    os.rename(gzname[:-3], 'D:/kepler_ptf_research/k2_c1/python_LAMOST_data_k2c1/DR4/ktwo'+str(all_target['EPIC'][i])+'_C1/'+gzname[:-3])\n",
    "                if not os.path.exists('D:/kepler_ptf_research/k2_c1/python_LAMOST_data_k2c1/DR4/ktwo'+str(all_target['EPIC'][i])+'_C1/'+gzname):\n",
    "                    os.rename(gzname, 'D:/kepler_ptf_research/k2_c1/python_LAMOST_data_k2c1/DR4/ktwo'+str(all_target['EPIC'][i])+'_C1/'+gzname)\n",
    "\n",
    " \n",
    "\n"
   ]
  },
  {
   "cell_type": "code",
   "execution_count": 49,
   "metadata": {
    "collapsed": false,
    "scrolled": true
   },
   "outputs": [
    {
     "name": "stdout",
     "output_type": "stream",
     "text": [
      "patool: Extracting spec-55918-F5591807_sp01-012.fits.gz ...\n",
      "patool: ... spec-55918-F5591807_sp01-012.fits.gz extracted to `spec-55918-F5591807_sp01-012.fits'.\n",
      "patool: Extracting spec-55918-F5591807_sp01-212.fits.gz ...\n",
      "patool: ... spec-55918-F5591807_sp01-212.fits.gz extracted to `spec-55918-F5591807_sp01-212.fits'.\n",
      "patool: Extracting spec-55918-F5591807_sp14-111.fits.gz ...\n",
      "patool: ... spec-55918-F5591807_sp14-111.fits.gz extracted to `spec-55918-F5591807_sp14-111.fits'.\n",
      "patool: Extracting spec-55973-F5597306_sp02-094.fits.gz ...\n",
      "patool: ... spec-55973-F5597306_sp02-094.fits.gz extracted to `spec-55973-F5597306_sp02-094.fits'.\n",
      "patool: Extracting spec-55973-F5597306_sp10-083.fits.gz ...\n",
      "patool: ... spec-55973-F5597306_sp10-083.fits.gz extracted to `spec-55973-F5597306_sp10-083.fits'.\n",
      "patool: Extracting spec-55973-F5597306_sp10-104.fits.gz ...\n",
      "patool: ... spec-55973-F5597306_sp10-104.fits.gz extracted to `spec-55973-F5597306_sp10-104.fits'.\n",
      "patool: Extracting spec-55977-F5597703_sp01-094.fits.gz ...\n",
      "patool: ... spec-55977-F5597703_sp01-094.fits.gz extracted to `spec-55977-F5597703_sp01-094.fits'.\n",
      "patool: Extracting spec-55977-F5597703_sp01-107.fits.gz ...\n",
      "patool: ... spec-55977-F5597703_sp01-107.fits.gz extracted to `spec-55977-F5597703_sp01-107.fits'.\n",
      "patool: Extracting spec-55977-F5597703_sp02-194.fits.gz ...\n",
      "patool: ... spec-55977-F5597703_sp02-194.fits.gz extracted to `spec-55977-F5597703_sp02-194.fits'.\n",
      "patool: Extracting spec-55977-F5597703_sp02-230.fits.gz ...\n",
      "patool: ... spec-55977-F5597703_sp02-230.fits.gz extracted to `spec-55977-F5597703_sp02-230.fits'.\n",
      "patool: Extracting spec-55977-F5597703_sp04-154.fits.gz ...\n",
      "patool: ... spec-55977-F5597703_sp04-154.fits.gz extracted to `spec-55977-F5597703_sp04-154.fits'.\n",
      "patool: Extracting spec-55977-F5597703_sp04-155.fits.gz ...\n",
      "patool: ... spec-55977-F5597703_sp04-155.fits.gz extracted to `spec-55977-F5597703_sp04-155.fits'.\n",
      "patool: Extracting spec-55977-F5597703_sp04-158.fits.gz ...\n",
      "patool: ... spec-55977-F5597703_sp04-158.fits.gz extracted to `spec-55977-F5597703_sp04-158.fits'.\n",
      "patool: Extracting spec-55977-F5597703_sp08-145.fits.gz ...\n",
      "patool: ... spec-55977-F5597703_sp08-145.fits.gz extracted to `spec-55977-F5597703_sp08-145.fits'.\n",
      "patool: Extracting spec-55977-F5597703_sp09-097.fits.gz ...\n",
      "patool: ... spec-55977-F5597703_sp09-097.fits.gz extracted to `spec-55977-F5597703_sp09-097.fits'.\n",
      "patool: Extracting spec-55977-F5597703_sp11-217.fits.gz ...\n",
      "patool: ... spec-55977-F5597703_sp11-217.fits.gz extracted to `spec-55977-F5597703_sp11-217.fits'.\n",
      "patool: Extracting spec-55977-F5597703_sp13-237.fits.gz ...\n",
      "patool: ... spec-55977-F5597703_sp13-237.fits.gz extracted to `spec-55977-F5597703_sp13-237.fits'.\n",
      "patool: Extracting spec-55977-F5597703_sp14-071.fits.gz ...\n",
      "patool: ... spec-55977-F5597703_sp14-071.fits.gz extracted to `spec-55977-F5597703_sp14-071.fits'.\n",
      "patool: Extracting spec-55999-F5599904_sp03-054.fits.gz ...\n",
      "patool: ... spec-55999-F5599904_sp03-054.fits.gz extracted to `spec-55999-F5599904_sp03-054.fits'.\n",
      "patool: Extracting spec-55999-F5599904_sp03-062.fits.gz ...\n",
      "patool: ... spec-55999-F5599904_sp03-062.fits.gz extracted to `spec-55999-F5599904_sp03-062.fits'.\n",
      "patool: Extracting spec-55999-F5599904_sp06-069.fits.gz ...\n",
      "patool: ... spec-55999-F5599904_sp06-069.fits.gz extracted to `spec-55999-F5599904_sp06-069.fits'.\n",
      "patool: Extracting spec-55999-F5599904_sp06-146.fits.gz ...\n",
      "patool: ... spec-55999-F5599904_sp06-146.fits.gz extracted to `spec-55999-F5599904_sp06-146.fits'.\n",
      "patool: Extracting spec-55999-F5599904_sp07-192.fits.gz ...\n",
      "patool: ... spec-55999-F5599904_sp07-192.fits.gz extracted to `spec-55999-F5599904_sp07-192.fits'.\n",
      "patool: Extracting spec-55999-F5599904_sp09-096.fits.gz ...\n",
      "patool: ... spec-55999-F5599904_sp09-096.fits.gz extracted to `spec-55999-F5599904_sp09-096.fits'.\n",
      "patool: Extracting spec-56012-F5601204_sp03-062.fits.gz ...\n",
      "patool: ... spec-56012-F5601204_sp03-062.fits.gz extracted to `spec-56012-F5601204_sp03-062.fits'.\n",
      "patool: Extracting spec-56012-F5601204_sp03-146.fits.gz ...\n",
      "patool: ... spec-56012-F5601204_sp03-146.fits.gz extracted to `spec-56012-F5601204_sp03-146.fits'.\n",
      "patool: Extracting spec-56012-F5601204_sp06-015.fits.gz ...\n",
      "patool: ... spec-56012-F5601204_sp06-015.fits.gz extracted to `spec-56012-F5601204_sp06-015.fits'.\n",
      "patool: Extracting spec-56012-F5601204_sp06-250.fits.gz ...\n",
      "patool: ... spec-56012-F5601204_sp06-250.fits.gz extracted to `spec-56012-F5601204_sp06-250.fits'.\n",
      "patool: Extracting spec-56012-F5601204_sp07-248.fits.gz ...\n",
      "patool: ... spec-56012-F5601204_sp07-248.fits.gz extracted to `spec-56012-F5601204_sp07-248.fits'.\n",
      "patool: Extracting spec-56012-F5601204_sp11-194.fits.gz ...\n",
      "patool: ... spec-56012-F5601204_sp11-194.fits.gz extracted to `spec-56012-F5601204_sp11-194.fits'.\n",
      "patool: Extracting spec-56012-F5601204_sp14-088.fits.gz ...\n",
      "patool: ... spec-56012-F5601204_sp14-088.fits.gz extracted to `spec-56012-F5601204_sp14-088.fits'.\n",
      "patool: Extracting spec-56270-HD110609N070823M01_sp07-075.fits.gz ...\n",
      "patool: ... spec-56270-HD110609N070823M01_sp07-075.fits.gz extracted to `spec-56270-HD110609N070823M01_sp07-075.fits'.\n",
      "patool: Extracting spec-56283-HD111915N004324B01_sp04-083.fits.gz ...\n",
      "patool: ... spec-56283-HD111915N004324B01_sp04-083.fits.gz extracted to `spec-56283-HD111915N004324B01_sp04-083.fits'.\n",
      "patool: Extracting spec-56283-HD111915N004324B01_sp06-004.fits.gz ...\n",
      "patool: ... spec-56283-HD111915N004324B01_sp06-004.fits.gz extracted to `spec-56283-HD111915N004324B01_sp06-004.fits'.\n",
      "patool: Extracting spec-56283-HD111915N004324B01_sp15-144.fits.gz ...\n",
      "patool: ... spec-56283-HD111915N004324B01_sp15-144.fits.gz extracted to `spec-56283-HD111915N004324B01_sp15-144.fits'.\n",
      "patool: Extracting spec-56283-HD111915N004324M01_sp03-248.fits.gz ...\n",
      "patool: ... spec-56283-HD111915N004324M01_sp03-248.fits.gz extracted to `spec-56283-HD111915N004324M01_sp03-248.fits'.\n",
      "patool: Extracting spec-56283-HD111915N004324M01_sp06-020.fits.gz ...\n",
      "patool: ... spec-56283-HD111915N004324M01_sp06-020.fits.gz extracted to `spec-56283-HD111915N004324M01_sp06-020.fits'.\n",
      "patool: Extracting spec-56283-HD111915N004324M01_sp09-084.fits.gz ...\n",
      "patool: ... spec-56283-HD111915N004324M01_sp09-084.fits.gz extracted to `spec-56283-HD111915N004324M01_sp09-084.fits'.\n",
      "patool: Extracting spec-56283-HD111915N004324M01_sp10-004.fits.gz ...\n",
      "patool: ... spec-56283-HD111915N004324M01_sp10-004.fits.gz extracted to `spec-56283-HD111915N004324M01_sp10-004.fits'.\n",
      "patool: Extracting spec-56283-HD111915N004324M01_sp10-011.fits.gz ...\n",
      "patool: ... spec-56283-HD111915N004324M01_sp10-011.fits.gz extracted to `spec-56283-HD111915N004324M01_sp10-011.fits'.\n",
      "patool: Extracting spec-56283-HD111915N004324M01_sp10-043.fits.gz ...\n",
      "patool: ... spec-56283-HD111915N004324M01_sp10-043.fits.gz extracted to `spec-56283-HD111915N004324M01_sp10-043.fits'.\n",
      "patool: Extracting spec-56283-HD111915N004324M01_sp10-228.fits.gz ...\n",
      "patool: ... spec-56283-HD111915N004324M01_sp10-228.fits.gz extracted to `spec-56283-HD111915N004324M01_sp10-228.fits'.\n",
      "patool: Extracting spec-56283-HD111915N004324M01_sp11-049.fits.gz ...\n",
      "patool: ... spec-56283-HD111915N004324M01_sp11-049.fits.gz extracted to `spec-56283-HD111915N004324M01_sp11-049.fits'.\n",
      "patool: Extracting spec-56283-HD111915N004324M01_sp11-052.fits.gz ...\n",
      "patool: ... spec-56283-HD111915N004324M01_sp11-052.fits.gz extracted to `spec-56283-HD111915N004324M01_sp11-052.fits'.\n",
      "patool: Extracting spec-56283-HD111915N004324M01_sp11-073.fits.gz ...\n",
      "patool: ... spec-56283-HD111915N004324M01_sp11-073.fits.gz extracted to `spec-56283-HD111915N004324M01_sp11-073.fits'.\n",
      "patool: Extracting spec-56283-HD111915N004324M01_sp11-115.fits.gz ...\n",
      "patool: ... spec-56283-HD111915N004324M01_sp11-115.fits.gz extracted to `spec-56283-HD111915N004324M01_sp11-115.fits'.\n",
      "patool: Extracting spec-56283-HD111915N004324M01_sp12-097.fits.gz ...\n",
      "patool: ... spec-56283-HD111915N004324M01_sp12-097.fits.gz extracted to `spec-56283-HD111915N004324M01_sp12-097.fits'.\n",
      "patool: Extracting spec-56283-HD111915N004324M01_sp15-136.fits.gz ...\n",
      "patool: ... spec-56283-HD111915N004324M01_sp15-136.fits.gz extracted to `spec-56283-HD111915N004324M01_sp15-136.fits'.\n",
      "patool: Extracting spec-56283-HD111915N004324M01_sp15-165.fits.gz ...\n",
      "patool: ... spec-56283-HD111915N004324M01_sp15-165.fits.gz extracted to `spec-56283-HD111915N004324M01_sp15-165.fits'.\n",
      "patool: Extracting spec-56283-HD111915N004324M01_sp16-153.fits.gz ...\n",
      "patool: ... spec-56283-HD111915N004324M01_sp16-153.fits.gz extracted to `spec-56283-HD111915N004324M01_sp16-153.fits'.\n",
      "patool: Extracting spec-56284-HD114225N022143B01_sp06-094.fits.gz ...\n",
      "patool: ... spec-56284-HD114225N022143B01_sp06-094.fits.gz extracted to `spec-56284-HD114225N022143B01_sp06-094.fits'.\n",
      "patool: Extracting spec-56284-HD114225N022143B01_sp09-064.fits.gz ...\n",
      "patool: ... spec-56284-HD114225N022143B01_sp09-064.fits.gz extracted to `spec-56284-HD114225N022143B01_sp09-064.fits'.\n",
      "patool: Extracting spec-56284-HD114225N022143B01_sp12-067.fits.gz ...\n",
      "patool: ... spec-56284-HD114225N022143B01_sp12-067.fits.gz extracted to `spec-56284-HD114225N022143B01_sp12-067.fits'.\n",
      "patool: Extracting spec-56284-HD114225N022143B01_sp15-186.fits.gz ...\n",
      "patool: ... spec-56284-HD114225N022143B01_sp15-186.fits.gz extracted to `spec-56284-HD114225N022143B01_sp15-186.fits'.\n",
      "patool: Extracting spec-56286-HD114225N022143B_sp02-001.fits.gz ...\n",
      "patool: ... spec-56286-HD114225N022143B_sp02-001.fits.gz extracted to `spec-56286-HD114225N022143B_sp02-001.fits'.\n",
      "patool: Extracting spec-56286-HD114225N022143B_sp02-019.fits.gz ...\n",
      "patool: ... spec-56286-HD114225N022143B_sp02-019.fits.gz extracted to `spec-56286-HD114225N022143B_sp02-019.fits'.\n",
      "patool: Extracting spec-56286-HD114225N022143B_sp05-187.fits.gz ...\n",
      "patool: ... spec-56286-HD114225N022143B_sp05-187.fits.gz extracted to `spec-56286-HD114225N022143B_sp05-187.fits'.\n",
      "patool: Extracting spec-56286-HD114225N022143B_sp06-094.fits.gz ...\n",
      "patool: ... spec-56286-HD114225N022143B_sp06-094.fits.gz extracted to `spec-56286-HD114225N022143B_sp06-094.fits'.\n",
      "patool: Extracting spec-56286-HD114225N022143B_sp12-046.fits.gz ...\n",
      "patool: ... spec-56286-HD114225N022143B_sp12-046.fits.gz extracted to `spec-56286-HD114225N022143B_sp12-046.fits'.\n",
      "patool: Extracting spec-56286-HD114225N022143B_sp13-012.fits.gz ...\n",
      "patool: ... spec-56286-HD114225N022143B_sp13-012.fits.gz extracted to `spec-56286-HD114225N022143B_sp13-012.fits'.\n",
      "patool: Extracting spec-56286-HD114225N022143B_sp13-022.fits.gz ...\n",
      "patool: ... spec-56286-HD114225N022143B_sp13-022.fits.gz extracted to `spec-56286-HD114225N022143B_sp13-022.fits'.\n",
      "patool: Extracting spec-56286-HD114225N022143B_sp13-026.fits.gz ...\n",
      "patool: ... spec-56286-HD114225N022143B_sp13-026.fits.gz extracted to `spec-56286-HD114225N022143B_sp13-026.fits'.\n",
      "patool: Extracting spec-56286-HD114225N022143B_sp13-154.fits.gz ...\n",
      "patool: ... spec-56286-HD114225N022143B_sp13-154.fits.gz extracted to `spec-56286-HD114225N022143B_sp13-154.fits'.\n",
      "patool: Extracting spec-56286-HD114225N022143B_sp15-008.fits.gz ...\n",
      "patool: ... spec-56286-HD114225N022143B_sp15-008.fits.gz extracted to `spec-56286-HD114225N022143B_sp15-008.fits'.\n",
      "patool: Extracting spec-56286-HD114225N022143M_sp01-103.fits.gz ...\n",
      "patool: ... spec-56286-HD114225N022143M_sp01-103.fits.gz extracted to `spec-56286-HD114225N022143M_sp01-103.fits'.\n",
      "patool: Extracting spec-56286-HD114225N022143M_sp01-134.fits.gz ...\n",
      "patool: ... spec-56286-HD114225N022143M_sp01-134.fits.gz extracted to `spec-56286-HD114225N022143M_sp01-134.fits'.\n",
      "patool: Extracting spec-56286-HD114225N022143M_sp02-048.fits.gz ...\n",
      "patool: ... spec-56286-HD114225N022143M_sp02-048.fits.gz extracted to `spec-56286-HD114225N022143M_sp02-048.fits'.\n",
      "patool: Extracting spec-56286-HD114225N022143M_sp02-058.fits.gz ...\n",
      "patool: ... spec-56286-HD114225N022143M_sp02-058.fits.gz extracted to `spec-56286-HD114225N022143M_sp02-058.fits'.\n",
      "patool: Extracting spec-56286-HD114225N022143M_sp03-131.fits.gz ...\n",
      "patool: ... spec-56286-HD114225N022143M_sp03-131.fits.gz extracted to `spec-56286-HD114225N022143M_sp03-131.fits'.\n",
      "patool: Extracting spec-56286-HD114225N022143M_sp05-176.fits.gz ...\n",
      "patool: ... spec-56286-HD114225N022143M_sp05-176.fits.gz extracted to `spec-56286-HD114225N022143M_sp05-176.fits'.\n",
      "patool: Extracting spec-56286-HD114225N022143M_sp06-094.fits.gz ...\n",
      "patool: ... spec-56286-HD114225N022143M_sp06-094.fits.gz extracted to `spec-56286-HD114225N022143M_sp06-094.fits'.\n",
      "patool: Extracting spec-56286-HD114225N022143M_sp06-181.fits.gz ...\n",
      "patool: ... spec-56286-HD114225N022143M_sp06-181.fits.gz extracted to `spec-56286-HD114225N022143M_sp06-181.fits'.\n",
      "patool: Extracting spec-56286-HD114225N022143M_sp07-055.fits.gz ...\n",
      "patool: ... spec-56286-HD114225N022143M_sp07-055.fits.gz extracted to `spec-56286-HD114225N022143M_sp07-055.fits'.\n",
      "patool: Extracting spec-56286-HD114225N022143M_sp08-065.fits.gz ...\n",
      "patool: ... spec-56286-HD114225N022143M_sp08-065.fits.gz extracted to `spec-56286-HD114225N022143M_sp08-065.fits'.\n",
      "patool: Extracting spec-56286-HD114225N022143M_sp08-094.fits.gz ...\n",
      "patool: ... spec-56286-HD114225N022143M_sp08-094.fits.gz extracted to `spec-56286-HD114225N022143M_sp08-094.fits'.\n",
      "patool: Extracting spec-56286-HD114225N022143M_sp09-194.fits.gz ...\n",
      "patool: ... spec-56286-HD114225N022143M_sp09-194.fits.gz extracted to `spec-56286-HD114225N022143M_sp09-194.fits'.\n",
      "patool: Extracting spec-56286-HD114225N022143M_sp11-019.fits.gz ...\n",
      "patool: ... spec-56286-HD114225N022143M_sp11-019.fits.gz extracted to `spec-56286-HD114225N022143M_sp11-019.fits'.\n",
      "patool: Extracting spec-56286-HD114225N022143M_sp12-038.fits.gz ...\n",
      "patool: ... spec-56286-HD114225N022143M_sp12-038.fits.gz extracted to `spec-56286-HD114225N022143M_sp12-038.fits'.\n",
      "patool: Extracting spec-56286-HD114225N022143M_sp12-046.fits.gz ...\n",
      "patool: ... spec-56286-HD114225N022143M_sp12-046.fits.gz extracted to `spec-56286-HD114225N022143M_sp12-046.fits'.\n",
      "patool: Extracting spec-56286-HD114225N022143M_sp13-012.fits.gz ...\n",
      "patool: ... spec-56286-HD114225N022143M_sp13-012.fits.gz extracted to `spec-56286-HD114225N022143M_sp13-012.fits'.\n",
      "patool: Extracting spec-56286-HD114225N022143M_sp13-022.fits.gz ...\n",
      "patool: ... spec-56286-HD114225N022143M_sp13-022.fits.gz extracted to `spec-56286-HD114225N022143M_sp13-022.fits'.\n",
      "patool: Extracting spec-56286-HD114225N022143M_sp13-026.fits.gz ...\n",
      "patool: ... spec-56286-HD114225N022143M_sp13-026.fits.gz extracted to `spec-56286-HD114225N022143M_sp13-026.fits'.\n",
      "patool: Extracting spec-56286-HD114225N022143M_sp13-154.fits.gz ...\n",
      "patool: ... spec-56286-HD114225N022143M_sp13-154.fits.gz extracted to `spec-56286-HD114225N022143M_sp13-154.fits'.\n",
      "patool: Extracting spec-56286-HD114225N022143M_sp13-173.fits.gz ...\n",
      "patool: ... spec-56286-HD114225N022143M_sp13-173.fits.gz extracted to `spec-56286-HD114225N022143M_sp13-173.fits'.\n",
      "patool: Extracting spec-56286-HD114225N022143M_sp15-008.fits.gz ...\n",
      "patool: ... spec-56286-HD114225N022143M_sp15-008.fits.gz extracted to `spec-56286-HD114225N022143M_sp15-008.fits'.\n",
      "patool: Extracting spec-56286-HD114225N022143M_sp15-127.fits.gz ...\n",
      "patool: ... spec-56286-HD114225N022143M_sp15-127.fits.gz extracted to `spec-56286-HD114225N022143M_sp15-127.fits'.\n",
      "patool: Extracting spec-56287-HD112126N063805B01_sp02-092.fits.gz ...\n",
      "patool: ... spec-56287-HD112126N063805B01_sp02-092.fits.gz extracted to `spec-56287-HD112126N063805B01_sp02-092.fits'.\n",
      "patool: Extracting spec-56287-HD112126N063805B01_sp07-198.fits.gz ...\n",
      "patool: ... spec-56287-HD112126N063805B01_sp07-198.fits.gz extracted to `spec-56287-HD112126N063805B01_sp07-198.fits'.\n",
      "patool: Extracting spec-56287-HD112126N063805B01_sp08-162.fits.gz ...\n",
      "patool: ... spec-56287-HD112126N063805B01_sp08-162.fits.gz extracted to `spec-56287-HD112126N063805B01_sp08-162.fits'.\n",
      "patool: Extracting spec-56287-HD112126N063805B01_sp08-171.fits.gz ...\n",
      "patool: ... spec-56287-HD112126N063805B01_sp08-171.fits.gz extracted to `spec-56287-HD112126N063805B01_sp08-171.fits'.\n",
      "patool: Extracting spec-56287-HD112126N063805M01_sp01-004.fits.gz ...\n",
      "patool: ... spec-56287-HD112126N063805M01_sp01-004.fits.gz extracted to `spec-56287-HD112126N063805M01_sp01-004.fits'.\n",
      "patool: Extracting spec-56287-HD112126N063805M01_sp02-092.fits.gz ...\n",
      "patool: ... spec-56287-HD112126N063805M01_sp02-092.fits.gz extracted to `spec-56287-HD112126N063805M01_sp02-092.fits'.\n",
      "patool: Extracting spec-56287-HD112126N063805M01_sp07-041.fits.gz ...\n",
      "patool: ... spec-56287-HD112126N063805M01_sp07-041.fits.gz extracted to `spec-56287-HD112126N063805M01_sp07-041.fits'.\n",
      "patool: Extracting spec-56287-HD112126N063805M01_sp07-198.fits.gz ...\n",
      "patool: ... spec-56287-HD112126N063805M01_sp07-198.fits.gz extracted to `spec-56287-HD112126N063805M01_sp07-198.fits'.\n",
      "patool: Extracting spec-56287-HD112126N063805M01_sp07-201.fits.gz ...\n",
      "patool: ... spec-56287-HD112126N063805M01_sp07-201.fits.gz extracted to `spec-56287-HD112126N063805M01_sp07-201.fits'.\n",
      "patool: Extracting spec-56287-HD112126N063805M01_sp08-151.fits.gz ...\n",
      "patool: ... spec-56287-HD112126N063805M01_sp08-151.fits.gz extracted to `spec-56287-HD112126N063805M01_sp08-151.fits'.\n",
      "patool: Extracting spec-56287-HD112126N063805M01_sp08-162.fits.gz ...\n",
      "patool: ... spec-56287-HD112126N063805M01_sp08-162.fits.gz extracted to `spec-56287-HD112126N063805M01_sp08-162.fits'.\n",
      "patool: Extracting spec-56287-HD112126N063805M01_sp08-171.fits.gz ...\n",
      "patool: ... spec-56287-HD112126N063805M01_sp08-171.fits.gz extracted to `spec-56287-HD112126N063805M01_sp08-171.fits'.\n",
      "patool: Extracting spec-56287-HD112126N063805M01_sp09-024.fits.gz ...\n",
      "patool: ... spec-56287-HD112126N063805M01_sp09-024.fits.gz extracted to `spec-56287-HD112126N063805M01_sp09-024.fits'.\n",
      "patool: Extracting spec-56287-HD112126N063805M01_sp13-039.fits.gz ...\n",
      "patool: ... spec-56287-HD112126N063805M01_sp13-039.fits.gz extracted to `spec-56287-HD112126N063805M01_sp13-039.fits'.\n",
      "patool: Extracting spec-56287-HD112126N063805M01_sp13-057.fits.gz ...\n",
      "patool: ... spec-56287-HD112126N063805M01_sp13-057.fits.gz extracted to `spec-56287-HD112126N063805M01_sp13-057.fits'.\n",
      "patool: Extracting spec-56287-HD112126N063805M01_sp13-067.fits.gz ...\n",
      "patool: ... spec-56287-HD112126N063805M01_sp13-067.fits.gz extracted to `spec-56287-HD112126N063805M01_sp13-067.fits'.\n",
      "patool: Extracting spec-56287-HD112126N063805M01_sp13-145.fits.gz ...\n",
      "patool: ... spec-56287-HD112126N063805M01_sp13-145.fits.gz extracted to `spec-56287-HD112126N063805M01_sp13-145.fits'.\n",
      "patool: Extracting spec-56287-HD112126N063805M01_sp13-214.fits.gz ...\n",
      "patool: ... spec-56287-HD112126N063805M01_sp13-214.fits.gz extracted to `spec-56287-HD112126N063805M01_sp13-214.fits'.\n",
      "patool: Extracting spec-56287-HD112126N063805M01_sp13-245.fits.gz ...\n",
      "patool: ... spec-56287-HD112126N063805M01_sp13-245.fits.gz extracted to `spec-56287-HD112126N063805M01_sp13-245.fits'.\n",
      "patool: Extracting spec-56299-HD112355N103146F01_sp01-081.fits.gz ...\n",
      "patool: ... spec-56299-HD112355N103146F01_sp01-081.fits.gz extracted to `spec-56299-HD112355N103146F01_sp01-081.fits'.\n",
      "patool: Extracting spec-56654-HD120800N003716B01_sp16-005.fits.gz ...\n",
      "patool: ... spec-56654-HD120800N003716B01_sp16-005.fits.gz extracted to `spec-56654-HD120800N003716B01_sp16-005.fits'.\n",
      "patool: Extracting spec-56670-HD110033N033702B01_sp13-018.fits.gz ...\n",
      "patool: ... spec-56670-HD110033N033702B01_sp13-018.fits.gz extracted to `spec-56670-HD110033N033702B01_sp13-018.fits'.\n",
      "patool: Extracting spec-56738-HD113827N080803V_sp05-103.fits.gz ...\n",
      "patool: ... spec-56738-HD113827N080803V_sp05-103.fits.gz extracted to `spec-56738-HD113827N080803V_sp05-103.fits'.\n",
      "patool: Extracting spec-56738-HD113827N080803V_sp10-116.fits.gz ...\n",
      "patool: ... spec-56738-HD113827N080803V_sp10-116.fits.gz extracted to `spec-56738-HD113827N080803V_sp10-116.fits'.\n",
      "patool: Extracting spec-56741-HD115451S012705B_sp04-082.fits.gz ...\n",
      "patool: ... spec-56741-HD115451S012705B_sp04-082.fits.gz extracted to `spec-56741-HD115451S012705B_sp04-082.fits'.\n",
      "patool: Extracting spec-56741-HD115451S012705B_sp04-198.fits.gz ...\n",
      "patool: ... spec-56741-HD115451S012705B_sp04-198.fits.gz extracted to `spec-56741-HD115451S012705B_sp04-198.fits'.\n",
      "patool: Extracting spec-56741-HD115451S012705B_sp05-055.fits.gz ...\n",
      "patool: ... spec-56741-HD115451S012705B_sp05-055.fits.gz extracted to `spec-56741-HD115451S012705B_sp05-055.fits'.\n",
      "patool: Extracting spec-56741-HD115451S012705B_sp06-020.fits.gz ...\n",
      "patool: ... spec-56741-HD115451S012705B_sp06-020.fits.gz extracted to `spec-56741-HD115451S012705B_sp06-020.fits'.\n",
      "patool: Extracting spec-56741-HD115451S012705B_sp06-236.fits.gz ...\n",
      "patool: ... spec-56741-HD115451S012705B_sp06-236.fits.gz extracted to `spec-56741-HD115451S012705B_sp06-236.fits'.\n",
      "patool: Extracting spec-56741-HD115451S012705B_sp06-248.fits.gz ...\n",
      "patool: ... spec-56741-HD115451S012705B_sp06-248.fits.gz extracted to `spec-56741-HD115451S012705B_sp06-248.fits'.\n",
      "patool: Extracting spec-56741-HD115451S012705B_sp07-068.fits.gz ...\n",
      "patool: ... spec-56741-HD115451S012705B_sp07-068.fits.gz extracted to `spec-56741-HD115451S012705B_sp07-068.fits'.\n",
      "patool: Extracting spec-56741-HD115451S012705B_sp08-080.fits.gz ...\n",
      "patool: ... spec-56741-HD115451S012705B_sp08-080.fits.gz extracted to `spec-56741-HD115451S012705B_sp08-080.fits'.\n",
      "patool: Extracting spec-56741-HD115451S012705B_sp08-150.fits.gz ...\n",
      "patool: ... spec-56741-HD115451S012705B_sp08-150.fits.gz extracted to `spec-56741-HD115451S012705B_sp08-150.fits'.\n",
      "patool: Extracting spec-56741-HD115451S012705B_sp08-210.fits.gz ...\n",
      "patool: ... spec-56741-HD115451S012705B_sp08-210.fits.gz extracted to `spec-56741-HD115451S012705B_sp08-210.fits'.\n",
      "patool: Extracting spec-56741-HD115451S012705B_sp08-221.fits.gz ...\n",
      "patool: ... spec-56741-HD115451S012705B_sp08-221.fits.gz extracted to `spec-56741-HD115451S012705B_sp08-221.fits'.\n",
      "patool: Extracting spec-56741-HD115451S012705B_sp09-242.fits.gz ...\n",
      "patool: ... spec-56741-HD115451S012705B_sp09-242.fits.gz extracted to `spec-56741-HD115451S012705B_sp09-242.fits'.\n",
      "patool: Extracting spec-56741-HD115451S012705B_sp16-082.fits.gz ...\n",
      "patool: ... spec-56741-HD115451S012705B_sp16-082.fits.gz extracted to `spec-56741-HD115451S012705B_sp16-082.fits'.\n",
      "patool: Extracting spec-56741-HD115451S012705V_sp05-033.fits.gz ...\n",
      "patool: ... spec-56741-HD115451S012705V_sp05-033.fits.gz extracted to `spec-56741-HD115451S012705V_sp05-033.fits'.\n",
      "patool: Extracting spec-56741-HD115451S012705V_sp05-117.fits.gz ...\n",
      "patool: ... spec-56741-HD115451S012705V_sp05-117.fits.gz extracted to `spec-56741-HD115451S012705V_sp05-117.fits'.\n",
      "patool: Extracting spec-56743-HD112935N034647V01_sp13-055.fits.gz ...\n",
      "patool: ... spec-56743-HD112935N034647V01_sp13-055.fits.gz extracted to `spec-56743-HD112935N034647V01_sp13-055.fits'.\n",
      "patool: Extracting spec-56777-VB171N03V1_sp02-038.fits.gz ...\n",
      "patool: ... spec-56777-VB171N03V1_sp02-038.fits.gz extracted to `spec-56777-VB171N03V1_sp02-038.fits'.\n",
      "patool: Extracting spec-56777-VB171N03V1_sp03-126.fits.gz ...\n",
      "patool: ... spec-56777-VB171N03V1_sp03-126.fits.gz extracted to `spec-56777-VB171N03V1_sp03-126.fits'.\n",
      "patool: Extracting spec-56777-VB171N03V1_sp04-082.fits.gz ...\n",
      "patool: ... spec-56777-VB171N03V1_sp04-082.fits.gz extracted to `spec-56777-VB171N03V1_sp04-082.fits'.\n",
      "patool: Extracting spec-56777-VB171N03V1_sp05-096.fits.gz ...\n",
      "patool: ... spec-56777-VB171N03V1_sp05-096.fits.gz extracted to `spec-56777-VB171N03V1_sp05-096.fits'.\n",
      "patool: Extracting spec-56777-VB171N03V1_sp06-005.fits.gz ...\n",
      "patool: ... spec-56777-VB171N03V1_sp06-005.fits.gz extracted to `spec-56777-VB171N03V1_sp06-005.fits'.\n",
      "patool: Extracting spec-56777-VB171N03V1_sp06-152.fits.gz ...\n",
      "patool: ... spec-56777-VB171N03V1_sp06-152.fits.gz extracted to `spec-56777-VB171N03V1_sp06-152.fits'.\n",
      "patool: Extracting spec-56777-VB171N03V1_sp07-028.fits.gz ...\n",
      "patool: ... spec-56777-VB171N03V1_sp07-028.fits.gz extracted to `spec-56777-VB171N03V1_sp07-028.fits'.\n",
      "patool: Extracting spec-56777-VB171N03V1_sp08-116.fits.gz ...\n",
      "patool: ... spec-56777-VB171N03V1_sp08-116.fits.gz extracted to `spec-56777-VB171N03V1_sp08-116.fits'.\n",
      "patool: Extracting spec-56777-VB171N03V1_sp08-150.fits.gz ...\n",
      "patool: ... spec-56777-VB171N03V1_sp08-150.fits.gz extracted to `spec-56777-VB171N03V1_sp08-150.fits'.\n",
      "patool: Extracting spec-56777-VB171N03V1_sp09-150.fits.gz ...\n",
      "patool: ... spec-56777-VB171N03V1_sp09-150.fits.gz extracted to `spec-56777-VB171N03V1_sp09-150.fits'.\n",
      "patool: Extracting spec-56777-VB171N03V1_sp09-207.fits.gz ...\n",
      "patool: ... spec-56777-VB171N03V1_sp09-207.fits.gz extracted to `spec-56777-VB171N03V1_sp09-207.fits'.\n",
      "patool: Extracting spec-56777-VB171N03V1_sp11-042.fits.gz ...\n",
      "patool: ... spec-56777-VB171N03V1_sp11-042.fits.gz extracted to `spec-56777-VB171N03V1_sp11-042.fits'.\n",
      "patool: Extracting spec-56777-VB171N03V1_sp11-113.fits.gz ...\n",
      "patool: ... spec-56777-VB171N03V1_sp11-113.fits.gz extracted to `spec-56777-VB171N03V1_sp11-113.fits'.\n",
      "patool: Extracting spec-56777-VB171N03V1_sp13-077.fits.gz ...\n",
      "patool: ... spec-56777-VB171N03V1_sp13-077.fits.gz extracted to `spec-56777-VB171N03V1_sp13-077.fits'.\n",
      "patool: Extracting spec-56777-VB171N03V1_sp13-211.fits.gz ...\n",
      "patool: ... spec-56777-VB171N03V1_sp13-211.fits.gz extracted to `spec-56777-VB171N03V1_sp13-211.fits'.\n",
      "patool: Extracting spec-56777-VB171N03V1_sp13-219.fits.gz ...\n",
      "patool: ... spec-56777-VB171N03V1_sp13-219.fits.gz extracted to `spec-56777-VB171N03V1_sp13-219.fits'.\n",
      "patool: Extracting spec-56777-VB171N03V1_sp15-072.fits.gz ...\n",
      "patool: ... spec-56777-VB171N03V1_sp15-072.fits.gz extracted to `spec-56777-VB171N03V1_sp15-072.fits'.\n",
      "patool: Extracting spec-56777-VB171N03V1_sp15-073.fits.gz ...\n",
      "patool: ... spec-56777-VB171N03V1_sp15-073.fits.gz extracted to `spec-56777-VB171N03V1_sp15-073.fits'.\n",
      "patool: Extracting spec-56777-VB171N03V1_sp16-074.fits.gz ...\n",
      "patool: ... spec-56777-VB171N03V1_sp16-074.fits.gz extracted to `spec-56777-VB171N03V1_sp16-074.fits'.\n",
      "patool: Extracting spec-56777-VB171N03V2_sp02-038.fits.gz ...\n",
      "patool: ... spec-56777-VB171N03V2_sp02-038.fits.gz extracted to `spec-56777-VB171N03V2_sp02-038.fits'.\n",
      "patool: Extracting spec-56777-VB171N03V2_sp05-096.fits.gz ...\n",
      "patool: ... spec-56777-VB171N03V2_sp05-096.fits.gz extracted to `spec-56777-VB171N03V2_sp05-096.fits'.\n",
      "patool: Extracting spec-56777-VB171N03V2_sp06-005.fits.gz ...\n",
      "patool: ... spec-56777-VB171N03V2_sp06-005.fits.gz extracted to `spec-56777-VB171N03V2_sp06-005.fits'.\n",
      "patool: Extracting spec-56777-VB171N03V2_sp07-028.fits.gz ...\n",
      "patool: ... spec-56777-VB171N03V2_sp07-028.fits.gz extracted to `spec-56777-VB171N03V2_sp07-028.fits'.\n",
      "patool: Extracting spec-56777-VB171N03V2_sp08-116.fits.gz ...\n",
      "patool: ... spec-56777-VB171N03V2_sp08-116.fits.gz extracted to `spec-56777-VB171N03V2_sp08-116.fits'.\n",
      "patool: Extracting spec-56777-VB171N03V2_sp08-150.fits.gz ...\n",
      "patool: ... spec-56777-VB171N03V2_sp08-150.fits.gz extracted to `spec-56777-VB171N03V2_sp08-150.fits'.\n",
      "patool: Extracting spec-56777-VB171N03V2_sp09-150.fits.gz ...\n",
      "patool: ... spec-56777-VB171N03V2_sp09-150.fits.gz extracted to `spec-56777-VB171N03V2_sp09-150.fits'.\n",
      "patool: Extracting spec-56777-VB171N03V2_sp09-205.fits.gz ...\n",
      "patool: ... spec-56777-VB171N03V2_sp09-205.fits.gz extracted to `spec-56777-VB171N03V2_sp09-205.fits'.\n",
      "patool: Extracting spec-56777-VB171N03V2_sp11-042.fits.gz ...\n",
      "patool: ... spec-56777-VB171N03V2_sp11-042.fits.gz extracted to `spec-56777-VB171N03V2_sp11-042.fits'.\n",
      "patool: Extracting spec-56777-VB171N03V2_sp11-186.fits.gz ...\n",
      "patool: ... spec-56777-VB171N03V2_sp11-186.fits.gz extracted to `spec-56777-VB171N03V2_sp11-186.fits'.\n",
      "patool: Extracting spec-56777-VB171N03V2_sp13-219.fits.gz ...\n",
      "patool: ... spec-56777-VB171N03V2_sp13-219.fits.gz extracted to `spec-56777-VB171N03V2_sp13-219.fits'.\n",
      "patool: Extracting spec-56777-VB171N03V2_sp15-073.fits.gz ...\n",
      "patool: ... spec-56777-VB171N03V2_sp15-073.fits.gz extracted to `spec-56777-VB171N03V2_sp15-073.fits'.\n",
      "patool: Extracting spec-56777-VB171N03V2_sp16-074.fits.gz ...\n",
      "patool: ... spec-56777-VB171N03V2_sp16-074.fits.gz extracted to `spec-56777-VB171N03V2_sp16-074.fits'.\n",
      "patool: Extracting spec-56780-HD115813N032855V01_sp04-055.fits.gz ...\n",
      "patool: ... spec-56780-HD115813N032855V01_sp04-055.fits.gz extracted to `spec-56780-HD115813N032855V01_sp04-055.fits'.\n",
      "patool: Extracting spec-56780-HD115813N032855V01_sp14-161.fits.gz ...\n",
      "patool: ... spec-56780-HD115813N032855V01_sp14-161.fits.gz extracted to `spec-56780-HD115813N032855V01_sp14-161.fits'.\n",
      "patool: Extracting spec-56780-HD115813N032855V01_sp14-223.fits.gz ...\n",
      "patool: ... spec-56780-HD115813N032855V01_sp14-223.fits.gz extracted to `spec-56780-HD115813N032855V01_sp14-223.fits'.\n",
      "patool: Extracting spec-56780-HD115813N032855V01_sp16-031.fits.gz ...\n",
      "patool: ... spec-56780-HD115813N032855V01_sp16-031.fits.gz extracted to `spec-56780-HD115813N032855V01_sp16-031.fits'.\n",
      "patool: Extracting spec-56782-VB179N03V1_sp04-073.fits.gz ...\n",
      "patool: ... spec-56782-VB179N03V1_sp04-073.fits.gz extracted to `spec-56782-VB179N03V1_sp04-073.fits'.\n",
      "patool: Extracting spec-56782-VB179N03V1_sp04-098.fits.gz ...\n",
      "patool: ... spec-56782-VB179N03V1_sp04-098.fits.gz extracted to `spec-56782-VB179N03V1_sp04-098.fits'.\n",
      "patool: Extracting spec-56782-VB179N03V1_sp04-205.fits.gz ...\n",
      "patool: ... spec-56782-VB179N03V1_sp04-205.fits.gz extracted to `spec-56782-VB179N03V1_sp04-205.fits'.\n",
      "patool: Extracting spec-56782-VB179N03V1_sp05-056.fits.gz ...\n",
      "patool: ... spec-56782-VB179N03V1_sp05-056.fits.gz extracted to `spec-56782-VB179N03V1_sp05-056.fits'.\n",
      "patool: Extracting spec-56782-VB179N03V1_sp05-235.fits.gz ...\n",
      "patool: ... spec-56782-VB179N03V1_sp05-235.fits.gz extracted to `spec-56782-VB179N03V1_sp05-235.fits'.\n",
      "patool: Extracting spec-56782-VB179N03V1_sp09-014.fits.gz ...\n",
      "patool: ... spec-56782-VB179N03V1_sp09-014.fits.gz extracted to `spec-56782-VB179N03V1_sp09-014.fits'.\n",
      "patool: Extracting spec-56782-VB179N03V1_sp09-193.fits.gz ...\n",
      "patool: ... spec-56782-VB179N03V1_sp09-193.fits.gz extracted to `spec-56782-VB179N03V1_sp09-193.fits'.\n",
      "patool: Extracting spec-56782-VB179N03V1_sp09-205.fits.gz ...\n",
      "patool: ... spec-56782-VB179N03V1_sp09-205.fits.gz extracted to `spec-56782-VB179N03V1_sp09-205.fits'.\n",
      "patool: Extracting spec-56782-VB179N03V1_sp10-034.fits.gz ...\n",
      "patool: ... spec-56782-VB179N03V1_sp10-034.fits.gz extracted to `spec-56782-VB179N03V1_sp10-034.fits'.\n",
      "patool: Extracting spec-56782-VB179N03V1_sp10-104.fits.gz ...\n",
      "patool: ... spec-56782-VB179N03V1_sp10-104.fits.gz extracted to `spec-56782-VB179N03V1_sp10-104.fits'.\n",
      "patool: Extracting spec-56782-VB179N03V1_sp10-157.fits.gz ...\n",
      "patool: ... spec-56782-VB179N03V1_sp10-157.fits.gz extracted to `spec-56782-VB179N03V1_sp10-157.fits'.\n",
      "patool: Extracting spec-56782-VB179N03V1_sp10-164.fits.gz ...\n",
      "patool: ... spec-56782-VB179N03V1_sp10-164.fits.gz extracted to `spec-56782-VB179N03V1_sp10-164.fits'.\n",
      "patool: Extracting spec-56782-VB179N03V1_sp10-205.fits.gz ...\n",
      "patool: ... spec-56782-VB179N03V1_sp10-205.fits.gz extracted to `spec-56782-VB179N03V1_sp10-205.fits'.\n",
      "patool: Extracting spec-56782-VB179N03V1_sp13-218.fits.gz ...\n",
      "patool: ... spec-56782-VB179N03V1_sp13-218.fits.gz extracted to `spec-56782-VB179N03V1_sp13-218.fits'.\n",
      "patool: Extracting spec-56782-VB179N03V1_sp14-219.fits.gz ...\n",
      "patool: ... spec-56782-VB179N03V1_sp14-219.fits.gz extracted to `spec-56782-VB179N03V1_sp14-219.fits'.\n",
      "patool: Extracting spec-56782-VB179N03V1_sp14-223.fits.gz ...\n",
      "patool: ... spec-56782-VB179N03V1_sp14-223.fits.gz extracted to `spec-56782-VB179N03V1_sp14-223.fits'.\n",
      "patool: Extracting spec-56782-VB179N03V2_sp03-199.fits.gz ...\n",
      "patool: ... spec-56782-VB179N03V2_sp03-199.fits.gz extracted to `spec-56782-VB179N03V2_sp03-199.fits'.\n",
      "patool: Extracting spec-56782-VB179N03V2_sp04-031.fits.gz ...\n",
      "patool: ... spec-56782-VB179N03V2_sp04-031.fits.gz extracted to `spec-56782-VB179N03V2_sp04-031.fits'.\n",
      "patool: Extracting spec-56782-VB179N03V2_sp04-043.fits.gz ...\n",
      "patool: ... spec-56782-VB179N03V2_sp04-043.fits.gz extracted to `spec-56782-VB179N03V2_sp04-043.fits'.\n",
      "patool: Extracting spec-56782-VB179N03V2_sp04-073.fits.gz ...\n",
      "patool: ... spec-56782-VB179N03V2_sp04-073.fits.gz extracted to `spec-56782-VB179N03V2_sp04-073.fits'.\n",
      "patool: Extracting spec-56782-VB179N03V2_sp04-086.fits.gz ...\n",
      "patool: ... spec-56782-VB179N03V2_sp04-086.fits.gz extracted to `spec-56782-VB179N03V2_sp04-086.fits'.\n",
      "patool: Extracting spec-56782-VB179N03V2_sp04-093.fits.gz ...\n",
      "patool: ... spec-56782-VB179N03V2_sp04-093.fits.gz extracted to `spec-56782-VB179N03V2_sp04-093.fits'.\n",
      "patool: Extracting spec-56782-VB179N03V2_sp04-098.fits.gz ...\n",
      "patool: ... spec-56782-VB179N03V2_sp04-098.fits.gz extracted to `spec-56782-VB179N03V2_sp04-098.fits'.\n",
      "patool: Extracting spec-56782-VB179N03V2_sp06-017.fits.gz ...\n",
      "patool: ... spec-56782-VB179N03V2_sp06-017.fits.gz extracted to `spec-56782-VB179N03V2_sp06-017.fits'.\n",
      "patool: Extracting spec-56782-VB179N03V2_sp10-034.fits.gz ...\n",
      "patool: ... spec-56782-VB179N03V2_sp10-034.fits.gz extracted to `spec-56782-VB179N03V2_sp10-034.fits'.\n",
      "patool: Extracting spec-56782-VB179N03V2_sp10-104.fits.gz ...\n",
      "patool: ... spec-56782-VB179N03V2_sp10-104.fits.gz extracted to `spec-56782-VB179N03V2_sp10-104.fits'.\n",
      "patool: Extracting spec-56782-VB179N03V2_sp10-164.fits.gz ...\n",
      "patool: ... spec-56782-VB179N03V2_sp10-164.fits.gz extracted to `spec-56782-VB179N03V2_sp10-164.fits'.\n",
      "patool: Extracting spec-56782-VB179N03V2_sp10-205.fits.gz ...\n",
      "patool: ... spec-56782-VB179N03V2_sp10-205.fits.gz extracted to `spec-56782-VB179N03V2_sp10-205.fits'.\n",
      "patool: Extracting spec-56782-VB179N03V2_sp14-219.fits.gz ...\n",
      "patool: ... spec-56782-VB179N03V2_sp14-219.fits.gz extracted to `spec-56782-VB179N03V2_sp14-219.fits'.\n",
      "patool: Extracting spec-56782-VB179N03V2_sp14-223.fits.gz ...\n",
      "patool: ... spec-56782-VB179N03V2_sp14-223.fits.gz extracted to `spec-56782-VB179N03V2_sp14-223.fits'.\n",
      "patool: Extracting spec-56782-VB179N03V2_sp16-031.fits.gz ...\n",
      "patool: ... spec-56782-VB179N03V2_sp16-031.fits.gz extracted to `spec-56782-VB179N03V2_sp16-031.fits'.\n",
      "patool: Extracting spec-56800-HD115503N082638V01_sp05-178.fits.gz ...\n",
      "patool: ... spec-56800-HD115503N082638V01_sp05-178.fits.gz extracted to `spec-56800-HD115503N082638V01_sp05-178.fits'.\n",
      "patool: Extracting spec-57013-HD110609N070823V01_sp07-195.fits.gz ...\n",
      "patool: ... spec-57013-HD110609N070823V01_sp07-195.fits.gz extracted to `spec-57013-HD110609N070823V01_sp07-195.fits'.\n",
      "patool: Extracting spec-57101-HD110103N000249B01_sp06-135.fits.gz ...\n",
      "patool: ... spec-57101-HD110103N000249B01_sp06-135.fits.gz extracted to `spec-57101-HD110103N000249B01_sp06-135.fits'.\n",
      "patool: Extracting spec-57101-HD110103N000249B01_sp07-181.fits.gz ...\n",
      "patool: ... spec-57101-HD110103N000249B01_sp07-181.fits.gz extracted to `spec-57101-HD110103N000249B01_sp07-181.fits'.\n",
      "patool: Extracting spec-57101-HD110103N000249B01_sp13-095.fits.gz ...\n",
      "patool: ... spec-57101-HD110103N000249B01_sp13-095.fits.gz extracted to `spec-57101-HD110103N000249B01_sp13-095.fits'.\n",
      "patool: Extracting spec-57120-HD114225N022143V01_sp13-154.fits.gz ...\n",
      "patool: ... spec-57120-HD114225N022143V01_sp13-154.fits.gz extracted to `spec-57120-HD114225N022143V01_sp13-154.fits'.\n",
      "patool: Extracting spec-57120-HD114225N022143V01_sp16-157.fits.gz ...\n",
      "patool: ... spec-57120-HD114225N022143V01_sp16-157.fits.gz extracted to `spec-57120-HD114225N022143V01_sp16-157.fits'.\n",
      "patool: Extracting spec-57127-HD112935N034647B01_sp02-076.fits.gz ...\n",
      "patool: ... spec-57127-HD112935N034647B01_sp02-076.fits.gz extracted to `spec-57127-HD112935N034647B01_sp02-076.fits'.\n",
      "patool: Extracting spec-57127-HD112935N034647B01_sp02-078.fits.gz ...\n",
      "patool: ... spec-57127-HD112935N034647B01_sp02-078.fits.gz extracted to `spec-57127-HD112935N034647B01_sp02-078.fits'.\n",
      "patool: Extracting spec-57127-HD112935N034647B01_sp03-085.fits.gz ...\n",
      "patool: ... spec-57127-HD112935N034647B01_sp03-085.fits.gz extracted to `spec-57127-HD112935N034647B01_sp03-085.fits'.\n",
      "patool: Extracting spec-57127-HD112935N034647B01_sp04-145.fits.gz ...\n",
      "patool: ... spec-57127-HD112935N034647B01_sp04-145.fits.gz extracted to `spec-57127-HD112935N034647B01_sp04-145.fits'.\n",
      "patool: Extracting spec-57127-HD112935N034647B01_sp05-136.fits.gz ...\n",
      "patool: ... spec-57127-HD112935N034647B01_sp05-136.fits.gz extracted to `spec-57127-HD112935N034647B01_sp05-136.fits'.\n",
      "patool: Extracting spec-57127-HD112935N034647B01_sp08-042.fits.gz ...\n",
      "patool: ... spec-57127-HD112935N034647B01_sp08-042.fits.gz extracted to `spec-57127-HD112935N034647B01_sp08-042.fits'.\n",
      "patool: Extracting spec-57127-HD112935N034647B01_sp08-232.fits.gz ...\n",
      "patool: ... spec-57127-HD112935N034647B01_sp08-232.fits.gz extracted to `spec-57127-HD112935N034647B01_sp08-232.fits'.\n",
      "patool: Extracting spec-57127-HD112935N034647B01_sp10-031.fits.gz ...\n",
      "patool: ... spec-57127-HD112935N034647B01_sp10-031.fits.gz extracted to `spec-57127-HD112935N034647B01_sp10-031.fits'.\n",
      "patool: Extracting spec-57127-HD112935N034647B01_sp12-170.fits.gz ...\n",
      "patool: ... spec-57127-HD112935N034647B01_sp12-170.fits.gz extracted to `spec-57127-HD112935N034647B01_sp12-170.fits'.\n",
      "patool: Extracting spec-57127-HD112935N034647B01_sp13-034.fits.gz ...\n",
      "patool: ... spec-57127-HD112935N034647B01_sp13-034.fits.gz extracted to `spec-57127-HD112935N034647B01_sp13-034.fits'.\n",
      "patool: Extracting spec-57127-HD112935N034647B01_sp13-243.fits.gz ...\n",
      "patool: ... spec-57127-HD112935N034647B01_sp13-243.fits.gz extracted to `spec-57127-HD112935N034647B01_sp13-243.fits'.\n",
      "patool: Extracting spec-57127-HD112935N034647B01_sp15-246.fits.gz ...\n",
      "patool: ... spec-57127-HD112935N034647B01_sp15-246.fits.gz extracted to `spec-57127-HD112935N034647B01_sp15-246.fits'.\n",
      "patool: Extracting spec-57127-HD112935N034647B01_sp16-091.fits.gz ...\n",
      "patool: ... spec-57127-HD112935N034647B01_sp16-091.fits.gz extracted to `spec-57127-HD112935N034647B01_sp16-091.fits'.\n",
      "patool: Extracting spec-57127-HD112935N034647B01_sp16-204.fits.gz ...\n",
      "patool: ... spec-57127-HD112935N034647B01_sp16-204.fits.gz extracted to `spec-57127-HD112935N034647B01_sp16-204.fits'.\n",
      "patool: Extracting spec-57392-KP113634N060623M01_sp01-037.fits.gz ...\n",
      "patool: ... spec-57392-KP113634N060623M01_sp01-037.fits.gz extracted to `spec-57392-KP113634N060623M01_sp01-037.fits'.\n",
      "patool: Extracting spec-57392-KP113634N060623M01_sp01-112.fits.gz ...\n",
      "patool: ... spec-57392-KP113634N060623M01_sp01-112.fits.gz extracted to `spec-57392-KP113634N060623M01_sp01-112.fits'.\n",
      "patool: Extracting spec-57392-KP113634N060623M01_sp02-093.fits.gz ...\n",
      "patool: ... spec-57392-KP113634N060623M01_sp02-093.fits.gz extracted to `spec-57392-KP113634N060623M01_sp02-093.fits'.\n",
      "patool: Extracting spec-57392-KP113634N060623M01_sp02-161.fits.gz ...\n",
      "patool: ... spec-57392-KP113634N060623M01_sp02-161.fits.gz extracted to `spec-57392-KP113634N060623M01_sp02-161.fits'.\n",
      "patool: Extracting spec-57392-KP113634N060623M01_sp02-211.fits.gz ...\n",
      "patool: ... spec-57392-KP113634N060623M01_sp02-211.fits.gz extracted to `spec-57392-KP113634N060623M01_sp02-211.fits'.\n",
      "patool: Extracting spec-57392-KP113634N060623M01_sp03-052.fits.gz ...\n",
      "patool: ... spec-57392-KP113634N060623M01_sp03-052.fits.gz extracted to `spec-57392-KP113634N060623M01_sp03-052.fits'.\n",
      "patool: Extracting spec-57392-KP113634N060623M01_sp03-109.fits.gz ...\n",
      "patool: ... spec-57392-KP113634N060623M01_sp03-109.fits.gz extracted to `spec-57392-KP113634N060623M01_sp03-109.fits'.\n",
      "patool: Extracting spec-57392-KP113634N060623M01_sp04-009.fits.gz ...\n",
      "patool: ... spec-57392-KP113634N060623M01_sp04-009.fits.gz extracted to `spec-57392-KP113634N060623M01_sp04-009.fits'.\n",
      "patool: Extracting spec-57392-KP113634N060623M01_sp04-194.fits.gz ...\n",
      "patool: ... spec-57392-KP113634N060623M01_sp04-194.fits.gz extracted to `spec-57392-KP113634N060623M01_sp04-194.fits'.\n",
      "patool: Extracting spec-57392-KP113634N060623M01_sp05-106.fits.gz ...\n",
      "patool: ... spec-57392-KP113634N060623M01_sp05-106.fits.gz extracted to `spec-57392-KP113634N060623M01_sp05-106.fits'.\n",
      "patool: Extracting spec-57392-KP113634N060623M01_sp05-226.fits.gz ...\n",
      "patool: ... spec-57392-KP113634N060623M01_sp05-226.fits.gz extracted to `spec-57392-KP113634N060623M01_sp05-226.fits'.\n",
      "patool: Extracting spec-57392-KP113634N060623M01_sp06-130.fits.gz ...\n",
      "patool: ... spec-57392-KP113634N060623M01_sp06-130.fits.gz extracted to `spec-57392-KP113634N060623M01_sp06-130.fits'.\n",
      "patool: Extracting spec-57392-KP113634N060623M01_sp07-171.fits.gz ...\n",
      "patool: ... spec-57392-KP113634N060623M01_sp07-171.fits.gz extracted to `spec-57392-KP113634N060623M01_sp07-171.fits'.\n",
      "patool: Extracting spec-57392-KP113634N060623M01_sp08-104.fits.gz ...\n",
      "patool: ... spec-57392-KP113634N060623M01_sp08-104.fits.gz extracted to `spec-57392-KP113634N060623M01_sp08-104.fits'.\n",
      "patool: Extracting spec-57392-KP113634N060623M01_sp09-067.fits.gz ...\n",
      "patool: ... spec-57392-KP113634N060623M01_sp09-067.fits.gz extracted to `spec-57392-KP113634N060623M01_sp09-067.fits'.\n",
      "patool: Extracting spec-57392-KP113634N060623M01_sp09-119.fits.gz ...\n",
      "patool: ... spec-57392-KP113634N060623M01_sp09-119.fits.gz extracted to `spec-57392-KP113634N060623M01_sp09-119.fits'.\n",
      "patool: Extracting spec-57392-KP113634N060623M01_sp09-138.fits.gz ...\n",
      "patool: ... spec-57392-KP113634N060623M01_sp09-138.fits.gz extracted to `spec-57392-KP113634N060623M01_sp09-138.fits'.\n",
      "patool: Extracting spec-57392-KP113634N060623M01_sp09-142.fits.gz ...\n",
      "patool: ... spec-57392-KP113634N060623M01_sp09-142.fits.gz extracted to `spec-57392-KP113634N060623M01_sp09-142.fits'.\n",
      "patool: Extracting spec-57392-KP113634N060623M01_sp09-167.fits.gz ...\n",
      "patool: ... spec-57392-KP113634N060623M01_sp09-167.fits.gz extracted to `spec-57392-KP113634N060623M01_sp09-167.fits'.\n",
      "patool: Extracting spec-57392-KP113634N060623M01_sp09-245.fits.gz ...\n",
      "patool: ... spec-57392-KP113634N060623M01_sp09-245.fits.gz extracted to `spec-57392-KP113634N060623M01_sp09-245.fits'.\n",
      "patool: Extracting spec-57392-KP113634N060623M01_sp10-161.fits.gz ...\n",
      "patool: ... spec-57392-KP113634N060623M01_sp10-161.fits.gz extracted to `spec-57392-KP113634N060623M01_sp10-161.fits'.\n",
      "patool: Extracting spec-57392-KP113634N060623M01_sp11-226.fits.gz ...\n",
      "patool: ... spec-57392-KP113634N060623M01_sp11-226.fits.gz extracted to `spec-57392-KP113634N060623M01_sp11-226.fits'.\n",
      "patool: Extracting spec-57392-KP113634N060623M01_sp11-229.fits.gz ...\n",
      "patool: ... spec-57392-KP113634N060623M01_sp11-229.fits.gz extracted to `spec-57392-KP113634N060623M01_sp11-229.fits'.\n",
      "patool: Extracting spec-57392-KP113634N060623M01_sp12-108.fits.gz ...\n",
      "patool: ... spec-57392-KP113634N060623M01_sp12-108.fits.gz extracted to `spec-57392-KP113634N060623M01_sp12-108.fits'.\n",
      "patool: Extracting spec-57392-KP113634N060623M01_sp12-149.fits.gz ...\n",
      "patool: ... spec-57392-KP113634N060623M01_sp12-149.fits.gz extracted to `spec-57392-KP113634N060623M01_sp12-149.fits'.\n",
      "patool: Extracting spec-57392-KP113634N060623M01_sp13-103.fits.gz ...\n",
      "patool: ... spec-57392-KP113634N060623M01_sp13-103.fits.gz extracted to `spec-57392-KP113634N060623M01_sp13-103.fits'.\n",
      "patool: Extracting spec-57392-KP113634N060623M01_sp13-222.fits.gz ...\n",
      "patool: ... spec-57392-KP113634N060623M01_sp13-222.fits.gz extracted to `spec-57392-KP113634N060623M01_sp13-222.fits'.\n",
      "patool: Extracting spec-57392-KP113634N060623M01_sp13-238.fits.gz ...\n",
      "patool: ... spec-57392-KP113634N060623M01_sp13-238.fits.gz extracted to `spec-57392-KP113634N060623M01_sp13-238.fits'.\n",
      "patool: Extracting spec-57392-KP113634N060623M01_sp15-205.fits.gz ...\n",
      "patool: ... spec-57392-KP113634N060623M01_sp15-205.fits.gz extracted to `spec-57392-KP113634N060623M01_sp15-205.fits'.\n",
      "patool: Extracting spec-57392-KP113634N060623V01_sp02-067.fits.gz ...\n",
      "patool: ... spec-57392-KP113634N060623V01_sp02-067.fits.gz extracted to `spec-57392-KP113634N060623V01_sp02-067.fits'.\n",
      "patool: Extracting spec-57392-KP113634N060623V01_sp10-165.fits.gz ...\n",
      "patool: ... spec-57392-KP113634N060623V01_sp10-165.fits.gz extracted to `spec-57392-KP113634N060623V01_sp10-165.fits'.\n",
      "patool: Extracting spec-57392-KP113634N060623V01_sp10-184.fits.gz ...\n",
      "patool: ... spec-57392-KP113634N060623V01_sp10-184.fits.gz extracted to `spec-57392-KP113634N060623V01_sp10-184.fits'.\n",
      "patool: Extracting spec-57392-KP113634N060623V01_sp15-029.fits.gz ...\n",
      "patool: ... spec-57392-KP113634N060623V01_sp15-029.fits.gz extracted to `spec-57392-KP113634N060623V01_sp15-029.fits'.\n",
      "patool: Extracting spec-57392-KP113634N060623V01_sp16-214.fits.gz ...\n",
      "patool: ... spec-57392-KP113634N060623V01_sp16-214.fits.gz extracted to `spec-57392-KP113634N060623V01_sp16-214.fits'.\n",
      "patool: Extracting spec-57393-KP112059N045249M01_sp01-101.fits.gz ...\n",
      "patool: ... spec-57393-KP112059N045249M01_sp01-101.fits.gz extracted to `spec-57393-KP112059N045249M01_sp01-101.fits'.\n",
      "patool: Extracting spec-57393-KP112059N045249M01_sp01-209.fits.gz ...\n",
      "patool: ... spec-57393-KP112059N045249M01_sp01-209.fits.gz extracted to `spec-57393-KP112059N045249M01_sp01-209.fits'.\n",
      "patool: Extracting spec-57393-KP112059N045249M01_sp02-047.fits.gz ...\n",
      "patool: ... spec-57393-KP112059N045249M01_sp02-047.fits.gz extracted to `spec-57393-KP112059N045249M01_sp02-047.fits'.\n",
      "patool: Extracting spec-57393-KP112059N045249M01_sp02-059.fits.gz ...\n",
      "patool: ... spec-57393-KP112059N045249M01_sp02-059.fits.gz extracted to `spec-57393-KP112059N045249M01_sp02-059.fits'.\n",
      "patool: Extracting spec-57393-KP112059N045249M01_sp03-057.fits.gz ...\n",
      "patool: ... spec-57393-KP112059N045249M01_sp03-057.fits.gz extracted to `spec-57393-KP112059N045249M01_sp03-057.fits'.\n",
      "patool: Extracting spec-57393-KP112059N045249M01_sp03-217.fits.gz ...\n",
      "patool: ... spec-57393-KP112059N045249M01_sp03-217.fits.gz extracted to `spec-57393-KP112059N045249M01_sp03-217.fits'.\n",
      "patool: Extracting spec-57393-KP112059N045249M01_sp03-250.fits.gz ...\n",
      "patool: ... spec-57393-KP112059N045249M01_sp03-250.fits.gz extracted to `spec-57393-KP112059N045249M01_sp03-250.fits'.\n",
      "patool: Extracting spec-57393-KP112059N045249M01_sp04-205.fits.gz ...\n",
      "patool: ... spec-57393-KP112059N045249M01_sp04-205.fits.gz extracted to `spec-57393-KP112059N045249M01_sp04-205.fits'.\n",
      "patool: Extracting spec-57393-KP112059N045249M01_sp05-131.fits.gz ...\n",
      "patool: ... spec-57393-KP112059N045249M01_sp05-131.fits.gz extracted to `spec-57393-KP112059N045249M01_sp05-131.fits'.\n",
      "patool: Extracting spec-57393-KP112059N045249M01_sp06-003.fits.gz ...\n",
      "patool: ... spec-57393-KP112059N045249M01_sp06-003.fits.gz extracted to `spec-57393-KP112059N045249M01_sp06-003.fits'.\n",
      "patool: Extracting spec-57393-KP112059N045249M01_sp06-042.fits.gz ...\n",
      "patool: ... spec-57393-KP112059N045249M01_sp06-042.fits.gz extracted to `spec-57393-KP112059N045249M01_sp06-042.fits'.\n",
      "patool: Extracting spec-57393-KP112059N045249M01_sp06-133.fits.gz ...\n",
      "patool: ... spec-57393-KP112059N045249M01_sp06-133.fits.gz extracted to `spec-57393-KP112059N045249M01_sp06-133.fits'.\n",
      "patool: Extracting spec-57393-KP112059N045249M01_sp06-194.fits.gz ...\n",
      "patool: ... spec-57393-KP112059N045249M01_sp06-194.fits.gz extracted to `spec-57393-KP112059N045249M01_sp06-194.fits'.\n",
      "patool: Extracting spec-57393-KP112059N045249M01_sp09-027.fits.gz ...\n",
      "patool: ... spec-57393-KP112059N045249M01_sp09-027.fits.gz extracted to `spec-57393-KP112059N045249M01_sp09-027.fits'.\n",
      "patool: Extracting spec-57393-KP112059N045249M01_sp09-048.fits.gz ...\n",
      "patool: ... spec-57393-KP112059N045249M01_sp09-048.fits.gz extracted to `spec-57393-KP112059N045249M01_sp09-048.fits'.\n",
      "patool: Extracting spec-57393-KP112059N045249M01_sp09-074.fits.gz ...\n",
      "patool: ... spec-57393-KP112059N045249M01_sp09-074.fits.gz extracted to `spec-57393-KP112059N045249M01_sp09-074.fits'.\n",
      "patool: Extracting spec-57393-KP112059N045249M01_sp09-124.fits.gz ...\n",
      "patool: ... spec-57393-KP112059N045249M01_sp09-124.fits.gz extracted to `spec-57393-KP112059N045249M01_sp09-124.fits'.\n",
      "patool: Extracting spec-57393-KP112059N045249M01_sp09-169.fits.gz ...\n",
      "patool: ... spec-57393-KP112059N045249M01_sp09-169.fits.gz extracted to `spec-57393-KP112059N045249M01_sp09-169.fits'.\n",
      "patool: Extracting spec-57393-KP112059N045249M01_sp09-223.fits.gz ...\n",
      "patool: ... spec-57393-KP112059N045249M01_sp09-223.fits.gz extracted to `spec-57393-KP112059N045249M01_sp09-223.fits'.\n",
      "patool: Extracting spec-57393-KP112059N045249M01_sp09-231.fits.gz ...\n",
      "patool: ... spec-57393-KP112059N045249M01_sp09-231.fits.gz extracted to `spec-57393-KP112059N045249M01_sp09-231.fits'.\n",
      "patool: Extracting spec-57393-KP112059N045249M01_sp10-025.fits.gz ...\n",
      "patool: ... spec-57393-KP112059N045249M01_sp10-025.fits.gz extracted to `spec-57393-KP112059N045249M01_sp10-025.fits'.\n",
      "patool: Extracting spec-57393-KP112059N045249M01_sp11-035.fits.gz ...\n",
      "patool: ... spec-57393-KP112059N045249M01_sp11-035.fits.gz extracted to `spec-57393-KP112059N045249M01_sp11-035.fits'.\n",
      "patool: Extracting spec-57393-KP112059N045249M01_sp12-068.fits.gz ...\n",
      "patool: ... spec-57393-KP112059N045249M01_sp12-068.fits.gz extracted to `spec-57393-KP112059N045249M01_sp12-068.fits'.\n",
      "patool: Extracting spec-57393-KP112059N045249M01_sp12-198.fits.gz ...\n",
      "patool: ... spec-57393-KP112059N045249M01_sp12-198.fits.gz extracted to `spec-57393-KP112059N045249M01_sp12-198.fits'.\n",
      "patool: Extracting spec-57393-KP112059N045249M01_sp13-046.fits.gz ...\n",
      "patool: ... spec-57393-KP112059N045249M01_sp13-046.fits.gz extracted to `spec-57393-KP112059N045249M01_sp13-046.fits'.\n",
      "patool: Extracting spec-57393-KP112059N045249M01_sp13-060.fits.gz ...\n",
      "patool: ... spec-57393-KP112059N045249M01_sp13-060.fits.gz extracted to `spec-57393-KP112059N045249M01_sp13-060.fits'.\n",
      "patool: Extracting spec-57393-KP112059N045249M01_sp14-018.fits.gz ...\n",
      "patool: ... spec-57393-KP112059N045249M01_sp14-018.fits.gz extracted to `spec-57393-KP112059N045249M01_sp14-018.fits'.\n",
      "patool: Extracting spec-57393-KP112059N045249M01_sp14-061.fits.gz ...\n",
      "patool: ... spec-57393-KP112059N045249M01_sp14-061.fits.gz extracted to `spec-57393-KP112059N045249M01_sp14-061.fits'.\n",
      "patool: Extracting spec-57393-KP112059N045249M01_sp14-102.fits.gz ...\n",
      "patool: ... spec-57393-KP112059N045249M01_sp14-102.fits.gz extracted to `spec-57393-KP112059N045249M01_sp14-102.fits'.\n",
      "patool: Extracting spec-57393-KP112059N045249M01_sp14-141.fits.gz ...\n",
      "patool: ... spec-57393-KP112059N045249M01_sp14-141.fits.gz extracted to `spec-57393-KP112059N045249M01_sp14-141.fits'.\n",
      "patool: Extracting spec-57393-KP112059N045249M01_sp15-097.fits.gz ...\n",
      "patool: ... spec-57393-KP112059N045249M01_sp15-097.fits.gz extracted to `spec-57393-KP112059N045249M01_sp15-097.fits'.\n",
      "patool: Extracting spec-57393-KP112059N045249M01_sp16-175.fits.gz ...\n",
      "patool: ... spec-57393-KP112059N045249M01_sp16-175.fits.gz extracted to `spec-57393-KP112059N045249M01_sp16-175.fits'.\n",
      "patool: Extracting spec-57393-KP112059N045249V01_sp13-219.fits.gz ...\n",
      "patool: ... spec-57393-KP112059N045249V01_sp13-219.fits.gz extracted to `spec-57393-KP112059N045249V01_sp13-219.fits'.\n",
      "patool: Extracting spec-57393-KP112059N045249V01_sp14-123.fits.gz ...\n",
      "patool: ... spec-57393-KP112059N045249V01_sp14-123.fits.gz extracted to `spec-57393-KP112059N045249V01_sp14-123.fits'.\n",
      "patool: Extracting spec-57395-KP112935N034647B01_sp01-038.fits.gz ...\n",
      "patool: ... spec-57395-KP112935N034647B01_sp01-038.fits.gz extracted to `spec-57395-KP112935N034647B01_sp01-038.fits'.\n",
      "patool: Extracting spec-57395-KP112935N034647B01_sp02-027.fits.gz ...\n",
      "patool: ... spec-57395-KP112935N034647B01_sp02-027.fits.gz extracted to `spec-57395-KP112935N034647B01_sp02-027.fits'.\n",
      "patool: Extracting spec-57395-KP112935N034647B01_sp02-076.fits.gz ...\n",
      "patool: ... spec-57395-KP112935N034647B01_sp02-076.fits.gz extracted to `spec-57395-KP112935N034647B01_sp02-076.fits'.\n",
      "patool: Extracting spec-57395-KP112935N034647B01_sp02-195.fits.gz ...\n",
      "patool: ... spec-57395-KP112935N034647B01_sp02-195.fits.gz extracted to `spec-57395-KP112935N034647B01_sp02-195.fits'.\n",
      "patool: Extracting spec-57395-KP112935N034647B01_sp03-085.fits.gz ...\n",
      "patool: ... spec-57395-KP112935N034647B01_sp03-085.fits.gz extracted to `spec-57395-KP112935N034647B01_sp03-085.fits'.\n",
      "patool: Extracting spec-57395-KP112935N034647B01_sp03-124.fits.gz ...\n",
      "patool: ... spec-57395-KP112935N034647B01_sp03-124.fits.gz extracted to `spec-57395-KP112935N034647B01_sp03-124.fits'.\n",
      "patool: Extracting spec-57395-KP112935N034647B01_sp03-197.fits.gz ...\n",
      "patool: ... spec-57395-KP112935N034647B01_sp03-197.fits.gz extracted to `spec-57395-KP112935N034647B01_sp03-197.fits'.\n",
      "patool: Extracting spec-57395-KP112935N034647B01_sp04-115.fits.gz ...\n",
      "patool: ... spec-57395-KP112935N034647B01_sp04-115.fits.gz extracted to `spec-57395-KP112935N034647B01_sp04-115.fits'.\n",
      "patool: Extracting spec-57395-KP112935N034647B01_sp04-145.fits.gz ...\n",
      "patool: ... spec-57395-KP112935N034647B01_sp04-145.fits.gz extracted to `spec-57395-KP112935N034647B01_sp04-145.fits'.\n",
      "patool: Extracting spec-57395-KP112935N034647B01_sp05-013.fits.gz ...\n",
      "patool: ... spec-57395-KP112935N034647B01_sp05-013.fits.gz extracted to `spec-57395-KP112935N034647B01_sp05-013.fits'.\n",
      "patool: Extracting spec-57395-KP112935N034647B01_sp05-084.fits.gz ...\n",
      "patool: ... spec-57395-KP112935N034647B01_sp05-084.fits.gz extracted to `spec-57395-KP112935N034647B01_sp05-084.fits'.\n",
      "patool: Extracting spec-57395-KP112935N034647B01_sp05-136.fits.gz ...\n",
      "patool: ... spec-57395-KP112935N034647B01_sp05-136.fits.gz extracted to `spec-57395-KP112935N034647B01_sp05-136.fits'.\n",
      "patool: Extracting spec-57395-KP112935N034647B01_sp06-071.fits.gz ...\n",
      "patool: ... spec-57395-KP112935N034647B01_sp06-071.fits.gz extracted to `spec-57395-KP112935N034647B01_sp06-071.fits'.\n",
      "patool: Extracting spec-57395-KP112935N034647B01_sp06-165.fits.gz ...\n",
      "patool: ... spec-57395-KP112935N034647B01_sp06-165.fits.gz extracted to `spec-57395-KP112935N034647B01_sp06-165.fits'.\n",
      "patool: Extracting spec-57395-KP112935N034647B01_sp07-011.fits.gz ...\n",
      "patool: ... spec-57395-KP112935N034647B01_sp07-011.fits.gz extracted to `spec-57395-KP112935N034647B01_sp07-011.fits'.\n",
      "patool: Extracting spec-57395-KP112935N034647B01_sp07-084.fits.gz ...\n",
      "patool: ... spec-57395-KP112935N034647B01_sp07-084.fits.gz extracted to `spec-57395-KP112935N034647B01_sp07-084.fits'.\n",
      "patool: Extracting spec-57395-KP112935N034647B01_sp07-111.fits.gz ...\n",
      "patool: ... spec-57395-KP112935N034647B01_sp07-111.fits.gz extracted to `spec-57395-KP112935N034647B01_sp07-111.fits'.\n",
      "patool: Extracting spec-57395-KP112935N034647B01_sp08-033.fits.gz ...\n",
      "patool: ... spec-57395-KP112935N034647B01_sp08-033.fits.gz extracted to `spec-57395-KP112935N034647B01_sp08-033.fits'.\n",
      "patool: Extracting spec-57395-KP112935N034647B01_sp08-042.fits.gz ...\n",
      "patool: ... spec-57395-KP112935N034647B01_sp08-042.fits.gz extracted to `spec-57395-KP112935N034647B01_sp08-042.fits'.\n",
      "patool: Extracting spec-57395-KP112935N034647B01_sp08-072.fits.gz ...\n",
      "patool: ... spec-57395-KP112935N034647B01_sp08-072.fits.gz extracted to `spec-57395-KP112935N034647B01_sp08-072.fits'.\n",
      "patool: Extracting spec-57395-KP112935N034647B01_sp08-222.fits.gz ...\n",
      "patool: ... spec-57395-KP112935N034647B01_sp08-222.fits.gz extracted to `spec-57395-KP112935N034647B01_sp08-222.fits'.\n",
      "patool: Extracting spec-57395-KP112935N034647B01_sp08-232.fits.gz ...\n",
      "patool: ... spec-57395-KP112935N034647B01_sp08-232.fits.gz extracted to `spec-57395-KP112935N034647B01_sp08-232.fits'.\n",
      "patool: Extracting spec-57395-KP112935N034647B01_sp09-005.fits.gz ...\n",
      "patool: ... spec-57395-KP112935N034647B01_sp09-005.fits.gz extracted to `spec-57395-KP112935N034647B01_sp09-005.fits'.\n",
      "patool: Extracting spec-57395-KP112935N034647B01_sp09-090.fits.gz ...\n",
      "patool: ... spec-57395-KP112935N034647B01_sp09-090.fits.gz extracted to `spec-57395-KP112935N034647B01_sp09-090.fits'.\n",
      "patool: Extracting spec-57395-KP112935N034647B01_sp09-180.fits.gz ...\n",
      "patool: ... spec-57395-KP112935N034647B01_sp09-180.fits.gz extracted to `spec-57395-KP112935N034647B01_sp09-180.fits'.\n",
      "patool: Extracting spec-57395-KP112935N034647B01_sp09-212.fits.gz ...\n",
      "patool: ... spec-57395-KP112935N034647B01_sp09-212.fits.gz extracted to `spec-57395-KP112935N034647B01_sp09-212.fits'.\n",
      "patool: Extracting spec-57395-KP112935N034647B01_sp10-029.fits.gz ...\n",
      "patool: ... spec-57395-KP112935N034647B01_sp10-029.fits.gz extracted to `spec-57395-KP112935N034647B01_sp10-029.fits'.\n",
      "patool: Extracting spec-57395-KP112935N034647B01_sp12-170.fits.gz ...\n",
      "patool: ... spec-57395-KP112935N034647B01_sp12-170.fits.gz extracted to `spec-57395-KP112935N034647B01_sp12-170.fits'.\n",
      "patool: Extracting spec-57395-KP112935N034647B01_sp13-034.fits.gz ...\n",
      "patool: ... spec-57395-KP112935N034647B01_sp13-034.fits.gz extracted to `spec-57395-KP112935N034647B01_sp13-034.fits'.\n",
      "patool: Extracting spec-57395-KP112935N034647B01_sp13-103.fits.gz ...\n",
      "patool: ... spec-57395-KP112935N034647B01_sp13-103.fits.gz extracted to `spec-57395-KP112935N034647B01_sp13-103.fits'.\n",
      "patool: Extracting spec-57395-KP112935N034647B01_sp13-142.fits.gz ...\n",
      "patool: ... spec-57395-KP112935N034647B01_sp13-142.fits.gz extracted to `spec-57395-KP112935N034647B01_sp13-142.fits'.\n",
      "patool: Extracting spec-57395-KP112935N034647B01_sp13-192.fits.gz ...\n",
      "patool: ... spec-57395-KP112935N034647B01_sp13-192.fits.gz extracted to `spec-57395-KP112935N034647B01_sp13-192.fits'.\n",
      "patool: Extracting spec-57395-KP112935N034647B01_sp14-197.fits.gz ...\n",
      "patool: ... spec-57395-KP112935N034647B01_sp14-197.fits.gz extracted to `spec-57395-KP112935N034647B01_sp14-197.fits'.\n",
      "patool: Extracting spec-57395-KP112935N034647B01_sp14-223.fits.gz ...\n",
      "patool: ... spec-57395-KP112935N034647B01_sp14-223.fits.gz extracted to `spec-57395-KP112935N034647B01_sp14-223.fits'.\n",
      "patool: Extracting spec-57395-KP112935N034647B01_sp14-225.fits.gz ...\n",
      "patool: ... spec-57395-KP112935N034647B01_sp14-225.fits.gz extracted to `spec-57395-KP112935N034647B01_sp14-225.fits'.\n",
      "patool: Extracting spec-57395-KP112935N034647B01_sp15-246.fits.gz ...\n",
      "patool: ... spec-57395-KP112935N034647B01_sp15-246.fits.gz extracted to `spec-57395-KP112935N034647B01_sp15-246.fits'.\n",
      "patool: Extracting spec-57395-KP112935N034647B01_sp16-247.fits.gz ...\n",
      "patool: ... spec-57395-KP112935N034647B01_sp16-247.fits.gz extracted to `spec-57395-KP112935N034647B01_sp16-247.fits'.\n",
      "patool: Extracting spec-57395-KP112935N034647V01_sp09-090.fits.gz ...\n",
      "patool: ... spec-57395-KP112935N034647V01_sp09-090.fits.gz extracted to `spec-57395-KP112935N034647V01_sp09-090.fits'.\n",
      "patool: Extracting spec-57395-KP112935N034647V01_sp13-055.fits.gz ...\n",
      "patool: ... spec-57395-KP112935N034647V01_sp13-055.fits.gz extracted to `spec-57395-KP112935N034647V01_sp13-055.fits'.\n",
      "patool: Extracting spec-57395-KP112935N034647V01_sp15-214.fits.gz ...\n",
      "patool: ... spec-57395-KP112935N034647V01_sp15-214.fits.gz extracted to `spec-57395-KP112935N034647V01_sp15-214.fits'.\n",
      "patool: Extracting spec-57401-HD112914S042705B01_sp03-085.fits.gz ...\n",
      "patool: ... spec-57401-HD112914S042705B01_sp03-085.fits.gz extracted to `spec-57401-HD112914S042705B01_sp03-085.fits'.\n",
      "patool: Extracting spec-57401-HD112914S042705B01_sp04-100.fits.gz ...\n",
      "patool: ... spec-57401-HD112914S042705B01_sp04-100.fits.gz extracted to `spec-57401-HD112914S042705B01_sp04-100.fits'.\n",
      "patool: Extracting spec-57401-HD112914S042705B01_sp04-133.fits.gz ...\n",
      "patool: ... spec-57401-HD112914S042705B01_sp04-133.fits.gz extracted to `spec-57401-HD112914S042705B01_sp04-133.fits'.\n",
      "patool: Extracting spec-57401-HD112914S042705B01_sp08-067.fits.gz ...\n",
      "patool: ... spec-57401-HD112914S042705B01_sp08-067.fits.gz extracted to `spec-57401-HD112914S042705B01_sp08-067.fits'.\n",
      "patool: Extracting spec-57401-HD112914S042705B01_sp09-107.fits.gz ...\n",
      "patool: ... spec-57401-HD112914S042705B01_sp09-107.fits.gz extracted to `spec-57401-HD112914S042705B01_sp09-107.fits'.\n",
      "patool: Extracting spec-57401-HD112914S042705B01_sp09-233.fits.gz ...\n",
      "patool: ... spec-57401-HD112914S042705B01_sp09-233.fits.gz extracted to `spec-57401-HD112914S042705B01_sp09-233.fits'.\n",
      "patool: Extracting spec-57401-HD112914S042705B01_sp10-107.fits.gz ...\n",
      "patool: ... spec-57401-HD112914S042705B01_sp10-107.fits.gz extracted to `spec-57401-HD112914S042705B01_sp10-107.fits'.\n",
      "patool: Extracting spec-57401-HD112914S042705B01_sp12-176.fits.gz ...\n",
      "patool: ... spec-57401-HD112914S042705B01_sp12-176.fits.gz extracted to `spec-57401-HD112914S042705B01_sp12-176.fits'.\n",
      "patool: Extracting spec-57401-HD112914S042705B01_sp16-023.fits.gz ...\n",
      "patool: ... spec-57401-HD112914S042705B01_sp16-023.fits.gz extracted to `spec-57401-HD112914S042705B01_sp16-023.fits'.\n",
      "patool: Extracting spec-57402-KP115507N031307M01_sp01-236.fits.gz ...\n",
      "patool: ... spec-57402-KP115507N031307M01_sp01-236.fits.gz extracted to `spec-57402-KP115507N031307M01_sp01-236.fits'.\n",
      "patool: Extracting spec-57402-KP115507N031307M01_sp02-008.fits.gz ...\n",
      "patool: ... spec-57402-KP115507N031307M01_sp02-008.fits.gz extracted to `spec-57402-KP115507N031307M01_sp02-008.fits'.\n",
      "patool: Extracting spec-57402-KP115507N031307M01_sp02-147.fits.gz ...\n",
      "patool: ... spec-57402-KP115507N031307M01_sp02-147.fits.gz extracted to `spec-57402-KP115507N031307M01_sp02-147.fits'.\n",
      "patool: Extracting spec-57402-KP115507N031307M01_sp02-204.fits.gz ...\n",
      "patool: ... spec-57402-KP115507N031307M01_sp02-204.fits.gz extracted to `spec-57402-KP115507N031307M01_sp02-204.fits'.\n",
      "patool: Extracting spec-57402-KP115507N031307M01_sp03-016.fits.gz ...\n",
      "patool: ... spec-57402-KP115507N031307M01_sp03-016.fits.gz extracted to `spec-57402-KP115507N031307M01_sp03-016.fits'.\n",
      "patool: Extracting spec-57402-KP115507N031307M01_sp03-075.fits.gz ...\n",
      "patool: ... spec-57402-KP115507N031307M01_sp03-075.fits.gz extracted to `spec-57402-KP115507N031307M01_sp03-075.fits'.\n",
      "patool: Extracting spec-57402-KP115507N031307M01_sp03-091.fits.gz ...\n",
      "patool: ... spec-57402-KP115507N031307M01_sp03-091.fits.gz extracted to `spec-57402-KP115507N031307M01_sp03-091.fits'.\n",
      "patool: Extracting spec-57402-KP115507N031307M01_sp03-123.fits.gz ...\n",
      "patool: ... spec-57402-KP115507N031307M01_sp03-123.fits.gz extracted to `spec-57402-KP115507N031307M01_sp03-123.fits'.\n",
      "patool: Extracting spec-57402-KP115507N031307M01_sp03-139.fits.gz ...\n",
      "patool: ... spec-57402-KP115507N031307M01_sp03-139.fits.gz extracted to `spec-57402-KP115507N031307M01_sp03-139.fits'.\n",
      "patool: Extracting spec-57402-KP115507N031307M01_sp04-232.fits.gz ...\n",
      "patool: ... spec-57402-KP115507N031307M01_sp04-232.fits.gz extracted to `spec-57402-KP115507N031307M01_sp04-232.fits'.\n",
      "patool: Extracting spec-57402-KP115507N031307M01_sp04-239.fits.gz ...\n",
      "patool: ... spec-57402-KP115507N031307M01_sp04-239.fits.gz extracted to `spec-57402-KP115507N031307M01_sp04-239.fits'.\n",
      "patool: Extracting spec-57402-KP115507N031307M01_sp06-112.fits.gz ...\n",
      "patool: ... spec-57402-KP115507N031307M01_sp06-112.fits.gz extracted to `spec-57402-KP115507N031307M01_sp06-112.fits'.\n",
      "patool: Extracting spec-57402-KP115507N031307M01_sp06-127.fits.gz ...\n",
      "patool: ... spec-57402-KP115507N031307M01_sp06-127.fits.gz extracted to `spec-57402-KP115507N031307M01_sp06-127.fits'.\n",
      "patool: Extracting spec-57402-KP115507N031307M01_sp08-117.fits.gz ...\n",
      "patool: ... spec-57402-KP115507N031307M01_sp08-117.fits.gz extracted to `spec-57402-KP115507N031307M01_sp08-117.fits'.\n",
      "patool: Extracting spec-57402-KP115507N031307M01_sp09-099.fits.gz ...\n",
      "patool: ... spec-57402-KP115507N031307M01_sp09-099.fits.gz extracted to `spec-57402-KP115507N031307M01_sp09-099.fits'.\n",
      "patool: Extracting spec-57402-KP115507N031307M01_sp09-118.fits.gz ...\n",
      "patool: ... spec-57402-KP115507N031307M01_sp09-118.fits.gz extracted to `spec-57402-KP115507N031307M01_sp09-118.fits'.\n",
      "patool: Extracting spec-57402-KP115507N031307M01_sp10-141.fits.gz ...\n",
      "patool: ... spec-57402-KP115507N031307M01_sp10-141.fits.gz extracted to `spec-57402-KP115507N031307M01_sp10-141.fits'.\n",
      "patool: Extracting spec-57402-KP115507N031307M01_sp11-154.fits.gz ...\n",
      "patool: ... spec-57402-KP115507N031307M01_sp11-154.fits.gz extracted to `spec-57402-KP115507N031307M01_sp11-154.fits'.\n",
      "patool: Extracting spec-57402-KP115507N031307M01_sp13-212.fits.gz ...\n",
      "patool: ... spec-57402-KP115507N031307M01_sp13-212.fits.gz extracted to `spec-57402-KP115507N031307M01_sp13-212.fits'.\n",
      "patool: Extracting spec-57402-KP115507N031307M01_sp13-244.fits.gz ...\n",
      "patool: ... spec-57402-KP115507N031307M01_sp13-244.fits.gz extracted to `spec-57402-KP115507N031307M01_sp13-244.fits'.\n",
      "patool: Extracting spec-57402-KP115507N031307M01_sp14-064.fits.gz ...\n",
      "patool: ... spec-57402-KP115507N031307M01_sp14-064.fits.gz extracted to `spec-57402-KP115507N031307M01_sp14-064.fits'.\n",
      "patool: Extracting spec-57402-KP115507N031307M01_sp14-099.fits.gz ...\n",
      "patool: ... spec-57402-KP115507N031307M01_sp14-099.fits.gz extracted to `spec-57402-KP115507N031307M01_sp14-099.fits'.\n",
      "patool: Extracting spec-57402-KP115507N031307M01_sp15-029.fits.gz ...\n",
      "patool: ... spec-57402-KP115507N031307M01_sp15-029.fits.gz extracted to `spec-57402-KP115507N031307M01_sp15-029.fits'.\n",
      "patool: Extracting spec-57402-KP115507N031307M01_sp15-063.fits.gz ...\n",
      "patool: ... spec-57402-KP115507N031307M01_sp15-063.fits.gz extracted to `spec-57402-KP115507N031307M01_sp15-063.fits'.\n",
      "patool: Extracting spec-57402-KP115507N031307M01_sp16-204.fits.gz ...\n",
      "patool: ... spec-57402-KP115507N031307M01_sp16-204.fits.gz extracted to `spec-57402-KP115507N031307M01_sp16-204.fits'.\n",
      "patool: Extracting spec-57402-KP115507N031307V01_sp02-247.fits.gz ...\n",
      "patool: ... spec-57402-KP115507N031307V01_sp02-247.fits.gz extracted to `spec-57402-KP115507N031307V01_sp02-247.fits'.\n",
      "patool: Extracting spec-57402-KP115507N031307V01_sp05-051.fits.gz ...\n",
      "patool: ... spec-57402-KP115507N031307V01_sp05-051.fits.gz extracted to `spec-57402-KP115507N031307V01_sp05-051.fits'.\n",
      "patool: Extracting spec-57402-KP115507N031307V01_sp09-141.fits.gz ...\n",
      "patool: ... spec-57402-KP115507N031307V01_sp09-141.fits.gz extracted to `spec-57402-KP115507N031307V01_sp09-141.fits'.\n",
      "patool: Extracting spec-57402-KP115507N031307V01_sp13-108.fits.gz ...\n",
      "patool: ... spec-57402-KP115507N031307V01_sp13-108.fits.gz extracted to `spec-57402-KP115507N031307V01_sp13-108.fits'.\n",
      "patool: Extracting spec-57402-KP115507N031307V01_sp14-092.fits.gz ...\n",
      "patool: ... spec-57402-KP115507N031307V01_sp14-092.fits.gz extracted to `spec-57402-KP115507N031307V01_sp14-092.fits'.\n",
      "patool: Extracting spec-57402-KP115507N031307V01_sp14-120.fits.gz ...\n",
      "patool: ... spec-57402-KP115507N031307V01_sp14-120.fits.gz extracted to `spec-57402-KP115507N031307V01_sp14-120.fits'.\n",
      "patool: Extracting spec-57406-KP114551N063145B01_sp01-023.fits.gz ...\n",
      "patool: ... spec-57406-KP114551N063145B01_sp01-023.fits.gz extracted to `spec-57406-KP114551N063145B01_sp01-023.fits'.\n",
      "patool: Extracting spec-57406-KP114551N063145B01_sp01-138.fits.gz ...\n",
      "patool: ... spec-57406-KP114551N063145B01_sp01-138.fits.gz extracted to `spec-57406-KP114551N063145B01_sp01-138.fits'.\n",
      "patool: Extracting spec-57406-KP114551N063145B01_sp01-191.fits.gz ...\n",
      "patool: ... spec-57406-KP114551N063145B01_sp01-191.fits.gz extracted to `spec-57406-KP114551N063145B01_sp01-191.fits'.\n",
      "patool: Extracting spec-57406-KP114551N063145B01_sp02-086.fits.gz ...\n",
      "patool: ... spec-57406-KP114551N063145B01_sp02-086.fits.gz extracted to `spec-57406-KP114551N063145B01_sp02-086.fits'.\n",
      "patool: Extracting spec-57406-KP114551N063145B01_sp02-134.fits.gz ...\n",
      "patool: ... spec-57406-KP114551N063145B01_sp02-134.fits.gz extracted to `spec-57406-KP114551N063145B01_sp02-134.fits'.\n",
      "patool: Extracting spec-57406-KP114551N063145B01_sp02-138.fits.gz ...\n",
      "patool: ... spec-57406-KP114551N063145B01_sp02-138.fits.gz extracted to `spec-57406-KP114551N063145B01_sp02-138.fits'.\n",
      "patool: Extracting spec-57406-KP114551N063145B01_sp02-214.fits.gz ...\n",
      "patool: ... spec-57406-KP114551N063145B01_sp02-214.fits.gz extracted to `spec-57406-KP114551N063145B01_sp02-214.fits'.\n",
      "patool: Extracting spec-57406-KP114551N063145B01_sp02-246.fits.gz ...\n",
      "patool: ... spec-57406-KP114551N063145B01_sp02-246.fits.gz extracted to `spec-57406-KP114551N063145B01_sp02-246.fits'.\n",
      "patool: Extracting spec-57406-KP114551N063145B01_sp03-069.fits.gz ...\n",
      "patool: ... spec-57406-KP114551N063145B01_sp03-069.fits.gz extracted to `spec-57406-KP114551N063145B01_sp03-069.fits'.\n",
      "patool: Extracting spec-57406-KP114551N063145B01_sp03-131.fits.gz ...\n",
      "patool: ... spec-57406-KP114551N063145B01_sp03-131.fits.gz extracted to `spec-57406-KP114551N063145B01_sp03-131.fits'.\n",
      "patool: Extracting spec-57406-KP114551N063145B01_sp03-190.fits.gz ...\n",
      "patool: ... spec-57406-KP114551N063145B01_sp03-190.fits.gz extracted to `spec-57406-KP114551N063145B01_sp03-190.fits'.\n",
      "patool: Extracting spec-57406-KP114551N063145B01_sp04-057.fits.gz ...\n",
      "patool: ... spec-57406-KP114551N063145B01_sp04-057.fits.gz extracted to `spec-57406-KP114551N063145B01_sp04-057.fits'.\n",
      "patool: Extracting spec-57406-KP114551N063145B01_sp04-087.fits.gz ...\n",
      "patool: ... spec-57406-KP114551N063145B01_sp04-087.fits.gz extracted to `spec-57406-KP114551N063145B01_sp04-087.fits'.\n",
      "patool: Extracting spec-57406-KP114551N063145B01_sp04-218.fits.gz ...\n",
      "patool: ... spec-57406-KP114551N063145B01_sp04-218.fits.gz extracted to `spec-57406-KP114551N063145B01_sp04-218.fits'.\n",
      "patool: Extracting spec-57406-KP114551N063145B01_sp04-238.fits.gz ...\n",
      "patool: ... spec-57406-KP114551N063145B01_sp04-238.fits.gz extracted to `spec-57406-KP114551N063145B01_sp04-238.fits'.\n",
      "patool: Extracting spec-57406-KP114551N063145B01_sp04-243.fits.gz ...\n",
      "patool: ... spec-57406-KP114551N063145B01_sp04-243.fits.gz extracted to `spec-57406-KP114551N063145B01_sp04-243.fits'.\n",
      "patool: Extracting spec-57406-KP114551N063145B01_sp06-078.fits.gz ...\n",
      "patool: ... spec-57406-KP114551N063145B01_sp06-078.fits.gz extracted to `spec-57406-KP114551N063145B01_sp06-078.fits'.\n",
      "patool: Extracting spec-57406-KP114551N063145B01_sp06-085.fits.gz ...\n",
      "patool: ... spec-57406-KP114551N063145B01_sp06-085.fits.gz extracted to `spec-57406-KP114551N063145B01_sp06-085.fits'.\n",
      "patool: Extracting spec-57406-KP114551N063145B01_sp06-151.fits.gz ...\n",
      "patool: ... spec-57406-KP114551N063145B01_sp06-151.fits.gz extracted to `spec-57406-KP114551N063145B01_sp06-151.fits'.\n",
      "patool: Extracting spec-57406-KP114551N063145B01_sp06-198.fits.gz ...\n",
      "patool: ... spec-57406-KP114551N063145B01_sp06-198.fits.gz extracted to `spec-57406-KP114551N063145B01_sp06-198.fits'.\n",
      "patool: Extracting spec-57406-KP114551N063145B01_sp06-206.fits.gz ...\n",
      "patool: ... spec-57406-KP114551N063145B01_sp06-206.fits.gz extracted to `spec-57406-KP114551N063145B01_sp06-206.fits'.\n",
      "patool: Extracting spec-57406-KP114551N063145B01_sp06-242.fits.gz ...\n",
      "patool: ... spec-57406-KP114551N063145B01_sp06-242.fits.gz extracted to `spec-57406-KP114551N063145B01_sp06-242.fits'.\n",
      "patool: Extracting spec-57406-KP114551N063145B01_sp07-125.fits.gz ...\n",
      "patool: ... spec-57406-KP114551N063145B01_sp07-125.fits.gz extracted to `spec-57406-KP114551N063145B01_sp07-125.fits'.\n",
      "patool: Extracting spec-57406-KP114551N063145B01_sp07-157.fits.gz ...\n",
      "patool: ... spec-57406-KP114551N063145B01_sp07-157.fits.gz extracted to `spec-57406-KP114551N063145B01_sp07-157.fits'.\n",
      "patool: Extracting spec-57406-KP114551N063145B01_sp07-170.fits.gz ...\n",
      "patool: ... spec-57406-KP114551N063145B01_sp07-170.fits.gz extracted to `spec-57406-KP114551N063145B01_sp07-170.fits'.\n",
      "patool: Extracting spec-57406-KP114551N063145B01_sp08-053.fits.gz ...\n",
      "patool: ... spec-57406-KP114551N063145B01_sp08-053.fits.gz extracted to `spec-57406-KP114551N063145B01_sp08-053.fits'.\n",
      "patool: Extracting spec-57406-KP114551N063145B01_sp08-069.fits.gz ...\n",
      "patool: ... spec-57406-KP114551N063145B01_sp08-069.fits.gz extracted to `spec-57406-KP114551N063145B01_sp08-069.fits'.\n",
      "patool: Extracting spec-57406-KP114551N063145B01_sp08-109.fits.gz ...\n",
      "patool: ... spec-57406-KP114551N063145B01_sp08-109.fits.gz extracted to `spec-57406-KP114551N063145B01_sp08-109.fits'.\n",
      "patool: Extracting spec-57406-KP114551N063145B01_sp08-161.fits.gz ...\n",
      "patool: ... spec-57406-KP114551N063145B01_sp08-161.fits.gz extracted to `spec-57406-KP114551N063145B01_sp08-161.fits'.\n",
      "patool: Extracting spec-57406-KP114551N063145B01_sp09-054.fits.gz ...\n",
      "patool: ... spec-57406-KP114551N063145B01_sp09-054.fits.gz extracted to `spec-57406-KP114551N063145B01_sp09-054.fits'.\n",
      "patool: Extracting spec-57406-KP114551N063145B01_sp09-057.fits.gz ...\n",
      "patool: ... spec-57406-KP114551N063145B01_sp09-057.fits.gz extracted to `spec-57406-KP114551N063145B01_sp09-057.fits'.\n",
      "patool: Extracting spec-57406-KP114551N063145B01_sp09-151.fits.gz ...\n",
      "patool: ... spec-57406-KP114551N063145B01_sp09-151.fits.gz extracted to `spec-57406-KP114551N063145B01_sp09-151.fits'.\n",
      "patool: Extracting spec-57406-KP114551N063145B01_sp09-167.fits.gz ...\n",
      "patool: ... spec-57406-KP114551N063145B01_sp09-167.fits.gz extracted to `spec-57406-KP114551N063145B01_sp09-167.fits'.\n",
      "patool: Extracting spec-57406-KP114551N063145B01_sp09-170.fits.gz ...\n",
      "patool: ... spec-57406-KP114551N063145B01_sp09-170.fits.gz extracted to `spec-57406-KP114551N063145B01_sp09-170.fits'.\n",
      "patool: Extracting spec-57406-KP114551N063145B01_sp09-172.fits.gz ...\n",
      "patool: ... spec-57406-KP114551N063145B01_sp09-172.fits.gz extracted to `spec-57406-KP114551N063145B01_sp09-172.fits'.\n",
      "patool: Extracting spec-57406-KP114551N063145B01_sp09-210.fits.gz ...\n",
      "patool: ... spec-57406-KP114551N063145B01_sp09-210.fits.gz extracted to `spec-57406-KP114551N063145B01_sp09-210.fits'.\n",
      "patool: Extracting spec-57406-KP114551N063145B01_sp10-130.fits.gz ...\n",
      "patool: ... spec-57406-KP114551N063145B01_sp10-130.fits.gz extracted to `spec-57406-KP114551N063145B01_sp10-130.fits'.\n",
      "patool: Extracting spec-57406-KP114551N063145B01_sp10-227.fits.gz ...\n",
      "patool: ... spec-57406-KP114551N063145B01_sp10-227.fits.gz extracted to `spec-57406-KP114551N063145B01_sp10-227.fits'.\n",
      "patool: Extracting spec-57406-KP114551N063145B01_sp12-165.fits.gz ...\n",
      "patool: ... spec-57406-KP114551N063145B01_sp12-165.fits.gz extracted to `spec-57406-KP114551N063145B01_sp12-165.fits'.\n",
      "patool: Extracting spec-57406-KP114551N063145B01_sp13-004.fits.gz ...\n",
      "patool: ... spec-57406-KP114551N063145B01_sp13-004.fits.gz extracted to `spec-57406-KP114551N063145B01_sp13-004.fits'.\n",
      "patool: Extracting spec-57406-KP114551N063145B01_sp13-033.fits.gz ...\n",
      "patool: ... spec-57406-KP114551N063145B01_sp13-033.fits.gz extracted to `spec-57406-KP114551N063145B01_sp13-033.fits'.\n",
      "patool: Extracting spec-57406-KP114551N063145B01_sp13-060.fits.gz ...\n",
      "patool: ... spec-57406-KP114551N063145B01_sp13-060.fits.gz extracted to `spec-57406-KP114551N063145B01_sp13-060.fits'.\n",
      "patool: Extracting spec-57406-KP114551N063145B01_sp13-200.fits.gz ...\n",
      "patool: ... spec-57406-KP114551N063145B01_sp13-200.fits.gz extracted to `spec-57406-KP114551N063145B01_sp13-200.fits'.\n",
      "patool: Extracting spec-57406-KP114551N063145B01_sp14-008.fits.gz ...\n",
      "patool: ... spec-57406-KP114551N063145B01_sp14-008.fits.gz extracted to `spec-57406-KP114551N063145B01_sp14-008.fits'.\n",
      "patool: Extracting spec-57406-KP114551N063145B01_sp14-015.fits.gz ...\n",
      "patool: ... spec-57406-KP114551N063145B01_sp14-015.fits.gz extracted to `spec-57406-KP114551N063145B01_sp14-015.fits'.\n",
      "patool: Extracting spec-57406-KP114551N063145B01_sp14-018.fits.gz ...\n",
      "patool: ... spec-57406-KP114551N063145B01_sp14-018.fits.gz extracted to `spec-57406-KP114551N063145B01_sp14-018.fits'.\n",
      "patool: Extracting spec-57406-KP114551N063145B01_sp14-081.fits.gz ...\n",
      "patool: ... spec-57406-KP114551N063145B01_sp14-081.fits.gz extracted to `spec-57406-KP114551N063145B01_sp14-081.fits'.\n",
      "patool: Extracting spec-57406-KP114551N063145B01_sp14-098.fits.gz ...\n",
      "patool: ... spec-57406-KP114551N063145B01_sp14-098.fits.gz extracted to `spec-57406-KP114551N063145B01_sp14-098.fits'.\n",
      "patool: Extracting spec-57406-KP114551N063145B01_sp14-100.fits.gz ...\n",
      "patool: ... spec-57406-KP114551N063145B01_sp14-100.fits.gz extracted to `spec-57406-KP114551N063145B01_sp14-100.fits'.\n",
      "patool: Extracting spec-57406-KP114551N063145B01_sp14-147.fits.gz ...\n",
      "patool: ... spec-57406-KP114551N063145B01_sp14-147.fits.gz extracted to `spec-57406-KP114551N063145B01_sp14-147.fits'.\n",
      "patool: Extracting spec-57406-KP114551N063145B01_sp14-242.fits.gz ...\n",
      "patool: ... spec-57406-KP114551N063145B01_sp14-242.fits.gz extracted to `spec-57406-KP114551N063145B01_sp14-242.fits'.\n",
      "patool: Extracting spec-57406-KP114551N063145B01_sp14-246.fits.gz ...\n",
      "patool: ... spec-57406-KP114551N063145B01_sp14-246.fits.gz extracted to `spec-57406-KP114551N063145B01_sp14-246.fits'.\n",
      "patool: Extracting spec-57406-KP114551N063145B01_sp15-068.fits.gz ...\n",
      "patool: ... spec-57406-KP114551N063145B01_sp15-068.fits.gz extracted to `spec-57406-KP114551N063145B01_sp15-068.fits'.\n",
      "patool: Extracting spec-57406-KP114551N063145B01_sp15-087.fits.gz ...\n",
      "patool: ... spec-57406-KP114551N063145B01_sp15-087.fits.gz extracted to `spec-57406-KP114551N063145B01_sp15-087.fits'.\n",
      "patool: Extracting spec-57406-KP114551N063145B01_sp15-105.fits.gz ...\n",
      "patool: ... spec-57406-KP114551N063145B01_sp15-105.fits.gz extracted to `spec-57406-KP114551N063145B01_sp15-105.fits'.\n",
      "patool: Extracting spec-57406-KP114551N063145B01_sp15-177.fits.gz ...\n",
      "patool: ... spec-57406-KP114551N063145B01_sp15-177.fits.gz extracted to `spec-57406-KP114551N063145B01_sp15-177.fits'.\n",
      "patool: Extracting spec-57406-KP114551N063145B01_sp15-233.fits.gz ...\n",
      "patool: ... spec-57406-KP114551N063145B01_sp15-233.fits.gz extracted to `spec-57406-KP114551N063145B01_sp15-233.fits'.\n",
      "patool: Extracting spec-57406-KP114551N063145B01_sp16-016.fits.gz ...\n",
      "patool: ... spec-57406-KP114551N063145B01_sp16-016.fits.gz extracted to `spec-57406-KP114551N063145B01_sp16-016.fits'.\n",
      "patool: Extracting spec-57406-KP114551N063145B01_sp16-095.fits.gz ...\n",
      "patool: ... spec-57406-KP114551N063145B01_sp16-095.fits.gz extracted to `spec-57406-KP114551N063145B01_sp16-095.fits'.\n",
      "patool: Extracting spec-57406-KP114551N063145B01_sp16-116.fits.gz ...\n",
      "patool: ... spec-57406-KP114551N063145B01_sp16-116.fits.gz extracted to `spec-57406-KP114551N063145B01_sp16-116.fits'.\n",
      "patool: Extracting spec-57406-KP114551N063145V01_sp04-082.fits.gz ...\n",
      "patool: ... spec-57406-KP114551N063145V01_sp04-082.fits.gz extracted to `spec-57406-KP114551N063145V01_sp04-082.fits'.\n",
      "patool: Extracting spec-57406-KP114551N063145V01_sp13-085.fits.gz ...\n",
      "patool: ... spec-57406-KP114551N063145V01_sp13-085.fits.gz extracted to `spec-57406-KP114551N063145V01_sp13-085.fits'.\n",
      "patool: Extracting spec-57406-KP114551N063145V01_sp14-211.fits.gz ...\n",
      "patool: ... spec-57406-KP114551N063145V01_sp14-211.fits.gz extracted to `spec-57406-KP114551N063145V01_sp14-211.fits'.\n",
      "patool: Extracting spec-57407-KP114225N022143V01_sp06-094.fits.gz ...\n",
      "patool: ... spec-57407-KP114225N022143V01_sp06-094.fits.gz extracted to `spec-57407-KP114225N022143V01_sp06-094.fits'.\n",
      "patool: Extracting spec-57407-KP114225N022143V01_sp12-067.fits.gz ...\n",
      "patool: ... spec-57407-KP114225N022143V01_sp12-067.fits.gz extracted to `spec-57407-KP114225N022143V01_sp12-067.fits'.\n",
      "patool: Extracting spec-57407-KP114225N022143V01_sp15-186.fits.gz ...\n",
      "patool: ... spec-57407-KP114225N022143V01_sp15-186.fits.gz extracted to `spec-57407-KP114225N022143V01_sp15-186.fits'.\n",
      "patool: Extracting spec-57407-KP114225N022143V01_sp16-157.fits.gz ...\n",
      "patool: ... spec-57407-KP114225N022143V01_sp16-157.fits.gz extracted to `spec-57407-KP114225N022143V01_sp16-157.fits'.\n",
      "patool: Extracting spec-57418-KP112734N005722B01_sp01-208.fits.gz ...\n",
      "patool: ... spec-57418-KP112734N005722B01_sp01-208.fits.gz extracted to `spec-57418-KP112734N005722B01_sp01-208.fits'.\n",
      "patool: Extracting spec-57418-KP112734N005722B01_sp02-062.fits.gz ...\n",
      "patool: ... spec-57418-KP112734N005722B01_sp02-062.fits.gz extracted to `spec-57418-KP112734N005722B01_sp02-062.fits'.\n",
      "patool: Extracting spec-57418-KP112734N005722B01_sp02-085.fits.gz ...\n",
      "patool: ... spec-57418-KP112734N005722B01_sp02-085.fits.gz extracted to `spec-57418-KP112734N005722B01_sp02-085.fits'.\n",
      "patool: Extracting spec-57418-KP112734N005722B01_sp02-228.fits.gz ...\n",
      "patool: ... spec-57418-KP112734N005722B01_sp02-228.fits.gz extracted to `spec-57418-KP112734N005722B01_sp02-228.fits'.\n",
      "patool: Extracting spec-57418-KP112734N005722B01_sp03-051.fits.gz ...\n",
      "patool: ... spec-57418-KP112734N005722B01_sp03-051.fits.gz extracted to `spec-57418-KP112734N005722B01_sp03-051.fits'.\n",
      "patool: Extracting spec-57418-KP112734N005722B01_sp04-083.fits.gz ...\n",
      "patool: ... spec-57418-KP112734N005722B01_sp04-083.fits.gz extracted to `spec-57418-KP112734N005722B01_sp04-083.fits'.\n",
      "patool: Extracting spec-57418-KP112734N005722B01_sp05-201.fits.gz ...\n",
      "patool: ... spec-57418-KP112734N005722B01_sp05-201.fits.gz extracted to `spec-57418-KP112734N005722B01_sp05-201.fits'.\n",
      "patool: Extracting spec-57418-KP112734N005722B01_sp05-233.fits.gz ...\n",
      "patool: ... spec-57418-KP112734N005722B01_sp05-233.fits.gz extracted to `spec-57418-KP112734N005722B01_sp05-233.fits'.\n",
      "patool: Extracting spec-57418-KP112734N005722B01_sp06-031.fits.gz ...\n",
      "patool: ... spec-57418-KP112734N005722B01_sp06-031.fits.gz extracted to `spec-57418-KP112734N005722B01_sp06-031.fits'.\n",
      "patool: Extracting spec-57418-KP112734N005722B01_sp06-052.fits.gz ...\n",
      "patool: ... spec-57418-KP112734N005722B01_sp06-052.fits.gz extracted to `spec-57418-KP112734N005722B01_sp06-052.fits'.\n",
      "patool: Extracting spec-57418-KP112734N005722B01_sp06-198.fits.gz ...\n",
      "patool: ... spec-57418-KP112734N005722B01_sp06-198.fits.gz extracted to `spec-57418-KP112734N005722B01_sp06-198.fits'.\n",
      "patool: Extracting spec-57418-KP112734N005722B01_sp08-052.fits.gz ...\n",
      "patool: ... spec-57418-KP112734N005722B01_sp08-052.fits.gz extracted to `spec-57418-KP112734N005722B01_sp08-052.fits'.\n",
      "patool: Extracting spec-57418-KP112734N005722B01_sp09-018.fits.gz ...\n",
      "patool: ... spec-57418-KP112734N005722B01_sp09-018.fits.gz extracted to `spec-57418-KP112734N005722B01_sp09-018.fits'.\n",
      "patool: Extracting spec-57418-KP112734N005722B01_sp09-085.fits.gz ...\n",
      "patool: ... spec-57418-KP112734N005722B01_sp09-085.fits.gz extracted to `spec-57418-KP112734N005722B01_sp09-085.fits'.\n",
      "patool: Extracting spec-57418-KP112734N005722B01_sp09-149.fits.gz ...\n",
      "patool: ... spec-57418-KP112734N005722B01_sp09-149.fits.gz extracted to `spec-57418-KP112734N005722B01_sp09-149.fits'.\n",
      "patool: Extracting spec-57418-KP112734N005722B01_sp10-079.fits.gz ...\n",
      "patool: ... spec-57418-KP112734N005722B01_sp10-079.fits.gz extracted to `spec-57418-KP112734N005722B01_sp10-079.fits'.\n",
      "patool: Extracting spec-57418-KP112734N005722B01_sp10-198.fits.gz ...\n",
      "patool: ... spec-57418-KP112734N005722B01_sp10-198.fits.gz extracted to `spec-57418-KP112734N005722B01_sp10-198.fits'.\n",
      "patool: Extracting spec-57418-KP112734N005722B01_sp11-191.fits.gz ...\n",
      "patool: ... spec-57418-KP112734N005722B01_sp11-191.fits.gz extracted to `spec-57418-KP112734N005722B01_sp11-191.fits'.\n",
      "patool: Extracting spec-57418-KP112734N005722B01_sp12-108.fits.gz ...\n",
      "patool: ... spec-57418-KP112734N005722B01_sp12-108.fits.gz extracted to `spec-57418-KP112734N005722B01_sp12-108.fits'.\n",
      "patool: Extracting spec-57418-KP112734N005722B01_sp12-174.fits.gz ...\n",
      "patool: ... spec-57418-KP112734N005722B01_sp12-174.fits.gz extracted to `spec-57418-KP112734N005722B01_sp12-174.fits'.\n",
      "patool: Extracting spec-57418-KP112734N005722B01_sp12-222.fits.gz ...\n",
      "patool: ... spec-57418-KP112734N005722B01_sp12-222.fits.gz extracted to `spec-57418-KP112734N005722B01_sp12-222.fits'.\n",
      "patool: Extracting spec-57418-KP112734N005722B01_sp13-005.fits.gz ...\n",
      "patool: ... spec-57418-KP112734N005722B01_sp13-005.fits.gz extracted to `spec-57418-KP112734N005722B01_sp13-005.fits'.\n",
      "patool: Extracting spec-57418-KP112734N005722B01_sp13-034.fits.gz ...\n",
      "patool: ... spec-57418-KP112734N005722B01_sp13-034.fits.gz extracted to `spec-57418-KP112734N005722B01_sp13-034.fits'.\n",
      "patool: Extracting spec-57418-KP112734N005722B01_sp13-071.fits.gz ...\n",
      "patool: ... spec-57418-KP112734N005722B01_sp13-071.fits.gz extracted to `spec-57418-KP112734N005722B01_sp13-071.fits'.\n",
      "patool: Extracting spec-57418-KP112734N005722B01_sp13-118.fits.gz ...\n",
      "patool: ... spec-57418-KP112734N005722B01_sp13-118.fits.gz extracted to `spec-57418-KP112734N005722B01_sp13-118.fits'.\n",
      "patool: Extracting spec-57418-KP112734N005722B01_sp14-171.fits.gz ...\n",
      "patool: ... spec-57418-KP112734N005722B01_sp14-171.fits.gz extracted to `spec-57418-KP112734N005722B01_sp14-171.fits'.\n",
      "patool: Extracting spec-57418-KP112734N005722B01_sp15-035.fits.gz ...\n",
      "patool: ... spec-57418-KP112734N005722B01_sp15-035.fits.gz extracted to `spec-57418-KP112734N005722B01_sp15-035.fits'.\n",
      "patool: Extracting spec-57418-KP112734N005722B01_sp15-067.fits.gz ...\n",
      "patool: ... spec-57418-KP112734N005722B01_sp15-067.fits.gz extracted to `spec-57418-KP112734N005722B01_sp15-067.fits'.\n",
      "patool: Extracting spec-57418-KP112734N005722B01_sp15-095.fits.gz ...\n",
      "patool: ... spec-57418-KP112734N005722B01_sp15-095.fits.gz extracted to `spec-57418-KP112734N005722B01_sp15-095.fits'.\n",
      "patool: Extracting spec-57418-KP112734N005722B01_sp16-119.fits.gz ...\n",
      "patool: ... spec-57418-KP112734N005722B01_sp16-119.fits.gz extracted to `spec-57418-KP112734N005722B01_sp16-119.fits'.\n",
      "patool: Extracting spec-57418-KP112734N005722B01_sp16-180.fits.gz ...\n",
      "patool: ... spec-57418-KP112734N005722B01_sp16-180.fits.gz extracted to `spec-57418-KP112734N005722B01_sp16-180.fits'.\n",
      "patool: Extracting spec-57418-KP112734N005722B01_sp16-226.fits.gz ...\n",
      "patool: ... spec-57418-KP112734N005722B01_sp16-226.fits.gz extracted to `spec-57418-KP112734N005722B01_sp16-226.fits'.\n",
      "patool: Extracting spec-57419-KP111915N004324B01_sp02-003.fits.gz ...\n",
      "patool: ... spec-57419-KP111915N004324B01_sp02-003.fits.gz extracted to `spec-57419-KP111915N004324B01_sp02-003.fits'.\n",
      "patool: Extracting spec-57419-KP111915N004324B01_sp03-214.fits.gz ...\n",
      "patool: ... spec-57419-KP111915N004324B01_sp03-214.fits.gz extracted to `spec-57419-KP111915N004324B01_sp03-214.fits'.\n",
      "patool: Extracting spec-57419-KP111915N004324B01_sp05-090.fits.gz ...\n",
      "patool: ... spec-57419-KP111915N004324B01_sp05-090.fits.gz extracted to `spec-57419-KP111915N004324B01_sp05-090.fits'.\n",
      "patool: Extracting spec-57419-KP111915N004324B01_sp05-218.fits.gz ...\n",
      "patool: ... spec-57419-KP111915N004324B01_sp05-218.fits.gz extracted to `spec-57419-KP111915N004324B01_sp05-218.fits'.\n",
      "patool: Extracting spec-57419-KP111915N004324B01_sp05-250.fits.gz ...\n",
      "patool: ... spec-57419-KP111915N004324B01_sp05-250.fits.gz extracted to `spec-57419-KP111915N004324B01_sp05-250.fits'.\n",
      "patool: Extracting spec-57419-KP111915N004324B01_sp06-004.fits.gz ...\n",
      "patool: ... spec-57419-KP111915N004324B01_sp06-004.fits.gz extracted to `spec-57419-KP111915N004324B01_sp06-004.fits'.\n",
      "patool: Extracting spec-57419-KP111915N004324B01_sp06-013.fits.gz ...\n",
      "patool: ... spec-57419-KP111915N004324B01_sp06-013.fits.gz extracted to `spec-57419-KP111915N004324B01_sp06-013.fits'.\n",
      "patool: Extracting spec-57419-KP111915N004324B01_sp07-100.fits.gz ...\n",
      "patool: ... spec-57419-KP111915N004324B01_sp07-100.fits.gz extracted to `spec-57419-KP111915N004324B01_sp07-100.fits'.\n",
      "patool: Extracting spec-57419-KP111915N004324B01_sp09-151.fits.gz ...\n",
      "patool: ... spec-57419-KP111915N004324B01_sp09-151.fits.gz extracted to `spec-57419-KP111915N004324B01_sp09-151.fits'.\n",
      "patool: Extracting spec-57419-KP111915N004324B01_sp10-004.fits.gz ...\n",
      "patool: ... spec-57419-KP111915N004324B01_sp10-004.fits.gz extracted to `spec-57419-KP111915N004324B01_sp10-004.fits'.\n",
      "patool: Extracting spec-57419-KP111915N004324B01_sp10-011.fits.gz ...\n",
      "patool: ... spec-57419-KP111915N004324B01_sp10-011.fits.gz extracted to `spec-57419-KP111915N004324B01_sp10-011.fits'.\n",
      "patool: Extracting spec-57419-KP111915N004324B01_sp10-043.fits.gz ...\n",
      "patool: ... spec-57419-KP111915N004324B01_sp10-043.fits.gz extracted to `spec-57419-KP111915N004324B01_sp10-043.fits'.\n",
      "patool: Extracting spec-57419-KP111915N004324B01_sp10-044.fits.gz ...\n",
      "patool: ... spec-57419-KP111915N004324B01_sp10-044.fits.gz extracted to `spec-57419-KP111915N004324B01_sp10-044.fits'.\n",
      "patool: Extracting spec-57419-KP111915N004324B01_sp10-183.fits.gz ...\n",
      "patool: ... spec-57419-KP111915N004324B01_sp10-183.fits.gz extracted to `spec-57419-KP111915N004324B01_sp10-183.fits'.\n",
      "patool: Extracting spec-57419-KP111915N004324B01_sp10-187.fits.gz ...\n",
      "patool: ... spec-57419-KP111915N004324B01_sp10-187.fits.gz extracted to `spec-57419-KP111915N004324B01_sp10-187.fits'.\n",
      "patool: Extracting spec-57419-KP111915N004324B01_sp11-115.fits.gz ...\n",
      "patool: ... spec-57419-KP111915N004324B01_sp11-115.fits.gz extracted to `spec-57419-KP111915N004324B01_sp11-115.fits'.\n",
      "patool: Extracting spec-57419-KP111915N004324B01_sp12-047.fits.gz ...\n",
      "patool: ... spec-57419-KP111915N004324B01_sp12-047.fits.gz extracted to `spec-57419-KP111915N004324B01_sp12-047.fits'.\n",
      "patool: Extracting spec-57419-KP111915N004324B01_sp12-077.fits.gz ...\n",
      "patool: ... spec-57419-KP111915N004324B01_sp12-077.fits.gz extracted to `spec-57419-KP111915N004324B01_sp12-077.fits'.\n",
      "patool: Extracting spec-57419-KP111915N004324B01_sp12-097.fits.gz ...\n",
      "patool: ... spec-57419-KP111915N004324B01_sp12-097.fits.gz extracted to `spec-57419-KP111915N004324B01_sp12-097.fits'.\n",
      "patool: Extracting spec-57419-KP111915N004324B01_sp12-249.fits.gz ...\n",
      "patool: ... spec-57419-KP111915N004324B01_sp12-249.fits.gz extracted to `spec-57419-KP111915N004324B01_sp12-249.fits'.\n",
      "patool: Extracting spec-57419-KP111915N004324B01_sp13-059.fits.gz ...\n",
      "patool: ... spec-57419-KP111915N004324B01_sp13-059.fits.gz extracted to `spec-57419-KP111915N004324B01_sp13-059.fits'.\n",
      "patool: Extracting spec-57419-KP111915N004324B01_sp14-013.fits.gz ...\n",
      "patool: ... spec-57419-KP111915N004324B01_sp14-013.fits.gz extracted to `spec-57419-KP111915N004324B01_sp14-013.fits'.\n",
      "patool: Extracting spec-57419-KP111915N004324B01_sp14-088.fits.gz ...\n",
      "patool: ... spec-57419-KP111915N004324B01_sp14-088.fits.gz extracted to `spec-57419-KP111915N004324B01_sp14-088.fits'.\n",
      "patool: Extracting spec-57419-KP111915N004324B01_sp14-214.fits.gz ...\n",
      "patool: ... spec-57419-KP111915N004324B01_sp14-214.fits.gz extracted to `spec-57419-KP111915N004324B01_sp14-214.fits'.\n",
      "patool: Extracting spec-57419-KP111915N004324B01_sp15-051.fits.gz ...\n",
      "patool: ... spec-57419-KP111915N004324B01_sp15-051.fits.gz extracted to `spec-57419-KP111915N004324B01_sp15-051.fits'.\n",
      "patool: Extracting spec-57419-KP111915N004324B01_sp15-117.fits.gz ...\n",
      "patool: ... spec-57419-KP111915N004324B01_sp15-117.fits.gz extracted to `spec-57419-KP111915N004324B01_sp15-117.fits'.\n",
      "patool: Extracting spec-57419-KP111915N004324B01_sp15-136.fits.gz ...\n",
      "patool: ... spec-57419-KP111915N004324B01_sp15-136.fits.gz extracted to `spec-57419-KP111915N004324B01_sp15-136.fits'.\n",
      "patool: Extracting spec-57419-KP111915N004324B01_sp15-165.fits.gz ...\n",
      "patool: ... spec-57419-KP111915N004324B01_sp15-165.fits.gz extracted to `spec-57419-KP111915N004324B01_sp15-165.fits'.\n",
      "patool: Extracting spec-57419-KP111915N004324B01_sp15-245.fits.gz ...\n",
      "patool: ... spec-57419-KP111915N004324B01_sp15-245.fits.gz extracted to `spec-57419-KP111915N004324B01_sp15-245.fits'.\n",
      "patool: Extracting spec-57419-KP111915N004324B01_sp15-248.fits.gz ...\n",
      "patool: ... spec-57419-KP111915N004324B01_sp15-248.fits.gz extracted to `spec-57419-KP111915N004324B01_sp15-248.fits'.\n",
      "patool: Extracting spec-57419-KP111915N004324B01_sp16-023.fits.gz ...\n",
      "patool: ... spec-57419-KP111915N004324B01_sp16-023.fits.gz extracted to `spec-57419-KP111915N004324B01_sp16-023.fits'.\n",
      "patool: Extracting spec-57419-KP111915N004324B01_sp16-135.fits.gz ...\n",
      "patool: ... spec-57419-KP111915N004324B01_sp16-135.fits.gz extracted to `spec-57419-KP111915N004324B01_sp16-135.fits'.\n",
      "patool: Extracting spec-57419-KP111915N004324B01_sp16-242.fits.gz ...\n",
      "patool: ... spec-57419-KP111915N004324B01_sp16-242.fits.gz extracted to `spec-57419-KP111915N004324B01_sp16-242.fits'.\n",
      "patool: Extracting spec-57422-KP111345S000410V01_sp05-107.fits.gz ...\n",
      "patool: ... spec-57422-KP111345S000410V01_sp05-107.fits.gz extracted to `spec-57422-KP111345S000410V01_sp05-107.fits'.\n",
      "patool: Extracting spec-57422-KP111345S000410V01_sp09-135.fits.gz ...\n",
      "patool: ... spec-57422-KP111345S000410V01_sp09-135.fits.gz extracted to `spec-57422-KP111345S000410V01_sp09-135.fits'.\n",
      "patool: Extracting spec-57438-KP111915N004324V01_sp04-083.fits.gz ...\n",
      "patool: ... spec-57438-KP111915N004324V01_sp04-083.fits.gz extracted to `spec-57438-KP111915N004324V01_sp04-083.fits'.\n",
      "patool: Extracting spec-57438-KP111915N004324V01_sp15-137.fits.gz ...\n",
      "patool: ... spec-57438-KP111915N004324V01_sp15-137.fits.gz extracted to `spec-57438-KP111915N004324V01_sp15-137.fits'.\n",
      "patool: Extracting spec-57438-KP111915N004324V01_sp16-153.fits.gz ...\n",
      "patool: ... spec-57438-KP111915N004324V01_sp16-153.fits.gz extracted to `spec-57438-KP111915N004324V01_sp16-153.fits'.\n",
      "patool: Extracting spec-57439-KP113018S030012V01_sp05-024.fits.gz ...\n",
      "patool: ... spec-57439-KP113018S030012V01_sp05-024.fits.gz extracted to `spec-57439-KP113018S030012V01_sp05-024.fits'.\n",
      "patool: Extracting spec-57439-KP113018S030012V01_sp06-082.fits.gz ...\n",
      "patool: ... spec-57439-KP113018S030012V01_sp06-082.fits.gz extracted to `spec-57439-KP113018S030012V01_sp06-082.fits'.\n",
      "patool: Extracting spec-57439-KP113018S030012V01_sp15-065.fits.gz ...\n",
      "patool: ... spec-57439-KP113018S030012V01_sp15-065.fits.gz extracted to `spec-57439-KP113018S030012V01_sp15-065.fits'.\n",
      "patool: Extracting spec-57445-HD111915N004324V01_sp04-083.fits.gz ...\n",
      "patool: ... spec-57445-HD111915N004324V01_sp04-083.fits.gz extracted to `spec-57445-HD111915N004324V01_sp04-083.fits'.\n",
      "patool: Extracting spec-57445-HD111915N004324V01_sp05-144.fits.gz ...\n",
      "patool: ... spec-57445-HD111915N004324V01_sp05-144.fits.gz extracted to `spec-57445-HD111915N004324V01_sp05-144.fits'.\n",
      "patool: Extracting spec-57445-HD111915N004324V01_sp15-137.fits.gz ...\n",
      "patool: ... spec-57445-HD111915N004324V01_sp15-137.fits.gz extracted to `spec-57445-HD111915N004324V01_sp15-137.fits'.\n",
      "patool: Extracting spec-57454-KP112734N005722V01_sp05-205.fits.gz ...\n",
      "patool: ... spec-57454-KP112734N005722V01_sp05-205.fits.gz extracted to `spec-57454-KP112734N005722V01_sp05-205.fits'.\n",
      "patool: Extracting spec-57454-KP112734N005722V01_sp14-003.fits.gz ...\n",
      "patool: ... spec-57454-KP112734N005722V01_sp14-003.fits.gz extracted to `spec-57454-KP112734N005722V01_sp14-003.fits'.\n",
      "patool: Extracting spec-57474-KP115451S012705V01_sp05-117.fits.gz ...\n",
      "patool: ... spec-57474-KP115451S012705V01_sp05-117.fits.gz extracted to `spec-57474-KP115451S012705V01_sp05-117.fits'.\n",
      "patool: Extracting spec-57474-KP115451S012705V01_sp05-229.fits.gz ...\n",
      "patool: ... spec-57474-KP115451S012705V01_sp05-229.fits.gz extracted to `spec-57474-KP115451S012705V01_sp05-229.fits'.\n",
      "patool: Extracting spec-57521-HD115813N032855B01_sp04-031.fits.gz ...\n",
      "patool: ... spec-57521-HD115813N032855B01_sp04-031.fits.gz extracted to `spec-57521-HD115813N032855B01_sp04-031.fits'.\n",
      "patool: Extracting spec-57521-HD115813N032855B01_sp04-032.fits.gz ...\n",
      "patool: ... spec-57521-HD115813N032855B01_sp04-032.fits.gz extracted to `spec-57521-HD115813N032855B01_sp04-032.fits'.\n",
      "patool: Extracting spec-57521-HD115813N032855B01_sp04-043.fits.gz ...\n",
      "patool: ... spec-57521-HD115813N032855B01_sp04-043.fits.gz extracted to `spec-57521-HD115813N032855B01_sp04-043.fits'.\n",
      "patool: Extracting spec-57521-HD115813N032855B01_sp04-179.fits.gz ...\n",
      "patool: ... spec-57521-HD115813N032855B01_sp04-179.fits.gz extracted to `spec-57521-HD115813N032855B01_sp04-179.fits'.\n",
      "patool: Extracting spec-57521-HD115813N032855B01_sp04-248.fits.gz ...\n",
      "patool: ... spec-57521-HD115813N032855B01_sp04-248.fits.gz extracted to `spec-57521-HD115813N032855B01_sp04-248.fits'.\n",
      "patool: Extracting spec-57521-HD115813N032855B01_sp05-169.fits.gz ...\n",
      "patool: ... spec-57521-HD115813N032855B01_sp05-169.fits.gz extracted to `spec-57521-HD115813N032855B01_sp05-169.fits'.\n",
      "patool: Extracting spec-57521-HD115813N032855B01_sp06-031.fits.gz ...\n",
      "patool: ... spec-57521-HD115813N032855B01_sp06-031.fits.gz extracted to `spec-57521-HD115813N032855B01_sp06-031.fits'.\n",
      "patool: Extracting spec-57521-HD115813N032855B01_sp06-045.fits.gz ...\n",
      "patool: ... spec-57521-HD115813N032855B01_sp06-045.fits.gz extracted to `spec-57521-HD115813N032855B01_sp06-045.fits'.\n",
      "patool: Extracting spec-57521-HD115813N032855B01_sp08-076.fits.gz ...\n",
      "patool: ... spec-57521-HD115813N032855B01_sp08-076.fits.gz extracted to `spec-57521-HD115813N032855B01_sp08-076.fits'.\n",
      "patool: Extracting spec-57521-HD115813N032855B01_sp08-102.fits.gz ...\n",
      "patool: ... spec-57521-HD115813N032855B01_sp08-102.fits.gz extracted to `spec-57521-HD115813N032855B01_sp08-102.fits'.\n",
      "patool: Extracting spec-57521-HD115813N032855B01_sp08-207.fits.gz ...\n",
      "patool: ... spec-57521-HD115813N032855B01_sp08-207.fits.gz extracted to `spec-57521-HD115813N032855B01_sp08-207.fits'.\n",
      "patool: Extracting spec-57521-HD115813N032855B01_sp08-216.fits.gz ...\n",
      "patool: ... spec-57521-HD115813N032855B01_sp08-216.fits.gz extracted to `spec-57521-HD115813N032855B01_sp08-216.fits'.\n",
      "patool: Extracting spec-57521-HD115813N032855B01_sp08-233.fits.gz ...\n",
      "patool: ... spec-57521-HD115813N032855B01_sp08-233.fits.gz extracted to `spec-57521-HD115813N032855B01_sp08-233.fits'.\n",
      "patool: Extracting spec-57521-HD115813N032855B01_sp08-242.fits.gz ...\n",
      "patool: ... spec-57521-HD115813N032855B01_sp08-242.fits.gz extracted to `spec-57521-HD115813N032855B01_sp08-242.fits'.\n",
      "patool: Extracting spec-57521-HD115813N032855B01_sp09-008.fits.gz ...\n",
      "patool: ... spec-57521-HD115813N032855B01_sp09-008.fits.gz extracted to `spec-57521-HD115813N032855B01_sp09-008.fits'.\n",
      "patool: Extracting spec-57521-HD115813N032855B01_sp09-010.fits.gz ...\n",
      "patool: ... spec-57521-HD115813N032855B01_sp09-010.fits.gz extracted to `spec-57521-HD115813N032855B01_sp09-010.fits'.\n",
      "patool: Extracting spec-57521-HD115813N032855B01_sp09-014.fits.gz ...\n",
      "patool: ... spec-57521-HD115813N032855B01_sp09-014.fits.gz extracted to `spec-57521-HD115813N032855B01_sp09-014.fits'.\n",
      "patool: Extracting spec-57521-HD115813N032855B01_sp09-193.fits.gz ...\n",
      "patool: ... spec-57521-HD115813N032855B01_sp09-193.fits.gz extracted to `spec-57521-HD115813N032855B01_sp09-193.fits'.\n",
      "patool: Extracting spec-57521-HD115813N032855B01_sp10-129.fits.gz ...\n",
      "patool: ... spec-57521-HD115813N032855B01_sp10-129.fits.gz extracted to `spec-57521-HD115813N032855B01_sp10-129.fits'.\n",
      "patool: Extracting spec-57521-HD115813N032855B01_sp10-157.fits.gz ...\n",
      "patool: ... spec-57521-HD115813N032855B01_sp10-157.fits.gz extracted to `spec-57521-HD115813N032855B01_sp10-157.fits'.\n",
      "patool: Extracting spec-57521-HD115813N032855B01_sp13-104.fits.gz ...\n",
      "patool: ... spec-57521-HD115813N032855B01_sp13-104.fits.gz extracted to `spec-57521-HD115813N032855B01_sp13-104.fits'.\n",
      "patool: Extracting spec-57521-HD115813N032855B01_sp14-222.fits.gz ...\n",
      "patool: ... spec-57521-HD115813N032855B01_sp14-222.fits.gz extracted to `spec-57521-HD115813N032855B01_sp14-222.fits'.\n",
      "patool: Extracting spec-57521-HD115813N032855B01_sp15-015.fits.gz ...\n",
      "patool: ... spec-57521-HD115813N032855B01_sp15-015.fits.gz extracted to `spec-57521-HD115813N032855B01_sp15-015.fits'.\n",
      "patool: Extracting spec-57521-HD115813N032855B01_sp15-180.fits.gz ...\n",
      "patool: ... spec-57521-HD115813N032855B01_sp15-180.fits.gz extracted to `spec-57521-HD115813N032855B01_sp15-180.fits'.\n"
     ]
    }
   ],
   "source": [
    "for i in range(len(gz_list)):\n",
    "    lamost_data_crawler(gz_list[i])"
   ]
  },
  {
   "cell_type": "code",
   "execution_count": 50,
   "metadata": {
    "collapsed": true
   },
   "outputs": [],
   "source": [
    "ktwo_list = glob.glob('ktwo*')"
   ]
  },
  {
   "cell_type": "code",
   "execution_count": 51,
   "metadata": {
    "collapsed": false
   },
   "outputs": [
    {
     "data": {
      "text/plain": [
       "386"
      ]
     },
     "execution_count": 51,
     "metadata": {},
     "output_type": "execute_result"
    }
   ],
   "source": [
    "len(ktwo_list)"
   ]
  },
  {
   "cell_type": "code",
   "execution_count": 52,
   "metadata": {
    "collapsed": true
   },
   "outputs": [],
   "source": [
    "df4 = pd.read_csv('lamost_dr4.csv')"
   ]
  },
  {
   "cell_type": "code",
   "execution_count": 54,
   "metadata": {
    "collapsed": false
   },
   "outputs": [
    {
     "data": {
      "text/plain": [
       "533"
      ]
     },
     "execution_count": 54,
     "metadata": {},
     "output_type": "execute_result"
    }
   ],
   "source": [
    "len(df4['FITS'])"
   ]
  },
  {
   "cell_type": "code",
   "execution_count": 62,
   "metadata": {
    "collapsed": false
   },
   "outputs": [
    {
     "data": {
      "text/plain": [
       "'sp01-012'"
      ]
     },
     "execution_count": 62,
     "metadata": {},
     "output_type": "execute_result"
    }
   ],
   "source": [
    "df4['FITS'][0][-13:-5]"
   ]
  },
  {
   "cell_type": "code",
   "execution_count": 55,
   "metadata": {
    "collapsed": true
   },
   "outputs": [],
   "source": [
    "epic_list = list(df4['EPIC'])"
   ]
  },
  {
   "cell_type": "code",
   "execution_count": 56,
   "metadata": {
    "collapsed": true
   },
   "outputs": [],
   "source": [
    "png_list = glob.glob('*png')"
   ]
  },
  {
   "cell_type": "code",
   "execution_count": 66,
   "metadata": {
    "collapsed": false
   },
   "outputs": [
    {
     "data": {
      "text/plain": [
       "533"
      ]
     },
     "execution_count": 66,
     "metadata": {},
     "output_type": "execute_result"
    }
   ],
   "source": [
    "len(glob.glob('*png'))"
   ]
  },
  {
   "cell_type": "code",
   "execution_count": 67,
   "metadata": {
    "collapsed": true
   },
   "outputs": [],
   "source": [
    "def mv_png(fits):\n",
    "    png_r_list = []\n",
    "    epic_r_list = []\n",
    "    for i in range(len(png_list)):\n",
    "        if fits[-13:-5] in png_list[i]:\n",
    "            png_r_list.append(png_list[i])\n",
    "            epic_r_list.append(df4['EPIC'][i])\n",
    "            \n",
    "    os.chdir('ktwo'+str(int(epic_r_list[0]))+'_C1/')\n",
    "    for a in range(len(png_r_list)):\n",
    "        if not os.path.exists(png_r_list[a]): \n",
    "            os.chdir('D:\\kepler_ptf_research\\k2_c1\\python_LAMOST_data_k2c1\\DR4')\n",
    "            \n",
    "        else:\n",
    "            os.chdir('D:\\kepler_ptf_research\\k2_c1\\python_LAMOST_data_k2c1\\DR4')\n",
    "            \n",
    "        if os.path.exists(png_r_list[a]):\n",
    "            os.rename(png_r_list[a], 'ktwo'+str(int(epic_r_list[0]))+'_C1/'+png_r_list[a])\n",
    "        #else:\n",
    "            #os.chdir('..')\n",
    "        "
   ]
  },
  {
   "cell_type": "code",
   "execution_count": 68,
   "metadata": {
    "collapsed": false
   },
   "outputs": [],
   "source": [
    "for i in range(len(df4['FITS'])):\n",
    "    mv_png(df4['FITS'][i])"
   ]
  },
  {
   "cell_type": "code",
   "execution_count": null,
   "metadata": {
    "collapsed": true
   },
   "outputs": [],
   "source": []
  }
 ],
 "metadata": {
  "anaconda-cloud": {},
  "kernelspec": {
   "display_name": "Python 2",
   "language": "python",
   "name": "python2"
  },
  "language_info": {
   "codemirror_mode": {
    "name": "ipython",
    "version": 2
   },
   "file_extension": ".py",
   "mimetype": "text/x-python",
   "name": "python",
   "nbconvert_exporter": "python",
   "pygments_lexer": "ipython2",
   "version": "2.7.12"
  }
 },
 "nbformat": 4,
 "nbformat_minor": 1
}
