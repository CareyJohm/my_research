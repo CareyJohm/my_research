{
 "cells": [
  {
   "cell_type": "code",
   "execution_count": 1,
   "metadata": {
    "collapsed": true
   },
   "outputs": [],
   "source": [
    "import pandas as pd\n",
    "import pyfits as py\n",
    "from matplotlib import pyplot as plt\n",
    "import os\n",
    "import math as m\n",
    "import numpy as np\n",
    "import glob\n",
    "from scipy.optimize import curve_fit"
   ]
  },
  {
   "cell_type": "code",
   "execution_count": 2,
   "metadata": {
    "collapsed": true
   },
   "outputs": [],
   "source": [
    "os.chdir(\"D:\\kepler_ptf_research\\k2_c4\")"
   ]
  },
  {
   "cell_type": "code",
   "execution_count": 51,
   "metadata": {
    "collapsed": true
   },
   "outputs": [],
   "source": [
    "df = pd.read_csv('K2_C4_samePTFday_MD_epic_rotation-v.csv')"
   ]
  },
  {
   "cell_type": "code",
   "execution_count": 52,
   "metadata": {
    "collapsed": true
   },
   "outputs": [],
   "source": [
    "ra = list(df['RA'])\n",
    "dec = list(df['Dec'])\n",
    "epic = list(df['EPIC'])\n",
    "hsv = list(df['HSV'])\n",
    "flux_r = list(df['fH656/fH663'])\n",
    "period = list(df['Period'])\n",
    "rot_v = list(df['rotational_velocity'])"
   ]
  },
  {
   "cell_type": "code",
   "execution_count": 19,
   "metadata": {
    "collapsed": false
   },
   "outputs": [
    {
     "data": {
      "text/plain": [
       "1401"
      ]
     },
     "execution_count": 19,
     "metadata": {},
     "output_type": "execute_result"
    }
   ],
   "source": [
    "len(hsv)"
   ]
  },
  {
   "cell_type": "code",
   "execution_count": 20,
   "metadata": {
    "collapsed": true
   },
   "outputs": [],
   "source": [
    "catalog = pd.read_csv('dr4_m_stellar.csv', sep = '|')"
   ]
  },
  {
   "cell_type": "code",
   "execution_count": 21,
   "metadata": {
    "collapsed": true
   },
   "outputs": [],
   "source": [
    "ra_l = list(catalog['ra'])\n",
    "dec_l = list(catalog['dec'])\n",
    "ewha = list(catalog['ewha'])\n",
    "ewha_err = list(catalog['ewerr'])"
   ]
  },
  {
   "cell_type": "code",
   "execution_count": 22,
   "metadata": {
    "collapsed": true
   },
   "outputs": [],
   "source": [
    "ra_l_in_range = []\n",
    "dec_l_in_range = []\n",
    "ewha_in_range = []\n",
    "ewha_err_in_range = []\n",
    "for i in range(len(ra_l)):\n",
    "    if ra_l[i] > 49. and ra_l[i] < 68. and dec_l[i] > 10.0 and dec_l[i] < 28.:\n",
    "        ra_l_in_range.append(ra_l[i])\n",
    "        dec_l_in_range.append(dec_l[i])\n",
    "        ewha_in_range.append(ewha[i])\n",
    "        ewha_err_in_range.append(ewha_err[i])"
   ]
  },
  {
   "cell_type": "code",
   "execution_count": 23,
   "metadata": {
    "collapsed": false
   },
   "outputs": [
    {
     "data": {
      "text/plain": [
       "12890"
      ]
     },
     "execution_count": 23,
     "metadata": {},
     "output_type": "execute_result"
    }
   ],
   "source": [
    "len(ra_l_in_range)"
   ]
  },
  {
   "cell_type": "code",
   "execution_count": 53,
   "metadata": {
    "collapsed": false
   },
   "outputs": [],
   "source": [
    "epic_in_range = []\n",
    "ra_in_range = []\n",
    "dec_in_range = []\n",
    "ewha_1 = []\n",
    "ewerr_1 = []\n",
    "hsv_1 = []\n",
    "flux_r1 = []\n",
    "rot_v1 = []\n",
    "for a in range(len(ra)):\n",
    "    for i in range(len(ra_l_in_range)):\n",
    "        if m.sqrt(((ra[a]-ra_l_in_range[i]))**2.+((dec[a]-dec_l_in_range[i]))**2.) < 2./3600:\n",
    "            ra_in_range.append(ra[a])\n",
    "            dec_in_range.append(dec[a])\n",
    "            epic_in_range.append(epic[a])\n",
    "            ewha_1.append(ewha_in_range[i])\n",
    "            ewerr_1.append(ewha_err_in_range[i])\n",
    "            hsv_1.append(hsv[a])\n",
    "            flux_r1.append(flux_r[a])\n",
    "            rot_v1.append(rot_v[a])"
   ]
  },
  {
   "cell_type": "code",
   "execution_count": 43,
   "metadata": {
    "collapsed": false
   },
   "outputs": [
    {
     "data": {
      "text/plain": [
       "604"
      ]
     },
     "execution_count": 43,
     "metadata": {},
     "output_type": "execute_result"
    }
   ],
   "source": [
    "len(epic_in_range)"
   ]
  },
  {
   "cell_type": "code",
   "execution_count": 54,
   "metadata": {
    "collapsed": false
   },
   "outputs": [],
   "source": [
    "epic2 = []\n",
    "ra2 = []\n",
    "dec2 = []\n",
    "ewha2 = []\n",
    "ewerr2 = []\n",
    "hsv2 = []\n",
    "flux_r2 = []\n",
    "rot_v2 = []\n",
    "for i,v in enumerate(ewha_1):\n",
    "    if ewha_1[i] > 0.:\n",
    "        epic2.append(epic_in_range[i])\n",
    "        ra2.append(ra_in_range[i])\n",
    "        dec2.append(dec_in_range[i])\n",
    "        ewha2.append(ewha_1[i])\n",
    "        ewerr2.append(ewerr_1[i])\n",
    "        hsv2.append(hsv_1[i])\n",
    "        flux_r2.append(flux_r1[i])\n",
    "        rot_v2.append(rot_v1[i])"
   ]
  },
  {
   "cell_type": "code",
   "execution_count": 55,
   "metadata": {
    "collapsed": false
   },
   "outputs": [
    {
     "data": {
      "text/plain": [
       "508"
      ]
     },
     "execution_count": 55,
     "metadata": {},
     "output_type": "execute_result"
    }
   ],
   "source": [
    "len(epic2)"
   ]
  },
  {
   "cell_type": "code",
   "execution_count": 59,
   "metadata": {
    "collapsed": true
   },
   "outputs": [],
   "source": [
    "plt.errorbar(flux_r2 , ewha2, yerr=ewerr2, fmt= 'o', markersize = 3)\n",
    "plt.show()"
   ]
  },
  {
   "cell_type": "code",
   "execution_count": 58,
   "metadata": {
    "collapsed": true
   },
   "outputs": [],
   "source": [
    "plt.errorbar(rot_v2 , ewha2, yerr=ewerr2, fmt= 'o', markersize = 3)\n",
    "plt.show()"
   ]
  },
  {
   "cell_type": "code",
   "execution_count": 61,
   "metadata": {
    "collapsed": false
   },
   "outputs": [
    {
     "data": {
      "text/plain": [
       "u'D:\\\\kepler_ptf_research\\\\k2_c4'"
      ]
     },
     "execution_count": 61,
     "metadata": {},
     "output_type": "execute_result"
    }
   ],
   "source": [
    "pwd"
   ]
  },
  {
   "cell_type": "code",
   "execution_count": 60,
   "metadata": {
    "collapsed": true
   },
   "outputs": [],
   "source": [
    "column_names = ['EPIC', 'RA', 'Dec', 'HSV', 'flux_ratio_H656/H663','rotational_velocity', 'ewha', 'ewha_err']"
   ]
  },
  {
   "cell_type": "code",
   "execution_count": 65,
   "metadata": {
    "collapsed": true
   },
   "outputs": [],
   "source": [
    "column_names = ['EPIC', 'RA', 'Dec', 'HSV', 'flux_ratio_H656/H663','rotational_velocity', 'ewha', 'ewha_err']\n",
    "df5 = pd.DataFrame([], columns = column_names)\n",
    "df5.to_csv('k2c4_508_M_dwarfs-ptf-k2c4-lamost.csv', index = False)"
   ]
  },
  {
   "cell_type": "code",
   "execution_count": 66,
   "metadata": {
    "collapsed": false
   },
   "outputs": [],
   "source": [
    "column_names = ['EPIC', 'RA', 'Dec', 'HSV', 'flux_ratio_H656/H663','rotational_velocity', 'ewha', 'ewha_err']\n",
    "for i in range(len(epic2)):\n",
    "\n",
    "    df = pd.DataFrame([[epic2[i], ra2[i], dec2[i], hsv2[i], flux_r2[i],rot_v2[i], ewha2[i], ewerr2[i]]], columns = column_names)\n",
    "    df5 = df5.append(df)\n",
    "    df5.to_csv('k2c4_508_M_dwarfs-ptf-k2c4-lamost.csv', index = False)"
   ]
  },
  {
   "cell_type": "code",
   "execution_count": 123,
   "metadata": {
    "collapsed": false
   },
   "outputs": [
    {
     "data": {
      "text/plain": [
       "(12.504892704208238, -12.473547403091072)"
      ]
     },
     "execution_count": 123,
     "metadata": {},
     "output_type": "execute_result"
    }
   ],
   "source": [
    "from pymodelfit import LinearModel,QuadraticModel, PolynomialModel,FourierModel, LognormalModel\n",
    "linmod = LinearModel()\n",
    "linmod.fitData(flux_r2,ewha2)"
   ]
  },
  {
   "cell_type": "code",
   "execution_count": 124,
   "metadata": {
    "collapsed": true
   },
   "outputs": [],
   "source": [
    "linmod.plot()\n",
    "for i,k in enumerate(linmod.pardict):\n",
    "    plt.text(1.2,16-i,'%s=%f'%(k,linmod.pardict[k]),fontsize=16)\n",
    "plt.show()"
   ]
  },
  {
   "cell_type": "code",
   "execution_count": 68,
   "metadata": {
    "collapsed": false
   },
   "outputs": [
    {
     "ename": "IndexError",
     "evalue": "list index out of range",
     "output_type": "error",
     "traceback": [
      "\u001b[1;31m---------------------------------------------------------------------------\u001b[0m",
      "\u001b[1;31mIndexError\u001b[0m                                Traceback (most recent call last)",
      "\u001b[1;32m<ipython-input-68-390498010137>\u001b[0m in \u001b[0;36m<module>\u001b[1;34m()\u001b[0m\n\u001b[0;32m      5\u001b[0m \u001b[0mrot_v3\u001b[0m \u001b[1;33m=\u001b[0m \u001b[1;33m[\u001b[0m\u001b[1;33m]\u001b[0m\u001b[1;33m\u001b[0m\u001b[0m\n\u001b[0;32m      6\u001b[0m \u001b[1;32mfor\u001b[0m \u001b[0mi\u001b[0m\u001b[1;33m,\u001b[0m\u001b[0mv\u001b[0m \u001b[1;32min\u001b[0m \u001b[0menumerate\u001b[0m\u001b[1;33m(\u001b[0m\u001b[0mewha_1\u001b[0m\u001b[1;33m)\u001b[0m\u001b[1;33m:\u001b[0m\u001b[1;33m\u001b[0m\u001b[0m\n\u001b[1;32m----> 7\u001b[1;33m     \u001b[1;32mif\u001b[0m \u001b[0mewha2\u001b[0m\u001b[1;33m[\u001b[0m\u001b[0mi\u001b[0m\u001b[1;33m]\u001b[0m \u001b[1;33m>\u001b[0m \u001b[1;36m1.\u001b[0m\u001b[1;33m:\u001b[0m\u001b[1;33m\u001b[0m\u001b[0m\n\u001b[0m\u001b[0;32m      8\u001b[0m         \u001b[0mewha3\u001b[0m\u001b[1;33m.\u001b[0m\u001b[0mappend\u001b[0m\u001b[1;33m(\u001b[0m\u001b[0mewha2\u001b[0m\u001b[1;33m[\u001b[0m\u001b[0mi\u001b[0m\u001b[1;33m]\u001b[0m\u001b[1;33m)\u001b[0m\u001b[1;33m\u001b[0m\u001b[0m\n\u001b[0;32m      9\u001b[0m         \u001b[0mewerr3\u001b[0m\u001b[1;33m.\u001b[0m\u001b[0mappend\u001b[0m\u001b[1;33m(\u001b[0m\u001b[0mewerr2\u001b[0m\u001b[1;33m[\u001b[0m\u001b[0mi\u001b[0m\u001b[1;33m]\u001b[0m\u001b[1;33m)\u001b[0m\u001b[1;33m\u001b[0m\u001b[0m\n",
      "\u001b[1;31mIndexError\u001b[0m: list index out of range"
     ]
    }
   ],
   "source": [
    "ewha3 = []\n",
    "ewerr3 = []\n",
    "hsv3 = []\n",
    "flux_r3 = []\n",
    "rot_v3 = []\n",
    "for i,v in enumerate(ewha_1):\n",
    "    if ewha2[i] > 1.:\n",
    "        ewha3.append(ewha2[i])\n",
    "        ewerr3.append(ewerr2[i])\n",
    "        hsv3.append(hsv2[i])\n",
    "        flux_r3.append(flux_r2[i])\n",
    "        rot_v3.append(rot_v2[i])"
   ]
  },
  {
   "cell_type": "code",
   "execution_count": 69,
   "metadata": {
    "collapsed": false
   },
   "outputs": [
    {
     "data": {
      "text/plain": [
       "257"
      ]
     },
     "execution_count": 69,
     "metadata": {},
     "output_type": "execute_result"
    }
   ],
   "source": [
    "len(ewha3)"
   ]
  },
  {
   "cell_type": "code",
   "execution_count": 70,
   "metadata": {
    "collapsed": true
   },
   "outputs": [],
   "source": [
    "plt.errorbar(flux_r3 , ewha3, yerr=ewerr3, fmt= 'o', markersize = 3)\n",
    "plt.show()"
   ]
  },
  {
   "cell_type": "code",
   "execution_count": 125,
   "metadata": {
    "collapsed": false
   },
   "outputs": [
    {
     "data": {
      "text/plain": [
       "(8.6959910783935435, -6.3575130535126503)"
      ]
     },
     "execution_count": 125,
     "metadata": {},
     "output_type": "execute_result"
    }
   ],
   "source": [
    "from pymodelfit import LinearModel,QuadraticModel, PolynomialModel,FourierModel, LognormalModel\n",
    "linmod = LinearModel()\n",
    "linmod.fitData(flux_r3,ewha3)"
   ]
  },
  {
   "cell_type": "code",
   "execution_count": 129,
   "metadata": {
    "collapsed": true
   },
   "outputs": [],
   "source": [
    "linmod.plot()\n",
    "for i,k in enumerate(linmod.pardict):\n",
    "    plt.text(1.2,16-i,'%s=%f'%(k,linmod.pardict[k]),fontsize=16)\n",
    "plt.xlabel('ha656/ha663 (flux ratio)')\n",
    "plt.ylabel('EW_H$a$')\n",
    "plt.title('257 M dwarfs on k2c4')\n",
    "plt.show()"
   ]
  },
  {
   "cell_type": "code",
   "execution_count": 75,
   "metadata": {
    "collapsed": false
   },
   "outputs": [
    {
     "data": {
      "text/plain": [
       "0.0124739213539"
      ]
     },
     "execution_count": 75,
     "metadata": {},
     "output_type": "execute_result"
    }
   ],
   "source": [
    "max(rot_v3)\n",
    "min(rot_v3)"
   ]
  },
  {
   "cell_type": "code",
   "execution_count": 117,
   "metadata": {
    "collapsed": false
   },
   "outputs": [
    {
     "ename": "IndexError",
     "evalue": "list index out of range",
     "output_type": "error",
     "traceback": [
      "\u001b[1;31m---------------------------------------------------------------------------\u001b[0m",
      "\u001b[1;31mIndexError\u001b[0m                                Traceback (most recent call last)",
      "\u001b[1;32m<ipython-input-117-357eff250e40>\u001b[0m in \u001b[0;36m<module>\u001b[1;34m()\u001b[0m\n\u001b[0;32m      5\u001b[0m \u001b[0mrot_v4\u001b[0m \u001b[1;33m=\u001b[0m \u001b[1;33m[\u001b[0m\u001b[1;33m]\u001b[0m\u001b[1;33m\u001b[0m\u001b[0m\n\u001b[0;32m      6\u001b[0m \u001b[1;32mfor\u001b[0m \u001b[0mi\u001b[0m\u001b[1;33m,\u001b[0m\u001b[0mv\u001b[0m \u001b[1;32min\u001b[0m \u001b[0menumerate\u001b[0m\u001b[1;33m(\u001b[0m\u001b[0mewha_1\u001b[0m\u001b[1;33m)\u001b[0m\u001b[1;33m:\u001b[0m\u001b[1;33m\u001b[0m\u001b[0m\n\u001b[1;32m----> 7\u001b[1;33m     \u001b[1;32mif\u001b[0m \u001b[0mrot_v3\u001b[0m\u001b[1;33m[\u001b[0m\u001b[0mi\u001b[0m\u001b[1;33m]\u001b[0m \u001b[1;33m>\u001b[0m \u001b[1;36m0.\u001b[0m \u001b[1;32mand\u001b[0m \u001b[0mrot_v3\u001b[0m\u001b[1;33m[\u001b[0m\u001b[0mi\u001b[0m\u001b[1;33m]\u001b[0m \u001b[1;33m<\u001b[0m \u001b[1;36m2.\u001b[0m\u001b[1;33m:\u001b[0m\u001b[1;33m\u001b[0m\u001b[0m\n\u001b[0m\u001b[0;32m      8\u001b[0m         \u001b[0mewha4\u001b[0m\u001b[1;33m.\u001b[0m\u001b[0mappend\u001b[0m\u001b[1;33m(\u001b[0m\u001b[0mewha3\u001b[0m\u001b[1;33m[\u001b[0m\u001b[0mi\u001b[0m\u001b[1;33m]\u001b[0m\u001b[1;33m)\u001b[0m\u001b[1;33m\u001b[0m\u001b[0m\n\u001b[0;32m      9\u001b[0m         \u001b[0mewerr4\u001b[0m\u001b[1;33m.\u001b[0m\u001b[0mappend\u001b[0m\u001b[1;33m(\u001b[0m\u001b[0mewerr3\u001b[0m\u001b[1;33m[\u001b[0m\u001b[0mi\u001b[0m\u001b[1;33m]\u001b[0m\u001b[1;33m)\u001b[0m\u001b[1;33m\u001b[0m\u001b[0m\n",
      "\u001b[1;31mIndexError\u001b[0m: list index out of range"
     ]
    }
   ],
   "source": [
    "ewha4 = []\n",
    "ewerr4 = []\n",
    "hsv4 = []\n",
    "flux_r4 = []\n",
    "rot_v4 = []\n",
    "for i,v in enumerate(ewha_1):\n",
    "    if rot_v3[i] > 0. and rot_v3[i] < 2.:\n",
    "        ewha4.append(ewha3[i])\n",
    "        ewerr4.append(ewerr3[i])\n",
    "        hsv4.append(hsv3[i])\n",
    "        flux_r4.append(flux_r3[i])\n",
    "        rot_v4.append(rot_v3[i])"
   ]
  },
  {
   "cell_type": "code",
   "execution_count": 118,
   "metadata": {
    "collapsed": false
   },
   "outputs": [
    {
     "data": {
      "text/plain": [
       "233"
      ]
     },
     "execution_count": 118,
     "metadata": {},
     "output_type": "execute_result"
    }
   ],
   "source": [
    "len(ewha4)"
   ]
  },
  {
   "cell_type": "code",
   "execution_count": 119,
   "metadata": {
    "collapsed": false
   },
   "outputs": [
    {
     "data": {
      "text/plain": [
       "(9.0057453759371029, -6.8226169920398467)"
      ]
     },
     "execution_count": 119,
     "metadata": {},
     "output_type": "execute_result"
    }
   ],
   "source": [
    "from pymodelfit import LinearModel,QuadraticModel, PolynomialModel,FourierModel, LognormalModel\n",
    "linmod = LinearModel()\n",
    "linmod.fitData(flux_r4,ewha4)"
   ]
  },
  {
   "cell_type": "code",
   "execution_count": 120,
   "metadata": {
    "collapsed": false
   },
   "outputs": [],
   "source": [
    "linmod.plot()\n",
    "for i,k in enumerate(linmod.pardict):\n",
    "    plt.text(1.2,16-i,'%s=%f'%(k,linmod.pardict[k]),fontsize=16)\n",
    "plt.show()"
   ]
  },
  {
   "cell_type": "code",
   "execution_count": null,
   "metadata": {
    "collapsed": true
   },
   "outputs": [],
   "source": []
  }
 ],
 "metadata": {
  "anaconda-cloud": {},
  "kernelspec": {
   "display_name": "Python 2",
   "language": "python",
   "name": "python2"
  },
  "language_info": {
   "codemirror_mode": {
    "name": "ipython",
    "version": 2
   },
   "file_extension": ".py",
   "mimetype": "text/x-python",
   "name": "python",
   "nbconvert_exporter": "python",
   "pygments_lexer": "ipython2",
   "version": "2.7.12"
  }
 },
 "nbformat": 4,
 "nbformat_minor": 1
}
