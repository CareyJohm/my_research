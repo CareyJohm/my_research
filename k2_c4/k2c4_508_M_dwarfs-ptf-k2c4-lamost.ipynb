{
 "cells": [
  {
   "cell_type": "code",
   "execution_count": 1,
   "metadata": {
    "collapsed": true
   },
   "outputs": [],
   "source": [
    "import pandas as pd\n",
    "import pyfits as py\n",
    "from matplotlib import pyplot as plt\n",
    "import os\n",
    "import math as m\n",
    "import numpy as np\n",
    "import glob\n",
    "from scipy.optimize import curve_fit"
   ]
  },
  {
   "cell_type": "code",
   "execution_count": 2,
   "metadata": {
    "collapsed": true
   },
   "outputs": [],
   "source": [
    "os.chdir(\"D:\\kepler_ptf_research\\k2_c4\")"
   ]
  },
  {
   "cell_type": "code",
   "execution_count": 51,
   "metadata": {
    "collapsed": true
   },
   "outputs": [],
   "source": [
    "df = pd.read_csv('K2_C4_samePTFday_MD_epic_rotation-v.csv')"
   ]
  },
  {
   "cell_type": "code",
   "execution_count": 52,
   "metadata": {
    "collapsed": true
   },
   "outputs": [],
   "source": [
    "ra = list(df['RA'])\n",
    "dec = list(df['Dec'])\n",
    "epic = list(df['EPIC'])\n",
    "hsv = list(df['HSV'])\n",
    "flux_r = list(df['fH656/fH663'])\n",
    "period = list(df['Period'])\n",
    "rot_v = list(df['rotational_velocity'])"
   ]
  },
  {
   "cell_type": "code",
   "execution_count": 19,
   "metadata": {
    "collapsed": false
   },
   "outputs": [
    {
     "data": {
      "text/plain": [
       "1401"
      ]
     },
     "execution_count": 19,
     "metadata": {},
     "output_type": "execute_result"
    }
   ],
   "source": [
    "len(hsv)"
   ]
  },
  {
   "cell_type": "code",
   "execution_count": 20,
   "metadata": {
    "collapsed": true
   },
   "outputs": [],
   "source": [
    "catalog = pd.read_csv('dr4_m_stellar.csv', sep = '|')"
   ]
  },
  {
   "cell_type": "code",
   "execution_count": 21,
   "metadata": {
    "collapsed": true
   },
   "outputs": [],
   "source": [
    "ra_l = list(catalog['ra'])\n",
    "dec_l = list(catalog['dec'])\n",
    "ewha = list(catalog['ewha'])\n",
    "ewha_err = list(catalog['ewerr'])"
   ]
  },
  {
   "cell_type": "code",
   "execution_count": 22,
   "metadata": {
    "collapsed": true
   },
   "outputs": [],
   "source": [
    "ra_l_in_range = []\n",
    "dec_l_in_range = []\n",
    "ewha_in_range = []\n",
    "ewha_err_in_range = []\n",
    "for i in range(len(ra_l)):\n",
    "    if ra_l[i] > 49. and ra_l[i] < 68. and dec_l[i] > 10.0 and dec_l[i] < 28.:\n",
    "        ra_l_in_range.append(ra_l[i])\n",
    "        dec_l_in_range.append(dec_l[i])\n",
    "        ewha_in_range.append(ewha[i])\n",
    "        ewha_err_in_range.append(ewha_err[i])"
   ]
  },
  {
   "cell_type": "code",
   "execution_count": 23,
   "metadata": {
    "collapsed": false
   },
   "outputs": [
    {
     "data": {
      "text/plain": [
       "12890"
      ]
     },
     "execution_count": 23,
     "metadata": {},
     "output_type": "execute_result"
    }
   ],
   "source": [
    "len(ra_l_in_range)"
   ]
  },
  {
   "cell_type": "code",
   "execution_count": 53,
   "metadata": {
    "collapsed": false
   },
   "outputs": [],
   "source": [
    "epic_in_range = []\n",
    "ra_in_range = []\n",
    "dec_in_range = []\n",
    "ewha_1 = []\n",
    "ewerr_1 = []\n",
    "hsv_1 = []\n",
    "flux_r1 = []\n",
    "rot_v1 = []\n",
    "for a in range(len(ra)):\n",
    "    for i in range(len(ra_l_in_range)):\n",
    "        if m.sqrt(((ra[a]-ra_l_in_range[i]))**2.+((dec[a]-dec_l_in_range[i]))**2.) < 2./3600:\n",
    "            ra_in_range.append(ra[a])\n",
    "            dec_in_range.append(dec[a])\n",
    "            epic_in_range.append(epic[a])\n",
    "            ewha_1.append(ewha_in_range[i])\n",
    "            ewerr_1.append(ewha_err_in_range[i])\n",
    "            hsv_1.append(hsv[a])\n",
    "            flux_r1.append(flux_r[a])\n",
    "            rot_v1.append(rot_v[a])"
   ]
  },
  {
   "cell_type": "code",
   "execution_count": 43,
   "metadata": {
    "collapsed": false
   },
   "outputs": [
    {
     "data": {
      "text/plain": [
       "604"
      ]
     },
     "execution_count": 43,
     "metadata": {},
     "output_type": "execute_result"
    }
   ],
   "source": [
    "len(epic_in_range)"
   ]
  },
  {
   "cell_type": "code",
   "execution_count": 54,
   "metadata": {
    "collapsed": false
   },
   "outputs": [],
   "source": [
    "epic2 = []\n",
    "ra2 = []\n",
    "dec2 = []\n",
    "ewha2 = []\n",
    "ewerr2 = []\n",
    "hsv2 = []\n",
    "flux_r2 = []\n",
    "rot_v2 = []\n",
    "for i,v in enumerate(ewha_1):\n",
    "    if ewha_1[i] > 0.:\n",
    "        epic2.append(epic_in_range[i])\n",
    "        ra2.append(ra_in_range[i])\n",
    "        dec2.append(dec_in_range[i])\n",
    "        ewha2.append(ewha_1[i])\n",
    "        ewerr2.append(ewerr_1[i])\n",
    "        hsv2.append(hsv_1[i])\n",
    "        flux_r2.append(flux_r1[i])\n",
    "        rot_v2.append(rot_v1[i])"
   ]
  },
  {
   "cell_type": "code",
   "execution_count": 130,
   "metadata": {
    "collapsed": false
   },
   "outputs": [
    {
     "name": "stdout",
     "output_type": "stream",
     "text": [
      "57.749339 11.992134\n",
      "55.629136 12.557147\n",
      "55.629136 12.557147\n",
      "54.305791 13.125373\n",
      "63.95924 13.321394\n",
      "55.309365 13.384177\n",
      "63.952134 13.421782\n",
      "54.89598 13.530952\n",
      "64.269164 13.611372\n",
      "64.090496 13.616431\n",
      "55.663357 13.65276\n",
      "64.746422 13.690611\n",
      "57.234802 13.826898\n",
      "61.584196 13.831074\n",
      "64.71294 13.990023\n",
      "55.769848 14.069847\n",
      "64.105932 14.171422\n",
      "64.105932 14.171422\n",
      "61.006003 14.196584\n",
      "55.465134 14.345218\n",
      "58.463619 14.411241\n",
      "57.112984 14.440982\n",
      "57.713642 14.449475\n",
      "64.554653 14.464328\n",
      "64.554653 14.464328\n",
      "64.48153 14.546241\n",
      "57.416569 14.609631\n",
      "64.59505 14.633431\n",
      "64.59505 14.633431\n",
      "63.616903 14.651135\n",
      "63.616903 14.651135\n",
      "57.399786 14.65741\n",
      "62.315594 14.659864\n",
      "65.396238 14.695229\n",
      "58.641344 14.730294\n",
      "59.751056 14.778117\n",
      "53.083632 14.979041\n",
      "65.353138 14.984516\n",
      "65.353138 14.984516\n",
      "59.839801 15.135462\n",
      "57.425192 15.166961\n",
      "64.131798 15.320045\n",
      "64.131798 15.320045\n",
      "64.131798 15.320045\n",
      "64.131798 15.320045\n",
      "63.777333 15.331432\n",
      "63.777333 15.331432\n",
      "63.777333 15.331432\n",
      "59.509107 15.332304\n",
      "59.509107 15.332304\n",
      "53.660062 15.413687\n",
      "63.658985 15.415963\n",
      "59.54071 15.430396\n",
      "63.701651 15.467639\n",
      "59.640852 15.61803\n",
      "57.379333 15.736627\n",
      "58.023488 15.754463\n",
      "61.337753 15.773895\n",
      "59.081062 15.867524\n",
      "60.804717 15.917313\n",
      "57.900731 15.953163\n",
      "61.705581 15.966732\n",
      "57.869527 15.997032\n",
      "59.607218 16.029724\n",
      "64.681181 16.068195\n",
      "64.681181 16.068195\n",
      "55.669921 16.131824\n",
      "60.251257 16.142269\n",
      "60.251257 16.142269\n",
      "60.251257 16.142269\n",
      "61.626442 16.153828\n",
      "61.255144 16.171257\n",
      "60.311915 16.243789\n",
      "56.659267 16.253647\n",
      "56.780646 16.314531\n",
      "60.463332 16.433319\n",
      "60.463332 16.433319\n",
      "60.463332 16.433319\n",
      "60.331266 16.436666\n",
      "56.743551 16.471174\n",
      "56.29277 16.4947\n",
      "61.158595 16.555477\n",
      "59.20729 16.69593\n",
      "60.921146 17.066256\n",
      "57.353255 17.168739\n",
      "57.440215 17.198452\n",
      "65.021422 17.198767\n",
      "65.490598 17.500935\n",
      "57.175759 17.539478\n",
      "57.175759 17.539478\n",
      "66.445925 17.544606\n",
      "66.445925 17.544606\n",
      "66.445925 17.544606\n",
      "55.466507 17.613096\n",
      "66.722114 17.613656\n",
      "57.354675 17.683859\n",
      "65.911228 17.706211\n",
      "66.797027 17.766114\n",
      "66.797027 17.766114\n",
      "65.219772 17.778184\n",
      "65.219772 17.778184\n",
      "65.673051 17.840081\n",
      "59.471306 17.880503\n",
      "64.838348 17.9576\n",
      "66.727532 17.975826\n",
      "66.590457 18.000294\n",
      "66.590457 18.000294\n",
      "55.584611 18.001671\n",
      "67.178871 18.071746\n",
      "66.043933 18.083141\n",
      "65.186052 18.099833\n",
      "65.186052 18.099833\n",
      "65.186052 18.099833\n",
      "65.186052 18.099833\n",
      "60.371628 18.117058\n",
      "56.184696 18.123588\n",
      "58.982907 18.128425\n",
      "59.066758 18.186543\n",
      "58.937182 18.199326\n",
      "56.364692 18.20038\n",
      "56.364692 18.20038\n",
      "58.322789 18.212492\n",
      "66.873658 18.22599\n",
      "66.873658 18.22599\n",
      "51.358181 18.246506\n",
      "58.741502 18.252804\n",
      "64.820381 18.276816\n",
      "64.820381 18.276816\n",
      "57.875215 18.315163\n",
      "57.875215 18.315163\n",
      "57.875215 18.315163\n",
      "53.052822 18.373898\n",
      "56.503009 18.384739\n",
      "53.687631 18.391972\n",
      "53.687631 18.391972\n",
      "52.956283 18.408002\n",
      "53.062342 18.451855\n",
      "53.530705 18.457141\n",
      "53.566712 18.467243\n",
      "64.460975 18.475193\n",
      "58.274751 18.484966\n",
      "58.274751 18.484966\n",
      "66.799245 18.485697\n",
      "56.718799 18.510002\n",
      "57.870667 18.557825\n",
      "59.957168 18.560257\n",
      "53.033073 18.620745\n",
      "65.986159 18.638931\n",
      "51.414529 18.657903\n",
      "51.26419 18.720959\n",
      "66.000491 18.727601\n",
      "64.695965 18.735521\n",
      "52.980005 18.746918\n",
      "52.980005 18.746918\n",
      "64.775867 18.765917\n",
      "64.775867 18.765917\n",
      "64.775867 18.765917\n",
      "58.777407 18.821636\n",
      "51.402327 18.831194\n",
      "50.891689 18.844011\n",
      "64.746084 18.849746\n",
      "66.453944 18.879974\n",
      "66.453944 18.879974\n",
      "56.9442 18.905906\n",
      "56.9442 18.905906\n",
      "56.9442 18.905906\n",
      "51.235329 18.907862\n",
      "59.043954 18.930465\n",
      "57.818443 18.955307\n",
      "52.757441 18.95959\n",
      "66.127462 18.986894\n",
      "66.127462 18.986894\n",
      "54.213453 18.990469\n",
      "54.213453 18.990469\n",
      "61.053383 18.995722\n",
      "61.053383 18.995722\n",
      "66.607202 18.997536\n",
      "50.812198 19.019089\n",
      "61.586029 19.027508\n",
      "62.143644 19.02787\n",
      "52.551913 19.043161\n",
      "66.840047 19.051132\n",
      "62.813281 19.06042\n",
      "62.813281 19.06042\n",
      "50.878725 19.065969\n",
      "55.723832 19.069993\n",
      "55.723832 19.069993\n",
      "54.207819 19.134907\n",
      "61.565115 19.14838\n",
      "54.314657 19.1625\n",
      "56.080184 19.171248\n",
      "56.080184 19.171248\n",
      "56.080184 19.171248\n",
      "64.63447 19.218733\n",
      "64.63447 19.218733\n",
      "60.845513 19.291881\n",
      "55.708916 19.32905\n",
      "55.708916 19.32905\n",
      "55.708916 19.32905\n",
      "60.064963 19.410132\n",
      "60.064963 19.410132\n",
      "55.694724 19.411189\n",
      "55.694724 19.411189\n",
      "55.694724 19.411189\n",
      "55.964368 19.414117\n",
      "61.49217 19.459271\n",
      "56.272407 19.493254\n",
      "62.699606 19.508419\n",
      "62.060948 19.527441\n",
      "54.157609 19.547726\n",
      "54.140353 19.583939\n",
      "53.840742 19.641937\n",
      "53.840742 19.641937\n",
      "54.689217 19.678511\n",
      "54.689217 19.678511\n",
      "54.671344 19.719099\n",
      "62.731274 19.727451\n",
      "54.216475 19.778095\n",
      "56.340826 19.831071\n",
      "56.340826 19.831071\n",
      "56.245227 19.835449\n",
      "66.167725 19.838713\n",
      "66.167725 19.838713\n",
      "66.167725 19.838713\n",
      "56.063161 19.916777\n",
      "54.792506 19.925278\n",
      "54.90731 19.931595\n",
      "54.90731 19.931595\n",
      "54.454363 19.94271\n",
      "62.432648 19.979627\n",
      "62.169985 19.99129\n",
      "62.169985 19.99129\n",
      "57.459408 19.993895\n",
      "55.590904 20.004231\n",
      "61.972093 20.06901\n",
      "62.44003 20.077911\n",
      "57.398955 20.108042\n",
      "62.333527 20.110221\n",
      "53.95093 20.128717\n",
      "53.95093 20.128717\n",
      "62.891882 20.189301\n",
      "62.891882 20.189301\n",
      "60.552153 20.194649\n",
      "60.552153 20.194649\n",
      "60.718641 20.260639\n",
      "60.718641 20.260639\n",
      "62.297301 20.278878\n",
      "57.20397 20.356666\n",
      "55.557869 20.36223\n",
      "53.427555 20.380824\n",
      "57.483586 20.381323\n",
      "55.318921 20.391253\n",
      "61.305113 20.393513\n",
      "54.043388 20.429575\n",
      "56.77228 20.444301\n",
      "60.524831 20.469532\n",
      "57.799885 20.493562\n",
      "54.925445 20.496129\n",
      "54.925445 20.496129\n",
      "60.601198 20.510117\n",
      "61.724758 20.532516\n",
      "55.907032 20.532788\n",
      "55.901623 20.534092\n",
      "55.901623 20.534092\n",
      "62.654443 20.5856\n",
      "55.343938 20.613222\n",
      "55.805838 20.621408\n",
      "53.666217 20.680109\n",
      "53.921465 20.717088\n",
      "53.921465 20.717088\n",
      "57.650277 20.718472\n",
      "57.047556 20.778521\n",
      "55.623756 20.811134\n",
      "61.986372 20.824026\n",
      "57.480303 20.828125\n",
      "57.480303 20.828125\n",
      "57.711675 20.908816\n",
      "57.711675 20.908816\n",
      "57.514291 20.925989\n",
      "61.731831 20.936363\n",
      "62.296632 20.943365\n",
      "56.623832 21.038082\n",
      "61.894273 21.046619\n",
      "55.106336 21.133686\n",
      "57.028642 21.143222\n",
      "57.028642 21.143222\n",
      "56.879706 21.180962\n",
      "56.879706 21.180962\n",
      "62.169657 21.186815\n",
      "55.205772 21.215467\n",
      "53.089453 21.216291\n",
      "53.698006 21.261376\n",
      "57.358905 21.280381\n",
      "53.744138 21.286785\n",
      "56.978862 21.287974\n",
      "57.465826 21.307315\n",
      "57.465826 21.307315\n",
      "62.349008 21.375015\n",
      "57.200908 21.411341\n",
      "56.605003 21.438336\n",
      "56.605003 21.438336\n",
      "52.957416 21.447118\n",
      "56.467683 21.486877\n",
      "53.555128 21.514465\n",
      "57.446339 21.542733\n",
      "58.119877 21.566241\n",
      "56.220237 21.571257\n",
      "56.220237 21.571257\n",
      "56.888466 21.577751\n",
      "60.739856 21.606724\n",
      "60.739856 21.606724\n",
      "61.222984 21.620243\n",
      "54.102882 21.629333\n",
      "54.102882 21.629333\n",
      "57.343778 21.632334\n",
      "53.923388 21.711349\n",
      "60.75781 21.76412\n",
      "61.872209 21.769579\n",
      "61.160548 21.780016\n",
      "54.915356 21.849192\n",
      "54.915356 21.849192\n",
      "61.501677 21.876925\n",
      "54.036211 21.909126\n",
      "56.737877 21.916949\n",
      "56.737877 21.916949\n",
      "56.737877 21.916949\n",
      "52.612526 21.950411\n",
      "53.258058 21.983214\n",
      "56.918843 21.98911\n",
      "56.918843 21.98911\n",
      "60.455042 21.992636\n",
      "55.132327 21.998007\n",
      "55.347722 22.031738\n",
      "53.688599 22.035653\n",
      "60.042841 22.038197\n",
      "61.914021 22.066793\n",
      "53.728978 22.079627\n",
      "61.621736 22.122663\n",
      "60.550899 22.204935\n",
      "62.670382 22.25484\n",
      "61.307122 22.305193\n",
      "61.881237 22.339537\n",
      "61.787146 22.397272\n",
      "53.585904 22.4151\n",
      "53.199983 22.420033\n",
      "62.780151 22.443228\n",
      "52.406151 22.454085\n",
      "63.644467 22.544962\n",
      "58.023204 22.582048\n",
      "61.89594 22.627619\n",
      "61.89594 22.627619\n",
      "62.852082 22.706151\n",
      "62.852082 22.706151\n",
      "62.852082 22.706151\n",
      "59.356535 22.754083\n",
      "55.767478 22.800966\n",
      "56.668332 22.844402\n",
      "59.195663 22.844556\n",
      "57.094345 22.872681\n",
      "64.66557 22.930095\n",
      "59.284781 22.950121\n",
      "57.254167 22.980421\n",
      "55.444365 23.022186\n",
      "57.024247 23.034132\n",
      "57.024247 23.034132\n",
      "64.058958 23.041511\n",
      "61.433942 23.047675\n",
      "56.845212 23.050261\n",
      "55.937384 23.055886\n",
      "64.011194 23.059591\n",
      "57.211076 23.075102\n",
      "57.24285 23.094204\n",
      "55.684842 23.104568\n",
      "64.010029 23.10673\n",
      "56.365475 23.17036\n",
      "64.580799 23.172071\n",
      "55.564009 23.191998\n",
      "63.383639 23.308277\n",
      "63.383639 23.308277\n",
      "55.676579 23.339333\n",
      "55.676579 23.339333\n",
      "64.781725 23.364167\n",
      "56.73043 23.380444\n",
      "59.860904 23.385442\n",
      "61.154852 23.397601\n",
      "62.678872 23.444399\n",
      "64.542318 23.466782\n",
      "64.542318 23.466782\n",
      "56.900137 23.474176\n",
      "56.995152 23.484473\n",
      "55.131225 23.550638\n",
      "62.16742 23.557149\n",
      "56.679911 23.622841\n",
      "55.394953 23.63773\n",
      "56.966462 23.663406\n",
      "56.889397 23.692529\n",
      "57.063572 23.700992\n",
      "57.493063 23.709434\n",
      "53.758697 23.709892\n",
      "55.337026 23.715479\n",
      "58.683139 23.762571\n",
      "55.550617 23.774945\n",
      "56.806924 23.83153\n",
      "64.231292 23.871388\n",
      "59.4711 23.871774\n",
      "57.710034 23.874561\n",
      "57.024431 23.883642\n",
      "59.094752 23.89757\n",
      "56.517884 23.928017\n",
      "55.345337 23.930075\n",
      "55.51219 23.931652\n",
      "64.392579 23.937359\n",
      "59.077453 23.964401\n",
      "57.094796 23.972593\n",
      "57.094796 23.972593\n",
      "58.502896 23.983335\n",
      "55.674365 24.004393\n",
      "55.361984 24.017378\n",
      "56.648032 24.02655\n",
      "55.671544 24.02862\n",
      "57.213946 24.058088\n",
      "58.809007 24.075924\n",
      "55.73559 24.082801\n",
      "55.73559 24.082801\n",
      "55.545505 24.085747\n",
      "55.545505 24.085747\n",
      "62.455508 24.093655\n",
      "62.455508 24.093655\n",
      "62.693333 24.09842\n",
      "62.693333 24.09842\n",
      "62.693333 24.09842\n",
      "62.693333 24.09842\n",
      "62.693333 24.09842\n",
      "56.317247 24.121146\n",
      "56.605809 24.16014\n",
      "56.518979 24.165586\n",
      "55.704614 24.171075\n",
      "55.704614 24.171075\n",
      "56.730464 24.188017\n",
      "63.218062 24.205112\n",
      "63.218062 24.205112\n",
      "63.218062 24.205112\n",
      "63.218062 24.205112\n",
      "55.735655 24.22938\n",
      "55.902886 24.23231\n",
      "55.609492 24.235527\n",
      "56.041307 24.267793\n",
      "56.041307 24.267793\n",
      "62.262008 24.301039\n",
      "62.262008 24.301039\n",
      "59.734997 24.309011\n",
      "60.376585 24.322863\n",
      "57.238938 24.328858\n",
      "63.709143 24.377089\n",
      "60.405624 24.381108\n",
      "62.402713 24.384346\n",
      "56.782815 24.393869\n",
      "56.2254 24.446381\n",
      "56.073972 24.446393\n",
      "59.845042 24.458596\n",
      "56.474098 24.469104\n",
      "56.474098 24.469104\n",
      "55.93212 24.487725\n",
      "55.93212 24.487725\n",
      "56.962299 24.505256\n",
      "59.994983 24.523209\n",
      "56.165126 24.528939\n",
      "56.165126 24.528939\n",
      "57.387643 24.534064\n",
      "59.705083 24.56304\n",
      "55.925582 24.573197\n",
      "55.925582 24.573197\n",
      "56.319364 24.575688\n",
      "56.319364 24.575688\n",
      "60.117232 24.605631\n",
      "55.80445 24.655438\n",
      "55.80445 24.655438\n",
      "57.995065 24.667931\n",
      "56.541244 24.673631\n",
      "56.541244 24.673631\n",
      "56.106637 24.681334\n",
      "56.574753 24.686029\n",
      "55.800497 24.745924\n",
      "59.353312 24.770893\n",
      "56.045606 24.812782\n",
      "56.629362 24.820786\n",
      "58.556857 24.833525\n",
      "59.197855 24.860588\n",
      "56.3551 24.911606\n",
      "57.175613 25.00791\n",
      "58.74107 25.046637\n",
      "57.849554 25.098018\n",
      "59.558016 25.107648\n",
      "59.558016 25.107648\n",
      "56.81369 25.115411\n",
      "58.732222 25.151196\n",
      "59.666356 25.16244\n",
      "60.614832 25.190964\n",
      "60.614832 25.190964\n",
      "58.741773 25.241491\n",
      "57.108502 25.244725\n",
      "58.130679 25.252121\n",
      "59.419422 25.267897\n",
      "58.747399 25.37208\n",
      "58.646045 25.378737\n",
      "59.158162 25.474371\n",
      "57.735888 25.585161\n",
      "58.55904 25.632661\n"
     ]
    }
   ],
   "source": [
    "for i,v in enumerate(ra2):\n",
    "    print ra2[i], dec2[i]"
   ]
  },
  {
   "cell_type": "code",
   "execution_count": 55,
   "metadata": {
    "collapsed": false
   },
   "outputs": [
    {
     "data": {
      "text/plain": [
       "508"
      ]
     },
     "execution_count": 55,
     "metadata": {},
     "output_type": "execute_result"
    }
   ],
   "source": [
    "len(epic2)"
   ]
  },
  {
   "cell_type": "code",
   "execution_count": 59,
   "metadata": {
    "collapsed": true
   },
   "outputs": [],
   "source": [
    "plt.errorbar(flux_r2 , ewha2, yerr=ewerr2, fmt= 'o', markersize = 3)\n",
    "plt.show()"
   ]
  },
  {
   "cell_type": "code",
   "execution_count": 58,
   "metadata": {
    "collapsed": true
   },
   "outputs": [],
   "source": [
    "plt.errorbar(rot_v2 , ewha2, yerr=ewerr2, fmt= 'o', markersize = 3)\n",
    "plt.show()"
   ]
  },
  {
   "cell_type": "code",
   "execution_count": 61,
   "metadata": {
    "collapsed": false
   },
   "outputs": [
    {
     "data": {
      "text/plain": [
       "u'D:\\\\kepler_ptf_research\\\\k2_c4'"
      ]
     },
     "execution_count": 61,
     "metadata": {},
     "output_type": "execute_result"
    }
   ],
   "source": [
    "pwd"
   ]
  },
  {
   "cell_type": "code",
   "execution_count": 60,
   "metadata": {
    "collapsed": true
   },
   "outputs": [],
   "source": [
    "column_names = ['EPIC', 'RA', 'Dec', 'HSV', 'flux_ratio_H656/H663','rotational_velocity', 'ewha', 'ewha_err']"
   ]
  },
  {
   "cell_type": "code",
   "execution_count": 65,
   "metadata": {
    "collapsed": true
   },
   "outputs": [],
   "source": [
    "column_names = ['EPIC', 'RA', 'Dec', 'HSV', 'flux_ratio_H656/H663','rotational_velocity', 'ewha', 'ewha_err']\n",
    "df5 = pd.DataFrame([], columns = column_names)\n",
    "df5.to_csv('k2c4_508_M_dwarfs-ptf-k2c4-lamost.csv', index = False)"
   ]
  },
  {
   "cell_type": "code",
   "execution_count": 66,
   "metadata": {
    "collapsed": false
   },
   "outputs": [],
   "source": [
    "column_names = ['EPIC', 'RA', 'Dec', 'HSV', 'flux_ratio_H656/H663','rotational_velocity', 'ewha', 'ewha_err']\n",
    "for i in range(len(epic2)):\n",
    "\n",
    "    df = pd.DataFrame([[epic2[i], ra2[i], dec2[i], hsv2[i], flux_r2[i],rot_v2[i], ewha2[i], ewerr2[i]]], columns = column_names)\n",
    "    df5 = df5.append(df)\n",
    "    df5.to_csv('k2c4_508_M_dwarfs-ptf-k2c4-lamost.csv', index = False)"
   ]
  },
  {
   "cell_type": "code",
   "execution_count": 123,
   "metadata": {
    "collapsed": false
   },
   "outputs": [
    {
     "data": {
      "text/plain": [
       "(12.504892704208238, -12.473547403091072)"
      ]
     },
     "execution_count": 123,
     "metadata": {},
     "output_type": "execute_result"
    }
   ],
   "source": [
    "from pymodelfit import LinearModel,QuadraticModel, PolynomialModel,FourierModel, LognormalModel\n",
    "linmod = LinearModel()\n",
    "linmod.fitData(flux_r2,ewha2)"
   ]
  },
  {
   "cell_type": "code",
   "execution_count": 124,
   "metadata": {
    "collapsed": true
   },
   "outputs": [],
   "source": [
    "linmod.plot()\n",
    "for i,k in enumerate(linmod.pardict):\n",
    "    plt.text(1.2,16-i,'%s=%f'%(k,linmod.pardict[k]),fontsize=16)\n",
    "plt.show()"
   ]
  },
  {
   "cell_type": "code",
   "execution_count": 68,
   "metadata": {
    "collapsed": false
   },
   "outputs": [
    {
     "ename": "IndexError",
     "evalue": "list index out of range",
     "output_type": "error",
     "traceback": [
      "\u001b[1;31m---------------------------------------------------------------------------\u001b[0m",
      "\u001b[1;31mIndexError\u001b[0m                                Traceback (most recent call last)",
      "\u001b[1;32m<ipython-input-68-390498010137>\u001b[0m in \u001b[0;36m<module>\u001b[1;34m()\u001b[0m\n\u001b[0;32m      5\u001b[0m \u001b[0mrot_v3\u001b[0m \u001b[1;33m=\u001b[0m \u001b[1;33m[\u001b[0m\u001b[1;33m]\u001b[0m\u001b[1;33m\u001b[0m\u001b[0m\n\u001b[0;32m      6\u001b[0m \u001b[1;32mfor\u001b[0m \u001b[0mi\u001b[0m\u001b[1;33m,\u001b[0m\u001b[0mv\u001b[0m \u001b[1;32min\u001b[0m \u001b[0menumerate\u001b[0m\u001b[1;33m(\u001b[0m\u001b[0mewha_1\u001b[0m\u001b[1;33m)\u001b[0m\u001b[1;33m:\u001b[0m\u001b[1;33m\u001b[0m\u001b[0m\n\u001b[1;32m----> 7\u001b[1;33m     \u001b[1;32mif\u001b[0m \u001b[0mewha2\u001b[0m\u001b[1;33m[\u001b[0m\u001b[0mi\u001b[0m\u001b[1;33m]\u001b[0m \u001b[1;33m>\u001b[0m \u001b[1;36m1.\u001b[0m\u001b[1;33m:\u001b[0m\u001b[1;33m\u001b[0m\u001b[0m\n\u001b[0m\u001b[0;32m      8\u001b[0m         \u001b[0mewha3\u001b[0m\u001b[1;33m.\u001b[0m\u001b[0mappend\u001b[0m\u001b[1;33m(\u001b[0m\u001b[0mewha2\u001b[0m\u001b[1;33m[\u001b[0m\u001b[0mi\u001b[0m\u001b[1;33m]\u001b[0m\u001b[1;33m)\u001b[0m\u001b[1;33m\u001b[0m\u001b[0m\n\u001b[0;32m      9\u001b[0m         \u001b[0mewerr3\u001b[0m\u001b[1;33m.\u001b[0m\u001b[0mappend\u001b[0m\u001b[1;33m(\u001b[0m\u001b[0mewerr2\u001b[0m\u001b[1;33m[\u001b[0m\u001b[0mi\u001b[0m\u001b[1;33m]\u001b[0m\u001b[1;33m)\u001b[0m\u001b[1;33m\u001b[0m\u001b[0m\n",
      "\u001b[1;31mIndexError\u001b[0m: list index out of range"
     ]
    }
   ],
   "source": [
    "ewha3 = []\n",
    "ewerr3 = []\n",
    "hsv3 = []\n",
    "flux_r3 = []\n",
    "rot_v3 = []\n",
    "for i,v in enumerate(ewha_1):\n",
    "    if ewha2[i] > 1.:\n",
    "        ewha3.append(ewha2[i])\n",
    "        ewerr3.append(ewerr2[i])\n",
    "        hsv3.append(hsv2[i])\n",
    "        flux_r3.append(flux_r2[i])\n",
    "        rot_v3.append(rot_v2[i])"
   ]
  },
  {
   "cell_type": "code",
   "execution_count": 69,
   "metadata": {
    "collapsed": false
   },
   "outputs": [
    {
     "data": {
      "text/plain": [
       "257"
      ]
     },
     "execution_count": 69,
     "metadata": {},
     "output_type": "execute_result"
    }
   ],
   "source": [
    "len(ewha3)"
   ]
  },
  {
   "cell_type": "code",
   "execution_count": 70,
   "metadata": {
    "collapsed": true
   },
   "outputs": [],
   "source": [
    "plt.errorbar(flux_r3 , ewha3, yerr=ewerr3, fmt= 'o', markersize = 3)\n",
    "plt.show()"
   ]
  },
  {
   "cell_type": "code",
   "execution_count": 125,
   "metadata": {
    "collapsed": false
   },
   "outputs": [
    {
     "data": {
      "text/plain": [
       "(8.6959910783935435, -6.3575130535126503)"
      ]
     },
     "execution_count": 125,
     "metadata": {},
     "output_type": "execute_result"
    }
   ],
   "source": [
    "from pymodelfit import LinearModel,QuadraticModel, PolynomialModel,FourierModel, LognormalModel\n",
    "linmod = LinearModel()\n",
    "linmod.fitData(flux_r3,ewha3)"
   ]
  },
  {
   "cell_type": "code",
   "execution_count": 129,
   "metadata": {
    "collapsed": true
   },
   "outputs": [],
   "source": [
    "linmod.plot()\n",
    "for i,k in enumerate(linmod.pardict):\n",
    "    plt.text(1.2,16-i,'%s=%f'%(k,linmod.pardict[k]),fontsize=16)\n",
    "plt.xlabel('ha656/ha663 (flux ratio)')\n",
    "plt.ylabel('EW_H$a$')\n",
    "plt.title('257 M dwarfs on k2c4')\n",
    "plt.show()"
   ]
  },
  {
   "cell_type": "code",
   "execution_count": 75,
   "metadata": {
    "collapsed": false
   },
   "outputs": [
    {
     "data": {
      "text/plain": [
       "0.0124739213539"
      ]
     },
     "execution_count": 75,
     "metadata": {},
     "output_type": "execute_result"
    }
   ],
   "source": [
    "max(rot_v3)\n",
    "min(rot_v3)"
   ]
  },
  {
   "cell_type": "code",
   "execution_count": 117,
   "metadata": {
    "collapsed": false
   },
   "outputs": [
    {
     "ename": "IndexError",
     "evalue": "list index out of range",
     "output_type": "error",
     "traceback": [
      "\u001b[1;31m---------------------------------------------------------------------------\u001b[0m",
      "\u001b[1;31mIndexError\u001b[0m                                Traceback (most recent call last)",
      "\u001b[1;32m<ipython-input-117-357eff250e40>\u001b[0m in \u001b[0;36m<module>\u001b[1;34m()\u001b[0m\n\u001b[0;32m      5\u001b[0m \u001b[0mrot_v4\u001b[0m \u001b[1;33m=\u001b[0m \u001b[1;33m[\u001b[0m\u001b[1;33m]\u001b[0m\u001b[1;33m\u001b[0m\u001b[0m\n\u001b[0;32m      6\u001b[0m \u001b[1;32mfor\u001b[0m \u001b[0mi\u001b[0m\u001b[1;33m,\u001b[0m\u001b[0mv\u001b[0m \u001b[1;32min\u001b[0m \u001b[0menumerate\u001b[0m\u001b[1;33m(\u001b[0m\u001b[0mewha_1\u001b[0m\u001b[1;33m)\u001b[0m\u001b[1;33m:\u001b[0m\u001b[1;33m\u001b[0m\u001b[0m\n\u001b[1;32m----> 7\u001b[1;33m     \u001b[1;32mif\u001b[0m \u001b[0mrot_v3\u001b[0m\u001b[1;33m[\u001b[0m\u001b[0mi\u001b[0m\u001b[1;33m]\u001b[0m \u001b[1;33m>\u001b[0m \u001b[1;36m0.\u001b[0m \u001b[1;32mand\u001b[0m \u001b[0mrot_v3\u001b[0m\u001b[1;33m[\u001b[0m\u001b[0mi\u001b[0m\u001b[1;33m]\u001b[0m \u001b[1;33m<\u001b[0m \u001b[1;36m2.\u001b[0m\u001b[1;33m:\u001b[0m\u001b[1;33m\u001b[0m\u001b[0m\n\u001b[0m\u001b[0;32m      8\u001b[0m         \u001b[0mewha4\u001b[0m\u001b[1;33m.\u001b[0m\u001b[0mappend\u001b[0m\u001b[1;33m(\u001b[0m\u001b[0mewha3\u001b[0m\u001b[1;33m[\u001b[0m\u001b[0mi\u001b[0m\u001b[1;33m]\u001b[0m\u001b[1;33m)\u001b[0m\u001b[1;33m\u001b[0m\u001b[0m\n\u001b[0;32m      9\u001b[0m         \u001b[0mewerr4\u001b[0m\u001b[1;33m.\u001b[0m\u001b[0mappend\u001b[0m\u001b[1;33m(\u001b[0m\u001b[0mewerr3\u001b[0m\u001b[1;33m[\u001b[0m\u001b[0mi\u001b[0m\u001b[1;33m]\u001b[0m\u001b[1;33m)\u001b[0m\u001b[1;33m\u001b[0m\u001b[0m\n",
      "\u001b[1;31mIndexError\u001b[0m: list index out of range"
     ]
    }
   ],
   "source": [
    "ewha4 = []\n",
    "ewerr4 = []\n",
    "hsv4 = []\n",
    "flux_r4 = []\n",
    "rot_v4 = []\n",
    "for i,v in enumerate(ewha_1):\n",
    "    if rot_v3[i] > 0. and rot_v3[i] < 2.:\n",
    "        ewha4.append(ewha3[i])\n",
    "        ewerr4.append(ewerr3[i])\n",
    "        hsv4.append(hsv3[i])\n",
    "        flux_r4.append(flux_r3[i])\n",
    "        rot_v4.append(rot_v3[i])"
   ]
  },
  {
   "cell_type": "code",
   "execution_count": 118,
   "metadata": {
    "collapsed": false
   },
   "outputs": [
    {
     "data": {
      "text/plain": [
       "233"
      ]
     },
     "execution_count": 118,
     "metadata": {},
     "output_type": "execute_result"
    }
   ],
   "source": [
    "len(ewha4)"
   ]
  },
  {
   "cell_type": "code",
   "execution_count": 119,
   "metadata": {
    "collapsed": false
   },
   "outputs": [
    {
     "data": {
      "text/plain": [
       "(9.0057453759371029, -6.8226169920398467)"
      ]
     },
     "execution_count": 119,
     "metadata": {},
     "output_type": "execute_result"
    }
   ],
   "source": [
    "from pymodelfit import LinearModel,QuadraticModel, PolynomialModel,FourierModel, LognormalModel\n",
    "linmod = LinearModel()\n",
    "linmod.fitData(flux_r4,ewha4)"
   ]
  },
  {
   "cell_type": "code",
   "execution_count": 120,
   "metadata": {
    "collapsed": false
   },
   "outputs": [],
   "source": [
    "linmod.plot()\n",
    "for i,k in enumerate(linmod.pardict):\n",
    "    plt.text(1.2,16-i,'%s=%f'%(k,linmod.pardict[k]),fontsize=16)\n",
    "plt.show()"
   ]
  },
  {
   "cell_type": "code",
   "execution_count": null,
   "metadata": {
    "collapsed": true
   },
   "outputs": [],
   "source": []
  }
 ],
 "metadata": {
  "anaconda-cloud": {},
  "kernelspec": {
   "display_name": "Python 2",
   "language": "python",
   "name": "python2"
  },
  "language_info": {
   "codemirror_mode": {
    "name": "ipython",
    "version": 2
   },
   "file_extension": ".py",
   "mimetype": "text/x-python",
   "name": "python",
   "nbconvert_exporter": "python",
   "pygments_lexer": "ipython2",
   "version": "2.7.12"
  }
 },
 "nbformat": 4,
 "nbformat_minor": 1
}
