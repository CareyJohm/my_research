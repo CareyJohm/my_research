{
 "cells": [
  {
   "cell_type": "code",
   "execution_count": 1,
   "metadata": {
    "collapsed": true
   },
   "outputs": [],
   "source": [
    "import pandas as pd\n",
    "import os\n",
    "os.chdir(\"/media/careyjohn/DATA/kepler_ptf_research/k2_c4/python_Kepler_data_k2c4/results\")\n",
    "column_names = ['EPIC','Period','']  \n",
    "\n",
    "df = pd.DataFrame([ ], columns = column_names)\n",
    "df.to_csv('K2_M_C1_epic_period.csv', index=False)"
   ]
  },
  {
   "cell_type": "code",
   "execution_count": 2,
   "metadata": {
    "collapsed": true
   },
   "outputs": [],
   "source": [
    "def append_csv(x1, x2):\n",
    "\n",
    "    df = pd.read_csv('K2_M_C1_epic_period.csv')\n",
    "    column_names = ['EPIC','Period']  \n",
    "    \n",
    "    if x1 not in list(df['EPIC'])  :\n",
    "    \n",
    "    \n",
    "        df2 = pd.DataFrame([[x1, x2]], columns = column_names)\n",
    "\n",
    "        df_add = df.append(df2)\n",
    "\n",
    "        df_add.to_csv('K2_M_C1_epic_period.csv', index = False)\n",
    "    #else:\n",
    "        #print x3,'already exists'"
   ]
  },
  {
   "cell_type": "code",
   "execution_count": 1,
   "metadata": {
    "collapsed": true
   },
   "outputs": [],
   "source": [
    "from matplotlib import pyplot as plt\n",
    "import pyfits, os, sys, matplotlib, pylab\n",
    "import numpy as np\n",
    "from gatspy import periodic\n",
    "import pandas as pd\n",
    "\n",
    "#os.chdir(\"C:\\\\Users\\\\CareyJohn\\\\kplr_data_test\")  #change directory\n",
    "#os.chdir(\"/media/careyjohn/OS/Users/CareyJohn/Desktop/PSROC_klpr/K2_LLC_FITS/k2_camp1/ktwo201323410_C1\")\n",
    "\n",
    "def k2_llc_analysis(epic):\n",
    "    \n",
    "    os.chdir(\"D:/kepler_ptf_research/k2_c1/python_Kepler_data_k2c1/results/\")\n",
    "    \n",
    "    df =  pd.read_csv('K2_M_C1_epic_period.csv')\n",
    "    \n",
    "    if epic not in list(df['EPIC']):\n",
    "    \n",
    "        ID = \"ktwo\"+str(epic)\n",
    "\n",
    "        #os.chdir(\"C:/Users/CareyJohn/Desktop/PSROC_klpr/K2_LLC_FITS/k2_camp1/\"+ID+\"_C1\")\n",
    "        #os.chdir(\"D:/kepler_ptf_research/k2_c1/python_Kepler_data_k2c1\"+ID+\"_C1\")\n",
    "        \n",
    "        #os.chdir(\"D:/kepler_ptf_research/k2_c4/python_Kepler_data_k2c4\")\n",
    "        os.chdir(\"/media/careyjohn/DATA/kepler_ptf_research/k2_c4/python_Kepler_data_k2c4\")\n",
    "        #nowpath = os.getcwd()\n",
    "        #print (nowpath)\n",
    "\n",
    "        data = pyfits.open(ID+\"-c04_llc.fits\")  #open the kepler fits data\n",
    "        print (data.info())\n",
    "\n",
    "        time = data[1].data.field('TIME')\n",
    "        sap_flux=data[1].data.field('SAP_FLUX')\n",
    "        sap_flux_err=data[1].data.field('SAP_FLUX_ERR')\n",
    "        pdcsap_flux=data[1].data.field('PDCSAP_FLUX')\n",
    "        pdcsap_flux_err=data[1].data.field('PDCSAP_FLUX_ERR')\n",
    "\n",
    "\n",
    "        #plt.plot(time,pdcsap_flux)\n",
    "        #plt.show()\n",
    "\n",
    "        lc=zip(time,sap_flux,sap_flux_err,pdcsap_flux,pdcsap_flux_err)  #zip the open data \n",
    "\n",
    "        #print(list(lc))\n",
    "        #os.chdir(\"..\")\n",
    "        #os.chdir(\"D:/kepler_ptf_research/k2_c1/python_Kepler_data_k2c4/results/\")\n",
    "        os.chdir(\"/media/careyjohn/DATA/kepler_ptf_research/k2_c4/python_Kepler_data_k2c4/results\")\n",
    "        if not os.path.exists(\"ktwo\"+str(epic)+\"_C4\"):\n",
    "            os.mkdir(\"ktwo\"+str(epic)+\"_C4\")\n",
    "        \n",
    "        #os.chdir(\"D:/kepler_ptf_research/k2_c1/python_Kepler_data_k2c4/results/ktwo\"+str(epic)+\"_C1\")\n",
    "        os.chdir(\"/media/careyjohn/DATA/kepler_ptf_research/k2_c4/python_Kepler_data_k2c4/results/ktwo\"+str(epic)+\"_C4\")\n",
    "        if not os.path.exists(ID+\"-c04_llc.fits.lc\"):\n",
    "\n",
    "            output_file = ID+\"-c04_llc.fits.lc\"  #write the zip of the open data in a text book\n",
    "            out = open(output_file,'w')\n",
    "            for i in lc:\n",
    "                write = '%s %s %s %s %s' %(i[0],i[1],i[2],i[3],i[4])\n",
    "                out.write(write+'\\n')\n",
    "            out.close()\n",
    "\n",
    "        filej = open( ID+\"-c04_llc.fits.lc\")\n",
    "\n",
    "        datar = np.loadtxt( filej, dtype={'names':('time', '2', '3', 'flux', 'err'), 'formats':('f4','f4','f4','f4','f4')})\n",
    "\n",
    "\n",
    "\n",
    "        masknan = -np.isnan(datar['flux']) # 遮閉掉nan的值, 加上'-'號是為了讓nan=false;數值=true\n",
    "        masknan_err = -np.isnan(datar['err'])\n",
    "\n",
    "        #print(data['flux'])\n",
    "        #print(np.isnan(data['flux']))\n",
    "        #print(masknan)\n",
    "        #print(data['flux'][masknan])\n",
    "\n",
    "        time = datar['time'][masknan]\n",
    "        flux = datar['flux'][masknan]/np.mean(datar['flux'][masknan])  # 之後會被動手腳\n",
    "        flux_raw = datar['flux'][masknan]/np.mean(datar['flux'][masknan])# 為了上一個而留下的替代品\n",
    "        err = datar['err'][masknan_err]/np.mean(datar['err'][masknan])\n",
    "        #print(time)\n",
    "        #print(flux)\n",
    "        #print(flux_raw)\n",
    "\n",
    "        fluxC = np.zeros(len(flux))\n",
    "        errC = np.zeros(len(err))\n",
    "\n",
    "        separationtime=[]\n",
    "        separationtime.append(0)\n",
    "\n",
    "        for i in range(len(time)-1):\n",
    "            if time[i+1]-time[i] > 3*(time[2]-time[1]):\n",
    "                separationtime.append(i)\n",
    "        separationtime.append(len(time))\n",
    "        binsize = 10\n",
    "        for k in range(len(separationtime)-1):\n",
    "            #print(k)\n",
    "            #take 10 points mean and replace it \n",
    "            for i in range(separationtime[k],separationtime[k+1]):\n",
    "\n",
    "                if i >= (separationtime[k]+binsize) and i <= (separationtime[k+1]-binsize):\n",
    "                    fluxC[i] = np.median(flux[i-binsize:i+binsize])\n",
    "                    errC[i] = np.median(flux[i-binsize:i+binsize])\n",
    "                else:\n",
    "                    fluxC[i] = flux[i]\n",
    "                    errC[i] = err[i]\n",
    "            #plt.plot(time,flux_raw)\n",
    "            #plt.scatter(time,flux_raw)\n",
    "            #plt.plot(time,fluxC)\n",
    "            #plt.scatter(time,fluxC)\n",
    "            #plt.show()\n",
    "            #plt.clf()\n",
    "            #print (fluxC)\n",
    "            #print (flux_raw)\n",
    "\n",
    "            #obseverd subtract calculate\n",
    "            fluxdiff = flux - fluxC\n",
    "\n",
    "            #remove the peak value which > 1 sigam\n",
    "            maskpeak = fluxdiff > 1.0*fluxdiff.std()\n",
    "\n",
    "            for n,i in enumerate(maskpeak):\n",
    "                if i:\n",
    "                    if n >= (separationtime[k]+binsize) and n <= (separationtime[k+1]-binsize):\n",
    "                        flux[n] = np.median(flux[n-binsize:n+binsize])\n",
    "                    else:\n",
    "                        flux[n] = flux[n]\n",
    "        plt.plot(time,flux_raw, 'r')\n",
    "        plt.plot(time,flux_raw, '.')\n",
    "        plt.scatter(time,flux_raw)\n",
    "        plt.plot(time,fluxC)\n",
    "        plt.scatter(time,fluxC)\n",
    "        plt.xlabel('Time(BJD - 2454833)')\n",
    "        plt.ylabel('Normalized flux')\n",
    "        plt.xlim(1976,1980)\n",
    "        plt.show()\n",
    "        plt.clf()\n",
    "        print (fluxC)\n",
    "        print (flux_raw)\n",
    "\n",
    "        model = periodic.LombScargle(fit_period = True)\n",
    "\n",
    "        model.optimizer.period_range = ( 0.1, 79.0)\n",
    "\n",
    "        model.fit(time, flux);\n",
    "\n",
    "        model.best_period\n",
    "\n",
    "        P = model.best_period\n",
    "\n",
    "        print(epic, P)\n",
    "        \n",
    "        os.chdir(\"/media/careyjohn/DATA/kepler_ptf_research/k2_c4/python_Kepler_data_k2c4/results\")\n",
    "        \n",
    "        #if P > 79.0:   #這裡LSP的週期測試上限為79.0 days，若分析時超過79.0，則代表分析資料或過程有問題，不能寫入csv檔並儲存\n",
    "        #    append_csv(epic, 0)  \n",
    "        #else:\n",
    "        #    append_csv(epic, P)\n",
    "            \n",
    "        #os.chdir(\"D:/kepler_ptf_research/k2_c1/python_Kepler_data_k2c1\")"
   ]
  },
  {
   "cell_type": "code",
   "execution_count": 3,
   "metadata": {
    "collapsed": false,
    "scrolled": false
   },
   "outputs": [
    {
     "name": "stdout",
     "output_type": "stream",
     "text": [
      "Filename: ktwo201917390-c01_llc.fits\n",
      "No.    Name         Type      Cards   Dimensions   Format\n",
      "0    PRIMARY     PrimaryHDU      54   ()              \n",
      "1    LIGHTCURVE  BinTableHDU    155   4022R x 20C   [D, E, J, E, E, E, E, E, E, J, D, E, D, E, D, E, D, E, E, E]   \n",
      "2    APERTURE    ImageHDU        48   (18, 18)     int32   \n"
     ]
    },
    {
     "name": "stderr",
     "output_type": "stream",
     "text": [
      "C:\\Users\\CareyJohn\\Anaconda3\\lib\\site-packages\\pyfits\\util.py:893: UserWarning: Could not find appropriate MS Visual C Runtime library or library is corrupt/misconfigured; cannot determine whether your file object was opened in append mode.  Please consider using a file object opened in write mode instead.\n",
      "  'Could not find appropriate MS Visual C Runtime '\n"
     ]
    },
    {
     "name": "stdout",
     "output_type": "stream",
     "text": [
      "None\n"
     ]
    },
    {
     "name": "stderr",
     "output_type": "stream",
     "text": [
      "C:\\Users\\CareyJohn\\Anaconda3\\lib\\site-packages\\ipykernel\\__main__.py:56: DeprecationWarning: numpy boolean negative, the `-` operator, is deprecated, use the `~` operator or the logical_not function instead.\n",
      "C:\\Users\\CareyJohn\\Anaconda3\\lib\\site-packages\\ipykernel\\__main__.py:57: DeprecationWarning: numpy boolean negative, the `-` operator, is deprecated, use the `~` operator or the logical_not function instead.\n"
     ]
    },
    {
     "name": "stdout",
     "output_type": "stream",
     "text": [
      "Finding optimal frequency:\n",
      " - Estimated peak width = 0.0785\n",
      " - Using 5 steps per peak; omega_step = 0.0157\n",
      " - User-specified period range:  0.1 to 80\n",
      " - Computing periods at 4000 steps\n",
      "Zooming-in on 5 candidate peaks:\n",
      " - Computing periods at 995 steps\n",
      "0.707796710433\n"
     ]
    }
   ],
   "source": [
    "k2_llc_analysis(201631069)"
   ]
  },
  {
   "cell_type": "code",
   "execution_count": 8,
   "metadata": {
    "collapsed": false,
    "scrolled": true
   },
   "outputs": [],
   "source": [
    "#data_list = [201842163, 201909533, 201917390]\n",
    "#for i in range(len(data_list)):\n",
    "#    k2_llc_analysis(data_list[i])"
   ]
  },
  {
   "cell_type": "code",
   "execution_count": 17,
   "metadata": {
    "collapsed": false
   },
   "outputs": [
    {
     "data": {
      "text/plain": [
       "'D:\\\\kepler_ptf_research\\\\k2_c1'"
      ]
     },
     "execution_count": 17,
     "metadata": {},
     "output_type": "execute_result"
    }
   ],
   "source": [
    "os.getcwd()"
   ]
  },
  {
   "cell_type": "code",
   "execution_count": 18,
   "metadata": {
    "collapsed": true
   },
   "outputs": [],
   "source": [
    "dfs = pd.read_csv('ptf_ha_positive_sub_k2c1.csv')"
   ]
  },
  {
   "cell_type": "code",
   "execution_count": 20,
   "metadata": {
    "collapsed": false
   },
   "outputs": [
    {
     "data": {
      "text/plain": [
       "1970"
      ]
     },
     "execution_count": 20,
     "metadata": {},
     "output_type": "execute_result"
    }
   ],
   "source": [
    "len(dfs['EPIC'])"
   ]
  },
  {
   "cell_type": "code",
   "execution_count": 21,
   "metadata": {
    "collapsed": true
   },
   "outputs": [],
   "source": [
    "os.chdir(\"D:/kepler_ptf_research/k2_c1/python_Kepler_data_k2c1\")"
   ]
  },
  {
   "cell_type": "code",
   "execution_count": null,
   "metadata": {
    "collapsed": true
   },
   "outputs": [
    {
     "name": "stdout",
     "output_type": "stream",
     "text": [
      "Filename: ktwo201136343-c01_llc.fits\n",
      "No.    Name         Type      Cards   Dimensions   Format\n",
      "0    PRIMARY     PrimaryHDU      54   ()              \n",
      "1    LIGHTCURVE  BinTableHDU    155   4022R x 20C   [D, E, J, E, E, E, E, E, E, J, D, E, D, E, D, E, D, E, E, E]   \n",
      "2    APERTURE    ImageHDU        48   (15, 14)     int32   \n"
     ]
    },
    {
     "name": "stderr",
     "output_type": "stream",
     "text": [
      "C:\\Users\\CareyJohn\\Anaconda3\\lib\\site-packages\\pyfits\\util.py:893: UserWarning: Could not find appropriate MS Visual C Runtime library or library is corrupt/misconfigured; cannot determine whether your file object was opened in append mode.  Please consider using a file object opened in write mode instead.\n",
      "  'Could not find appropriate MS Visual C Runtime '\n",
      "C:\\Users\\CareyJohn\\Anaconda3\\lib\\site-packages\\ipykernel\\__main__.py:65: DeprecationWarning: numpy boolean negative, the `-` operator, is deprecated, use the `~` operator or the logical_not function instead.\n",
      "C:\\Users\\CareyJohn\\Anaconda3\\lib\\site-packages\\ipykernel\\__main__.py:66: DeprecationWarning: numpy boolean negative, the `-` operator, is deprecated, use the `~` operator or the logical_not function instead.\n"
     ]
    },
    {
     "name": "stdout",
     "output_type": "stream",
     "text": [
      "None\n",
      "Finding optimal frequency:\n",
      " - Estimated peak width = 0.0785\n",
      " - Using 5 steps per peak; omega_step = 0.0157\n",
      " - User-specified period range:  0.1 to 70\n",
      " - Computing periods at 3995 steps\n",
      "Zooming-in on 5 candidate peaks:\n",
      " - Computing periods at 995 steps\n",
      "201136343 0.796080272781\n",
      "Filename: ktwo201134862-c01_llc.fits\n",
      "No.    Name         Type      Cards   Dimensions   Format\n",
      "0    PRIMARY     PrimaryHDU      54   ()              \n",
      "1    LIGHTCURVE  BinTableHDU    155   4022R x 20C   [D, E, J, E, E, E, E, E, E, J, D, E, D, E, D, E, D, E, E, E]   \n",
      "2    APERTURE    ImageHDU        48   (15, 14)     int32   \n",
      "None\n",
      "Finding optimal frequency:\n",
      " - Estimated peak width = 0.0785\n",
      " - Using 5 steps per peak; omega_step = 0.0157\n",
      " - User-specified period range:  0.1 to 70\n",
      " - Computing periods at 3999 steps\n",
      "Zooming-in on 5 candidate peaks:\n",
      " - Computing periods at 1000 steps\n",
      "201134862 84.8321897182\n",
      "Filename: ktwo201140566-c01_llc.fits\n",
      "No.    Name         Type      Cards   Dimensions   Format\n",
      "0    PRIMARY     PrimaryHDU      54   ()              \n",
      "1    LIGHTCURVE  BinTableHDU    155   4022R x 20C   [D, E, J, E, E, E, E, E, E, J, D, E, D, E, D, E, D, E, E, E]   \n",
      "2    APERTURE    ImageHDU        48   (15, 13)     int32   \n",
      "None\n",
      "Finding optimal frequency:\n",
      " - Estimated peak width = 0.0785\n",
      " - Using 5 steps per peak; omega_step = 0.0157\n",
      " - User-specified period range:  0.1 to 70\n",
      " - Computing periods at 3999 steps\n",
      "Zooming-in on 5 candidate peaks:\n",
      " - Computing periods at 1000 steps\n",
      "201140566 84.8321897182\n",
      "Filename: ktwo201147085-c01_llc.fits\n",
      "No.    Name         Type      Cards   Dimensions   Format\n",
      "0    PRIMARY     PrimaryHDU      54   ()              \n",
      "1    LIGHTCURVE  BinTableHDU    155   4022R x 20C   [D, E, J, E, E, E, E, E, E, J, D, E, D, E, D, E, D, E, E, E]   \n",
      "2    APERTURE    ImageHDU        48   (16, 15)     int32   \n",
      "None\n",
      "Finding optimal frequency:\n",
      " - Estimated peak width = 0.0785\n",
      " - Using 5 steps per peak; omega_step = 0.0157\n",
      " - User-specified period range:  0.1 to 70\n",
      " - Computing periods at 3999 steps\n",
      "Zooming-in on 5 candidate peaks:\n",
      " - Computing periods at 995 steps\n",
      "201147085 26.2886310847\n",
      "Filename: ktwo201147133-c01_llc.fits\n",
      "No.    Name         Type      Cards   Dimensions   Format\n",
      "0    PRIMARY     PrimaryHDU      54   ()              \n",
      "1    LIGHTCURVE  BinTableHDU    155   4022R x 20C   [D, E, J, E, E, E, E, E, E, J, D, E, D, E, D, E, D, E, E, E]   \n",
      "2    APERTURE    ImageHDU        48   (15, 14)     int32   \n",
      "None\n",
      "Finding optimal frequency:\n",
      " - Estimated peak width = 0.0785\n",
      " - Using 5 steps per peak; omega_step = 0.0157\n",
      " - User-specified period range:  0.1 to 70\n",
      " - Computing periods at 3999 steps\n",
      "Zooming-in on 5 candidate peaks:\n",
      " - Computing periods at 1000 steps\n",
      "201147133 32.7375093247\n",
      "Filename: ktwo201148176-c01_llc.fits\n",
      "No.    Name         Type      Cards   Dimensions   Format\n",
      "0    PRIMARY     PrimaryHDU      54   ()              \n",
      "1    LIGHTCURVE  BinTableHDU    155   4022R x 20C   [D, E, J, E, E, E, E, E, E, J, D, E, D, E, D, E, D, E, E, E]   \n",
      "2    APERTURE    ImageHDU        48   (15, 15)     int32   \n",
      "None\n",
      "Finding optimal frequency:\n",
      " - Estimated peak width = 0.0785\n",
      " - Using 5 steps per peak; omega_step = 0.0157\n",
      " - User-specified period range:  0.1 to 70\n",
      " - Computing periods at 3999 steps\n",
      "Zooming-in on 5 candidate peaks:\n",
      " - Computing periods at 995 steps\n",
      "201148176 20.6804108021\n",
      "Filename: ktwo201148594-c01_llc.fits\n",
      "No.    Name         Type      Cards   Dimensions   Format\n",
      "0    PRIMARY     PrimaryHDU      54   ()              \n",
      "1    LIGHTCURVE  BinTableHDU    155   4022R x 20C   [D, E, J, E, E, E, E, E, E, J, D, E, D, E, D, E, D, E, E, E]   \n",
      "2    APERTURE    ImageHDU        48   (14, 14)     int32   \n",
      "None\n",
      "Finding optimal frequency:\n",
      " - Estimated peak width = 0.0785\n",
      " - Using 5 steps per peak; omega_step = 0.0157\n",
      " - User-specified period range:  0.1 to 70\n",
      " - Computing periods at 3999 steps\n",
      "Zooming-in on 5 candidate peaks:\n",
      " - Computing periods at 1000 steps\n",
      "201148594 38.1680354446\n",
      "Filename: ktwo201148702-c01_llc.fits\n",
      "No.    Name         Type      Cards   Dimensions   Format\n",
      "0    PRIMARY     PrimaryHDU      54   ()              \n",
      "1    LIGHTCURVE  BinTableHDU    155   4022R x 20C   [D, E, J, E, E, E, E, E, E, J, D, E, D, E, D, E, D, E, E, E]   \n",
      "2    APERTURE    ImageHDU        48   (16, 15)     int32   \n",
      "None\n",
      "Finding optimal frequency:\n",
      " - Estimated peak width = 0.0785\n",
      " - Using 5 steps per peak; omega_step = 0.0157\n",
      " - User-specified period range:  0.1 to 70\n",
      " - Computing periods at 3999 steps\n",
      "Zooming-in on 5 candidate peaks:\n",
      " - Computing periods at 1000 steps\n",
      "201148702 84.832217121\n",
      "Filename: ktwo201149246-c01_llc.fits\n",
      "No.    Name         Type      Cards   Dimensions   Format\n",
      "0    PRIMARY     PrimaryHDU      54   ()              \n",
      "1    LIGHTCURVE  BinTableHDU    155   4022R x 20C   [D, E, J, E, E, E, E, E, E, J, D, E, D, E, D, E, D, E, E, E]   \n",
      "2    APERTURE    ImageHDU        48   (14, 13)     int32   \n",
      "None\n",
      "Finding optimal frequency:\n",
      " - Estimated peak width = 0.0785\n",
      " - Using 5 steps per peak; omega_step = 0.0157\n",
      " - User-specified period range:  0.1 to 70\n",
      " - Computing periods at 3999 steps\n",
      "Zooming-in on 5 candidate peaks:\n",
      " - Computing periods at 1000 steps\n",
      "201149246 10.9749974227\n",
      "Filename: ktwo201149362-c01_llc.fits\n",
      "No.    Name         Type      Cards   Dimensions   Format\n",
      "0    PRIMARY     PrimaryHDU      54   ()              \n",
      "1    LIGHTCURVE  BinTableHDU    155   4022R x 20C   [D, E, J, E, E, E, E, E, E, J, D, E, D, E, D, E, D, E, E, E]   \n",
      "2    APERTURE    ImageHDU        48   (15, 14)     int32   \n",
      "None\n",
      "Finding optimal frequency:\n",
      " - Estimated peak width = 0.0785\n",
      " - Using 5 steps per peak; omega_step = 0.0157\n",
      " - User-specified period range:  0.1 to 70\n",
      " - Computing periods at 3999 steps\n",
      "Zooming-in on 5 candidate peaks:\n",
      " - Computing periods at 1000 steps\n",
      "201149362 10.4480203208\n",
      "Filename: ktwo201149963-c01_llc.fits\n",
      "No.    Name         Type      Cards   Dimensions   Format\n",
      "0    PRIMARY     PrimaryHDU      54   ()              \n",
      "1    LIGHTCURVE  BinTableHDU    155   4022R x 20C   [D, E, J, E, E, E, E, E, E, J, D, E, D, E, D, E, D, E, E, E]   \n",
      "2    APERTURE    ImageHDU        48   (15, 14)     int32   \n",
      "None\n",
      "Finding optimal frequency:\n",
      " - Estimated peak width = 0.0785\n",
      " - Using 5 steps per peak; omega_step = 0.0157\n",
      " - User-specified period range:  0.1 to 70\n",
      " - Computing periods at 3999 steps\n",
      "Zooming-in on 5 candidate peaks:\n",
      " - Computing periods at 995 steps\n",
      "201149963 47.0490388506\n",
      "Filename: ktwo201151249-c01_llc.fits\n",
      "No.    Name         Type      Cards   Dimensions   Format\n",
      "0    PRIMARY     PrimaryHDU      54   ()              \n",
      "1    LIGHTCURVE  BinTableHDU    155   4022R x 20C   [D, E, J, E, E, E, E, E, E, J, D, E, D, E, D, E, D, E, E, E]   \n",
      "2    APERTURE    ImageHDU        48   (15, 14)     int32   \n",
      "None\n",
      "Finding optimal frequency:\n",
      " - Estimated peak width = 0.0785\n",
      " - Using 5 steps per peak; omega_step = 0.0157\n",
      " - User-specified period range:  0.1 to 70\n",
      " - Computing periods at 3999 steps\n",
      "Zooming-in on 5 candidate peaks:\n",
      " - Computing periods at 1000 steps\n",
      "201151249 46.4486304259\n",
      "Filename: ktwo201151496-c01_llc.fits\n",
      "No.    Name         Type      Cards   Dimensions   Format\n",
      "0    PRIMARY     PrimaryHDU      54   ()              \n",
      "1    LIGHTCURVE  BinTableHDU    155   4022R x 20C   [D, E, J, E, E, E, E, E, E, J, D, E, D, E, D, E, D, E, E, E]   \n",
      "2    APERTURE    ImageHDU        48   (15, 13)     int32   \n",
      "None\n",
      "Finding optimal frequency:\n",
      " - Estimated peak width = 0.0785\n",
      " - Using 5 steps per peak; omega_step = 0.0157\n",
      " - User-specified period range:  0.1 to 70\n",
      " - Computing periods at 3999 steps\n",
      "Zooming-in on 5 candidate peaks:\n",
      " - Computing periods at 1000 steps\n",
      "201151496 43.9984463756\n",
      "Filename: ktwo201151911-c01_llc.fits\n",
      "No.    Name         Type      Cards   Dimensions   Format\n",
      "0    PRIMARY     PrimaryHDU      54   ()              \n",
      "1    LIGHTCURVE  BinTableHDU    155   4022R x 20C   [D, E, J, E, E, E, E, E, E, J, D, E, D, E, D, E, D, E, E, E]   \n",
      "2    APERTURE    ImageHDU        48   (14, 13)     int32   \n",
      "None\n",
      "Finding optimal frequency:\n",
      " - Estimated peak width = 0.0785\n",
      " - Using 5 steps per peak; omega_step = 0.0157\n",
      " - User-specified period range:  0.1 to 70\n",
      " - Computing periods at 3999 steps\n",
      "Zooming-in on 5 candidate peaks:\n",
      " - Computing periods at 1000 steps\n",
      "201151911 45.6021579437\n",
      "Filename: ktwo201152644-c01_llc.fits\n",
      "No.    Name         Type      Cards   Dimensions   Format\n",
      "0    PRIMARY     PrimaryHDU      54   ()              \n",
      "1    LIGHTCURVE  BinTableHDU    155   4022R x 20C   [D, E, J, E, E, E, E, E, E, J, D, E, D, E, D, E, D, E, E, E]   \n",
      "2    APERTURE    ImageHDU        48   (15, 14)     int32   \n",
      "None\n",
      "Finding optimal frequency:\n",
      " - Estimated peak width = 0.0785\n",
      " - Using 5 steps per peak; omega_step = 0.0157\n",
      " - User-specified period range:  0.1 to 70\n",
      " - Computing periods at 3999 steps\n"
     ]
    }
   ],
   "source": [
    "for i in range(len(dfs['EPIC'])):\n",
    "    k2_llc_analysis(int(dfs['EPIC'][i]))"
   ]
  },
  {
   "cell_type": "code",
   "execution_count": 11,
   "metadata": {
    "collapsed": true
   },
   "outputs": [],
   "source": [
    "def k2_llc_lightcurve(epic):\n",
    "        ID = \"ktwo\"+str(epic)\n",
    "        os.chdir(\"D:/kepler_ptf_research/k2_c1/python_Kepler_data_k2c1/results/ktwo\"+str(epic)+\"_C1\")\n",
    "        filej = open( ID+\"-c01_llc.fits.lc\")\n",
    "\n",
    "        datar = np.loadtxt( filej, dtype={'names':('time', '2', '3', 'flux', 'err'), 'formats':('f4','f4','f4','f4','f4')})\n",
    "\n",
    "\n",
    "\n",
    "        masknan = -np.isnan(datar['flux']) # 遮閉掉nan的值, 加上'-'號是為了讓nan=false;數值=true\n",
    "        masknan_err = -np.isnan(datar['err'])\n",
    "\n",
    "        #print(data['flux'])\n",
    "        #print(np.isnan(data['flux']))\n",
    "        #print(masknan)\n",
    "        #print(data['flux'][masknan])\n",
    "\n",
    "        time = datar['time'][masknan]\n",
    "        flux = datar['flux'][masknan]/np.mean(datar['flux'][masknan])  # 之後會被動手腳\n",
    "        flux_raw = datar['flux'][masknan]/np.mean(datar['flux'][masknan])# 為了上一個而留下的替代品\n",
    "        err = datar['err'][masknan_err]/np.mean(datar['err'][masknan])\n",
    "        #print(time)\n",
    "        #print(flux)\n",
    "        #print(flux_raw)\n",
    "\n",
    "        fluxC = np.zeros(len(flux))\n",
    "        errC = np.zeros(len(err))\n",
    "\n",
    "        separationtime=[]\n",
    "        separationtime.append(0)\n",
    "\n",
    "        for i in range(len(time)-1):\n",
    "            if time[i+1]-time[i] > 3*(time[2]-time[1]):\n",
    "                separationtime.append(i)\n",
    "        separationtime.append(len(time))\n",
    "        binsize = 10\n",
    "        for k in range(len(separationtime)-1):\n",
    "            #print(k)\n",
    "            #take 10 points mean and replace it \n",
    "            for i in range(separationtime[k],separationtime[k+1]):\n",
    "\n",
    "                if i >= (separationtime[k]+binsize) and i <= (separationtime[k+1]-binsize):\n",
    "                    fluxC[i] = np.median(flux[i-binsize:i+binsize])\n",
    "                    errC[i] = np.median(flux[i-binsize:i+binsize])\n",
    "                else:\n",
    "                    fluxC[i] = flux[i]\n",
    "                    errC[i] = err[i]\n",
    "            #plt.plot(time,flux_raw)\n",
    "            #plt.scatter(time,flux_raw)\n",
    "            #plt.plot(time,fluxC)\n",
    "            #plt.scatter(time,fluxC)\n",
    "            #plt.show()\n",
    "            #plt.clf()\n",
    "            #print (fluxC)\n",
    "            #print (flux_raw)\n",
    "\n",
    "            #obseverd subtract calculate\n",
    "            fluxdiff = flux - fluxC\n",
    "\n",
    "            #remove the peak value which > 1 sigam\n",
    "            maskpeak = fluxdiff > 1.0*fluxdiff.std()\n",
    "\n",
    "            for n,i in enumerate(maskpeak):\n",
    "                if i:\n",
    "                    if n >= (separationtime[k]+binsize) and n <= (separationtime[k+1]-binsize):\n",
    "                        flux[n] = np.median(flux[n-binsize:n+binsize])\n",
    "                    else:\n",
    "                        flux[n] = flux[n]\n",
    "        plt.plot(time,flux_raw, 'r')\n",
    "        plt.plot(time,flux_raw, '.')\n",
    "        plt.scatter(time,flux_raw)\n",
    "        plt.plot(time,fluxC)\n",
    "        plt.scatter(time,fluxC)\n",
    "        plt.xlabel('Time(BJD - 2454833)')\n",
    "        plt.ylabel('Normalized flux')\n",
    "        #plt.xlim(1976,1980)\n",
    "        plt.show()\n",
    "        plt.clf()"
   ]
  },
  {
   "cell_type": "code",
   "execution_count": 22,
   "metadata": {
    "collapsed": false
   },
   "outputs": [
    {
     "name": "stderr",
     "output_type": "stream",
     "text": [
      "C:\\Users\\CareyJohn\\Anaconda3\\lib\\site-packages\\ipykernel\\__main__.py:10: DeprecationWarning: numpy boolean negative, the `-` operator, is deprecated, use the `~` operator or the logical_not function instead.\n",
      "C:\\Users\\CareyJohn\\Anaconda3\\lib\\site-packages\\ipykernel\\__main__.py:11: DeprecationWarning: numpy boolean negative, the `-` operator, is deprecated, use the `~` operator or the logical_not function instead.\n"
     ]
    },
    {
     "data": {
      "image/png": "[encoded data removed]",
      "text/plain": [
       "<matplotlib.figure.Figure at 0x21bb41e6518>"
      ]
     },
     "metadata": {},
     "output_type": "display_data"
    }
   ],
   "source": [
    "k2_llc_lightcurve(201560437)"
   ]
  },
  {
   "cell_type": "code",
   "execution_count": null,
   "metadata": {
    "collapsed": true
   },
   "outputs": [],
   "source": []
  }
 ],
 "metadata": {
  "anaconda-cloud": {},
  "kernelspec": {
   "display_name": "Python [default]",
   "language": "python",
   "name": "python3"
  },
  "language_info": {
   "codemirror_mode": {
    "name": "ipython",
    "version": 3
   },
   "file_extension": ".py",
   "mimetype": "text/x-python",
   "name": "python",
   "nbconvert_exporter": "python",
   "pygments_lexer": "ipython3",
   "version": "3.5.2"
  }
 },
 "nbformat": 4,
 "nbformat_minor": 1
}
