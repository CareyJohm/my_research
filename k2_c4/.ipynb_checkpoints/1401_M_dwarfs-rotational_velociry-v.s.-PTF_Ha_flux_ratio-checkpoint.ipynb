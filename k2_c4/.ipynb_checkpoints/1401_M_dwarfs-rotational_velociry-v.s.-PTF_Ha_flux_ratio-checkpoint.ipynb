{
 "cells": [
  {
   "cell_type": "code",
   "execution_count": 1,
   "metadata": {
    "collapsed": true
   },
   "outputs": [],
   "source": [
    "import pandas as pd\n",
    "import pyfits as py\n",
    "from matplotlib import pyplot as plt\n",
    "import os\n",
    "import math as m\n",
    "import numpy as np\n",
    "import glob\n",
    "from scipy.optimize import curve_fit"
   ]
  },
  {
   "cell_type": "code",
   "execution_count": 2,
   "metadata": {
    "collapsed": false
   },
   "outputs": [
    {
     "name": "stdout",
     "output_type": "stream",
     "text": [
      "/media/careyjohn/DATA/kepler_ptf_research/k2_c4/python_Kepler_data_k2c4/results\n"
     ]
    }
   ],
   "source": [
    "cd ../../k2_c4/python_Kepler_data_k2c4/results/"
   ]
  },
  {
   "cell_type": "code",
   "execution_count": 24,
   "metadata": {
    "collapsed": true
   },
   "outputs": [],
   "source": [
    "dfs = pd.read_csv('K2_M_C4_epic_period.csv')"
   ]
  },
  {
   "cell_type": "code",
   "execution_count": 25,
   "metadata": {
    "collapsed": true
   },
   "outputs": [],
   "source": [
    "epic = dfs['EPIC']\n",
    "period = dfs['Period']"
   ]
  },
  {
   "cell_type": "code",
   "execution_count": 5,
   "metadata": {
    "collapsed": true
   },
   "outputs": [],
   "source": [
    "epic1 = []\n",
    "for i,v in enumerate(epic):\n",
    "    if period[i] != 0.:\n",
    "        epic1.append(epic[i])"
   ]
  },
  {
   "cell_type": "code",
   "execution_count": 6,
   "metadata": {
    "collapsed": false
   },
   "outputs": [
    {
     "data": {
      "text/plain": [
       "1507"
      ]
     },
     "execution_count": 6,
     "metadata": {},
     "output_type": "execute_result"
    }
   ],
   "source": [
    "len(epic1)"
   ]
  },
  {
   "cell_type": "code",
   "execution_count": 14,
   "metadata": {
    "collapsed": true
   },
   "outputs": [],
   "source": [
    "def find_epic(epic):\n",
    "    ID = \"ktwo\"+str(int(epic))\n",
    "    os.chdir(\"/media/careyjohn/DATA/kepler_ptf_research/k2_c4/python_PTF_data_k2c4/\"+ID+\"_C4\")  #windows\n",
    "    #os.chdir(\"/media/careyjohn/DATA/kepler_ptf_research/k2_c1/python_PTF_data_k2c1//\"+ID+\"_C1\")  #Linux\n",
    "    f11 = glob.glob('*f11*')\n",
    "    f12 = glob.glob('*f12*')\n",
    "    if f11[0][0:12] == f12[0][0:12]:\n",
    "        epic2.append(int(epic))\n",
    "    else:\n",
    "        print 'These were observed on different day'\n",
    "    os.chdir(\"/media/careyjohn/DATA/kepler_ptf_research/k2_c4/python_PTF_data_k2c4\")  #windows\n",
    "    #os.chdir(\"/media/careyjohn/DATA/kepler_ptf_research/k2_c1/python_PTF_data_k2c1\") #Linux"
   ]
  },
  {
   "cell_type": "code",
   "execution_count": 15,
   "metadata": {
    "collapsed": false,
    "scrolled": true
   },
   "outputs": [
    {
     "name": "stdout",
     "output_type": "stream",
     "text": [
      "These were observed on different day\n",
      "These were observed on different day\n",
      "These were observed on different day\n",
      "These were observed on different day\n",
      "These were observed on different day\n",
      "These were observed on different day\n",
      "These were observed on different day\n",
      "These were observed on different day\n",
      "These were observed on different day\n",
      "These were observed on different day\n",
      "These were observed on different day\n",
      "These were observed on different day\n",
      "These were observed on different day\n",
      "These were observed on different day\n",
      "These were observed on different day\n",
      "These were observed on different day\n",
      "These were observed on different day\n",
      "These were observed on different day\n",
      "These were observed on different day\n",
      "These were observed on different day\n",
      "These were observed on different day\n",
      "These were observed on different day\n",
      "These were observed on different day\n",
      "These were observed on different day\n",
      "These were observed on different day\n",
      "These were observed on different day\n",
      "These were observed on different day\n",
      "These were observed on different day\n",
      "These were observed on different day\n",
      "These were observed on different day\n",
      "These were observed on different day\n",
      "These were observed on different day\n",
      "These were observed on different day\n",
      "These were observed on different day\n",
      "These were observed on different day\n",
      "These were observed on different day\n",
      "These were observed on different day\n",
      "These were observed on different day\n",
      "These were observed on different day\n",
      "These were observed on different day\n",
      "These were observed on different day\n",
      "These were observed on different day\n",
      "These were observed on different day\n",
      "These were observed on different day\n",
      "These were observed on different day\n",
      "These were observed on different day\n",
      "These were observed on different day\n",
      "These were observed on different day\n",
      "These were observed on different day\n",
      "These were observed on different day\n",
      "These were observed on different day\n",
      "These were observed on different day\n",
      "These were observed on different day\n",
      "These were observed on different day\n",
      "These were observed on different day\n",
      "These were observed on different day\n",
      "These were observed on different day\n",
      "These were observed on different day\n",
      "These were observed on different day\n",
      "These were observed on different day\n",
      "These were observed on different day\n",
      "These were observed on different day\n",
      "These were observed on different day\n",
      "These were observed on different day\n",
      "These were observed on different day\n",
      "These were observed on different day\n",
      "These were observed on different day\n",
      "These were observed on different day\n",
      "These were observed on different day\n",
      "These were observed on different day\n",
      "These were observed on different day\n",
      "These were observed on different day\n",
      "These were observed on different day\n",
      "These were observed on different day\n",
      "These were observed on different day\n",
      "These were observed on different day\n",
      "These were observed on different day\n",
      "These were observed on different day\n",
      "These were observed on different day\n",
      "These were observed on different day\n",
      "These were observed on different day\n",
      "These were observed on different day\n",
      "These were observed on different day\n",
      "These were observed on different day\n",
      "These were observed on different day\n",
      "These were observed on different day\n",
      "These were observed on different day\n",
      "These were observed on different day\n",
      "These were observed on different day\n",
      "These were observed on different day\n",
      "These were observed on different day\n",
      "These were observed on different day\n",
      "These were observed on different day\n",
      "These were observed on different day\n",
      "These were observed on different day\n",
      "These were observed on different day\n",
      "These were observed on different day\n",
      "These were observed on different day\n",
      "These were observed on different day\n",
      "These were observed on different day\n",
      "These were observed on different day\n",
      "These were observed on different day\n",
      "These were observed on different day\n",
      "These were observed on different day\n",
      "These were observed on different day\n",
      "These were observed on different day\n"
     ]
    }
   ],
   "source": [
    "epic2 = []\n",
    "for i,v in enumerate(epic1):\n",
    "    find_epic(epic1[i])"
   ]
  },
  {
   "cell_type": "code",
   "execution_count": 16,
   "metadata": {
    "collapsed": false
   },
   "outputs": [
    {
     "data": {
      "text/plain": [
       "1401"
      ]
     },
     "execution_count": 16,
     "metadata": {},
     "output_type": "execute_result"
    }
   ],
   "source": [
    "len(epic2)"
   ]
  },
  {
   "cell_type": "code",
   "execution_count": 20,
   "metadata": {
    "collapsed": true
   },
   "outputs": [],
   "source": [
    "os.chdir(\"/media/careyjohn/DATA/kepler_ptf_research/k2_c4\")\n",
    "column_names = ['EPIC','RA','Dec','HSV','fH656/fH663','Period']  \n",
    "\n",
    "df = pd.DataFrame([ ], columns = column_names)\n",
    "df.to_csv('K2_C4_samePTFday_MD_epic_period.csv', index=False)"
   ]
  },
  {
   "cell_type": "code",
   "execution_count": 22,
   "metadata": {
    "collapsed": true
   },
   "outputs": [],
   "source": [
    "def append_csv(x1, x2, x3, x4, x5, x6):\n",
    "\n",
    "    df = pd.read_csv('K2_C4_samePTFday_MD_epic_period.csv')\n",
    "    column_names = ['EPIC','RA','Dec','HSV','fH656/fH663','Period'] \n",
    "    \n",
    "    if x1 not in list(df['EPIC'])  :\n",
    "    \n",
    "    \n",
    "        df2 = pd.DataFrame([[x1, x2, x3, x4, x5, x6]], columns = column_names)\n",
    "\n",
    "        df_add = df.append(df2)\n",
    "\n",
    "        df_add.to_csv('K2_C4_samePTFday_MD_epic_period.csv', index = False)"
   ]
  },
  {
   "cell_type": "code",
   "execution_count": 26,
   "metadata": {
    "collapsed": false
   },
   "outputs": [],
   "source": [
    "for i,v in enumerate(epic2):\n",
    "    for a,s in enumerate(epic):\n",
    "        if epic2[i]==epic[a]:\n",
    "            append_csv(epic[a], dfs['RA'][a], dfs['Dec'][a], dfs['HSV'][a], dfs['fH656/fH663'][a], period[a])"
   ]
  },
  {
   "cell_type": "code",
   "execution_count": 27,
   "metadata": {
    "collapsed": true
   },
   "outputs": [],
   "source": [
    "df3 = pd.read_csv('K2_C4_samePTFday_MD_epic_period.csv')"
   ]
  },
  {
   "cell_type": "code",
   "execution_count": 28,
   "metadata": {
    "collapsed": true
   },
   "outputs": [],
   "source": [
    "hsv = df3['HSV']\n",
    "period2 = df3['Period']\n",
    "flux_ratio = df3['fH656/fH663']"
   ]
  },
  {
   "cell_type": "code",
   "execution_count": 30,
   "metadata": {
    "collapsed": true
   },
   "outputs": [],
   "source": [
    "plt.scatter(period2, flux_ratio)\n",
    "plt.show()"
   ]
  },
  {
   "cell_type": "code",
   "execution_count": 33,
   "metadata": {
    "collapsed": true
   },
   "outputs": [],
   "source": [
    "df4 = pd.read_csv('m-dwarfs_samePTFdate_k2c4.csv')"
   ]
  },
  {
   "cell_type": "code",
   "execution_count": 34,
   "metadata": {
    "collapsed": true
   },
   "outputs": [],
   "source": [
    "radius = df4['Radius']"
   ]
  },
  {
   "cell_type": "code",
   "execution_count": 35,
   "metadata": {
    "collapsed": false
   },
   "outputs": [
    {
     "data": {
      "text/plain": [
       "1401"
      ]
     },
     "execution_count": 35,
     "metadata": {},
     "output_type": "execute_result"
    }
   ],
   "source": [
    "len(radius)"
   ]
  },
  {
   "cell_type": "code",
   "execution_count": 48,
   "metadata": {
    "collapsed": false
   },
   "outputs": [
    {
     "data": {
      "text/plain": [
       "0.10199999999999999"
      ]
     },
     "execution_count": 48,
     "metadata": {},
     "output_type": "execute_result"
    }
   ],
   "source": [
    "min(radius)"
   ]
  },
  {
   "cell_type": "code",
   "execution_count": 43,
   "metadata": {
    "collapsed": false
   },
   "outputs": [
    {
     "data": {
      "text/plain": [
       "0.217"
      ]
     },
     "execution_count": 43,
     "metadata": {},
     "output_type": "execute_result"
    }
   ],
   "source": [
    "6.955*1e5"
   ]
  },
  {
   "cell_type": "code",
   "execution_count": 49,
   "metadata": {
    "collapsed": false
   },
   "outputs": [],
   "source": [
    "rotational_vel = []\n",
    "for i,v in enumerate(radius):\n",
    "    rotational_vel.append((2.*3.141596*radius[i]*6.955*1e5)/(period2[i]*24.*86400.))"
   ]
  },
  {
   "cell_type": "code",
   "execution_count": 50,
   "metadata": {
    "collapsed": false
   },
   "outputs": [
    {
     "data": {
      "text/plain": [
       "1401"
      ]
     },
     "execution_count": 50,
     "metadata": {},
     "output_type": "execute_result"
    }
   ],
   "source": [
    "len(rotational_vel)"
   ]
  },
  {
   "cell_type": "code",
   "execution_count": 63,
   "metadata": {
    "collapsed": false
   },
   "outputs": [],
   "source": [
    "plt.scatter(rotational_vel, flux_ratio)\n",
    "plt.xlim(min(rotational_vel)-0.1, max(rotational_vel)+0.1)\n",
    "plt.ylim(min(flux_ratio)-0.1, max(flux_ratio)+0.1)\n",
    "plt.title('1401 M dwarfs - rotational velociry v.s. PTF H$a$ flux ratio')\n",
    "plt.xlabel('rotational velocity (km/s)')\n",
    "plt.ylabel('flux ratio (H$a$656/H$a$663)')\n",
    "plt.show()"
   ]
  },
  {
   "cell_type": "code",
   "execution_count": 52,
   "metadata": {
    "collapsed": false
   },
   "outputs": [
    {
     "data": {
      "text/plain": [
       "0.0062508242066741408"
      ]
     },
     "execution_count": 52,
     "metadata": {},
     "output_type": "execute_result"
    }
   ],
   "source": [
    "min(rotational_vel)"
   ]
  },
  {
   "cell_type": "code",
   "execution_count": null,
   "metadata": {
    "collapsed": true
   },
   "outputs": [],
   "source": []
  }
 ],
 "metadata": {
  "anaconda-cloud": {},
  "kernelspec": {
   "display_name": "Python 2",
   "language": "python",
   "name": "python2"
  },
  "language_info": {
   "codemirror_mode": {
    "name": "ipython",
    "version": 2
   },
   "file_extension": ".py",
   "mimetype": "text/x-python",
   "name": "python",
   "nbconvert_exporter": "python",
   "pygments_lexer": "ipython2",
   "version": "2.7.12"
  }
 },
 "nbformat": 4,
 "nbformat_minor": 1
}
