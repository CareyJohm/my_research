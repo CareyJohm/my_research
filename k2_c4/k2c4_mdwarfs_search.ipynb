{
 "cells": [
  {
   "cell_type": "code",
   "execution_count": 1,
   "metadata": {
    "collapsed": true
   },
   "outputs": [],
   "source": [
    "import pandas as pd\n",
    "import os \n",
    "import matplotlib.pyplot as plt\n",
    "import numpy as np"
   ]
  },
  {
   "cell_type": "code",
   "execution_count": 2,
   "metadata": {
    "collapsed": true
   },
   "outputs": [],
   "source": [
    "#os.chdir('D:\\kepler_ptf_research\\k2_c4')\n",
    "os.chdir('/media/careyjohn/DATA/kepler_ptf_research/k2_c4')"
   ]
  },
  {
   "cell_type": "code",
   "execution_count": 3,
   "metadata": {
    "collapsed": false
   },
   "outputs": [],
   "source": [
    "df = pd.read_csv('k2_c4_m-type.csv')"
   ]
  },
  {
   "cell_type": "code",
   "execution_count": 4,
   "metadata": {
    "collapsed": false
   },
   "outputs": [
    {
     "data": {
      "text/plain": [
       "2852"
      ]
     },
     "execution_count": 4,
     "metadata": {},
     "output_type": "execute_result"
    }
   ],
   "source": [
    "len(df['Radius'])"
   ]
  },
  {
   "cell_type": "code",
   "execution_count": 5,
   "metadata": {
    "collapsed": false
   },
   "outputs": [
    {
     "data": {
      "text/plain": [
       "numpy.float64"
      ]
     },
     "execution_count": 5,
     "metadata": {},
     "output_type": "execute_result"
    }
   ],
   "source": [
    "type(df['Radius'][1])"
   ]
  },
  {
   "cell_type": "code",
   "execution_count": 6,
   "metadata": {
    "collapsed": false
   },
   "outputs": [
    {
     "data": {
      "text/plain": [
       "Index([u'EPIC', u'RA', u'Dec', u'Data Availability', u'KepMag', u'HIP', u'TYC',\n",
       "       u'UCAC', u'2MASS', u'SDSS', u'Object type', u'Kepflag', u'pmra',\n",
       "       u'e_pmra', u'pmdec', u'e_pmdec', u'plx', u'e_plx', u'Bmag', u'e_Bmag',\n",
       "       u'Vmag', u'e_Vmag', u'umag', u'e_umag', u'gmag', u'e_gmag', u'rmag',\n",
       "       u'e_rmag', u'imag', u'e_imag', u'zmag', u'e_zmag', u'Jmag', u'e_Jmag',\n",
       "       u'Hmag', u'e_Hmag', u'Kmag', u'e_Kmag', u'Teff', u'logg', u'[Fe/H]',\n",
       "       u'Radius', u'mass', u'rho', u'Distance', u'E(B-V)'],\n",
       "      dtype='object')"
      ]
     },
     "execution_count": 6,
     "metadata": {},
     "output_type": "execute_result"
    }
   ],
   "source": [
    "df.columns"
   ]
  },
  {
   "cell_type": "code",
   "execution_count": 7,
   "metadata": {
    "collapsed": false,
    "scrolled": true
   },
   "outputs": [
    {
     "name": "stdout",
     "output_type": "stream",
     "text": [
      "63.281\n",
      "154.998\n",
      "89.814\n",
      "89.859\n",
      "78.26\n",
      "140.214\n",
      "95.739\n",
      "81.027\n",
      "116.9\n",
      "104.944\n",
      "69.33\n",
      "126.237\n",
      "125.689\n",
      "123.926\n",
      "77.84\n",
      "162.085\n",
      "120.416\n",
      "167.799\n",
      "67.474\n",
      "83.043\n",
      "106.08\n",
      "135.178\n",
      "71.261\n",
      "102.432\n",
      "69.167\n",
      "53.53\n",
      "88.417\n",
      "247.408\n",
      "63.002\n",
      "63.684\n",
      "127.134\n",
      "65.879\n",
      "64.753\n",
      "83.837\n",
      "93.676\n",
      "92.28\n",
      "54.802\n",
      "65.659\n",
      "122.77\n",
      "94.523\n",
      "85.008\n",
      "143.652\n",
      "114.205\n",
      "58.714\n",
      "87.42\n",
      "84.471\n",
      "46.197\n",
      "60.779\n",
      "261.419\n",
      "102.207\n",
      "90.792\n",
      "49.124\n",
      "105.544\n",
      "89.608\n",
      "60.85\n",
      "130.386\n",
      "55.641\n",
      "101.907\n",
      "74.962\n",
      "53.518\n",
      "98.596\n",
      "51.881\n",
      "79.246\n",
      "151.109\n",
      "55.591\n",
      "87.856\n",
      "70.735\n",
      "53.381\n",
      "66.546\n"
     ]
    }
   ],
   "source": [
    "epic_m_dwarfs = []\n",
    "ra1 = []\n",
    "dec1 = []\n",
    "\n",
    "for i in range(len(df['Radius'])):\n",
    "    if df['Radius'][i] < 0.62:\n",
    "        epic_m_dwarfs.append(df['EPIC'][i])\n",
    "        ra1.append(df['RA'][i])\n",
    "        dec1.append(df['Dec'][i])\n",
    "    else:\n",
    "        print df['Radius'][i]"
   ]
  },
  {
   "cell_type": "code",
   "execution_count": 8,
   "metadata": {
    "collapsed": false
   },
   "outputs": [
    {
     "data": {
      "text/plain": [
       "2783"
      ]
     },
     "execution_count": 8,
     "metadata": {},
     "output_type": "execute_result"
    }
   ],
   "source": [
    "len(epic_m_dwarfs)"
   ]
  },
  {
   "cell_type": "code",
   "execution_count": 9,
   "metadata": {
    "collapsed": false
   },
   "outputs": [],
   "source": [
    "plt.figure(figsize=(10,8))\n",
    "plt.title('All 2783 M dwarfs on Kepler K2 Campaign 4')\n",
    "plt.plot(ra1, dec1, 'ro', markersize = 1.)\n",
    "plt.xlim(49, 68)\n",
    "plt.ylim(min(dec1)-1, max(dec1)+1)\n",
    "plt.grid(True)\n",
    "plt.xlabel('$RA  (deg)$', size = 15)\n",
    "plt.ylabel('$Dec  (deg)$', size = 15)\n",
    "plt.show()"
   ]
  },
  {
   "cell_type": "code",
   "execution_count": 15,
   "metadata": {
    "collapsed": false,
    "scrolled": true
   },
   "outputs": [
    {
     "name": "stdout",
     "output_type": "stream",
     "text": [
      "63.281\n",
      "154.998\n",
      "89.814\n",
      "89.859\n",
      "78.26\n",
      "140.214\n",
      "95.739\n",
      "81.027\n",
      "116.9\n",
      "104.944\n",
      "69.33\n",
      "126.237\n",
      "125.689\n",
      "123.926\n",
      "77.84\n",
      "162.085\n",
      "120.416\n",
      "167.799\n",
      "67.474\n",
      "83.043\n",
      "106.08\n",
      "135.178\n",
      "71.261\n",
      "102.432\n",
      "69.167\n",
      "53.53\n",
      "88.417\n",
      "247.408\n",
      "63.002\n",
      "63.684\n",
      "127.134\n",
      "65.879\n",
      "64.753\n",
      "83.837\n",
      "93.676\n",
      "92.28\n",
      "54.802\n",
      "65.659\n",
      "122.77\n",
      "94.523\n",
      "85.008\n",
      "143.652\n",
      "114.205\n",
      "58.714\n",
      "87.42\n",
      "84.471\n",
      "46.197\n",
      "60.779\n",
      "261.419\n",
      "102.207\n",
      "90.792\n",
      "49.124\n",
      "105.544\n",
      "89.608\n",
      "60.85\n",
      "130.386\n",
      "55.641\n",
      "101.907\n",
      "74.962\n",
      "53.518\n",
      "98.596\n",
      "51.881\n",
      "79.246\n",
      "151.109\n",
      "55.591\n",
      "87.856\n",
      "70.735\n",
      "53.381\n",
      "66.546\n"
     ]
    }
   ],
   "source": [
    "for i in range(len(df['Radius'])):\n",
    "    if df['Radius'][i] < 0.62:\n",
    "        text_file = open(\"m-dwarfs-in-k2c4.txt\", \"a\")\n",
    "        text_file.write(str(df['EPIC'][i]))\n",
    "        text_file.close()\n",
    "    else:\n",
    "        print df['Radius'][i]\n",
    "\n"
   ]
  },
  {
   "cell_type": "code",
   "execution_count": 22,
   "metadata": {
    "collapsed": false
   },
   "outputs": [],
   "source": [
    "np.savetxt(\"m-dwarfs-in-k2c4.txt\", epic_m_dwarfs, fmt= '%i')"
   ]
  },
  {
   "cell_type": "code",
   "execution_count": 23,
   "metadata": {
    "collapsed": true
   },
   "outputs": [],
   "source": [
    "os.chdir('index/')"
   ]
  },
  {
   "cell_type": "code",
   "execution_count": 10,
   "metadata": {
    "collapsed": false
   },
   "outputs": [
    {
     "data": {
      "text/plain": [
       "u'/media/careyjohn/DATA/kepler_ptf_research/k2_c4'"
      ]
     },
     "execution_count": 10,
     "metadata": {},
     "output_type": "execute_result"
    }
   ],
   "source": [
    "pwd"
   ]
  },
  {
   "cell_type": "code",
   "execution_count": 11,
   "metadata": {
    "collapsed": false
   },
   "outputs": [
    {
     "name": "stdout",
     "output_type": "stream",
     "text": [
      "/media/careyjohn/DATA/kepler_ptf_research/k2_c4/python_Kepler_data_k2c4/results\n"
     ]
    }
   ],
   "source": [
    "cd ../k2_c4/python_Kepler_data_k2c4/results/"
   ]
  },
  {
   "cell_type": "code",
   "execution_count": 13,
   "metadata": {
    "collapsed": false
   },
   "outputs": [],
   "source": [
    "df3 = pd.read_csv('K2_M_C4_epic_period.csv')"
   ]
  },
  {
   "cell_type": "code",
   "execution_count": 15,
   "metadata": {
    "collapsed": false
   },
   "outputs": [],
   "source": [
    "period = []\n",
    "\n",
    "for i,v in enumerate(df3['Period']):\n",
    "    if df3['Period'][i] != 0.:\n",
    "        period.append(df3['Period'][i])"
   ]
  },
  {
   "cell_type": "code",
   "execution_count": 17,
   "metadata": {
    "collapsed": false
   },
   "outputs": [
    {
     "data": {
      "text/plain": [
       "1507"
      ]
     },
     "execution_count": 17,
     "metadata": {},
     "output_type": "execute_result"
    }
   ],
   "source": [
    "len(period)"
   ]
  },
  {
   "cell_type": "code",
   "execution_count": 18,
   "metadata": {
    "collapsed": false
   },
   "outputs": [
    {
     "data": {
      "text/plain": [
       "0.10056908825899999"
      ]
     },
     "execution_count": 18,
     "metadata": {},
     "output_type": "execute_result"
    }
   ],
   "source": [
    "min(period)"
   ]
  },
  {
   "cell_type": "code",
   "execution_count": null,
   "metadata": {
    "collapsed": true
   },
   "outputs": [],
   "source": []
  }
 ],
 "metadata": {
  "anaconda-cloud": {},
  "kernelspec": {
   "display_name": "Python 2",
   "language": "python",
   "name": "python2"
  },
  "language_info": {
   "codemirror_mode": {
    "name": "ipython",
    "version": 2
   },
   "file_extension": ".py",
   "mimetype": "text/x-python",
   "name": "python",
   "nbconvert_exporter": "python",
   "pygments_lexer": "ipython2",
   "version": "2.7.12"
  }
 },
 "nbformat": 4,
 "nbformat_minor": 1
}
