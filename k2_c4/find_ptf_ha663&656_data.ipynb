{
 "cells": [
  {
   "cell_type": "code",
   "execution_count": 19,
   "metadata": {
    "collapsed": true
   },
   "outputs": [],
   "source": [
    "import requests\n",
    "from bs4 import BeautifulSoup\n",
    "from astropy.io import ascii\n",
    "import pandas as pd\n",
    "import concurrent.futures\n",
    "import glob\n",
    "from time import sleep\n",
    "import os\n",
    "import numpy as np\n",
    "from matplotlib import pyplot as plt"
   ]
  },
  {
   "cell_type": "code",
   "execution_count": 20,
   "metadata": {
    "collapsed": true
   },
   "outputs": [],
   "source": [
    "header = {\n",
    "'Upgrade-Insecure-Requests': '1',\n",
    "'User-Agent': 'Mozilla/5.0 (Windows NT 10.0; Win64; x64) AppleWebKit/537.36 (KHTML, like Gecko) Chrome/54.0.2840.99 Safari/537.36',\n",
    "'Referer': 'http://irsa.ipac.caltech.edu/ibe/docs/ptf/images/level1/',\n",
    "'Cookie': '__utma=253438417.1413587276.1479455055.1486991316.1487038069.11; __utmz=253438417.1479459352.2.2.utmcsr=yahoo|utmccn=(organic)|utmcmd=organic|utmctr=(not%20provided); usrkey=\"276c187d-93a1-4d19-936e-edc27049cc5b/ncuiarex@astro.ncu.edu.tw\"; __utmc=253438417; JOSSO_REMEMBERME_josso=mUXCaMhYWY4Hn9io8eFhGwlHfCVop7quyI8e%2FsSJJp8%3D; JOSSO_SESSIONID=B5A244740F815B1D5A9C1C3AB431DCD0'\n",
    "}    "
   ]
  },
  {
   "cell_type": "code",
   "execution_count": 21,
   "metadata": {
    "collapsed": false
   },
   "outputs": [],
   "source": [
    "#os.chdir('D:\\kepler_ptf_research\\k2_c4')\n",
    "os.chdir('/media/careyjohn/DATA/kepler_ptf_research/k2_c4')"
   ]
  },
  {
   "cell_type": "code",
   "execution_count": 22,
   "metadata": {
    "collapsed": true
   },
   "outputs": [],
   "source": [
    "df = pd.read_csv('k2_c4_m-dwarfs.csv', skiprows=1)\n",
    "# df.head()\n",
    "RA = df['ra']\n",
    "DEC = df['dec']"
   ]
  },
  {
   "cell_type": "code",
   "execution_count": 7,
   "metadata": {
    "collapsed": true
   },
   "outputs": [],
   "source": [
    "df['check_band'] = -99"
   ]
  },
  {
   "cell_type": "code",
   "execution_count": 8,
   "metadata": {
    "collapsed": true
   },
   "outputs": [],
   "source": [
    "# c = progressbar.ProgressBar(maxval=len(df), widgets=[progressbar.Bar('=', '[', ']'), ' ', progressbar.Percentage()])\n",
    "\n",
    "def check_band(ra, dec):\n",
    "    ind = get_index(ra)\n",
    "    if len(glob.glob('index/{}*.txt'.format(ind))) == 0:\n",
    "        res = requests.get(\"http://irsa.ipac.caltech.edu/ibe/search/ptf/images/level1?POS={0},{1}\".format(ra, dec), headers=header)\n",
    "        soup = BeautifulSoup(res.text, 'lxml')\n",
    "        data = ascii.read(soup.text)\n",
    "        a = data['filter']\n",
    "        ha656 = a[a == \"HA656\"]\n",
    "        ha663 = a[a == \"HA663\"]\n",
    "        if len(ha656) >= 1 and len(ha663) >= 1:\n",
    "            f = open('index/{}_1.txt'.format(ind), 'w')\n",
    "            f.close()\n",
    "        else:\n",
    "            f = open('index/{}_0.txt'.format(ind), 'w')\n",
    "            f.close()\n",
    "        return None\n",
    "    else:\n",
    "        return None"
   ]
  },
  {
   "cell_type": "code",
   "execution_count": 12,
   "metadata": {
    "collapsed": true
   },
   "outputs": [],
   "source": [
    "def get_index(ra):\n",
    "    return RA[RA == ra].index[0]"
   ]
  },
  {
   "cell_type": "code",
   "execution_count": 22,
   "metadata": {
    "collapsed": false
   },
   "outputs": [],
   "source": [
    "with concurrent.futures.ThreadPoolExecutor(max_workers=20) as executor:\n",
    "    executor.map(check_band, RA, DEC)"
   ]
  },
  {
   "cell_type": "code",
   "execution_count": 23,
   "metadata": {
    "collapsed": false
   },
   "outputs": [
    {
     "data": {
      "text/plain": [
       "'D:\\\\kepler_ptf_research\\\\k2_c4'"
      ]
     },
     "execution_count": 23,
     "metadata": {},
     "output_type": "execute_result"
    }
   ],
   "source": [
    "os.getcwd()"
   ]
  },
  {
   "cell_type": "code",
   "execution_count": 20,
   "metadata": {
    "collapsed": false
   },
   "outputs": [
    {
     "data": {
      "text/plain": [
       "2783"
      ]
     },
     "execution_count": 20,
     "metadata": {},
     "output_type": "execute_result"
    }
   ],
   "source": [
    "len(RA)"
   ]
  },
  {
   "cell_type": "code",
   "execution_count": 24,
   "metadata": {
    "collapsed": false
   },
   "outputs": [
    {
     "data": {
      "text/plain": [
       "2783"
      ]
     },
     "execution_count": 24,
     "metadata": {},
     "output_type": "execute_result"
    }
   ],
   "source": [
    "len(DEC)"
   ]
  },
  {
   "cell_type": "code",
   "execution_count": 23,
   "metadata": {
    "collapsed": false
   },
   "outputs": [
    {
     "name": "stdout",
     "output_type": "stream",
     "text": [
      "/media/careyjohn/DATA/kepler_ptf_research/k2_c4/index\n"
     ]
    }
   ],
   "source": [
    "cd index"
   ]
  },
  {
   "cell_type": "code",
   "execution_count": 24,
   "metadata": {
    "collapsed": false
   },
   "outputs": [],
   "source": [
    "name = 'both_ha_have.txt'\n",
    "\n",
    "filej = open(name)\n",
    "data = np.loadtxt( filej )\n",
    "index = list(map(int, data))"
   ]
  },
  {
   "cell_type": "code",
   "execution_count": 25,
   "metadata": {
    "collapsed": false
   },
   "outputs": [
    {
     "data": {
      "text/plain": [
       "2718"
      ]
     },
     "execution_count": 25,
     "metadata": {},
     "output_type": "execute_result"
    }
   ],
   "source": [
    "RA_H = list(RA[index[0:len(index)-1]])\n",
    "DEC_H = list(DEC[index[0:len(index)-1]])\n",
    "\n",
    "len(RA_H)"
   ]
  },
  {
   "cell_type": "code",
   "execution_count": 26,
   "metadata": {
    "collapsed": false
   },
   "outputs": [],
   "source": [
    "plt.figure(figsize=(10,8))\n",
    "plt.plot(RA_H, DEC_H, 'bo', markersize=1.)\n",
    "plt.title('2718 M dwarfs have ptf H$a$656&663 on Kpler K2 Campaign 4')\n",
    "#plt.plot(ra, dec, 'ro', markersize=1.5)\n",
    "plt.grid(True)\n",
    "plt.xlim(49, 68)\n",
    "plt.ylim(min(DEC_H)-1, max(DEC_H)+1)\n",
    "plt.xlabel('$RA  (deg)$', size = 15)\n",
    "plt.ylabel('$Dec  (deg)$', size = 15)\n",
    "plt.show()"
   ]
  },
  {
   "cell_type": "code",
   "execution_count": 36,
   "metadata": {
    "collapsed": true
   },
   "outputs": [],
   "source": [
    "df2 = pd.read_csv('k2_c4_m-dwarfs.csv')"
   ]
  },
  {
   "cell_type": "code",
   "execution_count": 37,
   "metadata": {
    "collapsed": true
   },
   "outputs": [],
   "source": [
    "m_ty_epic = df2['EPIC']"
   ]
  },
  {
   "cell_type": "code",
   "execution_count": 38,
   "metadata": {
    "collapsed": false
   },
   "outputs": [
    {
     "data": {
      "text/plain": [
       "2783"
      ]
     },
     "execution_count": 38,
     "metadata": {},
     "output_type": "execute_result"
    }
   ],
   "source": [
    "len(m_ty_epic)"
   ]
  },
  {
   "cell_type": "code",
   "execution_count": 40,
   "metadata": {
    "collapsed": true
   },
   "outputs": [],
   "source": [
    "m_ty_epic_H = list(m_ty_epic[index[0:len(index)-1]])"
   ]
  },
  {
   "cell_type": "code",
   "execution_count": 42,
   "metadata": {
    "collapsed": false,
    "scrolled": true
   },
   "outputs": [
    {
     "data": {
      "text/plain": [
       "2718"
      ]
     },
     "execution_count": 42,
     "metadata": {},
     "output_type": "execute_result"
    }
   ],
   "source": [
    "len(m_ty_epic_H)"
   ]
  },
  {
   "cell_type": "code",
   "execution_count": 43,
   "metadata": {
    "collapsed": true
   },
   "outputs": [],
   "source": [
    "np.savetxt(\"m-dwarfs_ptf-in-k2c4.txt\", m_ty_epic_H, fmt= '%i')"
   ]
  },
  {
   "cell_type": "code",
   "execution_count": 44,
   "metadata": {
    "collapsed": false
   },
   "outputs": [
    {
     "data": {
      "text/plain": [
       "u'/media/careyjohn/DATA/kepler_ptf_research/k2_c4'"
      ]
     },
     "execution_count": 44,
     "metadata": {},
     "output_type": "execute_result"
    }
   ],
   "source": [
    "pwd"
   ]
  },
  {
   "cell_type": "code",
   "execution_count": 48,
   "metadata": {
    "collapsed": false
   },
   "outputs": [],
   "source": [
    "df3 = pd.read_csv('ptf_ha_substraction_k2c4.csv')"
   ]
  },
  {
   "cell_type": "code",
   "execution_count": 49,
   "metadata": {
    "collapsed": false
   },
   "outputs": [
    {
     "data": {
      "text/plain": [
       "2718"
      ]
     },
     "execution_count": 49,
     "metadata": {},
     "output_type": "execute_result"
    }
   ],
   "source": [
    "len(df3['EPIC'])"
   ]
  },
  {
   "cell_type": "code",
   "execution_count": null,
   "metadata": {
    "collapsed": true
   },
   "outputs": [],
   "source": []
  }
 ],
 "metadata": {
  "anaconda-cloud": {},
  "kernelspec": {
   "display_name": "Python 2",
   "language": "python",
   "name": "python2"
  },
  "language_info": {
   "codemirror_mode": {
    "name": "ipython",
    "version": 2
   },
   "file_extension": ".py",
   "mimetype": "text/x-python",
   "name": "python",
   "nbconvert_exporter": "python",
   "pygments_lexer": "ipython2",
   "version": "2.7.12"
  }
 },
 "nbformat": 4,
 "nbformat_minor": 1
}
