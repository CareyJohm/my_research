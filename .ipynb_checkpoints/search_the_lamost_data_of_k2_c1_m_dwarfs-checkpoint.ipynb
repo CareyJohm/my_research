{
 "cells": [
  {
   "cell_type": "code",
   "execution_count": 1,
   "metadata": {
    "collapsed": false
   },
   "outputs": [],
   "source": [
    "import pandas as pd\n",
    "import pyfits as py\n",
    "from matplotlib import pyplot as plt\n",
    "import os\n",
    "import math as m\n",
    "import numpy as np"
   ]
  },
  {
   "cell_type": "code",
   "execution_count": 2,
   "metadata": {
    "collapsed": true
   },
   "outputs": [],
   "source": [
    "os.chdir(\"D:\\kepler_ptf_research\\k2_c1\")"
   ]
  },
  {
   "cell_type": "code",
   "execution_count": 3,
   "metadata": {
    "collapsed": false
   },
   "outputs": [
    {
     "name": "stderr",
     "output_type": "stream",
     "text": [
      "C:\\Users\\CareyJohn\\Anaconda2\\lib\\site-packages\\IPython\\core\\interactiveshell.py:2723: DtypeWarning: Columns (0,28) have mixed types. Specify dtype option on import or set low_memory=False.\n",
      "  interactivity=interactivity, compiler=compiler, result=result)\n"
     ]
    }
   ],
   "source": [
    "catalog = pd.read_csv('dr1_m_stellar.csv', sep = '|')"
   ]
  },
  {
   "cell_type": "code",
   "execution_count": 4,
   "metadata": {
    "collapsed": false,
    "scrolled": true
   },
   "outputs": [
    {
     "data": {
      "text/plain": [
       "121523"
      ]
     },
     "execution_count": 4,
     "metadata": {},
     "output_type": "execute_result"
    }
   ],
   "source": [
    "len(catalog['dec'])"
   ]
  },
  {
   "cell_type": "code",
   "execution_count": 5,
   "metadata": {
    "collapsed": true
   },
   "outputs": [],
   "source": [
    "x = list(catalog['ra'])\n",
    "y = list(catalog['dec'])"
   ]
  },
  {
   "cell_type": "code",
   "execution_count": 6,
   "metadata": {
    "collapsed": false
   },
   "outputs": [],
   "source": [
    "#plt.xlim(0 , 360)\n",
    "plt.grid(True)\n",
    "plt.xlim(184.5, 162.8)\n",
    "plt.ylim( -7.6 , 10.3)\n",
    "plt.scatter(x,y, s = 0.5 )\n",
    "plt.show()"
   ]
  },
  {
   "cell_type": "code",
   "execution_count": 7,
   "metadata": {
    "collapsed": false
   },
   "outputs": [],
   "source": [
    "x_in_range = []\n",
    "y_in_range = []\n",
    "for i in range(len(x)):\n",
    "    if x[i] > 162.8 and x[i] < 184.5 and y[i] > -7.6 and y[i] < 10.3:\n",
    "        x_in_range.append(x[i])\n",
    "        y_in_range.append(y[i])"
   ]
  },
  {
   "cell_type": "code",
   "execution_count": 8,
   "metadata": {
    "collapsed": false
   },
   "outputs": [
    {
     "data": {
      "text/plain": [
       "1388"
      ]
     },
     "execution_count": 8,
     "metadata": {},
     "output_type": "execute_result"
    }
   ],
   "source": [
    "len(x_in_range)"
   ]
  },
  {
   "cell_type": "code",
   "execution_count": 23,
   "metadata": {
    "collapsed": false
   },
   "outputs": [],
   "source": [
    "#x_in_range"
   ]
  },
  {
   "cell_type": "code",
   "execution_count": 6,
   "metadata": {
    "collapsed": true
   },
   "outputs": [],
   "source": [
    "#os.chdir('k2_c1')"
   ]
  },
  {
   "cell_type": "code",
   "execution_count": 9,
   "metadata": {
    "collapsed": true
   },
   "outputs": [],
   "source": [
    "df = pd.read_csv('epic_ha663_normal-hasub_new.csv')"
   ]
  },
  {
   "cell_type": "code",
   "execution_count": 10,
   "metadata": {
    "collapsed": false
   },
   "outputs": [],
   "source": [
    "ra_1 = list(df['RA'])\n",
    "dec_1 = list(df['Dec'])"
   ]
  },
  {
   "cell_type": "code",
   "execution_count": 17,
   "metadata": {
    "collapsed": true
   },
   "outputs": [],
   "source": [
    "epic_1 = list(df['EPIC'])"
   ]
  },
  {
   "cell_type": "code",
   "execution_count": 11,
   "metadata": {
    "collapsed": false
   },
   "outputs": [
    {
     "data": {
      "text/plain": [
       "(175.08766799999998, 332.47157600000003)"
      ]
     },
     "execution_count": 11,
     "metadata": {},
     "output_type": "execute_result"
    }
   ],
   "source": [
    "ra_1[0], x[0]"
   ]
  },
  {
   "cell_type": "code",
   "execution_count": 18,
   "metadata": {
    "collapsed": false,
    "scrolled": true
   },
   "outputs": [
    {
     "name": "stdout",
     "output_type": "stream",
     "text": [
      "178.130523 , -2.518135 , 2./3600 201295538\n",
      "180.120674 , -2.159952 , 2./3600 201319511\n",
      "174.027514 , -2.11699 , 2./3600 201322441\n",
      "179.839949 , -1.539034 , 2./3600 201361113\n",
      "178.646925 , -1.472841 , 2./3600 201365841\n",
      "178.681309 , -1.271277 , 2./3600 201379453\n",
      "174.446487 , -1.024299 , 2./3600 201395866\n",
      "174.658843 , -0.804488 , 2./3600 201410114\n",
      "171.053336 , -0.681031 , 2./3600 201418235\n",
      "170.908658 , -0.660002 , 2./3600 201419646\n",
      "171.301313 , -0.410615 , 2./3600 201436683\n",
      "175.837873 , -0.003464 , 2./3600 201464921\n",
      "176.503042 , 0.310633 , 2./3600 201485958\n",
      "169.800111 , 0.375732 , 2./3600 201490171\n",
      "174.604651 , 0.425659 , 2./3600 201493524\n",
      "172.970965 , 0.45146 , 2./3600 201495245\n",
      "175.742467 , 0.484422 , 2./3600 201497431\n",
      "174.491569 , 0.701034 , 2./3600 201511626\n",
      "175.638713 , 0.843287 , 2./3600 201520878\n",
      "174.808322 , 0.84738 , 2./3600 201521141\n",
      "177.205857 , 1.534596 , 2./3600 201566640\n",
      "174.469111 , 1.729202 , 2./3600 201579585\n",
      "174.469111 , 1.729202 , 2./3600 201579585\n",
      "170.029083 , 1.84968 , 2./3600 201587506\n",
      "177.525678 , 1.853904 , 2./3600 201587779\n",
      "177.525678 , 1.853904 , 2./3600 201587779\n",
      "177.525678 , 1.853904 , 2./3600 201587779\n",
      "169.972296 , 1.89606 , 2./3600 201590443\n",
      "170.674053 , 1.98317 , 2./3600 201596050\n",
      "169.131002 , 2.024291 , 2./3600 201598723\n",
      "170.907463 , 2.092142 , 2./3600 201603178\n",
      "176.816047 , 2.127646 , 2./3600 201605484\n",
      "168.951497 , 2.314716 , 2./3600 201617538\n",
      "170.274106 , 2.348711 , 2./3600 201619736\n",
      "170.453122 , 2.512134 , 2./3600 201630280\n",
      "170.149437 , 2.765884 , 2./3600 201646757\n",
      "170.529437 , 2.970871 , 2./3600 201659695\n",
      "175.046872 , 2.977086 , 2./3600 201660055\n",
      "175.419395 , 3.298576 , 2./3600 201679497\n",
      "175.419395 , 3.298576 , 2./3600 201679497\n",
      "176.322532 , 3.323786 , 2./3600 201681086\n",
      "176.628307 , 3.989182 , 2./3600 201720583\n",
      "170.403817 , 4.04142 , 2./3600 201723572\n",
      "176.884522 , 4.131317 , 2./3600 201728874\n",
      "170.429651 , 4.264881 , 2./3600 201736837\n",
      "169.770934 , 4.444826 , 2./3600 201747732\n",
      "179.205351 , 4.560076 , 2./3600 201754460\n",
      "171.499309 , 4.78621 , 2./3600 201767443\n",
      "168.465751 , 5.091657 , 2./3600 201784838\n",
      "168.465751 , 5.091657 , 2./3600 201784838\n",
      "170.697657 , 5.095361 , 2./3600 201785059\n",
      "172.56878 , 5.209272 , 2./3600 201791284\n",
      "171.986022 , 5.270715 , 2./3600 201794712\n",
      "171.986022 , 5.270715 , 2./3600 201794712\n",
      "167.929682 , 5.417154 , 2./3600 201802777\n",
      "170.95233 , 5.684605 , 2./3600 201817262\n",
      "170.798666 , 5.72049 , 2./3600 201819318\n",
      "170.798666 , 5.72049 , 2./3600 201819318\n",
      "170.798666 , 5.72049 , 2./3600 201819318\n",
      "170.678664 , 5.731807 , 2./3600 201819959\n",
      "170.678664 , 5.731807 , 2./3600 201819959\n",
      "170.69249 , 5.760098 , 2./3600 201821476\n",
      "169.733951 , 6.087108 , 2./3600 201838830\n",
      "172.673337 , 6.295005 , 2./3600 201849532\n",
      "171.276829 , 6.636349 , 2./3600 201866368\n",
      "172.830292 , 7.075406 , 2./3600 201888022\n",
      "171.942286 , 7.153621 , 2./3600 201891939\n",
      "177.276214 , 7.631577 , 2./3600 201914589\n",
      "171.235212 , 7.996662 , 2./3600 201930947\n"
     ]
    }
   ],
   "source": [
    "for a in range(len(ra_1)):\n",
    "    for i in range(len(x_in_range)):\n",
    "        if m.sqrt(((ra_1[a]-x_in_range[i]))**2+((dec_1[a]-y_in_range[i]))**2) < 2./3600:\n",
    "            print ra_1[a],',', dec_1[a],',', '2./3600', epic_1[a]"
   ]
  },
  {
   "cell_type": "code",
   "execution_count": 13,
   "metadata": {
    "collapsed": true
   },
   "outputs": [],
   "source": [
    "ra_in_range = []\n",
    "dec_in_range = []\n",
    "for a in range(len(ra_1)):\n",
    "    for i in range(len(x_in_range)):\n",
    "        if m.sqrt(((ra_1[a]-x_in_range[i]))**2+((dec_1[a]-y_in_range[i]))**2) < 2./3600:\n",
    "            ra_in_range.append(ra_1[a])\n",
    "            dec_in_range.append(dec_1[a])"
   ]
  },
  {
   "cell_type": "code",
   "execution_count": 14,
   "metadata": {
    "collapsed": false
   },
   "outputs": [
    {
     "data": {
      "text/plain": [
       "69"
      ]
     },
     "execution_count": 14,
     "metadata": {},
     "output_type": "execute_result"
    }
   ],
   "source": [
    "len(ra_in_range)"
   ]
  },
  {
   "cell_type": "code",
   "execution_count": 27,
   "metadata": {
    "collapsed": true
   },
   "outputs": [],
   "source": [
    "#目前找到69個在K2C1的目標同時有PTFdata和lamost 光譜 data 20170309"
   ]
  },
  {
   "cell_type": "code",
   "execution_count": null,
   "metadata": {
    "collapsed": true
   },
   "outputs": [],
   "source": []
  }
 ],
 "metadata": {
  "anaconda-cloud": {},
  "kernelspec": {
   "display_name": "Python 2",
   "language": "python",
   "name": "python2"
  },
  "language_info": {
   "codemirror_mode": {
    "name": "ipython",
    "version": 2
   },
   "file_extension": ".py",
   "mimetype": "text/x-python",
   "name": "python",
   "nbconvert_exporter": "python",
   "pygments_lexer": "ipython2",
   "version": "2.7.12"
  }
 },
 "nbformat": 4,
 "nbformat_minor": 1
}
