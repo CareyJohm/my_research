{
 "cells": [
  {
   "cell_type": "code",
   "execution_count": 1,
   "metadata": {
    "collapsed": false
   },
   "outputs": [],
   "source": [
    "from matplotlib import pyplot as plt\n",
    "import pyfits, os, sys, matplotlib, pylab\n",
    "import numpy as np\n",
    "\n",
    "import pandas as pd"
   ]
  },
  {
   "cell_type": "code",
   "execution_count": 2,
   "metadata": {
    "collapsed": true
   },
   "outputs": [],
   "source": [
    "def k2_llc_lightcurve(epic):\n",
    "        ID = \"ktwo\"+str(epic)\n",
    "        os.chdir(\"D:/kepler_ptf_research/k2_c1/python_Kepler_data_k2c1/results/ktwo\"+str(epic)+\"_C1\")\n",
    "        filej = open( ID+\"-c01_llc.fits.lc\")\n",
    "\n",
    "        datar = np.loadtxt( filej, dtype={'names':('time', '2', '3', 'flux', 'err'), 'formats':('f4','f4','f4','f4','f4')})\n",
    "\n",
    "\n",
    "\n",
    "        masknan = -np.isnan(datar['flux']) # 遮閉掉nan的值, 加上'-'號是為了讓nan=false;數值=true\n",
    "        masknan_err = -np.isnan(datar['err'])\n",
    "\n",
    "        #print(data['flux'])\n",
    "        #print(np.isnan(data['flux']))\n",
    "        #print(masknan)\n",
    "        #print(data['flux'][masknan])\n",
    "\n",
    "        time = datar['time'][masknan]\n",
    "        flux = datar['flux'][masknan]/np.mean(datar['flux'][masknan])  # 之後會被動手腳\n",
    "        flux_raw = datar['flux'][masknan]/np.mean(datar['flux'][masknan])# 為了上一個而留下的替代品\n",
    "        err = datar['err'][masknan_err]/np.mean(datar['err'][masknan])\n",
    "        #print(time)\n",
    "        #print(flux)\n",
    "        #print(flux_raw)\n",
    "\n",
    "        fluxC = np.zeros(len(flux))\n",
    "        errC = np.zeros(len(err))\n",
    "\n",
    "        separationtime=[]\n",
    "        separationtime.append(0)\n",
    "\n",
    "        for i in range(len(time)-1):\n",
    "            if time[i+1]-time[i] > 3*(time[2]-time[1]):\n",
    "                separationtime.append(i)\n",
    "        separationtime.append(len(time))\n",
    "        binsize = 10\n",
    "        for k in range(len(separationtime)-1):\n",
    "            #print(k)\n",
    "            #take 10 points mean and replace it \n",
    "            for i in range(separationtime[k],separationtime[k+1]):\n",
    "\n",
    "                if i >= (separationtime[k]+binsize) and i <= (separationtime[k+1]-binsize):\n",
    "                    fluxC[i] = np.median(flux[i-binsize:i+binsize])\n",
    "                    errC[i] = np.median(flux[i-binsize:i+binsize])\n",
    "                else:\n",
    "                    fluxC[i] = flux[i]\n",
    "                    errC[i] = err[i]\n",
    "            #plt.plot(time,flux_raw)\n",
    "            #plt.scatter(time,flux_raw)\n",
    "            #plt.plot(time,fluxC)\n",
    "            #plt.scatter(time,fluxC)\n",
    "            #plt.show()\n",
    "            #plt.clf()\n",
    "            #print (fluxC)\n",
    "            #print (flux_raw)\n",
    "\n",
    "            #obseverd subtract calculate\n",
    "            fluxdiff = flux - fluxC\n",
    "\n",
    "            #remove the peak value which > 1 sigam\n",
    "            maskpeak = fluxdiff > 1.0*fluxdiff.std()\n",
    "\n",
    "            for n,i in enumerate(maskpeak):\n",
    "                if i:\n",
    "                    if n >= (separationtime[k]+binsize) and n <= (separationtime[k+1]-binsize):\n",
    "                        flux[n] = np.median(flux[n-binsize:n+binsize])\n",
    "                    else:\n",
    "                        flux[n] = flux[n]\n",
    "        plt.plot(time,flux_raw, 'r')\n",
    "        plt.plot(time,flux_raw, '.')\n",
    "        plt.scatter(time,flux_raw)\n",
    "        plt.plot(time,fluxC)\n",
    "        plt.scatter(time,fluxC)\n",
    "        plt.xlabel('Time(BJD - 2454833)')\n",
    "        plt.ylabel('Normalized flux')\n",
    "        #plt.xlim(1976,1980)\n",
    "        plt.show()\n",
    "        plt.clf()"
   ]
  },
  {
   "cell_type": "code",
   "execution_count": 31,
   "metadata": {
    "collapsed": false
   },
   "outputs": [
    {
     "name": "stderr",
     "output_type": "stream",
     "text": [
      "C:\\Users\\CareyJohn\\Anaconda2\\lib\\site-packages\\ipykernel\\__main__.py:10: DeprecationWarning: numpy boolean negative, the `-` operator, is deprecated, use the `~` operator or the logical_not function instead.\n",
      "C:\\Users\\CareyJohn\\Anaconda2\\lib\\site-packages\\ipykernel\\__main__.py:11: DeprecationWarning: numpy boolean negative, the `-` operator, is deprecated, use the `~` operator or the logical_not function instead.\n"
     ]
    }
   ],
   "source": [
    "k2_llc_lightcurve(201436683)"
   ]
  },
  {
   "cell_type": "code",
   "execution_count": null,
   "metadata": {
    "collapsed": true
   },
   "outputs": [],
   "source": []
  }
 ],
 "metadata": {
  "anaconda-cloud": {},
  "kernelspec": {
   "display_name": "Python 2",
   "language": "python",
   "name": "python2"
  },
  "language_info": {
   "codemirror_mode": {
    "name": "ipython",
    "version": 2
   },
   "file_extension": ".py",
   "mimetype": "text/x-python",
   "name": "python",
   "nbconvert_exporter": "python",
   "pygments_lexer": "ipython2",
   "version": "2.7.12"
  }
 },
 "nbformat": 4,
 "nbformat_minor": 1
}
