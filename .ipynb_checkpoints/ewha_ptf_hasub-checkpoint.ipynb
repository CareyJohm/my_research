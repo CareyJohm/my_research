{
 "cells": [
  {
   "cell_type": "code",
   "execution_count": 1,
   "metadata": {
    "collapsed": true
   },
   "outputs": [],
   "source": [
    "#%matplotlib notebook\n",
    "from scipy.spatial import cKDTree\n",
    "import pyfits, mechanize, bz2, os\n",
    "from matplotlib import pyplot as pl\n",
    "from numpy import *\n",
    "from scipy.optimize import leastsq\n",
    "import astropy.stats as sta\n",
    "from scipy import ndimage\n",
    "from glob import glob\n",
    "import pandas as pd  #為了讀csv檔。csv檔是以逗點分割的檔案。\n",
    "import requests\n",
    "from bs4 import BeautifulSoup\n",
    "from astropy.io import ascii\n",
    "import concurrent.futures\n",
    "from time import sleep\n",
    "from astropy.table import Table\n",
    "import math as m\n",
    "import gzip\n",
    "import patoolib\n",
    "import glob\n",
    "import collections"
   ]
  },
  {
   "cell_type": "code",
   "execution_count": 3,
   "metadata": {
    "collapsed": true
   },
   "outputs": [],
   "source": [
    "os.chdir('D:\\kepler_ptf_research\\k2_c1')"
   ]
  },
  {
   "cell_type": "code",
   "execution_count": 4,
   "metadata": {
    "collapsed": false
   },
   "outputs": [],
   "source": [
    "df2 = pd.read_csv('lamostdr4_ptf_k2c1.csv')"
   ]
  },
  {
   "cell_type": "code",
   "execution_count": 11,
   "metadata": {
    "collapsed": false,
    "scrolled": true
   },
   "outputs": [
    {
     "name": "stdout",
     "output_type": "stream",
     "text": [
      "1.27156467737\n",
      "1.22504468881\n",
      "1.86043951341\n",
      "1.03694438114\n",
      "1.24152977092\n",
      "1.28001292643\n",
      "1.22343276893\n",
      "1.26381421296\n",
      "1.30310199242\n",
      "1.21438689225\n",
      "1.65557456546\n",
      "1.17910133804\n",
      "1.11432127361\n",
      "1.07297235235\n",
      "1.33568309744\n",
      "1.31417529117\n",
      "1.26608027489\n",
      "1.14267304255\n",
      "1.19434643533\n",
      "1.11028427478\n",
      "1.15564245001\n",
      "1.35692179188\n",
      "1.10765620193\n",
      "1.09548317768\n",
      "1.19483802759\n",
      "1.24366465789\n",
      "1.13727296568\n",
      "1.06942796141\n",
      "1.11676797564\n",
      "1.27437678538\n",
      "1.32106906162\n",
      "1.07625146921\n",
      "1.61128581777\n",
      "1.43681198016\n",
      "1.12347998072\n",
      "1.10592962867\n",
      "1.13106655095\n",
      "1.07310996077\n",
      "1.07971888979\n",
      "1.19821274726\n",
      "1.2332802675\n",
      "1.12143220917\n",
      "1.21377264183\n",
      "1.32256622298\n",
      "1.20555508018\n",
      "1.04727958397\n",
      "1.05034270672\n",
      "1.03220623836\n",
      "1.0155864993\n",
      "1.04883536148\n",
      "1.07454742045\n",
      "1.51516449691\n",
      "1.07738931819\n"
     ]
    }
   ],
   "source": [
    "f656_d_f663 = []\n",
    "for i in range(len(df2['HA663-HA656'])):\n",
    "    print 10**(df2['HA663-HA656'][i]/2.5)\n",
    "    f656_d_f663.append(10**(df2['HA663-HA656'][i]/2.5))"
   ]
  },
  {
   "cell_type": "code",
   "execution_count": 12,
   "metadata": {
    "collapsed": true
   },
   "outputs": [],
   "source": [
    "hasub = df2['HA663-HA656']\n",
    "ewha = df2['ewha']\n",
    "ewha_err = df2['ewha_err']"
   ]
  },
  {
   "cell_type": "code",
   "execution_count": 28,
   "metadata": {
    "collapsed": true
   },
   "outputs": [],
   "source": [
    "#pl.scatter(ewha_new2, nor_hasub)\n",
    "#pl.errorbar(ewha_new2, hasub, xerr = ewha_err_new, fmt='o', ecolor='g')\n",
    "pl.errorbar(hasub, ewha, yerr = ewha_err, fmt='o', ecolor='g')\n",
    "#pl.xlabel('EW_H$a$')\n",
    "#pl.ylabel('NHSV')\n",
    "pl.ylabel('EW_H$a$')\n",
    "pl.xlabel('ha6d3 - ha656')\n",
    "pl.show()"
   ]
  },
  {
   "cell_type": "code",
   "execution_count": 18,
   "metadata": {
    "collapsed": false
   },
   "outputs": [],
   "source": [
    "def findMiddle(input_list):\n",
    "    middle = float(len(input_list))/2\n",
    "    if middle % 2 != 0:\n",
    "        return input_list[int(middle - .5)]\n",
    "    else:\n",
    "        return (input_list[int(middle)], input_list[int(middle-1)])"
   ]
  },
  {
   "cell_type": "code",
   "execution_count": 19,
   "metadata": {
    "collapsed": false
   },
   "outputs": [
    {
     "data": {
      "text/plain": [
       "1.1372729656783249"
      ]
     },
     "execution_count": 19,
     "metadata": {},
     "output_type": "execute_result"
    }
   ],
   "source": [
    "findMiddle(f656_d_f663)"
   ]
  },
  {
   "cell_type": "code",
   "execution_count": 20,
   "metadata": {
    "collapsed": true
   },
   "outputs": [],
   "source": [
    "df = pd.read_csv('ptf_ha_substraction_k2c1.csv')"
   ]
  },
  {
   "cell_type": "code",
   "execution_count": 22,
   "metadata": {
    "collapsed": false
   },
   "outputs": [],
   "source": [
    "ha656 = []\n",
    "for i in range(len(df2['EPIC'])):\n",
    "    for a in range(len(df['EPIC'])):\n",
    "        if df2['EPIC'][i] == df['EPIC'][a]:\n",
    "            ha656.append(df['HA656'][a])"
   ]
  },
  {
   "cell_type": "code",
   "execution_count": 23,
   "metadata": {
    "collapsed": false
   },
   "outputs": [
    {
     "data": {
      "text/plain": [
       "53"
      ]
     },
     "execution_count": 23,
     "metadata": {},
     "output_type": "execute_result"
    }
   ],
   "source": [
    "len(ha656)"
   ]
  },
  {
   "cell_type": "code",
   "execution_count": 26,
   "metadata": {
    "collapsed": true
   },
   "outputs": [],
   "source": [
    "#pl.scatter(ewha_new2, nor_hasub)\n",
    "#pl.errorbar(ewha_new2, hasub, xerr = ewha_err_new, fmt='o', ecolor='g')\n",
    "pl.errorbar(ha656, ewha, yerr = ewha_err, fmt='o', ecolor='g')\n",
    "#pl.xlabel('EW_H$a$')\n",
    "#pl.ylabel('NHSV')\n",
    "pl.ylabel('EW_H$a$')\n",
    "pl.xlabel('ha656')\n",
    "pl.show()"
   ]
  },
  {
   "cell_type": "code",
   "execution_count": null,
   "metadata": {
    "collapsed": true
   },
   "outputs": [],
   "source": []
  }
 ],
 "metadata": {
  "anaconda-cloud": {},
  "kernelspec": {
   "display_name": "Python 2",
   "language": "python",
   "name": "python2"
  },
  "language_info": {
   "codemirror_mode": {
    "name": "ipython",
    "version": 2
   },
   "file_extension": ".py",
   "mimetype": "text/x-python",
   "name": "python",
   "nbconvert_exporter": "python",
   "pygments_lexer": "ipython2",
   "version": "2.7.12"
  }
 },
 "nbformat": 4,
 "nbformat_minor": 1
}
