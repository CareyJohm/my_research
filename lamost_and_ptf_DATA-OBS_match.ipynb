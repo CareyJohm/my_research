{
 "cells": [
  {
   "cell_type": "code",
   "execution_count": 1,
   "metadata": {
    "collapsed": true
   },
   "outputs": [],
   "source": [
    "#%matplotlib notebook\n",
    "from scipy.spatial import cKDTree\n",
    "import pyfits, mechanize, bz2, os\n",
    "from matplotlib import pyplot as pl\n",
    "from numpy import *\n",
    "from scipy.optimize import leastsq\n",
    "import astropy.stats as sta\n",
    "from scipy import ndimage\n",
    "from glob import glob\n",
    "import pandas as pd  #為了讀csv檔。csv檔是以逗點分割的檔案。\n",
    "import requests\n",
    "from bs4 import BeautifulSoup\n",
    "from astropy.io import ascii\n",
    "import concurrent.futures\n",
    "from time import sleep\n",
    "from astropy.table import Table\n",
    "import math as m\n",
    "import gzip\n",
    "import patoolib\n",
    "import glob\n",
    "import collections"
   ]
  },
  {
   "cell_type": "code",
   "execution_count": 26,
   "metadata": {
    "collapsed": true
   },
   "outputs": [],
   "source": [
    "os.chdir('D:\\kepler_ptf_research\\k2_c1\\python_LAMOST_data_k2c1\\DR4\\ktwo201164732_C1')"
   ]
  },
  {
   "cell_type": "code",
   "execution_count": 27,
   "metadata": {
    "collapsed": false
   },
   "outputs": [],
   "source": [
    "lamost_fits = glob.glob('*fits')"
   ]
  },
  {
   "cell_type": "code",
   "execution_count": 28,
   "metadata": {
    "collapsed": false
   },
   "outputs": [],
   "source": [
    "ptf1 = pyfits.open(lamost_fits[0])"
   ]
  },
  {
   "cell_type": "code",
   "execution_count": 5,
   "metadata": {
    "collapsed": false
   },
   "outputs": [
    {
     "data": {
      "text/plain": [
       "SIMPLE  =                    T /Primary Header created by MWRFITS v1.11b        \n",
       "BITPIX  =                  -32 /                                                \n",
       "NAXIS   =                    2 / Number of array dimensions                     \n",
       "NAXIS1  =                 3909 /                                                \n",
       "NAXIS2  =                    5 /                                                \n",
       "EXTEND  =                    T /                                                \n",
       "                                                                                \n",
       "COMMENT --------FILE INFORMATION                                                \n",
       "FILENAME= 'spec-57401-HD112914S042705B01_sp08-067.fits' /                       \n",
       "OBSID   =            407008067 / Unique number ID of this spectrum              \n",
       "AUTHOR  = 'LAMOST Pipeline'    / Who compiled the information                   \n",
       "DATA_V  = 'LAMOST DR4'         / Data release version                           \n",
       "EXTEN0  = 'Flux, Inverse, Wavelength, Andmask, Ormask' /                        \n",
       "N_EXTEN =                    1 / The extension number                           \n",
       "EXTNAME = 'Flux    '           / The extension name                             \n",
       "ORIGIN  = 'NAOC-LAMOST'        / Organization responsible for creating this file\n",
       "DATE    = '2016-12-30T17:45:21' / Time when this HDU is created (UTC)           \n",
       "COMMENT --------TELESCOPE PARAMETERS                                            \n",
       "TELESCOP= 'LAMOST  '           / GuoShouJing Telescope                          \n",
       "LONGITUD=               117.58 / [deg] Longitude of site                        \n",
       "LATITUDE=                40.39 / [deg] Latitude of site                         \n",
       "FOCUS   =                19964 / [mm] Telescope focus                           \n",
       "CAMPRO  = 'NEWCAM  '           / Camera program name                            \n",
       "CAMVER  = 'v2.0    '           / Camera program version                         \n",
       "COMMENT --------OBSERVATION PARAMETERS                                          \n",
       "DATE-OBS= '2016-01-13T19:50:00' / The observation median UTC                    \n",
       "DATE-BEG= '2016-01-14T03:10:13.0' / The observation start local time            \n",
       "DATE-END= '2016-01-14T04:31:59.0' / The observation end local time              \n",
       "LMJD    =                57401 / Local Modified Julian Day                      \n",
       "MJD     =                57400 / Modified Julian Day                            \n",
       "LMJMLIST= '82657630-82657658-82657686' / Local Modified Julian Minute list      \n",
       "PLANID  = 'HD112914S042705B01' / Plan ID in use                                 \n",
       "RA      =           173.292111 / [deg] Right ascension of object                \n",
       "DEC     =            -4.944315 / [deg] Declination of object                    \n",
       "RA_OBS  =           173.292111 / [deg] Right ascension during observing         \n",
       "DEC_OBS =            -4.944315 / [deg] Declination during observing             \n",
       "OFFSET  =                    F / Whether there's a offset during observing      \n",
       "OFFSET_V=                 0.00 / Offset value in arcsecond                      \n",
       "DESIG   = 'LAMOST J113310.10-045639.5' / Designation of LAMOST target           \n",
       "FIBERID =                   67 / Fiber ID of Object                             \n",
       "CELL_ID = 'F3320   '           / Fiber Unit ID on the focal plane               \n",
       "X_VALUE = '-349.3367547750'    / [mm] X coordinate of object on the focal plane \n",
       "Y_VALUE = '150.6631188570'     / [mm] Y coordinate of object on the focal plane \n",
       "OBJNAME = '168123946685184'    / Name of object                                 \n",
       "OBJTYPE = 'Star    '           / Object type from input catalog                 \n",
       "TSOURCE = 'LEGUE_LCH'          / Name of input catalog                          \n",
       "TCOMMENT= '10759932587851813'  / Target information                             \n",
       "TFROM   = 'LCH100002'          / Target catalog                                 \n",
       "FIBERTYP= 'Obj     '           / Fiber type of object                           \n",
       "MAGTYPE = 'gri     '           / Magnitude type of object                       \n",
       "MAG1    =                17.27 / [mag] Mag1 of object                           \n",
       "MAG2    =                16.14 / [mag] Mag2 of object                           \n",
       "MAG3    =                15.28 / [mag] Mag3 of object                           \n",
       "MAG4    =                99.00 / [mag] Mag4 of object                           \n",
       "MAG5    =                99.00 / [mag] Mag5 of object                           \n",
       "MAG6    =                99.00 / [mag] Mag6 of object                           \n",
       "MAG7    =                99.00 / [mag] Mag7 of object                           \n",
       "OBS_TYPE= 'OBJ     '           / The type of target (OBJ, FLAT, ARC or BIAS)    \n",
       "OBSCOMM = 'Science '           / Science or Test                                \n",
       "RADECSYS= 'FK5     '           / Equatorial coordinate system                   \n",
       "EQUINOX =              2000.00 / Equinox in years                               \n",
       "LAMPLIST= 'lamphgcdne.dat'     / Arc lamp emission line list                    \n",
       "SKYLIST = 'skylines.dat'       / Sky emission line list                         \n",
       "NEXP    =                    3 / Number of valid exposures                      \n",
       "NEXP_B  =                    3 / Number of valid blue exposures                 \n",
       "NEXP_R  =                    3 / Number of valid red exposures                  \n",
       "EXPT_B  =              4500.00 / [s] Blue exposure duration time                \n",
       "EXPT_R  =              4500.00 / [s] Red exposure duration time                 \n",
       "EXPTIME =              4500.00 / [s] Minimum of exposure time for all cameras   \n",
       "BESTEXP =             82657630 / MJM of the best exposure                       \n",
       "SCAMEAN =                 2.20 / [ADU] Mean level of scatter light              \n",
       "COMMENT --------SPECTROGRAPH PARAMETERS                                         \n",
       "SPID    =                    8 / Spectrograph ID                                \n",
       "SPRA    =          173.1059824 / [deg] Average RA of this spectrograph          \n",
       "SPDEC   =           -5.1729314 / [deg] Average DEC of this spectrograph         \n",
       "SLIT_MOD= 'x2/3    '           / Slit mode, x1, x2/3 or x1/2                    \n",
       "COMMENT --------WEATHER CONDITION                                               \n",
       "TEMPCCDB=              -999.00 / [deg] The temperature of blue CCD              \n",
       "TEMPCCDR=              -999.00 / [deg] The temperature of red CCD               \n",
       "SEEING  =                 3.50 / [arcsec] Seeing during exposure                \n",
       "MOONPHA =                 1.09 / [day] Moon phase for a 29.53 days period       \n",
       "TEMP_AIR= '        '           / [deg] Temperature outside dome                 \n",
       "TEMP_FP =              -999.00 / [degree celsius] Temprature of the focalplane  \n",
       "DEWPOINT= '        '           / [deg]                                          \n",
       "DUST    = '        '           / Reservation                                    \n",
       "HUMIDITY= '        '           /                                                \n",
       "WINDD   = '        '           / [deg] Wind direction                           \n",
       "WINDS   = '        '           / [m/s] Wind speed                               \n",
       "SKYLEVEL= '        '           / Reservation                                    \n",
       "COMMENT --------DATA REDUCTION PARAMETERS                                       \n",
       "EXTRACT = 'aperture'           / Extraction method                              \n",
       "SFLATTEN=                    T / Super flat has been applied                    \n",
       "PCASKYSB=                    T / PCA sky-subtraction has been applied           \n",
       "NSKIES  =                   28 / Sky fiber number                               \n",
       "SKYCHI2 =                  2.6 / Mean chi^2 of sky-subtraction                  \n",
       "SCHI2MIN=                  1.4 / Minimum chi^2 of sky-subtraction               \n",
       "SCHI2MAX=                  4.0 / Maximum chi^2 of sky-subtraction               \n",
       "NSTD    =                    6 / Number of (good) standard stars                \n",
       "FSTAR   = '220-53-5-78-35-154' / FiberID of flux standard stars                 \n",
       "FCBY    = 'auto    '           / Standard stars origin (auto, manual or catalog)\n",
       "HELIO   =                    T / Heliocentric correction                        \n",
       "HELIO_RV=            -26.85485 / [km/s] Heliocentric correction                 \n",
       "VACUUM  =                    T / Wavelengths are in vacuum                      \n",
       "NWORDER =                    2 / Number of linear-log10 coefficients            \n",
       "WFITTYPE= 'LOG-LINEAR'         / Linear-log10 dispersion                        \n",
       "COEFF0  =               3.5682 / Central wavelength (log10) of first pixel      \n",
       "COEFF1  =               0.0001 / Log10 dispersion per pixel                     \n",
       "WAT0_001= 'system=linear'      /                                                \n",
       "WAT1_001= 'wtype=linear label=Wavelength units=Angstroms' /                     \n",
       "CRVAL1  =               3.5682 / Central wavelength (log10) of first pixel      \n",
       "CD1_1   =               0.0001 / Log10 dispersion per pixel                     \n",
       "CRPIX1  =                    1 / Starting pixel (1-indexed)                     \n",
       "CTYPE1  = 'LINEAR  '           /                                                \n",
       "DC-FLAG =                    1 / Log-linear flag                                \n",
       "COMMENT --------SPECTRA ANALYSIS RESULTS                                        \n",
       "VERSPIPE= 'v2.8.6  '           / Version of Pipeline                            \n",
       "CLASS   = 'STAR    '           / Class of object                                \n",
       "SUBCLASS= 'M1      '           / Subclass of object                             \n",
       "Z       =           0.00032724 / Redshift of object                             \n",
       "Z_ERR   =           0.00000809 / Redshift error of object                       \n",
       "ZFLAG   = 'PIPELINE'           / Which method computes the redshift             \n",
       "SNRU    = '1.37    '           / SNR of u filter                                \n",
       "SNRG    = '14.49   '           / SNR of g filter                                \n",
       "SNRR    = '39.61   '           / SNR of r filter                                \n",
       "SNRI    = '77.93   '           / SNR of i filter                                \n",
       "SNRZ    = '61.32   '           / SNR of z filter                                "
      ]
     },
     "execution_count": 5,
     "metadata": {},
     "output_type": "execute_result"
    }
   ],
   "source": [
    "ptf1[0].header"
   ]
  },
  {
   "cell_type": "code",
   "execution_count": 19,
   "metadata": {
    "collapsed": false
   },
   "outputs": [],
   "source": [
    "lamost_data = ptf1[0].header['DATE']"
   ]
  },
  {
   "cell_type": "code",
   "execution_count": 8,
   "metadata": {
    "collapsed": true
   },
   "outputs": [],
   "source": [
    "os.chdir('D:\\kepler_ptf_research\\k2_c1\\python_PTF_data_k2c1')"
   ]
  },
  {
   "cell_type": "code",
   "execution_count": 9,
   "metadata": {
    "collapsed": false
   },
   "outputs": [
    {
     "data": {
      "text/plain": [
       "['ktwo201164732_C1']"
      ]
     },
     "execution_count": 9,
     "metadata": {},
     "output_type": "execute_result"
    }
   ],
   "source": [
    "glob.glob('*201164732*')"
   ]
  },
  {
   "cell_type": "code",
   "execution_count": 30,
   "metadata": {
    "collapsed": true
   },
   "outputs": [],
   "source": [
    "os.chdir('D:\\kepler_ptf_research\\k2_c1\\python_PTF_data_k2c1\\ktwo201164732_C1')"
   ]
  },
  {
   "cell_type": "code",
   "execution_count": 11,
   "metadata": {
    "collapsed": false
   },
   "outputs": [
    {
     "name": "stdout",
     "output_type": "stream",
     "text": [
      " 磁碟區 D 中的磁碟是 DATA\n",
      " 磁碟區序號:  1037-A8E0\n",
      "\n",
      " D:\\kepler_ptf_research\\k2_c1\\python_PTF_data_k2c1\\ktwo201164732_C1 的目錄\n",
      "\n",
      "2017/02/15  下午 04:45    <DIR>          .\n",
      "2017/02/15  下午 04:45    <DIR>          ..\n",
      "2017/02/10  下午 03:51           535,680 PTF_201212293979_c_p_scie_t093302_u014905974_f11_p022432_c09.ctlg\n",
      "2017/02/10  下午 03:51           737,280 PTF_201603283103_c_p_scie_t072651_u027336987_f12_p022432_c09.ctlg\n",
      "               2 個檔案       1,272,960 位元組\n",
      "               2 個目錄  394,874,269,696 位元組可用\n"
     ]
    }
   ],
   "source": [
    "ls"
   ]
  },
  {
   "cell_type": "code",
   "execution_count": 31,
   "metadata": {
    "collapsed": false
   },
   "outputs": [
    {
     "data": {
      "text/plain": [
       "['PTF_201212293979_c_p_scie_t093302_u014905974_f11_p022432_c09.ctlg',\n",
       " 'PTF_201603283103_c_p_scie_t072651_u027336987_f12_p022432_c09.ctlg']"
      ]
     },
     "execution_count": 31,
     "metadata": {},
     "output_type": "execute_result"
    }
   ],
   "source": [
    "glob.glob('*ctlg')"
   ]
  },
  {
   "cell_type": "code",
   "execution_count": 12,
   "metadata": {
    "collapsed": true
   },
   "outputs": [],
   "source": [
    "ptf2 = pyfits.open('PTF_201603283103_c_p_scie_t072651_u027336987_f12_p022432_c09.ctlg')"
   ]
  },
  {
   "cell_type": "code",
   "execution_count": 18,
   "metadata": {
    "collapsed": false
   },
   "outputs": [],
   "source": [
    "ptf_date = ptf2[2].header['DATE-OBS']"
   ]
  },
  {
   "cell_type": "code",
   "execution_count": 35,
   "metadata": {
    "collapsed": false
   },
   "outputs": [
    {
     "data": {
      "text/plain": [
       "('2016-12', '2016-03')"
      ]
     },
     "execution_count": 35,
     "metadata": {},
     "output_type": "execute_result"
    }
   ],
   "source": [
    "lamost_data[:7], ptf_date[:7]"
   ]
  },
  {
   "cell_type": "code",
   "execution_count": 36,
   "metadata": {
    "collapsed": true
   },
   "outputs": [],
   "source": [
    "def data_obs_match_day(epic):\n",
    "    \n",
    "    #find date_obs of each lamost data\n",
    "    os.chdir('D:\\kepler_ptf_research\\k2_c1\\python_LAMOST_data_k2c1\\DR4\\ktwo'+str(epic)+'_C1')\n",
    "    lamost_fits = glob.glob('*fits')\n",
    "    lam = pyfits.open(lamost_fits[0])\n",
    "    lamost_data = lam[0].header['DATE']\n",
    "    \n",
    "    #find date_obs of each ptf data\n",
    "    os.chdir('D:\\kepler_ptf_research\\k2_c1\\python_PTF_data_k2c1\\ktwo'+str(epic)+'_C1')\n",
    "    ptf_fits = glob.glob('*ctlg')\n",
    "    ptf = pyfits.open(ptf_fits[0])\n",
    "    ptf_date = ptf[2].header['DATE-OBS']\n",
    "    \n",
    "    if lamost_data[:10] == ptf_date[:10]:\n",
    "        epic_list.appand(epic)\n",
    "    else:\n",
    "        print epic,'The data of PTF and LAMOST are not matched'"
   ]
  },
  {
   "cell_type": "code",
   "execution_count": 38,
   "metadata": {
    "collapsed": true
   },
   "outputs": [],
   "source": [
    "def data_obs_match_month(epic):\n",
    "    \n",
    "    #find date_obs of each lamost data\n",
    "    os.chdir('D:\\kepler_ptf_research\\k2_c1\\python_LAMOST_data_k2c1\\DR4\\ktwo'+str(epic)+'_C1')\n",
    "    lamost_fits = glob.glob('*fits')\n",
    "    lam = pyfits.open(lamost_fits[0])\n",
    "    lamost_data = lam[0].header['DATE']\n",
    "    \n",
    "    #find date_obs of each ptf data\n",
    "    os.chdir('D:\\kepler_ptf_research\\k2_c1\\python_PTF_data_k2c1\\ktwo'+str(epic)+'_C1')\n",
    "    ptf_fits = glob.glob('*ctlg')\n",
    "    ptf = pyfits.open(ptf_fits[0])\n",
    "    ptf_date = ptf[2].header['DATE-OBS']\n",
    "    \n",
    "    if lamost_data[:7] == ptf_date[:7]:\n",
    "        epic.appand(epic)\n",
    "    else:\n",
    "        print epic,'The date of PTF and LAMOST are not matched.','lam:',lamost_data[:7], 'ptf:', ptf_date[:7]"
   ]
  },
  {
   "cell_type": "code",
   "execution_count": null,
   "metadata": {
    "collapsed": true
   },
   "outputs": [],
   "source": []
  }
 ],
 "metadata": {
  "anaconda-cloud": {},
  "kernelspec": {
   "display_name": "Python 2",
   "language": "python",
   "name": "python2"
  },
  "language_info": {
   "codemirror_mode": {
    "name": "ipython",
    "version": 2
   },
   "file_extension": ".py",
   "mimetype": "text/x-python",
   "name": "python",
   "nbconvert_exporter": "python",
   "pygments_lexer": "ipython2",
   "version": "2.7.12"
  }
 },
 "nbformat": 4,
 "nbformat_minor": 1
}
