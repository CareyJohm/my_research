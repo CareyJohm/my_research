{
 "cells": [
  {
   "cell_type": "code",
   "execution_count": 1,
   "metadata": {
    "collapsed": true
   },
   "outputs": [],
   "source": [
    "from scipy.spatial import cKDTree\n",
    "import pyfits, mechanize, bz2, os\n",
    "from matplotlib import pyplot as pl\n",
    "from numpy import *\n",
    "from scipy.optimize import leastsq\n",
    "import astropy.stats as sta\n",
    "from scipy import ndimage\n",
    "from glob import glob\n",
    "import pandas as pd  #為了讀csv檔。csv檔是以逗點分割的檔案。\n",
    "import requests\n",
    "from bs4 import BeautifulSoup\n",
    "from astropy.io import ascii\n",
    "import concurrent.futures\n",
    "from time import sleep\n",
    "from astropy.table import Table"
   ]
  },
  {
   "cell_type": "code",
   "execution_count": 26,
   "metadata": {
    "collapsed": true
   },
   "outputs": [],
   "source": [
    "header = {\n",
    "'Upgrade-Insecure-Requests': '1',\n",
    "'User-Agent': 'Mozilla/5.0 (Windows NT 10.0; Win64; x64) AppleWebKit/537.36 (KHTML, like Gecko) Chrome/54.0.2840.99 Safari/537.36',\n",
    "'Referer': 'http://irsa.ipac.caltech.edu/ibe/docs/ptf/images/level1/',\n",
    "'Cookie': '__utma=253438417.1413587276.1479455055.1486991316.1487038069.11; __utmz=253438417.1479459352.2.2.utmcsr=yahoo|utmccn=(organic)|utmcmd=organic|utmctr=(not%20provided); usrkey=\"7820253d-5a48-472a-b8a4-44fa98bcc713/ncuiarex@astro.ncu.edu.tw\"; __utmc=253438417; JOSSO_REMEMBERME_josso=mUXCaMhYWY4Hn9io8eFhGwlHfCVop7quyI8e%2FsSJJp8%3D; JOSSO_SESSIONID=4456F2645D7445FCBCC9C20BF084CDCE'\n",
    "}    "
   ]
  },
  {
   "cell_type": "code",
   "execution_count": 3,
   "metadata": {
    "collapsed": true
   },
   "outputs": [],
   "source": [
    "dfs = pd.read_csv('K2_M_C1_ptf_h.csv')"
   ]
  },
  {
   "cell_type": "code",
   "execution_count": 69,
   "metadata": {
    "collapsed": false
   },
   "outputs": [],
   "source": [
    "def input_ra_dec(ra, dec, epic):\n",
    "    \n",
    "    #df = pd.read_csv('ptf_ha_substraction_k2c1.csv')\n",
    "    #column_names = ['EPIC','HA663','HA656','HA663-HA656']  \n",
    "    \n",
    "    #if epic not in list(df['EPIC'])  :\n",
    "    \n",
    "    res = requests.get(\"http://irsa.ipac.caltech.edu/ibe/search/ptf/images/level1?POS={0},{1}\".format(ra, dec), headers = header) \n",
    "    #print (res.text) #印出網頁內容\n",
    "    soup = BeautifulSoup(res.text, 'lxml')\n",
    "    data = ascii.read(soup.text)\n",
    "    ha656_list = []\n",
    "    ha663_list = []\n",
    "    a = data['filter']\n",
    "    af3 = data['afilename3']\n",
    "    for i in range(0, len(af3)):\n",
    "        if a[i] == \"HA656\":\n",
    "             ha656_list.append(af3[i])\n",
    "        if a[i] == \"HA663\":\n",
    "             ha663_list.append(af3[i])\n",
    "\n",
    "\n",
    "    url_ha663 = \"http://irsa.ipac.caltech.edu/ibe/data/ptf/images/level1/\"+ha663_list[0]\n",
    "    url_ha656 = \"http://irsa.ipac.caltech.edu/ibe/data/ptf/images/level1/\"+ha656_list[0]\n",
    "    ha663_filename = url_ha663.split('/')[-1]\n",
    "    ha656_filename = url_ha656.split('/')[-1]\n",
    "    # NOTE the stream=True parameter\n",
    "\n",
    "\n",
    "    os.chdir(\"D:/kepler_ptf_research/k2_c1/python_PTF_data_k2c1\")  #for windows\n",
    "    #os.chdir(\"/media/careyjohn/DATA/python_PTF_data_k2c1\")  #for Linux\n",
    "\n",
    "    if not os.path.exists('ktwo'+str(epic)+'_C1'): # 若無該資料夾，則新建\n",
    "        os.mkdir('ktwo'+str(epic)+'_C1')\n",
    "\n",
    "    #os.mkdir('ktwo'+str(epic)+'_C1')\n",
    "\n",
    "    os.chdir(\"D:/kepler_ptf_research/k2_c1/python_PTF_data_k2c1/ktwo\"+str(epic)+\"_C1\")  #for windows\n",
    "    #os.chdir(\"/media/careyjohn/DATA/python_PTF_data_k2c1/ktwo\"+str(epic)+\"_C1\") # for Linux\n",
    "\n",
    "\n",
    "    def P_ha656(str1):\n",
    "\n",
    "        for i in range(len(str1)):\n",
    "            if str1[i] == 'P':\n",
    "                return str1[i:]\n",
    "\n",
    "    def P_ha663(str2):\n",
    "\n",
    "        for i in range(len(str2)):\n",
    "            if str2[i] == 'P':\n",
    "                return str2[i:]\n",
    "\n",
    "    if not os.path.exists(P_ha663(ha663_list[0])) :\n",
    "\n",
    "        r_ha663 = requests.get( url_ha663, stream=True, headers = header)\n",
    "        with open(ha663_filename, 'wb') as f663:\n",
    "            for chunk in r_ha663.iter_content(chunk_size=1024): \n",
    "                if chunk: # filter out keep-alive new chunks\n",
    "                    f663.write(chunk)\n",
    "\n",
    "    if not os.path.exists(P_ha656(ha656_list[0])):\n",
    "\n",
    "        r_ha656 = requests.get( url_ha656, stream=True, headers = header)\n",
    "        with open(ha656_filename, 'wb') as f656:\n",
    "            for chunk in r_ha656.iter_content(chunk_size=1024): \n",
    "                if chunk: # filter out keep-alive new chunks\n",
    "                    f656.write(chunk)\n",
    "        #return ha663_filename, ha656_filename\n",
    "\n",
    "    ID = 'ktwo'+str(epic)+'_C1'  \n",
    "    mra =   [ra]\n",
    "    mdec = [dec]\n",
    "    ptf_sig = 2.\n",
    "    ptf_dm = 0.5\n",
    "    #fn11 = 'PTF_201304293062_c_p_scie_t072054_u015955703_f11_p002958_c10.ctlg'\n",
    "    #fn12 = 'PTF_201304293120_c_p_scie_t072914_u015957839_f12_p002958_c10.ctlg'\n",
    "\n",
    "    #fn1 = '//media//careyjohn/OS//Users//CareyJohn//Desktop//PSROC_klpr//K2_PTF_ha//k2_camp1//'+ID+'//'+fn11  #Linux 路徑\n",
    "    #fn2 = '//media//careyjohn//OS//Users//CareyJohn//Desktop//PSROC_klpr//K2_PTF_ha//k2_camp1//'+ID+'//'+fn12\n",
    "    #fn1 = 'C://Users//CareyJohn//Desktop//PSROC_klpr//K2_PTF_ha//k2_camp1//'+ID+'//'+fn11\n",
    "    #fn2 = 'C://Users//CareyJohn//Desktop//PSROC_klpr//K2_PTF_ha//k2_camp1//'+ID+'//'+fn12\n",
    "\n",
    "\n",
    "    fn1 = P_ha656(ha656_list[0])\n",
    "    fn2 = P_ha663(ha663_list[0])\n",
    "\n",
    "    ptf1 = pyfits.open(fn1)\n",
    "    ptf2 = pyfits.open(fn2)\n",
    "\n",
    "    ra1 = ptf1[1].data['ALPHAWIN_J2000']\n",
    "    dec1 = ptf1[1].data['DELTAWIN_J2000']\n",
    "    mag1 = ptf1[1].data['MAG_AUTO']+ptf1[1].data['ZEROPOINT']\n",
    "\n",
    "    ra2 = ptf2[1].data['ALPHAWIN_J2000']\n",
    "    dec2 = ptf2[1].data['DELTAWIN_J2000']\n",
    "    mag2 = ptf2[1].data['MAG_AUTO']+ptf2[1].data['ZEROPOINT']\n",
    "    \n",
    "    def crossmatch(X1, X2, max_distance=inf, k=1):                                  \n",
    "        \"\"\"Cross-match the values between X1 and X2                                 \n",
    "\n",
    "        By default, this uses a KD Tree for speed.                                  \n",
    "\n",
    "        Parameters                                                                  \n",
    "        ----------                                                                  \n",
    "        X1 : array_like                                                             \n",
    "            first dataset, shape(N1, D)                                             \n",
    "        X2 : array_like                                                             \n",
    "            second dataset, shape(N2, D)                                            \n",
    "        max_distance : float (optional)                                             \n",
    "            maximum radius of search.  If no point is within the given radius,      \n",
    "            then inf will be returned.                                              \n",
    "\n",
    "        Returns                                                                     \n",
    "        -------                                                                     \n",
    "        dist, ind: ndarrays                                                         \n",
    "            The distance and index of the closest point in X2 to each point in X1   \n",
    "            Both arrays are length N1.                                              \n",
    "            Locations with no match are indicated by                                \n",
    "            dist[i] = inf, ind[i] = N2                                              \n",
    "        \"\"\"                                                                         \n",
    "        X1 = asarray(X1, dtype=float)                                               \n",
    "        X2 = asarray(X2, dtype=float)                                               \n",
    "        N1, D = X1.shape                                                            \n",
    "        N2, D2 = X2.shape                                                           \n",
    "        if D != D2:                                                                 \n",
    "            raise ValueError('Arrays must have the same second dimension')          \n",
    "        kdt = cKDTree(X2)                                                           \n",
    "        dist, ind = kdt.query(X1, k=k, distance_upper_bound=max_distance)           \n",
    "\n",
    "        return dist, ind  \n",
    "\n",
    "    def rexmatch(radec1, radec2, max_radius, k=1):\n",
    "        \"\"\"call crossmatch, remove multiple matched objects in list1 to one object in list 2\n",
    "        Parameters\n",
    "        ----------\n",
    "        radec1 : array_like\n",
    "            first dataset, shape(N1, D)\n",
    "        radec2 : array_like\n",
    "            second dataset, shape(N2, D)\n",
    "        max_radius : float \n",
    "            maximum radius of search.  If no point is within the given radius,\n",
    "            then inf will be returned.\n",
    "\n",
    "        Returns\n",
    "        -------\n",
    "        match1, match2: int array (they have the same size)\n",
    "\n",
    "        dist1 : float array    \n",
    "            distance between matched star\n",
    "        umatch1, umatch2: int array (not have the same size)    \n",
    "            The index of un-matched star in radec1 and radec2\n",
    "        \"\"\"\n",
    "        radec1 = radec1\n",
    "        radec2 = radec2\n",
    "\n",
    "        # crossmatch catalogs\n",
    "        # max_radius = 1. / 3600  # 1 arcsec\n",
    "        dist, ind = crossmatch(radec1, radec2, max_radius, k=k)\n",
    "\n",
    "        # remove multiple objects in list1 to one object in list 2\n",
    "        match1 = ~isinf(dist)\n",
    "        sind = sorted(ind[match1])\n",
    "        us, usidx = unique(sind, return_index=True)\n",
    "        mi = len(radec2)\n",
    "        for i in range(1,len(us)):\n",
    "            diff = usidx[i]-usidx[i-1]\n",
    "            if diff > 1 :\n",
    "                ri = (ind == us[i-1]).nonzero()\n",
    "                dist[ri] = inf\n",
    "                ind[ri] = mi\n",
    "\n",
    "        match1 = ~isinf(dist)\n",
    "        umatch1 = isinf(dist)\n",
    "\n",
    "        inda = arange(len(radec2))\n",
    "        umatch2 = list(set(inda)-set(ind))\n",
    "        match2 = ind[match1]\n",
    "        inda1 = arange(len(radec1))\n",
    "        match1 = inda1[match1]\n",
    "        umatch1 = inda1[umatch1]\n",
    "        dist1 = dist[match1]\n",
    "\n",
    "        \n",
    "        return match1, match2, umatch1, umatch2, dist1\n",
    "    class ptf_data:\n",
    "        def __init__(self, fn1, fn2, coord, dm, sigma):\n",
    "            rac, decc = coord\n",
    "            if fn1.endswith('.cat'):\n",
    "                with open(fn1, 'r') as fnr1:\n",
    "                    ptf1 = array([i.split() for i in fnr1.readlines()[14:]]).astype(float)\n",
    "                with open(fn2, 'r') as fnr2:\n",
    "                    ptf2 = array([i.split() for i in fnr2.readlines()[14:]]).astype(float)\n",
    "                ra1, dec1 = ptf1[:,11], ptf1[:,12]\n",
    "                mag1, merr1 = ptf1[:,7], ptf1[:,8]\n",
    "                x1, y1 = ptf1[:,2], ptf1[:,3]\n",
    "                ra2, dec2 = ptf2[:,11], ptf2[:,12]\n",
    "                mag2, merr2 = ptf2[:,7], ptf2[:,8]\n",
    "                mrange = arange(7, 13, dm)\n",
    "            elif fn1.endswith('.ctlg'):\n",
    "                with pyfits.open(fn1) as ptf1:\n",
    "                    star1 = ptf1[1].data\n",
    "                    idx = (star1['FLAGS'] & 506 == 0) * (star1['IMAFLAGS_ISO'] & 1821 == 0)\n",
    "                    ra1   = star1['ALPHAWIN_J2000'][idx]\n",
    "                    dec1  = star1['DELTAWIN_J2000'][idx]\n",
    "                    mag1  = star1['MAG_AUTO'][idx]\n",
    "                    merr1 = star1['MAGERR_AUTO'][idx]\n",
    "                    flux1 = star1['FLUX_AUTO'][idx]\n",
    "                    fluxerr1 = star1['FLUXERR_AUTO'][idx]\n",
    "                    x1, y1 = star1['XWIN_IMAGE'][idx],  star1['YWIN_IMAGE'][idx]\n",
    "                    #x1, y1 = star1['XWIN_IMAGE'],  star1['YWIN_IMAGE']\n",
    "                with pyfits.open(fn2) as ptf2:\n",
    "                    star2 = ptf2[1].data\n",
    "                    idx = (star2['FLAGS'] & 506 == 0) * (star2['IMAFLAGS_ISO'] & 1821 == 0)\n",
    "                    ra2   = star2['ALPHAWIN_J2000'][idx]\n",
    "                    dec2  = star2['DELTAWIN_J2000'][idx]\n",
    "                    mag2  = star2['MAG_AUTO'][idx]\n",
    "                    merr2 = star2['MAGERR_AUTO'][idx]\n",
    "                    flux2 = star2['FLUX_AUTO'][idx]\n",
    "                    fluxerr2 = star2['FLUXERR_AUTO'][idx]\n",
    "                mrange = arange(ceil(mag2.min())-1, ceil(mag2.max()), dm)\n",
    "                frange = arange(flux2.min(), flux2.max(), dm)\n",
    "\n",
    "\n",
    "            ## match Ha656 and Ha663\n",
    "            m1, m2, um1, um2, dist = rexmatch(zip(ra1,dec1), zip(ra2,dec2), 2./3600.)\n",
    "            mdiff = mag2[m2]-mag1[m1]\n",
    "            fdiff = flux1[m1]-flux2[m2]\n",
    "            merr = sqrt(merr1[m1]**2.+merr2[m2]**2.)\n",
    "            ferr = sqrt(fluxerr1[m1]**2.+fluxerr2[m2]**2.)\n",
    "            ram, decm, magm = ra2[m2], dec2[m2], mag2[m2]\n",
    "            xm, ym = x1[m1], y1[m1]\n",
    "            self.magm, self.mdiff = magm, mdiff\n",
    "\n",
    "            mm1, mm2, umm1, umm2, distm = rexmatch(zip(mra,mdec), zip(ra1,dec1), 2./3600.)\n",
    "            #print mra, mdec, ra1, dec1, ra2, dec2\n",
    "            mmm1, mmm2, ummm1, ummm2, distmm = rexmatch(zip(mra,mdec), zip(ra2,dec2), 2./3600.)\n",
    "            mdiffm = mag2[mmm2]-mag1[mm2]\n",
    "            fdiffm = flux1[mm2]/flux2[mmm2]\n",
    "            #print mag2[mmm2], mag1[mm2], mdiffm, epic\n",
    "            print mag2[mmm2] , mag1[mm2], mdiffm, flux1[mm2] , flux2[mm2] ,fdiffm, epic\n",
    "            \n",
    "            \n",
    "            self.ras, self.decs, self.xs, self.ys, self.ms, self.mds, self.mplt = [], [], [], [], [], [], []\n",
    "            for i in mrange:\n",
    "                midx = (magm > i) * (magm < i+dm)\n",
    "                if midx.sum():\n",
    "                    mdiff_tmp, magm_tmp, merr_tmp, ram_tmp, decm_tmp, x_tmp, y_tmp = \\\n",
    "                        mdiff[midx], magm[midx], merr[midx], ram[midx], decm[midx], xm[midx], ym[midx]\n",
    "                    mdiff_clip = sta.sigma_clip(mdiff_tmp, sigma=3, iters=5)\n",
    "                    if (~mdiff_clip.mask).sum() > 0:\n",
    "                        wmeandiff = average(mdiff_clip.data[~mdiff_clip.mask], weights=merr_tmp[~mdiff_clip.mask])\n",
    "                        stddiff = mdiff_clip.data[~mdiff_clip.mask].std()\n",
    "                        photoerr = sqrt(1./sum(1./merr_tmp[~mdiff_clip.mask]**2.))\n",
    "                        errsel = sqrt(photoerr**2.+stddiff**2.)\n",
    "                        self.mplt.append([i, i+dm, wmeandiff, errsel])\n",
    "                        sidx = ((mdiff_tmp-merr_tmp)-wmeandiff) > (sigma*errsel)\n",
    "                        if sum(sidx) !=0 :\n",
    "                            self.ras += list(ram_tmp[sidx])\n",
    "                            self.decs += list(decm_tmp[sidx])\n",
    "                            self.xs += list(x_tmp[sidx])\n",
    "                            self.ys += list(y_tmp[sidx])\n",
    "                            self.ms += list(magm_tmp[sidx])\n",
    "                            self.mds += list(mdiff_tmp[sidx])\n",
    "                    fig = pl.figure(num=0, figsize=(24,16), dpi = 100, facecolor='w', edgecolor='k')\n",
    "                    pl.plot(magm_tmp, mdiff_tmp, '.', color='gray', markersize=4)\n",
    "                    pl.plot(magm_tmp, mdiff_tmp, '.', color='gray', markersize=4)\n",
    "                    pl.plot(magm_tmp[sidx], mdiff_tmp[sidx], 'ro')\n",
    "                    x = (i+(i+dm))/2\n",
    "                    pl.errorbar(x, wmeandiff, yerr=errsel, fmt='o', markersize=5, mec='b', mfc='b', ecolor='b')\n",
    "                    pl.title(\"H663-H656 =\"+str(mdiffm[0]))\n",
    "                    pl.plot(mag2[mmm2], mdiffm, 'g*', markersize=10)\n",
    "                    pl.text(mag2[mmm2]+0.01, mdiffm+0.01, ID)\n",
    "                    pl.ylabel('H663-H656', size=20)\n",
    "                    pl.xlabel('H663', size=20)\n",
    "                    pl.xticks(size=15)\n",
    "                    pl.yticks(size=15)\n",
    "\n",
    "            #os.chdir(\"C:/Users/CareyJohn/Desktop/python_crawler/ktwo\"+str(epic)+\"_C1\")\n",
    "            os.chdir(\"D:/python_PTF_data_k2c1/ktwo\"+str(epic)+\"_C1\")\n",
    "            #pl.show()\n",
    "            #if not os.path.exists(ID+\"diagram.png\"):\n",
    "            #    pl.savefig(\"D:/python_PTF_data_k2c1/ktwo\"+str(epic)+\"_C1/\"+ID+\"diagram.png\" , format='png')\n",
    "            #pl.clf()\n",
    "            #pl.savefig(\"C:/Users/CareyJohn/Desktop/python_crawler/ktwo\"+str(epic)+\"_C1/\"+ID+\"diagram.png\" , format='png')\n",
    "            #pl.show()\n",
    "            #pl.clf()\n",
    "            #os.chdir(\"..\")\n",
    "    ptf_data(fn1, fn2, [mra,mdec], ptf_dm, ptf_sig)\n",
    "\n",
    "    os.chdir(\"D:/kepler_ptf_research/k2_c1/python_PTF_data_k2c1/ktwo\"+str(epic)+\"_C1\") #for windows\n",
    "    #os.chdir(\"/media/careyjohn/DATA/python_PTF_data_k2c1/ktwo\"+str(epic)+\"_C1\") # for Linux\n",
    "    #pl.show()\n",
    "    if not os.path.exists(ID+\"diagram.png\"):\n",
    "        #pl.show()\n",
    "    #pl.savefig('//media//careyjohn/OS//Users//CareyJohn//Desktop//PSROC_klpr//K2_PTF_ha//k2_camp1//'+ID+'//diagram.png' , format='png')\n",
    "        pl.savefig(\"D:/kepler_ptf_research/k2_c1/python_PTF_data_k2c1/ktwo\"+str(epic)+\"_C1/\"+ID+\"diagram.png\" , format='png')\n",
    "        pl.clf()\n",
    "    #os.chdir(\"..\")"
   ]
  },
  {
   "cell_type": "code",
   "execution_count": 70,
   "metadata": {
    "collapsed": true
   },
   "outputs": [],
   "source": [
    "#dfs['EPIC'][0:2]\n",
    "ra_list = list(dfs['RA'][0:5])\n",
    "dec_list = list(dfs['DEC'][0:5])\n",
    "epic_list = list(dfs['EPIC'][0:5])"
   ]
  },
  {
   "cell_type": "code",
   "execution_count": 71,
   "metadata": {
    "collapsed": false
   },
   "outputs": [
    {
     "data": {
      "text/plain": [
       "[174.69463500000001,\n",
       " 175.25185099999999,\n",
       " 175.08766799999998,\n",
       " 176.619427,\n",
       " 176.61401000000001]"
      ]
     },
     "execution_count": 71,
     "metadata": {},
     "output_type": "execute_result"
    }
   ],
   "source": [
    "epic_list\n",
    "ra_list"
   ]
  },
  {
   "cell_type": "code",
   "execution_count": 72,
   "metadata": {
    "collapsed": false
   },
   "outputs": [
    {
     "name": "stdout",
     "output_type": "stream",
     "text": [
      "[-7.26257801] [-7.46166706] [ 0.19908905] [ 965.31005859] [ 658.75042725] [ 1.20125604] 201134862\n",
      "[-8.68230152] [-8.70197868] [ 0.01967716] [ 3025.45996094] [ 3302.81518555] [ 1.01828825] 201135941\n",
      "[-6.89735937] [-7.22068882] [ 0.32332945] [ 773.1708374] [ 3766.18579102] [ 1.34688854] 201136343\n",
      "[-8.19214916] [-8.24462509] [ 0.05247593] [ 1985.4095459] [ 23035.5390625] [ 1.04951906] 201137361\n",
      "[-8.75236034] [-8.43163872] [-0.32072163] [ 2358.60595703] [ 1908.35192871] [ 0.74423671] 201137859\n"
     ]
    }
   ],
   "source": [
    "for s in range(len(ra_list)):\n",
    "    input_ra_dec(ra_list[s], dec_list[s], epic_list[s])\n",
    "#20170309 已經能全自動存圖，目前PTF K2 C1 前五個目標可以自動存取  "
   ]
  },
  {
   "cell_type": "code",
   "execution_count": 43,
   "metadata": {
    "collapsed": false
   },
   "outputs": [
    {
     "data": {
      "text/plain": [
       "-0.32332914434494642"
      ]
     },
     "execution_count": 43,
     "metadata": {},
     "output_type": "execute_result"
    }
   ],
   "source": [
    "-2.5*log10(1.34688854)"
   ]
  },
  {
   "cell_type": "code",
   "execution_count": 17,
   "metadata": {
    "collapsed": true
   },
   "outputs": [],
   "source": [
    "os.chdir(\"D:\\kepler_ptf_research\\k2_c1\\python_PTF_data_k2c1\\ktwo201134862_C1\")"
   ]
  },
  {
   "cell_type": "code",
   "execution_count": 18,
   "metadata": {
    "collapsed": false
   },
   "outputs": [],
   "source": [
    "ptf1 = pyfits.open('PTF_201603283150_c_p_scie_t073336_u027335665_f11_p002432_c11.ctlg')"
   ]
  },
  {
   "cell_type": "code",
   "execution_count": 43,
   "metadata": {
    "collapsed": true
   },
   "outputs": [],
   "source": [
    "ptf2 = pyfits.open('PTF_201212284122_c_p_scie_t095334_u014899117_f12_p002432_c11.ctlg')"
   ]
  },
  {
   "cell_type": "code",
   "execution_count": 32,
   "metadata": {
    "collapsed": false
   },
   "outputs": [],
   "source": [
    "ra1 = ptf1[1].data['ALPHAWIN_J2000']"
   ]
  },
  {
   "cell_type": "code",
   "execution_count": 19,
   "metadata": {
    "collapsed": false
   },
   "outputs": [
    {
     "data": {
      "text/plain": [
       "XTENSION= 'BINTABLE'           / THIS IS A BINARY TABLE (FROM THE LDACTOOLS)    \n",
       "BITPIX  =                    8 /                                                \n",
       "NAXIS   =                    2 /                                                \n",
       "NAXIS1  =                  518 / BYTES PER ROW                                  \n",
       "NAXIS2  =                 1166 / NUMBER OF ROWS                                 \n",
       "PCOUNT  =                    0 / RANDOM PARAMETER COUNT                         \n",
       "GCOUNT  =                    1 / GROUP COUNT                                    \n",
       "TFIELDS =                   92 / FIELDS PER ROWS                                \n",
       "EXTNAME = 'OBJECTS '           / TABLE NAME                                     \n",
       "TTYPE1  = 'NUMBER  '           / Running object number                          \n",
       "TFORM1  = '1J      '                                                            \n",
       "TDISP1  = 'I10     '                                                            \n",
       "TTYPE2  = 'FLAGS   '           / Extraction flags                               \n",
       "TFORM2  = '1I      '                                                            \n",
       "TDISP2  = 'I3      '                                                            \n",
       "TTYPE3  = 'XWIN_IMAGE'         / Windowed position estimate along x             \n",
       "TFORM3  = '1D      '                                                            \n",
       "TUNIT3  = 'pixel   '                                                            \n",
       "TDISP3  = 'F10.3   '                                                            \n",
       "TTYPE4  = 'YWIN_IMAGE'         / Windowed position estimate along y             \n",
       "TFORM4  = '1D      '                                                            \n",
       "TUNIT4  = 'pixel   '                                                            \n",
       "TDISP4  = 'F10.3   '                                                            \n",
       "TTYPE5  = 'X_WORLD '           / Barycenter position along world x axis         \n",
       "TFORM5  = '1D      '                                                            \n",
       "TUNIT5  = 'deg     '                                                            \n",
       "TDISP5  = 'E15.10  '                                                            \n",
       "TTYPE6  = 'Y_WORLD '           / Barycenter position along world y axis         \n",
       "TFORM6  = '1D      '                                                            \n",
       "TUNIT6  = 'deg     '                                                            \n",
       "TDISP6  = 'E15.10  '                                                            \n",
       "TTYPE7  = 'XPEAK_IMAGE'        / x-coordinate of the brightest pixel            \n",
       "TFORM7  = '1J      '                                                            \n",
       "TUNIT7  = 'pixel   '                                                            \n",
       "TDISP7  = 'I10     '                                                            \n",
       "TTYPE8  = 'YPEAK_IMAGE'        / y-coordinate of the brightest pixel            \n",
       "TFORM8  = '1J      '                                                            \n",
       "TUNIT8  = 'pixel   '                                                            \n",
       "TDISP8  = 'I10     '                                                            \n",
       "TTYPE9  = 'ERRTHETAWIN_IMAGE'  / Windowed error ellipse pos angle (CCW/x)       \n",
       "TFORM9  = '1E      '                                                            \n",
       "TUNIT9  = 'deg     '                                                            \n",
       "TDISP9  = 'F5.1    '                                                            \n",
       "TTYPE10 = 'DELTAWIN_J2000'     / windowed declination (J2000)                   \n",
       "TFORM10 = '1D      '                                                            \n",
       "TUNIT10 = 'deg     '                                                            \n",
       "TDISP10 = 'F11.7   '                                                            \n",
       "TTYPE11 = 'X2WIN_IMAGE'        / Windowed variance along x                      \n",
       "TFORM11 = '1D      '                                                            \n",
       "TUNIT11 = 'pixel**2'                                                            \n",
       "TDISP11 = 'E15.10  '                                                            \n",
       "TTYPE12 = 'Y2WIN_IMAGE'        / Windowed variance along y                      \n",
       "TFORM12 = '1D      '                                                            \n",
       "TUNIT12 = 'pixel**2'                                                            \n",
       "TDISP12 = 'E15.10  '                                                            \n",
       "TTYPE13 = 'XYWIN_IMAGE'        / Windowed covariance between x and y            \n",
       "TFORM13 = '1D      '                                                            \n",
       "TUNIT13 = 'pixel**2'                                                            \n",
       "TDISP13 = 'E15.10  '                                                            \n",
       "TTYPE14 = 'AWIN_WORLD'         / Windowed profile RMS along major axis (world un\n",
       "TFORM14 = '1E      '                                                            \n",
       "TUNIT14 = 'deg     '                                                            \n",
       "TDISP14 = 'G12.7   '                                                            \n",
       "TTYPE15 = 'BWIN_WORLD'         / Windowed profile RMS along minor axis (world un\n",
       "TFORM15 = '1E      '                                                            \n",
       "TUNIT15 = 'deg     '                                                            \n",
       "TDISP15 = 'G12.7   '                                                            \n",
       "TTYPE16 = 'MAG_ISO '           / Isophotal magnitude                            \n",
       "TFORM16 = '1E      '                                                            \n",
       "TUNIT16 = 'mag     '                                                            \n",
       "TDISP16 = 'F8.4    '                                                            \n",
       "TTYPE17 = 'MAGERR_ISO'         / RMS error for isophotal magnitude              \n",
       "TFORM17 = '1E      '                                                            \n",
       "TUNIT17 = 'mag     '                                                            \n",
       "TDISP17 = 'F8.4    '                                                            \n",
       "TTYPE18 = 'MAG_AUTO'           / Kron-like elliptical aperture magnitude        \n",
       "TFORM18 = '1E      '                                                            \n",
       "TUNIT18 = 'mag     '                                                            \n",
       "TDISP18 = 'F8.4    '                                                            \n",
       "TTYPE19 = 'MAGERR_AUTO'        / RMS error for AUTO magnitude                   \n",
       "TFORM19 = '1E      '                                                            \n",
       "TUNIT19 = 'mag     '                                                            \n",
       "TDISP19 = 'F8.4    '                                                            \n",
       "TTYPE20 = 'MAG_ISOCOR'         / Corrected isophotal magnitude                  \n",
       "TFORM20 = '1E      '                                                            \n",
       "TUNIT20 = 'mag     '                                                            \n",
       "TDISP20 = 'F8.4    '                                                            \n",
       "TTYPE21 = 'MAGERR_ISOCOR'      / RMS error for corrected isophotal magnitude    \n",
       "TFORM21 = '1E      '                                                            \n",
       "TUNIT21 = 'mag     '                                                            \n",
       "TDISP21 = 'F8.4    '                                                            \n",
       "TTYPE22 = 'MAG_APER'           / Fixed aperture magnitude vector                \n",
       "TFORM22 = '5E      '                                                            \n",
       "TUNIT22 = 'mag     '                                                            \n",
       "TDISP22 = 'F8.4    '                                                            \n",
       "TTYPE23 = 'MAGERR_APER'        / RMS error vector for fixed aperture mag.       \n",
       "TFORM23 = '5E      '                                                            \n",
       "TUNIT23 = 'mag     '                                                            \n",
       "TDISP23 = 'F8.4    '                                                            \n",
       "TTYPE24 = 'MAG_PETRO'          / Petrosian-like elliptical aperture magnitude   \n",
       "TFORM24 = '1E      '                                                            \n",
       "TUNIT24 = 'mag     '                                                            \n",
       "TDISP24 = 'F8.4    '                                                            \n",
       "TTYPE25 = 'MAGERR_PETRO'       / RMS error for PETROsian magnitude              \n",
       "TFORM25 = '1E      '                                                            \n",
       "TUNIT25 = 'mag     '                                                            \n",
       "TDISP25 = 'F8.4    '                                                            \n",
       "TTYPE26 = 'MAG_BEST'           / Best of MAG_AUTO and MAG_ISOCOR                \n",
       "TFORM26 = '1E      '                                                            \n",
       "TUNIT26 = 'mag     '                                                            \n",
       "TDISP26 = 'F8.4    '                                                            \n",
       "TTYPE27 = 'MAGERR_BEST'        / RMS error for MAG_BEST                         \n",
       "TFORM27 = '1E      '                                                            \n",
       "TUNIT27 = 'mag     '                                                            \n",
       "TDISP27 = 'F8.4    '                                                            \n",
       "TTYPE28 = 'MU_THRESHOLD'       / Detection threshold above background           \n",
       "TFORM28 = '1E      '                                                            \n",
       "TUNIT28 = 'mag * arcsec**(-2)'                                                  \n",
       "TDISP28 = 'F8.4    '                                                            \n",
       "TTYPE29 = 'MU_MAX  '           / Peak surface brightness above background       \n",
       "TFORM29 = '1E      '                                                            \n",
       "TUNIT29 = 'mag * arcsec**(-2)'                                                  \n",
       "TDISP29 = 'F8.4    '                                                            \n",
       "TTYPE30 = 'BACKGROUND'         / Background at centroid position                \n",
       "TFORM30 = '1E      '                                                            \n",
       "TUNIT30 = 'count   '                                                            \n",
       "TDISP30 = 'G12.7   '                                                            \n",
       "TTYPE31 = 'THRESHOLD'          / Detection threshold above background           \n",
       "TFORM31 = '1E      '                                                            \n",
       "TUNIT31 = 'count   '                                                            \n",
       "TDISP31 = 'G12.7   '                                                            \n",
       "TTYPE32 = 'ALPHAWIN_J2000'     / Windowed right ascension (J2000)               \n",
       "TFORM32 = '1D      '                                                            \n",
       "TUNIT32 = 'deg     '                                                            \n",
       "TDISP32 = 'F11.7   '                                                            \n",
       "TTYPE33 = 'THETAWIN_IMAGE'     / Windowed position angle (CCW/x)                \n",
       "TFORM33 = '1E      '                                                            \n",
       "TUNIT33 = 'deg     '                                                            \n",
       "TDISP33 = 'F5.1    '                                                            \n",
       "TTYPE34 = 'THETAWIN_J2000'     / Windowed position angle (east of north) (J2000)\n",
       "TFORM34 = '1E      '                                                            \n",
       "TUNIT34 = 'deg     '                                                            \n",
       "TDISP34 = 'F6.2    '                                                            \n",
       "TTYPE35 = 'ELONGATION'         / A_IMAGE/B_IMAGE                                \n",
       "TFORM35 = '1E      '                                                            \n",
       "TDISP35 = 'F8.3    '                                                            \n",
       "TTYPE36 = 'ISOAREA_WORLD'      / Isophotal area above Analysis threshold        \n",
       "TFORM36 = '1E      '                                                            \n",
       "TUNIT36 = 'deg**2  '                                                            \n",
       "TDISP36 = 'G12.7   '                                                            \n",
       "TTYPE37 = 'ISOAREAF_WORLD'     / Isophotal area (filtered) above Detection thres\n",
       "TFORM37 = '1E      '                                                            \n",
       "TUNIT37 = 'deg**2  '                                                            \n",
       "TDISP37 = 'G12.7   '                                                            \n",
       "TTYPE38 = 'ISO0    '           / Isophotal area at level 0                      \n",
       "TFORM38 = '1J      '                                                            \n",
       "TUNIT38 = 'pixel**2'                                                            \n",
       "TDISP38 = 'I8      '                                                            \n",
       "TTYPE39 = 'ISO1    '           / Isophotal area at level 1                      \n",
       "TFORM39 = '1J      '                                                            \n",
       "TUNIT39 = 'pixel**2'                                                            \n",
       "TDISP39 = 'I8      '                                                            \n",
       "TTYPE40 = 'ISO2    '           / Isophotal area at level 2                      \n",
       "TFORM40 = '1J      '                                                            \n",
       "TUNIT40 = 'pixel**2'                                                            \n",
       "TDISP40 = 'I8      '                                                            \n",
       "TTYPE41 = 'ISO3    '           / Isophotal area at level 3                      \n",
       "TFORM41 = '1J      '                                                            \n",
       "TUNIT41 = 'pixel**2'                                                            \n",
       "TDISP41 = 'I8      '                                                            \n",
       "TTYPE42 = 'ISO4    '           / Isophotal area at level 4                      \n",
       "TFORM42 = '1J      '                                                            \n",
       "TUNIT42 = 'pixel**2'                                                            \n",
       "TDISP42 = 'I8      '                                                            \n",
       "TTYPE43 = 'ISO5    '           / Isophotal area at level 5                      \n",
       "TFORM43 = '1J      '                                                            \n",
       "TUNIT43 = 'pixel**2'                                                            \n",
       "TDISP43 = 'I8      '                                                            \n",
       "TTYPE44 = 'ISO6    '           / Isophotal area at level 6                      \n",
       "TFORM44 = '1J      '                                                            \n",
       "TUNIT44 = 'pixel**2'                                                            \n",
       "TDISP44 = 'I8      '                                                            \n",
       "TTYPE45 = 'ISO7    '           / Isophotal area at level 7                      \n",
       "TFORM45 = '1J      '                                                            \n",
       "TUNIT45 = 'pixel**2'                                                            \n",
       "TDISP45 = 'I8      '                                                            \n",
       "TTYPE46 = 'FWHM_IMAGE'         / FWHM assuming a gaussian core                  \n",
       "TFORM46 = '1E      '                                                            \n",
       "TUNIT46 = 'pixel   '                                                            \n",
       "TDISP46 = 'F8.2    '                                                            \n",
       "TTYPE47 = 'KRON_RADIUS'        / Kron apertures in units of A or B              \n",
       "TFORM47 = '1E      '                                                            \n",
       "TDISP47 = 'F5.2    '                                                            \n",
       "TTYPE48 = 'PETRO_RADIUS'       / Petrosian apertures in units of A or B         \n",
       "TFORM48 = '1E      '                                                            \n",
       "TDISP48 = 'F5.2    '                                                            \n",
       "TTYPE49 = 'CLASS_STAR'         / S/G classifier output                          \n",
       "TFORM49 = '1E      '                                                            \n",
       "TDISP49 = 'F5.2    '                                                            \n",
       "TTYPE50 = 'FLUX_BEST'          / Best of FLUX_AUTO and FLUX_ISOCOR              \n",
       "TFORM50 = '1E      '                                                            \n",
       "TUNIT50 = 'count   '                                                            \n",
       "TDISP50 = 'G12.7   '                                                            \n",
       "TTYPE51 = 'FLUXERR_BEST'       / RMS error for BEST flux                        \n",
       "TFORM51 = '1E      '                                                            \n",
       "TUNIT51 = 'count   '                                                            \n",
       "TDISP51 = 'G12.7   '                                                            \n",
       "TTYPE52 = 'FLUX_AUTO'          / Flux within a Kron-like elliptical aperture    \n",
       "TFORM52 = '1E      '                                                            \n",
       "TUNIT52 = 'count   '                                                            \n",
       "TDISP52 = 'G12.7   '                                                            \n",
       "TTYPE53 = 'FLUXERR_AUTO'       / RMS error for AUTO flux                        \n",
       "TFORM53 = '1E      '                                                            \n",
       "TUNIT53 = 'count   '                                                            \n",
       "TDISP53 = 'G12.7   '                                                            \n",
       "TTYPE54 = 'FLUX_ISO'           / Isophotal flux                                 \n",
       "TFORM54 = '1E      '                                                            \n",
       "TUNIT54 = 'count   '                                                            \n",
       "TDISP54 = 'G12.7   '                                                            \n",
       "TTYPE55 = 'FLUXERR_ISO'        / RMS error for isophotal flux                   \n",
       "TFORM55 = '1E      '                                                            \n",
       "TUNIT55 = 'count   '                                                            \n",
       "TDISP55 = 'G12.7   '                                                            \n",
       "TTYPE56 = 'FLUX_APER'          / Flux vector within fixed circular aperture(s)  \n",
       "TFORM56 = '5E      '                                                            \n",
       "TUNIT56 = 'count   '                                                            \n",
       "TDISP56 = 'G12.7   '                                                            \n",
       "TTYPE57 = 'FLUXERR_APER'       / RMS error vector for aperture flux(es)         \n",
       "TFORM57 = '5E      '                                                            \n",
       "TUNIT57 = 'count   '                                                            \n",
       "TDISP57 = 'G12.7   '                                                            \n",
       "TTYPE58 = 'X_IMAGE '           / Object position along x                        \n",
       "TFORM58 = '1E      '                                                            \n",
       "TUNIT58 = 'pixel   '                                                            \n",
       "TDISP58 = 'F10.3   '                                                            \n",
       "TTYPE59 = 'Y_IMAGE '           / Object position along y                        \n",
       "TFORM59 = '1E      '                                                            \n",
       "TUNIT59 = 'pixel   '                                                            \n",
       "TDISP59 = 'F10.3   '                                                            \n",
       "TTYPE60 = 'X2_IMAGE'           / Variance along x                               \n",
       "TFORM60 = '1D      '                                                            \n",
       "TUNIT60 = 'pixel**2'                                                            \n",
       "TDISP60 = 'E15.10  '                                                            \n",
       "TTYPE61 = 'Y2_IMAGE'           / Variance along y                               \n",
       "TFORM61 = '1D      '                                                            \n",
       "TUNIT61 = 'pixel**2'                                                            \n",
       "TDISP61 = 'E15.10  '                                                            \n",
       "TTYPE62 = 'XY_IMAGE'           / Covariance between x and y                     \n",
       "TFORM62 = '1D      '                                                            \n",
       "TUNIT62 = 'pixel**2'                                                            \n",
       "TDISP62 = 'E15.10  '                                                            \n",
       "TTYPE63 = 'THETA_IMAGE'        / Position angle (CCW/x)                         \n",
       "TFORM63 = '1E      '                                                            \n",
       "TUNIT63 = 'deg     '                                                            \n",
       "TDISP63 = 'F5.1    '                                                            \n",
       "TTYPE64 = 'ERRAWIN_IMAGE'      / RMS windowed pos error along major axis        \n",
       "TFORM64 = '1E      '                                                            \n",
       "TUNIT64 = 'pixel   '                                                            \n",
       "TDISP64 = 'F8.4    '                                                            \n",
       "TTYPE65 = 'ERRBWIN_IMAGE'      / RMS windowed pos error along minor axis        \n",
       "TFORM65 = '1E      '                                                            \n",
       "TUNIT65 = 'pixel   '                                                            \n",
       "TDISP65 = 'F8.4    '                                                            \n",
       "TTYPE66 = 'THETAWIN_WORLD'     / Windowed position angle (CCW/world-x)          \n",
       "TFORM66 = '1E      '                                                            \n",
       "TUNIT66 = 'deg     '                                                            \n",
       "TDISP66 = 'F5.1    '                                                            \n",
       "TTYPE67 = 'ERRX2WIN_IMAGE'     / Variance of windowed pos along x               \n",
       "TFORM67 = '1D      '                                                            \n",
       "TUNIT67 = 'pixel**2'                                                            \n",
       "TDISP67 = 'E15.10  '                                                            \n",
       "TTYPE68 = 'ERRY2WIN_IMAGE'     / Variance of windowed pos along y               \n",
       "TFORM68 = '1D      '                                                            \n",
       "TUNIT68 = 'pixel**2'                                                            \n",
       "TDISP68 = 'E15.10  '                                                            \n",
       "TTYPE69 = 'ERRXYWIN_IMAGE'     / Covariance of windowed pos between x and y     \n",
       "TFORM69 = '1D      '                                                            \n",
       "TUNIT69 = 'pixel**2'                                                            \n",
       "TDISP69 = 'E15.10  '                                                            \n",
       "TTYPE70 = 'FLUX_RADIUS'        / Fraction-of-light radii                        \n",
       "TFORM70 = '5E      '                                                            \n",
       "TUNIT70 = 'pixel   '                                                            \n",
       "TDISP70 = 'F10.3   '                                                            \n",
       "TTYPE72 = 'NIMAFLAGS_ISO'      / Number of flagged pixels entering IMAFLAGS_ISO \n",
       "TFORM72 = '1J      '                                                            \n",
       "TDISP72 = 'I9      '                                                            \n",
       "TTYPE73 = 'ERRAWIN_WORLD'      / World RMS windowed pos error along major axis  \n",
       "TFORM73 = '1E      '                                                            \n",
       "TUNIT73 = 'deg     '                                                            \n",
       "TDISP73 = 'G12.7   '                                                            \n",
       "TTYPE74 = 'ERRBWIN_WORLD'      / World RMS windowed pos error along minor axis  \n",
       "TFORM74 = '1E      '                                                            \n",
       "TUNIT74 = 'deg     '                                                            \n",
       "TDISP74 = 'G12.7   '                                                            \n",
       "TTYPE75 = 'ERRTHETAWIN_WORLD'  / Windowed error ellipse pos. angle (CCW/world-x)\n",
       "TFORM75 = '1E      '                                                            \n",
       "TUNIT75 = 'deg     '                                                            \n",
       "TDISP75 = 'F5.1    '                                                            \n",
       "TTYPE76 = 'A_IMAGE '           / Profile RMS along major axis                   \n",
       "TFORM76 = '1E      '                                                            \n",
       "TUNIT76 = 'pixel   '                                                            \n",
       "TDISP76 = 'F9.3    '                                                            \n",
       "TTYPE77 = 'ERRA_IMAGE'         / RMS position error along major axis            \n",
       "TFORM77 = '1E      '                                                            \n",
       "TUNIT77 = 'pixel   '                                                            \n",
       "TDISP77 = 'F8.4    '                                                            \n",
       "TTYPE78 = 'B_IMAGE '           / Profile RMS along minor axis                   \n",
       "TFORM78 = '1E      '                                                            \n",
       "TUNIT78 = 'pixel   '                                                            \n",
       "TDISP78 = 'F9.3    '                                                            \n",
       "TTYPE79 = 'ERRB_IMAGE'         / RMS position error along minor axis            \n",
       "TFORM79 = '1E      '                                                            \n",
       "TUNIT79 = 'pixel   '                                                            \n",
       "TDISP79 = 'F8.4    '                                                            \n",
       "TTYPE80 = 'A_WORLD '           / Profile RMS along major axis (world units)     \n",
       "TFORM80 = '1E      '                                                            \n",
       "TUNIT80 = 'deg     '                                                            \n",
       "TDISP80 = 'G12.7   '                                                            \n",
       "TTYPE81 = 'ERRA_WORLD'         / World RMS position error along major axis      \n",
       "TFORM81 = '1E      '                                                            \n",
       "TUNIT81 = 'deg     '                                                            \n",
       "TDISP81 = 'G12.7   '                                                            \n",
       "TTYPE82 = 'B_WORLD '           / Profile RMS along minor axis (world units)     \n",
       "TFORM82 = '1E      '                                                            \n",
       "TUNIT82 = 'deg     '                                                            \n",
       "TDISP82 = 'G12.7   '                                                            \n",
       "TTYPE83 = 'ERRB_WORLD'         / World RMS position error along minor axis      \n",
       "TFORM83 = '1E      '                                                            \n",
       "TUNIT83 = 'deg     '                                                            \n",
       "TDISP83 = 'G12.7   '                                                            \n",
       "TTYPE84 = 'ERRTHETA_IMAGE'     / Error ellipse position angle (CCW/x)           \n",
       "TFORM84 = '1E      '                                                            \n",
       "TUNIT84 = 'deg     '                                                            \n",
       "TDISP84 = 'F5.1    '                                                            \n",
       "TTYPE85 = 'ERRX2_IMAGE'        / Variance of position along x                   \n",
       "TFORM85 = '1D      '                                                            \n",
       "TUNIT85 = 'pixel**2'                                                            \n",
       "TDISP85 = 'E15.10  '                                                            \n",
       "TTYPE86 = 'ERRY2_IMAGE'        / Variance of position along y                   \n",
       "TFORM86 = '1D      '                                                            \n",
       "TUNIT86 = 'pixel**2'                                                            \n",
       "TDISP86 = 'E15.10  '                                                            \n",
       "TTYPE87 = 'ERRXY_IMAGE'        / Covariance of position between x and y         \n",
       "TFORM87 = '1D      '                                                            \n",
       "TUNIT87 = 'pixel**2'                                                            \n",
       "TDISP87 = 'E15.10  '                                                            \n",
       "TTYPE88 = 'AWIN_IMAGE'         / Windowed profile RMS along major axis          \n",
       "TFORM88 = '1E      '                                                            \n",
       "TUNIT88 = 'pixel   '                                                            \n",
       "TDISP88 = 'F9.3    '                                                            \n",
       "TTYPE89 = 'BWIN_IMAGE'         / Windowed profile RMS along minor axis          \n",
       "TFORM89 = '1E      '                                                            \n",
       "TUNIT89 = 'pixel   '                                                            \n",
       "TDISP89 = 'F9.3    '                                                            \n",
       "TTYPE90 = 'FLUX_PETRO'         / Flux within a Petrosian-like elliptical apertur\n",
       "TFORM90 = '1E      '                                                            \n",
       "TUNIT90 = 'count   '                                                            \n",
       "TDISP90 = 'G12.7   '                                                            \n",
       "TTYPE91 = 'FLUXERR_PETRO'      / RMS error for PETROsian flux                   \n",
       "TFORM91 = '1E      '                                                            \n",
       "TUNIT91 = 'count   '                                                            \n",
       "TDISP91 = 'G12.7   '                                                            \n",
       "TTYPE71 = 'IMAFLAGS_ISO'       / label for field                                \n",
       "TFORM71 = '1J      '           / format of field                                \n",
       "TTYPE92 = 'ZEROPOINT'          / label for field                                \n",
       "TFORM92 = '1E      '           / format of field                                "
      ]
     },
     "execution_count": 19,
     "metadata": {},
     "output_type": "execute_result"
    }
   ],
   "source": [
    "ptf1[1].header"
   ]
  },
  {
   "cell_type": "code",
   "execution_count": 41,
   "metadata": {
    "collapsed": false
   },
   "outputs": [
    {
     "data": {
      "text/plain": [
       "1166"
      ]
     },
     "execution_count": 41,
     "metadata": {},
     "output_type": "execute_result"
    }
   ],
   "source": [
    "len(ptf1[1].data['FLUX_AUTO'])"
   ]
  },
  {
   "cell_type": "code",
   "execution_count": 42,
   "metadata": {
    "collapsed": false
   },
   "outputs": [
    {
     "data": {
      "text/plain": [
       "array([ 99.98999786,  99.98999786,  99.98999786, ...,  99.98999786,\n",
       "        99.98999786,  99.98999786], dtype=float32)"
      ]
     },
     "execution_count": 42,
     "metadata": {},
     "output_type": "execute_result"
    }
   ],
   "source": [
    "ptf1[1].data['ZEROPOINT']"
   ]
  },
  {
   "cell_type": "code",
   "execution_count": 45,
   "metadata": {
    "collapsed": false,
    "scrolled": true
   },
   "outputs": [],
   "source": [
    "#ptf2[1].data['ZEROPOINT']"
   ]
  },
  {
   "cell_type": "code",
   "execution_count": 20,
   "metadata": {
    "collapsed": false
   },
   "outputs": [
    {
     "data": {
      "text/plain": [
       "array([-9.05555534, -7.26347303, -6.29447889, ..., -5.84507608,\n",
       "       -7.55095911, -8.4882822 ], dtype=float32)"
      ]
     },
     "execution_count": 20,
     "metadata": {},
     "output_type": "execute_result"
    }
   ],
   "source": [
    "ptf1[1].data['MAG_AUTO']"
   ]
  },
  {
   "cell_type": "code",
   "execution_count": 21,
   "metadata": {
    "collapsed": false,
    "scrolled": true
   },
   "outputs": [
    {
     "data": {
      "text/plain": [
       "array([ 4190.07958984,   804.24645996,   329.45153809, ...,   217.78625488,\n",
       "        1048.05383301,  2484.92211914], dtype=float32)"
      ]
     },
     "execution_count": 21,
     "metadata": {},
     "output_type": "execute_result"
    }
   ],
   "source": [
    "ptf1[1].data['FLUX_AUTO']"
   ]
  },
  {
   "cell_type": "code",
   "execution_count": 23,
   "metadata": {
    "collapsed": false
   },
   "outputs": [
    {
     "data": {
      "text/plain": [
       "array([ 79.68730164,  63.51903534,  52.67891693, ...,  51.82690811,\n",
       "        61.75869751,  70.85659027], dtype=float32)"
      ]
     },
     "execution_count": 23,
     "metadata": {},
     "output_type": "execute_result"
    }
   ],
   "source": [
    "ptf1[1].data['FLUXERR_AUTO']"
   ]
  },
  {
   "cell_type": "code",
   "execution_count": 22,
   "metadata": {
    "collapsed": false
   },
   "outputs": [
    {
     "data": {
      "text/plain": [
       "-9.0555556809837832"
      ]
     },
     "execution_count": 22,
     "metadata": {},
     "output_type": "execute_result"
    }
   ],
   "source": [
    "-2.5*log10(4190.07958984)"
   ]
  },
  {
   "cell_type": "code",
   "execution_count": null,
   "metadata": {
    "collapsed": true
   },
   "outputs": [],
   "source": []
  }
 ],
 "metadata": {
  "anaconda-cloud": {},
  "kernelspec": {
   "display_name": "Python 2",
   "language": "python",
   "name": "python2"
  },
  "language_info": {
   "codemirror_mode": {
    "name": "ipython",
    "version": 2
   },
   "file_extension": ".py",
   "mimetype": "text/x-python",
   "name": "python",
   "nbconvert_exporter": "python",
   "pygments_lexer": "ipython2",
   "version": "2.7.12"
  }
 },
 "nbformat": 4,
 "nbformat_minor": 1
}
