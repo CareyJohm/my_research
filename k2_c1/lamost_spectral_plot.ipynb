{
 "cells": [
  {
   "cell_type": "code",
   "execution_count": 2,
   "metadata": {
    "collapsed": true
   },
   "outputs": [],
   "source": [
    "#%matplotlib notebook\n",
    "from scipy.spatial import cKDTree\n",
    "import pyfits, mechanize, bz2, os\n",
    "from matplotlib import pyplot as pl\n",
    "from numpy import *\n",
    "from scipy.optimize import leastsq\n",
    "import astropy.stats as sta\n",
    "from scipy import ndimage\n",
    "from glob import glob\n",
    "import pandas as pd  #為了讀csv檔。csv檔是以逗點分割的檔案。\n",
    "import requests\n",
    "from bs4 import BeautifulSoup\n",
    "from astropy.io import ascii\n",
    "import concurrent.futures\n",
    "from time import sleep\n",
    "from astropy.table import Table\n",
    "import math as m\n",
    "import gzip\n",
    "import patoolib\n",
    "import glob\n",
    "import collections"
   ]
  },
  {
   "cell_type": "code",
   "execution_count": 8,
   "metadata": {
    "collapsed": true
   },
   "outputs": [],
   "source": [
    "def lamost_spectral(filename):\n",
    "    os.chdir('D:\\kepler_ptf_research\\k2_c1\\python_LAMOST_data_k2c1\\DR4/'+filename)\n",
    "    fits_list = glob.glob('*fits')\n",
    "    fits = pyfits.open(fits_list[0])\n",
    "    tbdata = fits[0].data\n",
    "    relative_flux = tbdata[0]\n",
    "    wavelength = tbdata[2]\n",
    "    pl.title(filename)\n",
    "    pl.ylim(0, max(relative_flux)+10)\n",
    "    pl.xlim(3900, max(wavelength))\n",
    "    pl.xlabel('Wavelength $\\AA$')\n",
    "    pl.ylabel('Flux (relative)')\n",
    "    pl.plot(wavelength, relative_flux)\n",
    "    #pl.text(5000.66, 200, r'$Ha$ emission line')\n",
    "    pl.axvline(x=6564.66, ymin=-0.99, ymax = 0.99, linewidth=0.5 ,color='r')\n",
    "    pl.show()\n",
    "    os.chdir('D:\\kepler_ptf_research\\k2_c1\\python_LAMOST_data_k2c1\\DR4')"
   ]
  },
  {
   "cell_type": "code",
   "execution_count": 12,
   "metadata": {
    "collapsed": true
   },
   "outputs": [],
   "source": [
    "lamost_spectral('ktwo201951507_C1')"
   ]
  },
  {
   "cell_type": "code",
   "execution_count": null,
   "metadata": {
    "collapsed": true
   },
   "outputs": [],
   "source": []
  }
 ],
 "metadata": {
  "kernelspec": {
   "display_name": "Python 2",
   "language": "python",
   "name": "python2"
  },
  "language_info": {
   "codemirror_mode": {
    "name": "ipython",
    "version": 2
   },
   "file_extension": ".py",
   "mimetype": "text/x-python",
   "name": "python",
   "nbconvert_exporter": "python",
   "pygments_lexer": "ipython2",
   "version": "2.7.12"
  }
 },
 "nbformat": 4,
 "nbformat_minor": 1
}
