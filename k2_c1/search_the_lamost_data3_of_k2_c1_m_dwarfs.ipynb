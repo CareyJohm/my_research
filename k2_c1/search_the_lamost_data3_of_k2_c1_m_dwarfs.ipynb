{
 "cells": [
  {
   "cell_type": "code",
   "execution_count": 1,
   "metadata": {
    "collapsed": true
   },
   "outputs": [],
   "source": [
    "import pandas as pd\n",
    "import pyfits as py\n",
    "from matplotlib import pyplot as plt\n",
    "import os\n",
    "import math as m\n",
    "import numpy as np"
   ]
  },
  {
   "cell_type": "code",
   "execution_count": 2,
   "metadata": {
    "collapsed": true
   },
   "outputs": [],
   "source": [
    "os.chdir(\"D:\\kepler_ptf_research\\k2_c1\")"
   ]
  },
  {
   "cell_type": "code",
   "execution_count": 3,
   "metadata": {
    "collapsed": true
   },
   "outputs": [],
   "source": [
    "catalog = pd.read_csv('dr3_m_stellar.csv', sep = '|')"
   ]
  },
  {
   "cell_type": "code",
   "execution_count": 4,
   "metadata": {
    "collapsed": false
   },
   "outputs": [
    {
     "data": {
      "text/plain": [
       "299190"
      ]
     },
     "execution_count": 4,
     "metadata": {},
     "output_type": "execute_result"
    }
   ],
   "source": [
    "len(catalog['dec'])"
   ]
  },
  {
   "cell_type": "code",
   "execution_count": 5,
   "metadata": {
    "collapsed": true
   },
   "outputs": [],
   "source": [
    "x = list(catalog['ra'])\n",
    "y = list(catalog['dec'])"
   ]
  },
  {
   "cell_type": "code",
   "execution_count": 6,
   "metadata": {
    "collapsed": true
   },
   "outputs": [],
   "source": [
    "x_in_range = []\n",
    "y_in_range = []\n",
    "for i in range(len(x)):\n",
    "    if x[i] > 162.8 and x[i] < 184.5 and y[i] > -7.6 and y[i] < 10.3:\n",
    "        x_in_range.append(x[i])\n",
    "        y_in_range.append(y[i])"
   ]
  },
  {
   "cell_type": "code",
   "execution_count": 7,
   "metadata": {
    "collapsed": false
   },
   "outputs": [
    {
     "data": {
      "text/plain": [
       "4020"
      ]
     },
     "execution_count": 7,
     "metadata": {},
     "output_type": "execute_result"
    }
   ],
   "source": [
    "len(x_in_range)"
   ]
  },
  {
   "cell_type": "code",
   "execution_count": 8,
   "metadata": {
    "collapsed": true
   },
   "outputs": [],
   "source": [
    "df = pd.read_csv('epic_ha663_normal-hasub_new.csv')"
   ]
  },
  {
   "cell_type": "code",
   "execution_count": 9,
   "metadata": {
    "collapsed": true
   },
   "outputs": [],
   "source": [
    "ra_1 = list(df['RA'])\n",
    "dec_1 = list(df['Dec'])"
   ]
  },
  {
   "cell_type": "code",
   "execution_count": 10,
   "metadata": {
    "collapsed": true
   },
   "outputs": [],
   "source": [
    "epic_1 = list(df['EPIC'])"
   ]
  },
  {
   "cell_type": "code",
   "execution_count": 11,
   "metadata": {
    "collapsed": true
   },
   "outputs": [],
   "source": [
    "ra_in_range = []\n",
    "dec_in_range = []\n",
    "for a in range(len(ra_1)):\n",
    "    for i in range(len(x_in_range)):\n",
    "        if m.sqrt(((ra_1[a]-x_in_range[i]))**2+((dec_1[a]-y_in_range[i]))**2) < 2./3600:\n",
    "            ra_in_range.append(ra_1[a])\n",
    "            dec_in_range.append(dec_1[a])"
   ]
  },
  {
   "cell_type": "code",
   "execution_count": 12,
   "metadata": {
    "collapsed": false
   },
   "outputs": [
    {
     "data": {
      "text/plain": [
       "168"
      ]
     },
     "execution_count": 12,
     "metadata": {},
     "output_type": "execute_result"
    }
   ],
   "source": [
    "len(ra_in_range)"
   ]
  },
  {
   "cell_type": "code",
   "execution_count": 17,
   "metadata": {
    "collapsed": false
   },
   "outputs": [
    {
     "data": {
      "text/plain": [
       "Index([u'obsid', u'designation', u'obsdate', u'lmjd', u'mjd', u'planid',\n",
       "       u'spid', u'fiberid', u'ra_obs', u'dec_obs', u'snru', u'snrg', u'snrr',\n",
       "       u'snri', u'snrz', u'objtype', u'class', u'subclass', u'z', u'z_err',\n",
       "       u'magtype', u'mag1', u'mag2', u'mag3', u'mag4', u'mag5', u'mag6',\n",
       "       u'mag7', u'tsource', u'fibertype', u'tfrom', u'tcomment', u'offsets',\n",
       "       u'offset_v', u'ra', u'dec', u'ewha', u'ewerr', u'tio5', u'cah2',\n",
       "       u'cah3', u'tio1', u'tio2', u'tio3', u'tio4', u'cah1', u'caoh',\n",
       "       u'tio5err', u'cah2err', u'cah3err', u'tio1err', u'tio2err', u'tio3err',\n",
       "       u'tio4err', u'cah1err', u'caoherr', u'zeta', u'zetaerr', u'type',\n",
       "       u'na'],\n",
       "      dtype='object')"
      ]
     },
     "execution_count": 17,
     "metadata": {},
     "output_type": "execute_result"
    }
   ],
   "source": [
    "catalog.columns"
   ]
  },
  {
   "cell_type": "code",
   "execution_count": 26,
   "metadata": {
    "collapsed": false
   },
   "outputs": [
    {
     "data": {
      "text/plain": [
       "299190"
      ]
     },
     "execution_count": 26,
     "metadata": {},
     "output_type": "execute_result"
    }
   ],
   "source": [
    "len(ewha)"
   ]
  },
  {
   "cell_type": "code",
   "execution_count": null,
   "metadata": {
    "collapsed": true
   },
   "outputs": [],
   "source": []
  }
 ],
 "metadata": {
  "anaconda-cloud": {},
  "kernelspec": {
   "display_name": "Python 2",
   "language": "python",
   "name": "python2"
  },
  "language_info": {
   "codemirror_mode": {
    "name": "ipython",
    "version": 2
   },
   "file_extension": ".py",
   "mimetype": "text/x-python",
   "name": "python",
   "nbconvert_exporter": "python",
   "pygments_lexer": "ipython2",
   "version": "2.7.12"
  }
 },
 "nbformat": 4,
 "nbformat_minor": 1
}
